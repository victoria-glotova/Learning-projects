{
 "cells": [
  {
   "cell_type": "markdown",
   "id": "22775f22-0619-4eb9-9b4d-53b99885290d",
   "metadata": {},
   "source": [
    "## SQL-запросы для анализа ключевых бизнес метрик сервиса доставки еды."
   ]
  },
  {
   "cell_type": "markdown",
   "id": "ba27fd65-f5bd-46d2-b220-de7890cea3a0",
   "metadata": {},
   "source": [
    "Для анализа предоставлены 5 таблиц с данными сервиса доставки еды:\n",
    "\n",
    "* журнал, содержащий логи событий,\n",
    "* информация о рекламных затратах по дням и каналам привлечения,\n",
    "* справочник партнёрских сетей и их ресторанов,\n",
    "* справочник блюд,\n",
    "* справочник городов."
   ]
  },
  {
   "cell_type": "markdown",
   "id": "6c853f0e-6b31-4b18-8462-a9618583c55d",
   "metadata": {},
   "source": [
    "### Задача 1. Расчёт DAU"
   ]
  },
  {
   "cell_type": "code",
   "execution_count": null,
   "id": "e28e945d-78bc-49ba-a1e8-56725beeeda2",
   "metadata": {},
   "outputs": [],
   "source": [
    "SELECT log_date,\n",
    "       COUNT (DISTINCT user_id) AS DAU\n",
    "FROM analytics_events\n",
    "JOIN cities USING (city_id)\n",
    "WHERE log_date BETWEEN '2021-05-01' AND '2021-06-30' AND city_name = 'Саранск' AND event = 'order'\n",
    "GROUP BY log_date\n",
    "ORDER BY log_date;"
   ]
  },
  {
   "cell_type": "markdown",
   "id": "ceac8a6a-eb12-4075-bb49-94642d3fe253",
   "metadata": {},
   "source": [
    "### Задача 2. Расчёт Conversion Rate"
   ]
  },
  {
   "cell_type": "code",
   "execution_count": null,
   "id": "c275d521-d939-460f-8d9f-b73021edd8e8",
   "metadata": {},
   "outputs": [],
   "source": [
    "SELECT log_date,\n",
    "       ROUND(COUNT(DISTINCT user_id) filter (WHERE event = 'order')::numeric/ COUNT(DISTINCT user_id), 2) AS CR\n",
    "FROM analytics_events\n",
    "JOIN cities USING (city_id)\n",
    "WHERE log_date BETWEEN '2021-05-01' AND '2021-06-30' AND city_name = 'Саранск'\n",
    "GROUP BY log_date\n",
    "ORDER BY log_date;"
   ]
  },
  {
   "cell_type": "markdown",
   "id": "d59705b2-f3b5-4e47-a1b3-65b8d6119c43",
   "metadata": {},
   "source": [
    "### Задача 3. Расчёт среднего чека"
   ]
  },
  {
   "cell_type": "code",
   "execution_count": null,
   "id": "9a5e4d3f-5057-4f97-bf66-e64bda8fde0a",
   "metadata": {},
   "outputs": [],
   "source": [
    "-- Рассчитываем величину комиссии с каждого заказа, отбираем заказы по дате и городу\n",
    "WITH orders AS\n",
    "    (SELECT *,\n",
    "            revenue * commission AS commission_revenue\n",
    "     FROM analytics_events\n",
    "     JOIN cities ON analytics_events.city_id = cities.city_id\n",
    "     WHERE revenue IS NOT NULL\n",
    "         AND log_date BETWEEN '2021-05-01' AND '2021-06-30'\n",
    "         AND city_name = 'Саранск')\n",
    "\n",
    "SELECT DATE_TRUNC('month', log_date)::date AS \"Месяц\",\n",
    "       COUNT (DISTINCT order_id) filter (WHERE event = 'order') AS \"Количество заказов\",\n",
    "       ROUND(SUM (commission_revenue) filter (WHERE event = 'order')::numeric,2) AS \"Сумма комиссии\",\n",
    "       ROUND(SUM (commission_revenue) filter (WHERE event = 'order')::numeric / COUNT (DISTINCT order_id) filter (WHERE event = 'order'), 2) AS \"Средний чек\"\n",
    "FROM orders\n",
    "GROUP BY DATE_TRUNC('month', log_date)\n",
    "ORDER BY \"Месяц\";"
   ]
  },
  {
   "cell_type": "markdown",
   "id": "0747688d-c952-42cf-8b26-ab09bbdddc0f",
   "metadata": {},
   "source": [
    "### Задача 4. Расчёт LTV ресторанов"
   ]
  },
  {
   "cell_type": "code",
   "execution_count": null,
   "id": "99ec1c8d-47dc-48c5-8011-f81baa6f7272",
   "metadata": {},
   "outputs": [],
   "source": [
    "-- Рассчитываем величину комиссии с каждого заказа, отбираем заказы по дате и городу\n",
    "WITH orders AS\n",
    "    (SELECT analytics_events.rest_id,\n",
    "            analytics_events.city_id,\n",
    "            revenue * commission AS commission_revenue\n",
    "     FROM analytics_events\n",
    "     JOIN cities ON analytics_events.city_id = cities.city_id\n",
    "     WHERE revenue IS NOT NULL\n",
    "         AND log_date BETWEEN '2021-05-01' AND '2021-06-30'\n",
    "         AND city_name = 'Саранск')\n",
    "\n",
    "SELECT o.rest_id,\n",
    "       p.chain AS \"Название сети\",\n",
    "       p.type AS \"Тип кухни\",\n",
    "       ROUND(CAST(SUM (commission_revenue) AS numeric), 2) AS LTV\n",
    "FROM orders AS o\n",
    "LEFT JOIN partners AS p USING (rest_id) \n",
    "WHERE p.city_id = 6\n",
    "GROUP BY rest_id, chain, type\n",
    "ORDER BY LTV DESC;"
   ]
  },
  {
   "cell_type": "markdown",
   "id": "d2b2a2e6-df58-4e41-a8ae-06d9c097f676",
   "metadata": {},
   "source": [
    "### Задача 5. Расчёт LTV ресторанов — самые популярные блюда"
   ]
  },
  {
   "cell_type": "code",
   "execution_count": null,
   "id": "bffffb5c-d007-4784-94b2-da1a2ef8497f",
   "metadata": {},
   "outputs": [],
   "source": [
    "-- Рассчитываем величину комиссии с каждого заказа, отбираем заказы по дате и городу\n",
    "WITH orders AS\n",
    "    (SELECT analytics_events.rest_id,\n",
    "            analytics_events.city_id,\n",
    "            analytics_events.object_id,\n",
    "            revenue * commission AS commission_revenue\n",
    "     FROM analytics_events\n",
    "     JOIN cities ON analytics_events.city_id = cities.city_id\n",
    "     WHERE revenue IS NOT NULL\n",
    "         AND log_date BETWEEN '2021-05-01' AND '2021-06-30'\n",
    "         AND city_name = 'Саранск'), \n",
    "\n",
    "-- Рассчитываем два ресторана с наибольшим LTV \n",
    "top_ltv_restaurants AS\n",
    "    (SELECT orders.rest_id,\n",
    "            chain,\n",
    "            type,\n",
    "            ROUND(SUM(commission_revenue)::numeric, 2) AS LTV\n",
    "     FROM orders\n",
    "     JOIN partners ON orders.rest_id = partners.rest_id AND orders.city_id = partners.city_id\n",
    "     GROUP BY 1, 2, 3\n",
    "     ORDER BY LTV DESC\n",
    "     LIMIT 2)\n",
    "\n",
    "SELECT t.chain AS \"Название сети\",\n",
    "       d.name AS \"Название блюда\",\n",
    "       d.spicy,\n",
    "       d.fish,\n",
    "       d.meat,\n",
    "       ROUND(SUM (o.commission_revenue)::numeric, 2) AS LTV\n",
    "FROM dishes as d\n",
    "JOIN top_ltv_restaurants AS t USING (rest_id)\n",
    "JOIN orders AS o USING (object_id)\n",
    "GROUP BY t.chain, d.name, d.spicy, d.fish, d.meat\n",
    "ORDER BY LTV DESC;\n",
    "\n"
   ]
  },
  {
   "cell_type": "markdown",
   "id": "06dfaaa6-3d53-41ef-bfc3-dd86e06f9bbc",
   "metadata": {},
   "source": [
    "### Задача 6. Расчёт Retention Rate"
   ]
  },
  {
   "cell_type": "code",
   "execution_count": null,
   "id": "2c7b3ffc-d3e2-4345-9aff-49b1a0d1a977",
   "metadata": {},
   "outputs": [],
   "source": [
    "-- Рассчитываем новых пользователей по дате первого посещения продукта\n",
    "WITH new_users AS\n",
    "    (SELECT DISTINCT first_date,\n",
    "                     user_id\n",
    "     FROM analytics_events\n",
    "     JOIN cities ON analytics_events.city_id = cities.city_id\n",
    "     WHERE first_date BETWEEN '2021-05-01' AND '2021-06-24'\n",
    "         AND city_name = 'Саранск'),\n",
    "\n",
    "-- Рассчитываем активных пользователей по дате события\n",
    "active_users AS\n",
    "    (SELECT DISTINCT log_date,\n",
    "                     user_id\n",
    "     FROM analytics_events\n",
    "     JOIN cities ON analytics_events.city_id = cities.city_id\n",
    "     WHERE log_date BETWEEN '2021-05-01' AND '2021-06-30'\n",
    "         AND city_name = 'Саранск'),\n",
    "\n",
    "-- Выделим первую неделю по дням\n",
    "daily_retention AS\n",
    "     (SELECT new_users.user_id,\n",
    "             first_date,\n",
    "             log_date::date - first_date::date AS day_since_install\n",
    "     FROM new_users\n",
    "     JOIN active_users ON new_users.user_id = active_users.user_id\n",
    "     AND log_date >= first_date)\n",
    "SELECT day_since_install,\n",
    "       COUNT (DISTINCT user_id) AS retained_users,\n",
    "       ROUND((1.0 * COUNT(DISTINCT user_id) / MAX(COUNT(DISTINCT user_id)) OVER (ORDER BY day_since_install))::numeric, 2) AS retention_rate\n",
    "FROM daily_retention\n",
    "WHERE day_since_install < 8\n",
    "GROUP BY day_since_install\n",
    "ORDER BY day_since_install;"
   ]
  },
  {
   "cell_type": "markdown",
   "id": "c0926b00-10c6-4796-809b-5a0841f0f881",
   "metadata": {},
   "source": [
    "### Задача 7. Сравнение Retention Rate по месяцам"
   ]
  },
  {
   "cell_type": "code",
   "execution_count": null,
   "id": "25508457-277a-4f4a-a955-da08b7027659",
   "metadata": {},
   "outputs": [],
   "source": [
    "-- Рассчитываем новых пользователей по дате первого посещения продукта\n",
    "WITH new_users AS\n",
    "    (SELECT DISTINCT first_date,\n",
    "                     user_id\n",
    "     FROM analytics_events\n",
    "     JOIN cities ON analytics_events.city_id = cities.city_id\n",
    "     WHERE first_date BETWEEN '2021-05-01' AND '2021-06-24'\n",
    "         AND city_name = 'Саранск'),\n",
    "\n",
    "-- Рассчитываем активных пользователей по дате события\n",
    "active_users AS\n",
    "    (SELECT DISTINCT log_date,\n",
    "                     user_id\n",
    "     FROM analytics_events\n",
    "     JOIN cities ON analytics_events.city_id = cities.city_id\n",
    "     WHERE log_date BETWEEN '2021-05-01' AND '2021-06-30'\n",
    "         AND city_name = 'Саранск'),\n",
    "\n",
    "-- Соединяем таблицы с новыми и активными пользователями\n",
    "daily_retention AS\n",
    "    (SELECT new_users.user_id,\n",
    "            first_date,\n",
    "            log_date::date - first_date::date AS day_since_install\n",
    "     FROM new_users\n",
    "     JOIN active_users ON new_users.user_id = active_users.user_id\n",
    "     AND log_date >= first_date)\n",
    "\n",
    "SELECT DATE_TRUNC('month', first_date)::date AS \"Месяц\",\n",
    "       day_since_install,\n",
    "       COUNT (DISTINCT user_id) AS retained_users,\n",
    "       ROUND((1.0 * COUNT(DISTINCT user_id) / MAX(COUNT(DISTINCT user_id)) OVER (PARTITION BY DATE_TRUNC('month', first_date)::date ORDER BY day_since_install))::numeric, 2) AS retention_rate\n",
    "FROM daily_retention\n",
    "WHERE day_since_install < 8\n",
    "GROUP BY \"Месяц\", day_since_install\n",
    "ORDER BY \"Месяц\", day_since_install;"
   ]
  }
 ],
 "metadata": {
  "kernelspec": {
   "display_name": "Python [conda env:base] *",
   "language": "python",
   "name": "conda-base-py"
  },
  "language_info": {
   "codemirror_mode": {
    "name": "ipython",
    "version": 3
   },
   "file_extension": ".py",
   "mimetype": "text/x-python",
   "name": "python",
   "nbconvert_exporter": "python",
   "pygments_lexer": "ipython3",
   "version": "3.12.7"
  }
 },
 "nbformat": 4,
 "nbformat_minor": 5
}
