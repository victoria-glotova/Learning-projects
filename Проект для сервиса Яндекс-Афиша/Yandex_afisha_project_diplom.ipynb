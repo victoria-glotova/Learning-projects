{
 "cells": [
  {
   "cell_type": "markdown",
   "id": "82144b12",
   "metadata": {},
   "source": [
    "<div style=\"border:solid Chocolate 2px; padding: 40px\">\n",
    "\n",
    "<b>Привет !</b>\n",
    "\n",
    "Меня зовут Дмитрий Михаленко, я буду ревьюером второй части финального проекта. Если ты не против, то предлагаю построить наше общение на \"ты\" ;) Если удобнее на \"вы\", то нет проблем, только скажи об этом. \n",
    "\n",
    "Ниже в работе ты найдешь мои комментарии - **пожалуйста, не перемещай, не изменяй и не удаляй их**.\n",
    "    \n",
    "Для наглядности я буду использовать цветовую разметку:\n",
    "<font color='green'>зеленого</font>, <font color='gold'>желтого</font> и <font color='red'>красного</font> цветов. Сейчас объясню, что они значат:\n",
    "\n",
    "<br/>\n",
    "\n",
    "<div class=\"alert alert-success\">\n",
    "<h2> Комментарий ревьюера <a class=\"tocSkip\"> </h2>\n",
    "\n",
    "<b>Все супер!👍:</b> Решение на этом шаге является полностью правильным.\n",
    "</div>\n",
    "\n",
    "<br/>\n",
    "\n",
    "<div class=\"alert alert-warning\">\n",
    "    <h2> Комментарий ревьюера <a class=\"tocSkip\"> </h2>\n",
    "    \n",
    "<b>Небольшие замечания и рекомендации💡:</b> Решение на этом шаге может стать еще лучше, если внести небольшие коррективы.\n",
    "Но настаивать я не буду.\n",
    "</div>\n",
    "\n",
    "\n",
    "<br/>\n",
    "<div class=\"alert alert-block alert-danger\">\n",
    "<h2> Комментарий ревьюера <a class=\"tocSkip\"></h2>\n",
    "\n",
    "    \n",
    "<b>На доработку🤔:</b>\n",
    "Для правильного решения задачи на этом шаге необходимо внести правки. Напоминаю, что проект не может быть принят, без их отработки.\n",
    "</div>\n",
    "\n",
    "Для продуктивной работы прошу: **если ты что-то меняешь в проекте или отвечаешь на мои комментарии — пиши об этом**\n",
    "Мне будет легче отследить изменения, если ты тоже выделишь свои комментарии:\n",
    "    \n",
    "<div class=\"alert alert-info\"> <b>Комментарий студента:</b> Например, вот так.</div>\n",
    "\n",
    "Всё это поможет выполнить повторную проверку твоего проекта оперативнее. \n",
    "        \n",
    "Увидев у тебя ошибку, в первый раз я лишь укажу на ее наличие и дам тебе возможность самостоятельно найти и исправить ее. На реальной работе твой начальник будет поступать так же, а я пытаюсь подготовить тебя именно к работе аналитиком. Но если ты пока не справишься с такой задачей - при следующей проверке я дам более точную подсказку."
   ]
  },
  {
   "cell_type": "markdown",
   "id": "ad907e4f",
   "metadata": {},
   "source": [
    "<div class=\"alert alert-info\"> <b>Комментарий студента:</b> Добрый день, Дмитрий! Рада познакомиться!\n",
    "\n",
    "Благодарю за ревью и подробные рекомендации! Обязательно ими воспользуюсь и доработаю проект перед выгрузкой на github. Вопросов у меня нет, все понятно, спасибо!\n",
    "</div>"
   ]
  },
  {
   "cell_type": "markdown",
   "id": "2a31cc95",
   "metadata": {},
   "source": [
    "<div class=\"alert alert-success\">\n",
    "<h2> Комментарий ревьюера v2 <a class=\"tocSkip\"> </h2>\n",
    "\n",
    "<b>Все супер!👍:</b> Виктория, привет еще раз! Спасибо за хорошую обратную связь, было очень приятно видеть как хорошо ты освоила учебную программу и применяешь знания на практике)"
   ]
  },
  {
   "cell_type": "markdown",
   "id": "445fed33-f4dd-4051-a41b-d0ce89b07ba8",
   "metadata": {},
   "source": [
    "# Исследование активности пользователей Яндекс-Афиша за период лето-осень 2024\n",
    "\n",
    "- Автор: Глотова Виктория\n",
    "- Дата: июнь 2025"
   ]
  },
  {
   "cell_type": "markdown",
   "id": "839f07f9-4c20-4e3b-951e-cc992a451b75",
   "metadata": {},
   "source": [
    "## Цели и задачи проекта\n",
    "\n",
    "**Основная цель проекта** - провести исследовательский данных сервиса Яндекс-Афиша за период с 1.06.24 по 31.10.24 с целью выявить особенности заказов пользователей по сегментам с учетом сезонных изменений, а также определить особенности поведения пользователей, которые используют сервис с мобильных и стационарных устройств. Результаты исследования будут использоваться маркетологами при разработке маркетинговых акций, целью которых является увеличение выручки сервиса.\n",
    "\n",
    "**Задачи проекта:**\n",
    "* загрузить данные и познакомиться с их содержимым;\n",
    "* провести предобработку данных, проверить на наличие ошибок, пропусков, дубликатов, устранить их при необходимости;\n",
    "* провести исследовательский анализ данных, проанализировать особенности заказов по сегментам и сезонные колебания спроса;\n",
    "* сформулировать и проверить гипотезы относительно поведения пользователей мобильных и стационарных устройств;\n",
    "* сформулировать выводы и рекомендации на основе проведенного анализа."
   ]
  },
  {
   "cell_type": "markdown",
   "id": "c6a5291a-1fd7-4e3e-8424-961489984b1e",
   "metadata": {},
   "source": [
    "## Описание данных\n",
    "\n",
    "### Описание датасета `final_tickets_orders_df.csv`"
   ]
  },
  {
   "cell_type": "markdown",
   "id": "d13d5ad4-49cd-4a8d-a112-ab39d7e24401",
   "metadata": {},
   "source": [
    "* `order_id` — уникальный идентификатор заказа;\n",
    "* `user_id` — уникальный идентификатор пользователя;\n",
    "* `created_dt_msk` — дата создания заказа (московское время);\n",
    "* `created_ts_msk` — дата и время создания заказа (московское время);\n",
    "* `event_id` — идентификатор мероприятия из таблицы events;\n",
    "* `cinema_circuit` — сеть кинотеатров. Если не применимо, то здесь будет значение 'нет';\n",
    "* `age_limit` — возрастное ограничение мероприятия;\n",
    "* `currency_code` — валюта оплаты, например rub для российских рублей;\n",
    "* `device_type_canonical` — тип устройства, с которого был оформлен заказ, например mobile для мобильных устройств, desktop для стационарных;\n",
    "* `revenue` — выручка от заказа;\n",
    "* `service_name` — название билетного оператора;\n",
    "* `tickets_count` — количество купленных билетов;\n",
    "* `total` — общая сумма заказа;\n",
    "* `days_since_prev` - количество дней с предыдущей покупки для каждого пользователя. Если покупки не было, то данные содержат пропуск."
   ]
  },
  {
   "cell_type": "markdown",
   "id": "fea1d7c7-aafa-4ef0-84f2-92d10d2b6b2e",
   "metadata": {},
   "source": [
    "### Описание датасета `final_tickets_events_df.csv`"
   ]
  },
  {
   "cell_type": "markdown",
   "id": "b6bb471d-6b9d-4bae-8cef-b83aec0bbe7d",
   "metadata": {},
   "source": [
    "* `event_id` — уникальный идентификатор мероприятия;\n",
    "* `event_name` — название мероприятия;\n",
    "* `event_type_description` — описание типа мероприятия;\n",
    "* `event_type_main` — основной тип мероприятия: театральная постановка, концерт и так далее;\n",
    "* `organizers` — организаторы мероприятия;\n",
    "* `region_name` — название региона;\n",
    "* `city_name` — название города;\n",
    "* `venue_id` — уникальный идентификатор площадки;\n",
    "* `venue_name` — название площадки;\n",
    "* `venue_address` — адрес площадки;"
   ]
  },
  {
   "cell_type": "markdown",
   "id": "b58970a5-3116-4be3-8d38-550c91f9b21a",
   "metadata": {},
   "source": [
    "### Описание датасета `final_tickets_tenge_df.csv` для конвертации валют"
   ]
  },
  {
   "cell_type": "markdown",
   "id": "85abbaab-ada2-4b1c-a5fd-ab56f925f00e",
   "metadata": {},
   "source": [
    "* `nominal` — номинал (100 тенге);\n",
    "* `data` — дата;\n",
    "* `curs` — курс тенге к рублю;\n",
    "* `cdx` — обозначение валюты (kzt)."
   ]
  },
  {
   "cell_type": "markdown",
   "id": "b2389ec2-b9ec-408a-a641-baca89c789b9",
   "metadata": {},
   "source": [
    "## Структура проекта\n",
    "\n",
    "1. Загрузка данных и знакомство с ними.\n",
    "2. Предобработка данных и подготовка их к исследованию.\n",
    "3. Исследовательский анализ данных.\n",
    "   \n",
    "   3.1. Анализ распределения заказов по сегментам и их сезонные изменения.\n",
    "   \n",
    "   3.2. Осенняя активность пользователей.\n",
    "   \n",
    "   3.3. Популярные события и партнёры\n",
    "   \n",
    "5. Статистический анализ данных.\n",
    "6. Общие выводы и рекомендации.\n",
    "\n",
    "---"
   ]
  },
  {
   "cell_type": "markdown",
   "id": "18996341",
   "metadata": {},
   "source": [
    "<div class=\"alert alert-success\">\n",
    "<h2> Комментарий ревьюера v1 <a class=\"tocSkip\"> </h2>\n",
    "\n",
    "<b>Все супер!👍:</b>  Отличное введение в проект! Сформулирована цель и задачи работы, описание смысла полей таблиц исходных данных, план на проект. \n",
    "    \n",
    "Такой детальный подход важен, чтобы твой будущий работодатель знал все ключевые моменты проекта и мог объективно оценить принимаемые тобой решения.\n",
    "    \n"
   ]
  },
  {
   "cell_type": "markdown",
   "id": "5d7f17a4-a546-41fb-a40e-98fa9989b415",
   "metadata": {},
   "source": [
    "## 1. Загрузка данных и знакомство с ними"
   ]
  },
  {
   "cell_type": "code",
   "execution_count": 1,
   "id": "066fa71a-e6bd-44a6-a5de-f30a3c1d7720",
   "metadata": {},
   "outputs": [
    {
     "name": "stdout",
     "output_type": "stream",
     "text": [
      "Requirement already satisfied: missingno in /opt/conda/lib/python3.9/site-packages (0.5.2)\n",
      "Requirement already satisfied: numpy in /opt/conda/lib/python3.9/site-packages (from missingno) (1.21.1)\n",
      "Requirement already satisfied: seaborn in /opt/conda/lib/python3.9/site-packages (from missingno) (0.11.1)\n",
      "Requirement already satisfied: scipy in /opt/conda/lib/python3.9/site-packages (from missingno) (1.9.1)\n",
      "Requirement already satisfied: matplotlib in /opt/conda/lib/python3.9/site-packages (from missingno) (3.3.4)\n",
      "Requirement already satisfied: cycler>=0.10 in /opt/conda/lib/python3.9/site-packages (from matplotlib->missingno) (0.11.0)\n",
      "Requirement already satisfied: pillow>=6.2.0 in /opt/conda/lib/python3.9/site-packages (from matplotlib->missingno) (8.4.0)\n",
      "Requirement already satisfied: pyparsing!=2.0.4,!=2.1.2,!=2.1.6,>=2.0.3 in /opt/conda/lib/python3.9/site-packages (from matplotlib->missingno) (2.4.7)\n",
      "Requirement already satisfied: python-dateutil>=2.1 in /opt/conda/lib/python3.9/site-packages (from matplotlib->missingno) (2.8.1)\n",
      "Requirement already satisfied: kiwisolver>=1.0.1 in /opt/conda/lib/python3.9/site-packages (from matplotlib->missingno) (1.4.4)\n",
      "Requirement already satisfied: six>=1.5 in /opt/conda/lib/python3.9/site-packages (from python-dateutil>=2.1->matplotlib->missingno) (1.16.0)\n",
      "Requirement already satisfied: pandas>=0.23 in /opt/conda/lib/python3.9/site-packages (from seaborn->missingno) (1.2.4)\n",
      "Requirement already satisfied: pytz>=2017.3 in /opt/conda/lib/python3.9/site-packages (from pandas>=0.23->seaborn->missingno) (2021.1)\n"
     ]
    }
   ],
   "source": [
    "# Загрузим необходимые для работы библиотеки\n",
    "import pandas as pd\n",
    "import matplotlib.pyplot as plt\n",
    "import matplotlib.dates as mdates\n",
    "import seaborn as sns\n",
    "!pip install missingno\n",
    "import missingno as msno\n",
    "import numpy as np\n",
    "\n",
    "from scipy.stats import mannwhitneyu"
   ]
  },
  {
   "cell_type": "markdown",
   "id": "22ee9428",
   "metadata": {},
   "source": [
    "<div class=\"alert alert-warning\">\n",
    "    <h2> Комментарий ревьюера v1 <a class=\"tocSkip\"> </h2>\n",
    "    \n",
    "<b>Небольшие замечания и рекомендации💡:</b> Рекомендую устанавливать библиотеки через `try-except`, чтобы лишний раз не прогружать окружение. Подробнее про конструкцию можно почитать [тут](https://pythonworld.ru/tipy-dannyx-v-python/isklyucheniya-v-python-konstrukciya-try-except-dlya-obrabotki-isklyuchenij.html)\n",
    "  "
   ]
  },
  {
   "cell_type": "markdown",
   "id": "f6bda23d-2d47-40f4-9969-413c315bf441",
   "metadata": {},
   "source": [
    "### 1.1 Формирование датафреймов и первичное знакомство с данными\n",
    "Загрузим имеющиеся данные:"
   ]
  },
  {
   "cell_type": "code",
   "execution_count": 2,
   "id": "861e5951-06a4-4689-9dce-6e58a2741b4f",
   "metadata": {},
   "outputs": [],
   "source": [
    "orders_df = pd.read_csv('https://code.s3.yandex.net/datasets/final_tickets_orders_df.csv')\n",
    "events_df = pd.read_csv('https://code.s3.yandex.net/datasets/final_tickets_events_df.csv')\n",
    "currency_df = pd.read_csv('https://code.s3.yandex.net/datasets/final_tickets_tenge_df.csv')"
   ]
  },
  {
   "cell_type": "code",
   "execution_count": 3,
   "id": "067c7957-4af3-4bf6-920b-b0c0f6f76262",
   "metadata": {},
   "outputs": [
    {
     "name": "stdout",
     "output_type": "stream",
     "text": [
      "<class 'pandas.core.frame.DataFrame'>\n",
      "RangeIndex: 290849 entries, 0 to 290848\n",
      "Data columns (total 14 columns):\n",
      " #   Column                 Non-Null Count   Dtype  \n",
      "---  ------                 --------------   -----  \n",
      " 0   order_id               290849 non-null  int64  \n",
      " 1   user_id                290849 non-null  object \n",
      " 2   created_dt_msk         290849 non-null  object \n",
      " 3   created_ts_msk         290849 non-null  object \n",
      " 4   event_id               290849 non-null  int64  \n",
      " 5   cinema_circuit         290849 non-null  object \n",
      " 6   age_limit              290849 non-null  int64  \n",
      " 7   currency_code          290849 non-null  object \n",
      " 8   device_type_canonical  290849 non-null  object \n",
      " 9   revenue                290849 non-null  float64\n",
      " 10  service_name           290849 non-null  object \n",
      " 11  tickets_count          290849 non-null  int64  \n",
      " 12  total                  290849 non-null  float64\n",
      " 13  days_since_prev        268909 non-null  float64\n",
      "dtypes: float64(3), int64(4), object(7)\n",
      "memory usage: 31.1+ MB\n"
     ]
    }
   ],
   "source": [
    "orders_df.info()"
   ]
  },
  {
   "cell_type": "code",
   "execution_count": 4,
   "id": "43844fea-2909-4ccb-a761-f98a093fc06c",
   "metadata": {},
   "outputs": [
    {
     "data": {
      "text/html": [
       "<div>\n",
       "<style scoped>\n",
       "    .dataframe tbody tr th:only-of-type {\n",
       "        vertical-align: middle;\n",
       "    }\n",
       "\n",
       "    .dataframe tbody tr th {\n",
       "        vertical-align: top;\n",
       "    }\n",
       "\n",
       "    .dataframe thead th {\n",
       "        text-align: right;\n",
       "    }\n",
       "</style>\n",
       "<table border=\"1\" class=\"dataframe\">\n",
       "  <thead>\n",
       "    <tr style=\"text-align: right;\">\n",
       "      <th></th>\n",
       "      <th>order_id</th>\n",
       "      <th>user_id</th>\n",
       "      <th>created_dt_msk</th>\n",
       "      <th>created_ts_msk</th>\n",
       "      <th>event_id</th>\n",
       "      <th>cinema_circuit</th>\n",
       "      <th>age_limit</th>\n",
       "      <th>currency_code</th>\n",
       "      <th>device_type_canonical</th>\n",
       "      <th>revenue</th>\n",
       "      <th>service_name</th>\n",
       "      <th>tickets_count</th>\n",
       "      <th>total</th>\n",
       "      <th>days_since_prev</th>\n",
       "    </tr>\n",
       "  </thead>\n",
       "  <tbody>\n",
       "    <tr>\n",
       "      <th>0</th>\n",
       "      <td>4359165</td>\n",
       "      <td>0002849b70a3ce2</td>\n",
       "      <td>2024-08-20</td>\n",
       "      <td>2024-08-20 16:08:03</td>\n",
       "      <td>169230</td>\n",
       "      <td>нет</td>\n",
       "      <td>16</td>\n",
       "      <td>rub</td>\n",
       "      <td>mobile</td>\n",
       "      <td>1521.94</td>\n",
       "      <td>Край билетов</td>\n",
       "      <td>4</td>\n",
       "      <td>10870.99</td>\n",
       "      <td>NaN</td>\n",
       "    </tr>\n",
       "    <tr>\n",
       "      <th>1</th>\n",
       "      <td>7965605</td>\n",
       "      <td>0005ca5e93f2cf4</td>\n",
       "      <td>2024-07-23</td>\n",
       "      <td>2024-07-23 18:36:24</td>\n",
       "      <td>237325</td>\n",
       "      <td>нет</td>\n",
       "      <td>0</td>\n",
       "      <td>rub</td>\n",
       "      <td>mobile</td>\n",
       "      <td>289.45</td>\n",
       "      <td>Мой билет</td>\n",
       "      <td>2</td>\n",
       "      <td>2067.51</td>\n",
       "      <td>NaN</td>\n",
       "    </tr>\n",
       "    <tr>\n",
       "      <th>2</th>\n",
       "      <td>7292370</td>\n",
       "      <td>0005ca5e93f2cf4</td>\n",
       "      <td>2024-10-06</td>\n",
       "      <td>2024-10-06 13:56:02</td>\n",
       "      <td>578454</td>\n",
       "      <td>нет</td>\n",
       "      <td>0</td>\n",
       "      <td>rub</td>\n",
       "      <td>mobile</td>\n",
       "      <td>1258.57</td>\n",
       "      <td>За билетом!</td>\n",
       "      <td>4</td>\n",
       "      <td>13984.16</td>\n",
       "      <td>75.0</td>\n",
       "    </tr>\n",
       "    <tr>\n",
       "      <th>3</th>\n",
       "      <td>1139875</td>\n",
       "      <td>000898990054619</td>\n",
       "      <td>2024-07-13</td>\n",
       "      <td>2024-07-13 19:40:48</td>\n",
       "      <td>387271</td>\n",
       "      <td>нет</td>\n",
       "      <td>0</td>\n",
       "      <td>rub</td>\n",
       "      <td>mobile</td>\n",
       "      <td>8.49</td>\n",
       "      <td>Лови билет!</td>\n",
       "      <td>2</td>\n",
       "      <td>212.28</td>\n",
       "      <td>NaN</td>\n",
       "    </tr>\n",
       "    <tr>\n",
       "      <th>4</th>\n",
       "      <td>972400</td>\n",
       "      <td>000898990054619</td>\n",
       "      <td>2024-10-04</td>\n",
       "      <td>2024-10-04 22:33:15</td>\n",
       "      <td>509453</td>\n",
       "      <td>нет</td>\n",
       "      <td>18</td>\n",
       "      <td>rub</td>\n",
       "      <td>mobile</td>\n",
       "      <td>1390.41</td>\n",
       "      <td>Билеты без проблем</td>\n",
       "      <td>3</td>\n",
       "      <td>10695.43</td>\n",
       "      <td>83.0</td>\n",
       "    </tr>\n",
       "  </tbody>\n",
       "</table>\n",
       "</div>"
      ],
      "text/plain": [
       "   order_id          user_id created_dt_msk       created_ts_msk  event_id  \\\n",
       "0   4359165  0002849b70a3ce2     2024-08-20  2024-08-20 16:08:03    169230   \n",
       "1   7965605  0005ca5e93f2cf4     2024-07-23  2024-07-23 18:36:24    237325   \n",
       "2   7292370  0005ca5e93f2cf4     2024-10-06  2024-10-06 13:56:02    578454   \n",
       "3   1139875  000898990054619     2024-07-13  2024-07-13 19:40:48    387271   \n",
       "4    972400  000898990054619     2024-10-04  2024-10-04 22:33:15    509453   \n",
       "\n",
       "  cinema_circuit  age_limit currency_code device_type_canonical  revenue  \\\n",
       "0            нет         16           rub                mobile  1521.94   \n",
       "1            нет          0           rub                mobile   289.45   \n",
       "2            нет          0           rub                mobile  1258.57   \n",
       "3            нет          0           rub                mobile     8.49   \n",
       "4            нет         18           rub                mobile  1390.41   \n",
       "\n",
       "         service_name  tickets_count     total  days_since_prev  \n",
       "0        Край билетов              4  10870.99              NaN  \n",
       "1           Мой билет              2   2067.51              NaN  \n",
       "2         За билетом!              4  13984.16             75.0  \n",
       "3         Лови билет!              2    212.28              NaN  \n",
       "4  Билеты без проблем              3  10695.43             83.0  "
      ]
     },
     "execution_count": 4,
     "metadata": {},
     "output_type": "execute_result"
    }
   ],
   "source": [
    "orders_df.head()"
   ]
  },
  {
   "cell_type": "markdown",
   "id": "4061a2b0-18aa-420f-9528-4664867f30a3",
   "metadata": {},
   "source": [
    " - Датафрейм `orders_df` содержит 290849 строк и 14 столбцов с информацией о заказах билетов.\n",
    " - Содержание столбцов соответствует описанию данных.\n",
    " - Тип данных в столбцах с датой (`created_dt_msk`, `created_ts_msk`) - object, на этапе предобработки необходимо преобразовать в datetime64.\n",
    " - Размерность данных в столбцах `age_limit`, `tickets_count` и `days_since_prev` может быть снижена.\n",
    " - Пропуски содержатся только в столбце `days_since_prev` и говорят об отсутствии прошлых покупок."
   ]
  },
  {
   "cell_type": "code",
   "execution_count": 5,
   "id": "9bd64ad2-0997-46d7-9fd4-67151e62f937",
   "metadata": {},
   "outputs": [
    {
     "name": "stdout",
     "output_type": "stream",
     "text": [
      "<class 'pandas.core.frame.DataFrame'>\n",
      "RangeIndex: 22427 entries, 0 to 22426\n",
      "Data columns (total 11 columns):\n",
      " #   Column                  Non-Null Count  Dtype \n",
      "---  ------                  --------------  ----- \n",
      " 0   event_id                22427 non-null  int64 \n",
      " 1   event_name              22427 non-null  object\n",
      " 2   event_type_description  22427 non-null  object\n",
      " 3   event_type_main         22427 non-null  object\n",
      " 4   organizers              22427 non-null  object\n",
      " 5   region_name             22427 non-null  object\n",
      " 6   city_name               22427 non-null  object\n",
      " 7   city_id                 22427 non-null  int64 \n",
      " 8   venue_id                22427 non-null  int64 \n",
      " 9   venue_name              22427 non-null  object\n",
      " 10  venue_address           22427 non-null  object\n",
      "dtypes: int64(3), object(8)\n",
      "memory usage: 1.9+ MB\n"
     ]
    }
   ],
   "source": [
    "events_df.info()"
   ]
  },
  {
   "cell_type": "code",
   "execution_count": 6,
   "id": "f0d91803-c24b-4dd7-a382-4e20fff16eaa",
   "metadata": {},
   "outputs": [
    {
     "data": {
      "text/html": [
       "<div>\n",
       "<style scoped>\n",
       "    .dataframe tbody tr th:only-of-type {\n",
       "        vertical-align: middle;\n",
       "    }\n",
       "\n",
       "    .dataframe tbody tr th {\n",
       "        vertical-align: top;\n",
       "    }\n",
       "\n",
       "    .dataframe thead th {\n",
       "        text-align: right;\n",
       "    }\n",
       "</style>\n",
       "<table border=\"1\" class=\"dataframe\">\n",
       "  <thead>\n",
       "    <tr style=\"text-align: right;\">\n",
       "      <th></th>\n",
       "      <th>event_id</th>\n",
       "      <th>event_name</th>\n",
       "      <th>event_type_description</th>\n",
       "      <th>event_type_main</th>\n",
       "      <th>organizers</th>\n",
       "      <th>region_name</th>\n",
       "      <th>city_name</th>\n",
       "      <th>city_id</th>\n",
       "      <th>venue_id</th>\n",
       "      <th>venue_name</th>\n",
       "      <th>venue_address</th>\n",
       "    </tr>\n",
       "  </thead>\n",
       "  <tbody>\n",
       "    <tr>\n",
       "      <th>0</th>\n",
       "      <td>4436</td>\n",
       "      <td>e4f26fba-da77-4c61-928a-6c3e434d793f</td>\n",
       "      <td>спектакль</td>\n",
       "      <td>театр</td>\n",
       "      <td>№4893</td>\n",
       "      <td>Североярская область</td>\n",
       "      <td>Озёрск</td>\n",
       "      <td>2</td>\n",
       "      <td>1600</td>\n",
       "      <td>Кладбище искусств \"Проблема\" и партнеры</td>\n",
       "      <td>наб. Загородная, д. 785</td>\n",
       "    </tr>\n",
       "    <tr>\n",
       "      <th>1</th>\n",
       "      <td>5785</td>\n",
       "      <td>5cc08a60-fdea-4186-9bb2-bffc3603fb77</td>\n",
       "      <td>спектакль</td>\n",
       "      <td>театр</td>\n",
       "      <td>№1931</td>\n",
       "      <td>Светополянский округ</td>\n",
       "      <td>Глиноград</td>\n",
       "      <td>54</td>\n",
       "      <td>2196</td>\n",
       "      <td>Лекции по искусству \"Свет\" Групп</td>\n",
       "      <td>ул. Ягодная, д. 942</td>\n",
       "    </tr>\n",
       "    <tr>\n",
       "      <th>2</th>\n",
       "      <td>8817</td>\n",
       "      <td>8e379a89-3a10-4811-ba06-ec22ebebe989</td>\n",
       "      <td>спектакль</td>\n",
       "      <td>театр</td>\n",
       "      <td>№4896</td>\n",
       "      <td>Североярская область</td>\n",
       "      <td>Озёрск</td>\n",
       "      <td>2</td>\n",
       "      <td>4043</td>\n",
       "      <td>Кинокомитет \"Золотая\" Инк</td>\n",
       "      <td>ш. Коммуны, д. 92 стр. 6</td>\n",
       "    </tr>\n",
       "    <tr>\n",
       "      <th>3</th>\n",
       "      <td>8849</td>\n",
       "      <td>682e3129-6a32-4952-9d8a-ef7f60d4c247</td>\n",
       "      <td>спектакль</td>\n",
       "      <td>театр</td>\n",
       "      <td>№4960</td>\n",
       "      <td>Каменевский регион</td>\n",
       "      <td>Глиногорск</td>\n",
       "      <td>213</td>\n",
       "      <td>1987</td>\n",
       "      <td>Выставка ремесел \"Свет\" Лтд</td>\n",
       "      <td>пер. Набережный, д. 35</td>\n",
       "    </tr>\n",
       "    <tr>\n",
       "      <th>4</th>\n",
       "      <td>8850</td>\n",
       "      <td>d6e99176-c77f-4af0-9222-07c571f6c624</td>\n",
       "      <td>спектакль</td>\n",
       "      <td>театр</td>\n",
       "      <td>№4770</td>\n",
       "      <td>Лесодальний край</td>\n",
       "      <td>Родниковец</td>\n",
       "      <td>55</td>\n",
       "      <td>4230</td>\n",
       "      <td>Фестивальный проект \"Листья\" Групп</td>\n",
       "      <td>пер. Проезжий, д. 9</td>\n",
       "    </tr>\n",
       "  </tbody>\n",
       "</table>\n",
       "</div>"
      ],
      "text/plain": [
       "   event_id                            event_name event_type_description  \\\n",
       "0      4436  e4f26fba-da77-4c61-928a-6c3e434d793f              спектакль   \n",
       "1      5785  5cc08a60-fdea-4186-9bb2-bffc3603fb77              спектакль   \n",
       "2      8817  8e379a89-3a10-4811-ba06-ec22ebebe989              спектакль   \n",
       "3      8849  682e3129-6a32-4952-9d8a-ef7f60d4c247              спектакль   \n",
       "4      8850  d6e99176-c77f-4af0-9222-07c571f6c624              спектакль   \n",
       "\n",
       "  event_type_main organizers           region_name   city_name  city_id  \\\n",
       "0           театр      №4893  Североярская область      Озёрск        2   \n",
       "1           театр      №1931  Светополянский округ   Глиноград       54   \n",
       "2           театр      №4896  Североярская область      Озёрск        2   \n",
       "3           театр      №4960    Каменевский регион  Глиногорск      213   \n",
       "4           театр      №4770      Лесодальний край  Родниковец       55   \n",
       "\n",
       "   venue_id                               venue_name             venue_address  \n",
       "0      1600  Кладбище искусств \"Проблема\" и партнеры   наб. Загородная, д. 785  \n",
       "1      2196         Лекции по искусству \"Свет\" Групп       ул. Ягодная, д. 942  \n",
       "2      4043                Кинокомитет \"Золотая\" Инк  ш. Коммуны, д. 92 стр. 6  \n",
       "3      1987              Выставка ремесел \"Свет\" Лтд    пер. Набережный, д. 35  \n",
       "4      4230       Фестивальный проект \"Листья\" Групп       пер. Проезжий, д. 9  "
      ]
     },
     "execution_count": 6,
     "metadata": {},
     "output_type": "execute_result"
    }
   ],
   "source": [
    "events_df.head()"
   ]
  },
  {
   "cell_type": "markdown",
   "id": "dc4e310c-47dd-4b68-bbd4-9e5e7286f42a",
   "metadata": {},
   "source": [
    " - Датафрейм `events_df` содержит 22427 строк и 11 столбцов с информациях о событиях, на которые продавались билеты, организаторах, регионах и площадках.\n",
    " - Содержание столбцов соответствует описанию данных.\n",
    " - Пропуски отсутствуют.\n",
    " - Размерность данных в столбцах `city_id` и `venue_id` может быть снижена.\n",
    " - Датафрейм `events_df` может быть объединен с датафреймом `orders_df` по ключу `event_id`."
   ]
  },
  {
   "cell_type": "code",
   "execution_count": 7,
   "id": "c9d8d2ff-1a15-491f-9ca3-eda12115ec63",
   "metadata": {},
   "outputs": [
    {
     "name": "stdout",
     "output_type": "stream",
     "text": [
      "<class 'pandas.core.frame.DataFrame'>\n",
      "RangeIndex: 357 entries, 0 to 356\n",
      "Data columns (total 4 columns):\n",
      " #   Column   Non-Null Count  Dtype  \n",
      "---  ------   --------------  -----  \n",
      " 0   data     357 non-null    object \n",
      " 1   nominal  357 non-null    int64  \n",
      " 2   curs     357 non-null    float64\n",
      " 3   cdx      357 non-null    object \n",
      "dtypes: float64(1), int64(1), object(2)\n",
      "memory usage: 11.3+ KB\n"
     ]
    }
   ],
   "source": [
    "currency_df.info()"
   ]
  },
  {
   "cell_type": "code",
   "execution_count": 8,
   "id": "0e6999c2-b589-46af-bf56-62727714f6f8",
   "metadata": {},
   "outputs": [
    {
     "data": {
      "text/html": [
       "<div>\n",
       "<style scoped>\n",
       "    .dataframe tbody tr th:only-of-type {\n",
       "        vertical-align: middle;\n",
       "    }\n",
       "\n",
       "    .dataframe tbody tr th {\n",
       "        vertical-align: top;\n",
       "    }\n",
       "\n",
       "    .dataframe thead th {\n",
       "        text-align: right;\n",
       "    }\n",
       "</style>\n",
       "<table border=\"1\" class=\"dataframe\">\n",
       "  <thead>\n",
       "    <tr style=\"text-align: right;\">\n",
       "      <th></th>\n",
       "      <th>data</th>\n",
       "      <th>nominal</th>\n",
       "      <th>curs</th>\n",
       "      <th>cdx</th>\n",
       "    </tr>\n",
       "  </thead>\n",
       "  <tbody>\n",
       "    <tr>\n",
       "      <th>0</th>\n",
       "      <td>2024-01-10</td>\n",
       "      <td>100</td>\n",
       "      <td>19.9391</td>\n",
       "      <td>kzt</td>\n",
       "    </tr>\n",
       "    <tr>\n",
       "      <th>1</th>\n",
       "      <td>2024-01-11</td>\n",
       "      <td>100</td>\n",
       "      <td>19.7255</td>\n",
       "      <td>kzt</td>\n",
       "    </tr>\n",
       "    <tr>\n",
       "      <th>2</th>\n",
       "      <td>2024-01-12</td>\n",
       "      <td>100</td>\n",
       "      <td>19.5839</td>\n",
       "      <td>kzt</td>\n",
       "    </tr>\n",
       "    <tr>\n",
       "      <th>3</th>\n",
       "      <td>2024-01-13</td>\n",
       "      <td>100</td>\n",
       "      <td>19.4501</td>\n",
       "      <td>kzt</td>\n",
       "    </tr>\n",
       "    <tr>\n",
       "      <th>4</th>\n",
       "      <td>2024-01-14</td>\n",
       "      <td>100</td>\n",
       "      <td>19.4501</td>\n",
       "      <td>kzt</td>\n",
       "    </tr>\n",
       "  </tbody>\n",
       "</table>\n",
       "</div>"
      ],
      "text/plain": [
       "         data  nominal     curs  cdx\n",
       "0  2024-01-10      100  19.9391  kzt\n",
       "1  2024-01-11      100  19.7255  kzt\n",
       "2  2024-01-12      100  19.5839  kzt\n",
       "3  2024-01-13      100  19.4501  kzt\n",
       "4  2024-01-14      100  19.4501  kzt"
      ]
     },
     "execution_count": 8,
     "metadata": {},
     "output_type": "execute_result"
    }
   ],
   "source": [
    "currency_df.head()"
   ]
  },
  {
   "cell_type": "markdown",
   "id": "1e440348-66eb-4b38-b11a-9c64d0b4ae23",
   "metadata": {},
   "source": [
    "- Датафрейм `currency_df` содержит 357 строк и 5 столбцов с информацией о курсе тенге по отношению к рублю.\n",
    " - Содержание столбцов соответствует описанию данных.\n",
    " - Пропуски отсутствуют.\n",
    " - Тип данных в столбце с датой `data` - object, на этапе предобработки необходимо преобразовать в datetime64.\n",
    " - Датафрейм `currency_df` будет использован в ходе предобработки данных для конвертации тенге в рубли.\n",
    "\n",
    "Таким образом на этапе предобработке необходимо будет:\n",
    "- объединить датафреймы,\n",
    "- изменить тип данных в столбцах с датами,\n",
    "- снизить размерность там, где это возможно,\n",
    "- добавить столбец с единой валютой с учетом имеющихся данных о курсе обмена,\n",
    "- проверить столбцы на наличие неявных пропусков и дубликатов, при необходимости - провести обработку."
   ]
  },
  {
   "cell_type": "markdown",
   "id": "0c783649",
   "metadata": {},
   "source": [
    "<div class=\"alert alert-success\">\n",
    "<h2> Комментарий ревьюера v1 <a class=\"tocSkip\"> </h2>\n",
    "\n",
    "<b>Все супер!👍:</b>  Хороший выбор методов для первичной оценки данных и очень точные первые выводы, так держать!"
   ]
  },
  {
   "cell_type": "markdown",
   "id": "a515b039-7c3e-477f-9f2d-d3ff941583c8",
   "metadata": {},
   "source": [
    "## 2. Предобработка данных и подготовка их к исследованию"
   ]
  },
  {
   "cell_type": "markdown",
   "id": "e0fd2b73-800c-45e8-83c1-5e148f7e2f68",
   "metadata": {},
   "source": [
    "Объединим датафреймы `orders_df` и `events_df`."
   ]
  },
  {
   "cell_type": "code",
   "execution_count": 9,
   "id": "cc8b38ce-03b1-410f-ba86-f09c3fbadd86",
   "metadata": {
    "scrolled": false
   },
   "outputs": [
    {
     "data": {
      "text/plain": [
       "290849"
      ]
     },
     "metadata": {},
     "output_type": "display_data"
    }
   ],
   "source": [
    "df = orders_df.merge(events_df, on='event_id', how = 'left')\n",
    "\n",
    "# проверим количество строк в новом датафрейме и сохраним информацию в отдельной переменной\n",
    "df_lines = df.shape[0]\n",
    "display(df_lines)"
   ]
  },
  {
   "cell_type": "markdown",
   "id": "abf7828b",
   "metadata": {},
   "source": [
    "<div class=\"alert alert-success\">\n",
    "<h2> Комментарий ревьюера v1 <a class=\"tocSkip\"> </h2>\n",
    "\n",
    "<b>Все супер!👍:</b> Верный параметр"
   ]
  },
  {
   "cell_type": "markdown",
   "id": "ed68e1c7-af38-4351-86b0-80a17ae1066e",
   "metadata": {},
   "source": [
    "Изменим тип данных в столбцах с датами и снизим размерность в обозначенных выше столбцах."
   ]
  },
  {
   "cell_type": "code",
   "execution_count": 10,
   "id": "b9df211f-1abc-4e12-8e41-d662a8fa8ba5",
   "metadata": {},
   "outputs": [
    {
     "data": {
      "text/plain": [
       "order_id                           int64\n",
       "user_id                           object\n",
       "created_dt_msk            datetime64[ns]\n",
       "created_ts_msk            datetime64[ns]\n",
       "event_id                           int64\n",
       "cinema_circuit                    object\n",
       "age_limit                           int8\n",
       "currency_code                     object\n",
       "device_type_canonical             object\n",
       "revenue                          float64\n",
       "service_name                      object\n",
       "tickets_count                       int8\n",
       "total                            float64\n",
       "days_since_prev                  float32\n",
       "event_name                        object\n",
       "event_type_description            object\n",
       "event_type_main                   object\n",
       "organizers                        object\n",
       "region_name                       object\n",
       "city_name                         object\n",
       "city_id                          float64\n",
       "venue_id                         float64\n",
       "venue_name                        object\n",
       "venue_address                     object\n",
       "dtype: object"
      ]
     },
     "execution_count": 10,
     "metadata": {},
     "output_type": "execute_result"
    }
   ],
   "source": [
    "for column in ['created_dt_msk','created_ts_msk']:\n",
    "    df[column] = pd.to_datetime(df[column], errors='coerce')\n",
    "\n",
    "for column in ['age_limit','tickets_count','city_id', 'venue_id']:\n",
    "    df[column] = pd.to_numeric(df[column], downcast='integer')\n",
    "    \n",
    "df['days_since_prev'] = pd.to_numeric(df['days_since_prev'], downcast='float')\n",
    "\n",
    "df.dtypes"
   ]
  },
  {
   "cell_type": "code",
   "execution_count": 11,
   "id": "f875734a-6185-430e-9878-cd1b5b124c6d",
   "metadata": {},
   "outputs": [
    {
     "data": {
      "text/plain": [
       "dtype('<M8[ns]')"
      ]
     },
     "execution_count": 11,
     "metadata": {},
     "output_type": "execute_result"
    }
   ],
   "source": [
    "currency_df['data']= pd.to_datetime(currency_df['data'], errors='coerce')\n",
    "currency_df['data'].dtypes"
   ]
  },
  {
   "cell_type": "markdown",
   "id": "41298f07",
   "metadata": {},
   "source": [
    "<div class=\"alert alert-success\">\n",
    "<h2> Комментарий ревьюера v1 <a class=\"tocSkip\"> </h2>\n",
    "\n",
    "<b>Все супер!👍:</b> полезная привычка следить за строгим приведением даты и оптимизацией памяти. Конечно на нашем не очень большом объеме данных это не даст видимого эффекта, однако в предстоящих реальных проектах тебе это наверняка пригодится"
   ]
  },
  {
   "cell_type": "markdown",
   "id": "fe0b0a71-b44b-4970-8a03-6f86572a500a",
   "metadata": {},
   "source": [
    "Проверим наличие пропусков в объединенном датафрейме."
   ]
  },
  {
   "cell_type": "code",
   "execution_count": 12,
   "id": "d184e79a-0b69-4011-8e0d-57c9727e45db",
   "metadata": {},
   "outputs": [
    {
     "data": {
      "text/plain": [
       "'Пропуски в данных объединенного датафрейма df'"
      ]
     },
     "metadata": {},
     "output_type": "display_data"
    },
    {
     "data": {
      "text/html": [
       "<style  type=\"text/css\" >\n",
       "#T_a8054_row0_col0,#T_a8054_row0_col1,#T_a8054_row1_col0,#T_a8054_row1_col1,#T_a8054_row2_col0,#T_a8054_row2_col1,#T_a8054_row3_col0,#T_a8054_row3_col1,#T_a8054_row4_col0,#T_a8054_row4_col1,#T_a8054_row5_col0,#T_a8054_row5_col1,#T_a8054_row6_col0,#T_a8054_row6_col1,#T_a8054_row7_col0,#T_a8054_row7_col1,#T_a8054_row8_col0,#T_a8054_row8_col1,#T_a8054_row9_col0,#T_a8054_row9_col1,#T_a8054_row10_col0,#T_a8054_row10_col1,#T_a8054_row11_col0,#T_a8054_row11_col1,#T_a8054_row12_col0,#T_a8054_row12_col1{\n",
       "            background-color:  #3b4cc0;\n",
       "            color:  #f1f1f1;\n",
       "        }#T_a8054_row13_col0,#T_a8054_row13_col1{\n",
       "            background-color:  #b40426;\n",
       "            color:  #f1f1f1;\n",
       "        }#T_a8054_row14_col0,#T_a8054_row14_col1,#T_a8054_row15_col0,#T_a8054_row15_col1,#T_a8054_row16_col0,#T_a8054_row16_col1,#T_a8054_row17_col0,#T_a8054_row17_col1,#T_a8054_row18_col0,#T_a8054_row18_col1,#T_a8054_row19_col0,#T_a8054_row19_col1,#T_a8054_row20_col0,#T_a8054_row20_col1,#T_a8054_row21_col0,#T_a8054_row21_col1,#T_a8054_row22_col0,#T_a8054_row22_col1,#T_a8054_row23_col0,#T_a8054_row23_col1{\n",
       "            background-color:  #3d50c3;\n",
       "            color:  #f1f1f1;\n",
       "        }</style><table id=\"T_a8054_\" ><thead>    <tr>        <th class=\"blank level0\" ></th>        <th class=\"col_heading level0 col0\" >Кол-во пропусков</th>        <th class=\"col_heading level0 col1\" >Доля пропусков</th>    </tr></thead><tbody>\n",
       "                <tr>\n",
       "                        <th id=\"T_a8054_level0_row0\" class=\"row_heading level0 row0\" >order_id</th>\n",
       "                        <td id=\"T_a8054_row0_col0\" class=\"data row0 col0\" >0</td>\n",
       "                        <td id=\"T_a8054_row0_col1\" class=\"data row0 col1\" >0.000000</td>\n",
       "            </tr>\n",
       "            <tr>\n",
       "                        <th id=\"T_a8054_level0_row1\" class=\"row_heading level0 row1\" >user_id</th>\n",
       "                        <td id=\"T_a8054_row1_col0\" class=\"data row1 col0\" >0</td>\n",
       "                        <td id=\"T_a8054_row1_col1\" class=\"data row1 col1\" >0.000000</td>\n",
       "            </tr>\n",
       "            <tr>\n",
       "                        <th id=\"T_a8054_level0_row2\" class=\"row_heading level0 row2\" >created_dt_msk</th>\n",
       "                        <td id=\"T_a8054_row2_col0\" class=\"data row2 col0\" >0</td>\n",
       "                        <td id=\"T_a8054_row2_col1\" class=\"data row2 col1\" >0.000000</td>\n",
       "            </tr>\n",
       "            <tr>\n",
       "                        <th id=\"T_a8054_level0_row3\" class=\"row_heading level0 row3\" >created_ts_msk</th>\n",
       "                        <td id=\"T_a8054_row3_col0\" class=\"data row3 col0\" >0</td>\n",
       "                        <td id=\"T_a8054_row3_col1\" class=\"data row3 col1\" >0.000000</td>\n",
       "            </tr>\n",
       "            <tr>\n",
       "                        <th id=\"T_a8054_level0_row4\" class=\"row_heading level0 row4\" >event_id</th>\n",
       "                        <td id=\"T_a8054_row4_col0\" class=\"data row4 col0\" >0</td>\n",
       "                        <td id=\"T_a8054_row4_col1\" class=\"data row4 col1\" >0.000000</td>\n",
       "            </tr>\n",
       "            <tr>\n",
       "                        <th id=\"T_a8054_level0_row5\" class=\"row_heading level0 row5\" >cinema_circuit</th>\n",
       "                        <td id=\"T_a8054_row5_col0\" class=\"data row5 col0\" >0</td>\n",
       "                        <td id=\"T_a8054_row5_col1\" class=\"data row5 col1\" >0.000000</td>\n",
       "            </tr>\n",
       "            <tr>\n",
       "                        <th id=\"T_a8054_level0_row6\" class=\"row_heading level0 row6\" >age_limit</th>\n",
       "                        <td id=\"T_a8054_row6_col0\" class=\"data row6 col0\" >0</td>\n",
       "                        <td id=\"T_a8054_row6_col1\" class=\"data row6 col1\" >0.000000</td>\n",
       "            </tr>\n",
       "            <tr>\n",
       "                        <th id=\"T_a8054_level0_row7\" class=\"row_heading level0 row7\" >currency_code</th>\n",
       "                        <td id=\"T_a8054_row7_col0\" class=\"data row7 col0\" >0</td>\n",
       "                        <td id=\"T_a8054_row7_col1\" class=\"data row7 col1\" >0.000000</td>\n",
       "            </tr>\n",
       "            <tr>\n",
       "                        <th id=\"T_a8054_level0_row8\" class=\"row_heading level0 row8\" >device_type_canonical</th>\n",
       "                        <td id=\"T_a8054_row8_col0\" class=\"data row8 col0\" >0</td>\n",
       "                        <td id=\"T_a8054_row8_col1\" class=\"data row8 col1\" >0.000000</td>\n",
       "            </tr>\n",
       "            <tr>\n",
       "                        <th id=\"T_a8054_level0_row9\" class=\"row_heading level0 row9\" >revenue</th>\n",
       "                        <td id=\"T_a8054_row9_col0\" class=\"data row9 col0\" >0</td>\n",
       "                        <td id=\"T_a8054_row9_col1\" class=\"data row9 col1\" >0.000000</td>\n",
       "            </tr>\n",
       "            <tr>\n",
       "                        <th id=\"T_a8054_level0_row10\" class=\"row_heading level0 row10\" >service_name</th>\n",
       "                        <td id=\"T_a8054_row10_col0\" class=\"data row10 col0\" >0</td>\n",
       "                        <td id=\"T_a8054_row10_col1\" class=\"data row10 col1\" >0.000000</td>\n",
       "            </tr>\n",
       "            <tr>\n",
       "                        <th id=\"T_a8054_level0_row11\" class=\"row_heading level0 row11\" >tickets_count</th>\n",
       "                        <td id=\"T_a8054_row11_col0\" class=\"data row11 col0\" >0</td>\n",
       "                        <td id=\"T_a8054_row11_col1\" class=\"data row11 col1\" >0.000000</td>\n",
       "            </tr>\n",
       "            <tr>\n",
       "                        <th id=\"T_a8054_level0_row12\" class=\"row_heading level0 row12\" >total</th>\n",
       "                        <td id=\"T_a8054_row12_col0\" class=\"data row12 col0\" >0</td>\n",
       "                        <td id=\"T_a8054_row12_col1\" class=\"data row12 col1\" >0.000000</td>\n",
       "            </tr>\n",
       "            <tr>\n",
       "                        <th id=\"T_a8054_level0_row13\" class=\"row_heading level0 row13\" >days_since_prev</th>\n",
       "                        <td id=\"T_a8054_row13_col0\" class=\"data row13 col0\" >21940</td>\n",
       "                        <td id=\"T_a8054_row13_col1\" class=\"data row13 col1\" >0.075400</td>\n",
       "            </tr>\n",
       "            <tr>\n",
       "                        <th id=\"T_a8054_level0_row14\" class=\"row_heading level0 row14\" >event_name</th>\n",
       "                        <td id=\"T_a8054_row14_col0\" class=\"data row14 col0\" >238</td>\n",
       "                        <td id=\"T_a8054_row14_col1\" class=\"data row14 col1\" >0.000800</td>\n",
       "            </tr>\n",
       "            <tr>\n",
       "                        <th id=\"T_a8054_level0_row15\" class=\"row_heading level0 row15\" >event_type_description</th>\n",
       "                        <td id=\"T_a8054_row15_col0\" class=\"data row15 col0\" >238</td>\n",
       "                        <td id=\"T_a8054_row15_col1\" class=\"data row15 col1\" >0.000800</td>\n",
       "            </tr>\n",
       "            <tr>\n",
       "                        <th id=\"T_a8054_level0_row16\" class=\"row_heading level0 row16\" >event_type_main</th>\n",
       "                        <td id=\"T_a8054_row16_col0\" class=\"data row16 col0\" >238</td>\n",
       "                        <td id=\"T_a8054_row16_col1\" class=\"data row16 col1\" >0.000800</td>\n",
       "            </tr>\n",
       "            <tr>\n",
       "                        <th id=\"T_a8054_level0_row17\" class=\"row_heading level0 row17\" >organizers</th>\n",
       "                        <td id=\"T_a8054_row17_col0\" class=\"data row17 col0\" >238</td>\n",
       "                        <td id=\"T_a8054_row17_col1\" class=\"data row17 col1\" >0.000800</td>\n",
       "            </tr>\n",
       "            <tr>\n",
       "                        <th id=\"T_a8054_level0_row18\" class=\"row_heading level0 row18\" >region_name</th>\n",
       "                        <td id=\"T_a8054_row18_col0\" class=\"data row18 col0\" >238</td>\n",
       "                        <td id=\"T_a8054_row18_col1\" class=\"data row18 col1\" >0.000800</td>\n",
       "            </tr>\n",
       "            <tr>\n",
       "                        <th id=\"T_a8054_level0_row19\" class=\"row_heading level0 row19\" >city_name</th>\n",
       "                        <td id=\"T_a8054_row19_col0\" class=\"data row19 col0\" >238</td>\n",
       "                        <td id=\"T_a8054_row19_col1\" class=\"data row19 col1\" >0.000800</td>\n",
       "            </tr>\n",
       "            <tr>\n",
       "                        <th id=\"T_a8054_level0_row20\" class=\"row_heading level0 row20\" >city_id</th>\n",
       "                        <td id=\"T_a8054_row20_col0\" class=\"data row20 col0\" >238</td>\n",
       "                        <td id=\"T_a8054_row20_col1\" class=\"data row20 col1\" >0.000800</td>\n",
       "            </tr>\n",
       "            <tr>\n",
       "                        <th id=\"T_a8054_level0_row21\" class=\"row_heading level0 row21\" >venue_id</th>\n",
       "                        <td id=\"T_a8054_row21_col0\" class=\"data row21 col0\" >238</td>\n",
       "                        <td id=\"T_a8054_row21_col1\" class=\"data row21 col1\" >0.000800</td>\n",
       "            </tr>\n",
       "            <tr>\n",
       "                        <th id=\"T_a8054_level0_row22\" class=\"row_heading level0 row22\" >venue_name</th>\n",
       "                        <td id=\"T_a8054_row22_col0\" class=\"data row22 col0\" >238</td>\n",
       "                        <td id=\"T_a8054_row22_col1\" class=\"data row22 col1\" >0.000800</td>\n",
       "            </tr>\n",
       "            <tr>\n",
       "                        <th id=\"T_a8054_level0_row23\" class=\"row_heading level0 row23\" >venue_address</th>\n",
       "                        <td id=\"T_a8054_row23_col0\" class=\"data row23 col0\" >238</td>\n",
       "                        <td id=\"T_a8054_row23_col1\" class=\"data row23 col1\" >0.000800</td>\n",
       "            </tr>\n",
       "    </tbody></table>"
      ],
      "text/plain": [
       "<pandas.io.formats.style.Styler at 0x7f9f6450de80>"
      ]
     },
     "metadata": {},
     "output_type": "display_data"
    }
   ],
   "source": [
    "missing_df = (pd.DataFrame({'Кол-во пропусков': df.isnull().sum(), 'Доля пропусков': df.isnull().mean().round(4)})\n",
    "           .style.background_gradient(cmap='coolwarm'))\n",
    "display (f'Пропуски в данных объединенного датафрейма df')\n",
    "display (missing_df)"
   ]
  },
  {
   "cell_type": "markdown",
   "id": "f57a2a27-5910-4d20-ad1d-5792caa9466d",
   "metadata": {},
   "source": [
    "Пропуски в столбце `days_since_prev` допустимы и не мешают исследованию. В присоединенных столбцах присутствуют пропуски, по 238 в каждом. Проверим, находятся ли они в одних строках или не связаны между собой."
   ]
  },
  {
   "cell_type": "code",
   "execution_count": 13,
   "id": "30796636-7895-405a-abc9-2fab031b760c",
   "metadata": {},
   "outputs": [
    {
     "data": {
      "text/plain": [
       "<AxesSubplot:>"
      ]
     },
     "execution_count": 13,
     "metadata": {},
     "output_type": "execute_result"
    },
    {
     "data": {
      "image/png": "[encoded data removed]",
      "text/plain": [
       "<Figure size 1440x864 with 2 Axes>"
      ]
     },
     "metadata": {
      "needs_background": "light"
     },
     "output_type": "display_data"
    }
   ],
   "source": [
    "msno.heatmap(df)"
   ]
  },
  {
   "cell_type": "markdown",
   "id": "761366eb-4ded-4dbd-8265-b99134b4c419",
   "metadata": {},
   "source": [
    "Строки с отсутствующими данными в присоединенных столбцах связаны между собой, их можно удалить, т.к. они не содержат полной информации и при этом составляют незначительную долю от общего числа строк."
   ]
  },
  {
   "cell_type": "markdown",
   "id": "6d13effb",
   "metadata": {},
   "source": [
    "<div class=\"alert alert-success\">\n",
    "<h2> Комментарий ревьюера v1 <a class=\"tocSkip\"> </h2>\n",
    "\n",
    "<b>Все супер!👍:</b> Прекрасная и обоснованная работа с пропусками, Круто, что ты делаешь всестороннюю оценку и по количеству и по структуре)"
   ]
  },
  {
   "cell_type": "code",
   "execution_count": 14,
   "id": "cc7de8ae-a011-4ea3-a9e4-d3e39e0f2ba0",
   "metadata": {},
   "outputs": [
    {
     "data": {
      "text/plain": [
       "'Удалено строк - 238 (0.082%)'"
      ]
     },
     "metadata": {},
     "output_type": "display_data"
    }
   ],
   "source": [
    "#удалим строки с пропущенными значениями event_name и далее, и посчитаем количество и % удаленных строк\n",
    "df = df.dropna(subset = ['event_name'])\n",
    "\n",
    "deleted_lines = df_lines - df.shape[0]\n",
    "\n",
    "deleted_share = round(deleted_lines / df_lines * 100, 3)\n",
    "\n",
    "display(f'Удалено строк - {deleted_lines} ({deleted_share}%)')"
   ]
  },
  {
   "cell_type": "markdown",
   "id": "e0584ff4-95c8-4eed-9230-58873c0daebb",
   "metadata": {},
   "source": [
    "Проверим датафрейм на наличие строк-дубликатов."
   ]
  },
  {
   "cell_type": "code",
   "execution_count": 15,
   "id": "d9b58df3-3925-463f-a6bd-b7284bff8a29",
   "metadata": {},
   "outputs": [
    {
     "data": {
      "text/plain": [
       "0"
      ]
     },
     "execution_count": 15,
     "metadata": {},
     "output_type": "execute_result"
    }
   ],
   "source": [
    "df.duplicated().sum()"
   ]
  },
  {
   "cell_type": "markdown",
   "id": "6b290cb5-3954-430d-96e3-95e72b92ef90",
   "metadata": {},
   "source": [
    "Полных строк-дубликатов нет. Проверим категории в ключевых категориальных столбцах датафрейма."
   ]
  },
  {
   "cell_type": "code",
   "execution_count": 16,
   "id": "ead99a2c-befe-4775-8887-bce187f4b6b1",
   "metadata": {},
   "outputs": [
    {
     "data": {
      "text/plain": [
       "array(['rub', 'kzt'], dtype=object)"
      ]
     },
     "execution_count": 16,
     "metadata": {},
     "output_type": "execute_result"
    }
   ],
   "source": [
    "df['currency_code'].unique()"
   ]
  },
  {
   "cell_type": "code",
   "execution_count": 17,
   "id": "39566913-9a3d-4497-9937-f08156cd6d9f",
   "metadata": {},
   "outputs": [
    {
     "data": {
      "text/plain": [
       "array(['mobile', 'desktop'], dtype=object)"
      ]
     },
     "execution_count": 17,
     "metadata": {},
     "output_type": "execute_result"
    }
   ],
   "source": [
    "df['device_type_canonical'].unique()"
   ]
  },
  {
   "cell_type": "code",
   "execution_count": 18,
   "id": "a689ca83-7aca-4293-afdd-3aaa52b5c14b",
   "metadata": {},
   "outputs": [
    {
     "data": {
      "text/plain": [
       "array(['Край билетов', 'Мой билет', 'За билетом!', 'Лови билет!',\n",
       "       'Билеты без проблем', 'Облачко', 'Лучшие билеты', 'Прачечная',\n",
       "       'Быстробилет', 'Дом культуры', 'Весь в билетах', 'Билеты в руки',\n",
       "       'Тебе билет!', 'Show_ticket', 'Городской дом культуры', 'Яблоко',\n",
       "       'Билет по телефону', 'Выступления.ру', 'Росбилет',\n",
       "       'Шоу начинается!', 'Мир касс', 'Восьмёрка', 'Телебилет',\n",
       "       'Crazy ticket!', 'Реестр', 'Быстрый кассир', 'КарандашРУ',\n",
       "       'Радио ticket', 'Дырокол', 'Вперёд!', 'Кино билет', 'Цвет и билет',\n",
       "       'Зе Бест!', 'Тех билет', 'Лимоны', 'Билеты в интернете'],\n",
       "      dtype=object)"
      ]
     },
     "execution_count": 18,
     "metadata": {},
     "output_type": "execute_result"
    }
   ],
   "source": [
    "df['service_name'].unique()"
   ]
  },
  {
   "cell_type": "code",
   "execution_count": 19,
   "id": "05e30584-0e22-42cf-9121-c2ac4cb98e6a",
   "metadata": {},
   "outputs": [
    {
     "data": {
      "text/plain": [
       "array(['спектакль', 'событие', 'цирковое шоу', 'выставка', 'шоу',\n",
       "       'концерт', 'спорт', 'мюзикл', 'фестиваль', 'ёлка', 'балет',\n",
       "       'спортивное мероприятие', 'опера', 'музыкальный спектакль',\n",
       "       'кукольный спектакль', 'оперетта', 'снегурочка', 'рок-мюзикл',\n",
       "       'экскурсия', 'подарок'], dtype=object)"
      ]
     },
     "execution_count": 19,
     "metadata": {},
     "output_type": "execute_result"
    }
   ],
   "source": [
    "df['event_type_description'].unique()"
   ]
  },
  {
   "cell_type": "code",
   "execution_count": 20,
   "id": "860e40b6-27da-4932-8c2e-ff05c31c1dd6",
   "metadata": {},
   "outputs": [
    {
     "data": {
      "text/plain": [
       "array(['театр', 'выставки', 'другое', 'стендап', 'концерты', 'спорт',\n",
       "       'ёлки'], dtype=object)"
      ]
     },
     "execution_count": 20,
     "metadata": {},
     "output_type": "execute_result"
    }
   ],
   "source": [
    "df['event_type_main'].unique()"
   ]
  },
  {
   "cell_type": "code",
   "execution_count": 21,
   "id": "bd5e70b7-09c5-4369-8301-287771bf065b",
   "metadata": {},
   "outputs": [
    {
     "data": {
      "text/plain": [
       "array(['Каменевский регион', 'Североярская область', 'Озернинский край',\n",
       "       'Лугоградская область', 'Поленовский край', 'Широковская область',\n",
       "       'Медовская область', 'Златопольский округ', 'Малиновоярский округ',\n",
       "       'Яблоневская область', 'Ветренский регион', 'Боровлянский край',\n",
       "       'Крутоводская область', 'Ягодиновская область',\n",
       "       'Серебряноярский округ', 'Лесодальний край', 'Верхоречная область',\n",
       "       'Горицветская область', 'Речиновская область', 'Травиницкий округ',\n",
       "       'Сосновская область', 'Серебринская область', 'Травяная область',\n",
       "       'Каменноярский край', 'Солнечноземская область',\n",
       "       'Светополянский округ', 'Заречная область', 'Ручейковский край',\n",
       "       'Глиногорская область', 'Тепляковская область',\n",
       "       'Каменноозёрный край', 'Солнечнореченская область',\n",
       "       'Зоринский регион', 'Берёзовская область', 'Лесостепной край',\n",
       "       'Малиновая область', 'Синегорский регион', 'Луговая область',\n",
       "       'Шанырский регион', 'Каменополянский округ', 'Речицкая область',\n",
       "       'Горностепной регион', 'Речицкий регион', 'Золотоключевской край',\n",
       "       'Лесоярская область', 'Зеленоградский округ',\n",
       "       'Миропольская область', 'Дальнеземская область',\n",
       "       'Озернопольская область', 'Берестовский округ',\n",
       "       'Ключеводский округ', 'Нежинская область', 'Дальнезорский край',\n",
       "       'Вишнёвский край', 'Каменичская область', 'Голубевский округ',\n",
       "       'Тихогорская область', 'Крутоводский регион',\n",
       "       'Чистогорская область', 'Североозёрский округ', 'Тихолесский край',\n",
       "       'Кристальная область', 'Горноземский регион',\n",
       "       'Радужнопольский край', 'Белоярская область', 'Островная область',\n",
       "       'Тихореченская область', 'Кристаловская область',\n",
       "       'Яснопольский округ', 'Островогорский округ',\n",
       "       'Радужногорская область', 'Дубравная область', 'Залесский край',\n",
       "       'Североключевской округ', 'Верховинская область',\n",
       "       'Светолесский край', 'Сосноводолинская область',\n",
       "       'Верхозёрский край', 'Лесноярский край', 'Теплоозёрский округ',\n",
       "       'Лесополянская область'], dtype=object)"
      ]
     },
     "execution_count": 21,
     "metadata": {},
     "output_type": "execute_result"
    }
   ],
   "source": [
    "df['region_name'].unique()"
   ]
  },
  {
   "cell_type": "code",
   "execution_count": 22,
   "id": "0ac1d562-6063-44c8-809c-050d92168475",
   "metadata": {},
   "outputs": [
    {
     "data": {
      "text/plain": [
       "array([16,  0, 18, 12,  6], dtype=int8)"
      ]
     },
     "execution_count": 22,
     "metadata": {},
     "output_type": "execute_result"
    }
   ],
   "source": [
    "df['age_limit'].unique()"
   ]
  },
  {
   "cell_type": "markdown",
   "id": "def95688-7132-4d41-9161-f4550cfeac08",
   "metadata": {},
   "source": [
    "Аномалий среди категорий не обнаружено. Проверим данные на наличие неявных дубликатов."
   ]
  },
  {
   "cell_type": "markdown",
   "id": "1b93708d",
   "metadata": {},
   "source": [
    "<div class=\"alert alert-warning\">\n",
    "    <h2> Комментарий ревьюера v1 <a class=\"tocSkip\"> </h2>\n",
    "    \n",
    "<b>Небольшие замечания и рекомендации💡:</b> Согласен, все категории в норме. Можно детальнее изучить \"спорт\" и \"спортивные мероприятия\" по смыслу названию они похожи"
   ]
  },
  {
   "cell_type": "code",
   "execution_count": 23,
   "id": "4f39f398-71d6-4b98-a72e-7f975f109978",
   "metadata": {},
   "outputs": [
    {
     "data": {
      "text/html": [
       "<div>\n",
       "<style scoped>\n",
       "    .dataframe tbody tr th:only-of-type {\n",
       "        vertical-align: middle;\n",
       "    }\n",
       "\n",
       "    .dataframe tbody tr th {\n",
       "        vertical-align: top;\n",
       "    }\n",
       "\n",
       "    .dataframe thead th {\n",
       "        text-align: right;\n",
       "    }\n",
       "</style>\n",
       "<table border=\"1\" class=\"dataframe\">\n",
       "  <thead>\n",
       "    <tr style=\"text-align: right;\">\n",
       "      <th></th>\n",
       "      <th>order_id</th>\n",
       "      <th>user_id</th>\n",
       "      <th>created_dt_msk</th>\n",
       "      <th>created_ts_msk</th>\n",
       "      <th>event_id</th>\n",
       "      <th>cinema_circuit</th>\n",
       "      <th>age_limit</th>\n",
       "      <th>currency_code</th>\n",
       "      <th>device_type_canonical</th>\n",
       "      <th>revenue</th>\n",
       "      <th>...</th>\n",
       "      <th>event_name</th>\n",
       "      <th>event_type_description</th>\n",
       "      <th>event_type_main</th>\n",
       "      <th>organizers</th>\n",
       "      <th>region_name</th>\n",
       "      <th>city_name</th>\n",
       "      <th>city_id</th>\n",
       "      <th>venue_id</th>\n",
       "      <th>venue_name</th>\n",
       "      <th>venue_address</th>\n",
       "    </tr>\n",
       "  </thead>\n",
       "  <tbody>\n",
       "    <tr>\n",
       "      <th>11777</th>\n",
       "      <td>1123983</td>\n",
       "      <td>06eb7897f65b433</td>\n",
       "      <td>2024-08-13</td>\n",
       "      <td>2024-08-13 16:31:07</td>\n",
       "      <td>183706</td>\n",
       "      <td>нет</td>\n",
       "      <td>18</td>\n",
       "      <td>rub</td>\n",
       "      <td>mobile</td>\n",
       "      <td>69.82</td>\n",
       "      <td>...</td>\n",
       "      <td>69796237-909b-42a7-bfb5-c1b8574c4c76</td>\n",
       "      <td>спектакль</td>\n",
       "      <td>театр</td>\n",
       "      <td>№1482</td>\n",
       "      <td>Светополянский округ</td>\n",
       "      <td>Глиноград</td>\n",
       "      <td>54.0</td>\n",
       "      <td>4443.0</td>\n",
       "      <td>Центр культурного наследия \"Объединение\" и пар...</td>\n",
       "      <td>бул. Карбышева, д. 50</td>\n",
       "    </tr>\n",
       "    <tr>\n",
       "      <th>11778</th>\n",
       "      <td>1123867</td>\n",
       "      <td>06eb7897f65b433</td>\n",
       "      <td>2024-08-13</td>\n",
       "      <td>2024-08-13 16:31:07</td>\n",
       "      <td>183706</td>\n",
       "      <td>нет</td>\n",
       "      <td>18</td>\n",
       "      <td>rub</td>\n",
       "      <td>mobile</td>\n",
       "      <td>69.82</td>\n",
       "      <td>...</td>\n",
       "      <td>69796237-909b-42a7-bfb5-c1b8574c4c76</td>\n",
       "      <td>спектакль</td>\n",
       "      <td>театр</td>\n",
       "      <td>№1482</td>\n",
       "      <td>Светополянский округ</td>\n",
       "      <td>Глиноград</td>\n",
       "      <td>54.0</td>\n",
       "      <td>4443.0</td>\n",
       "      <td>Центр культурного наследия \"Объединение\" и пар...</td>\n",
       "      <td>бул. Карбышева, д. 50</td>\n",
       "    </tr>\n",
       "    <tr>\n",
       "      <th>12696</th>\n",
       "      <td>5593202</td>\n",
       "      <td>08199117318954f</td>\n",
       "      <td>2024-07-31</td>\n",
       "      <td>2024-07-31 11:52:06</td>\n",
       "      <td>553623</td>\n",
       "      <td>нет</td>\n",
       "      <td>18</td>\n",
       "      <td>rub</td>\n",
       "      <td>mobile</td>\n",
       "      <td>0.00</td>\n",
       "      <td>...</td>\n",
       "      <td>8aa79719-8122-4b50-ae2a-fa484d034c5c</td>\n",
       "      <td>событие</td>\n",
       "      <td>другое</td>\n",
       "      <td>№4549</td>\n",
       "      <td>Каменевский регион</td>\n",
       "      <td>Глиногорск</td>\n",
       "      <td>213.0</td>\n",
       "      <td>3474.0</td>\n",
       "      <td>Креативное пространство \"Вдох\" Лимитед</td>\n",
       "      <td>бул. Пригородный, д. 7/1</td>\n",
       "    </tr>\n",
       "    <tr>\n",
       "      <th>12697</th>\n",
       "      <td>5592970</td>\n",
       "      <td>08199117318954f</td>\n",
       "      <td>2024-07-31</td>\n",
       "      <td>2024-07-31 11:52:06</td>\n",
       "      <td>553623</td>\n",
       "      <td>нет</td>\n",
       "      <td>18</td>\n",
       "      <td>rub</td>\n",
       "      <td>desktop</td>\n",
       "      <td>0.00</td>\n",
       "      <td>...</td>\n",
       "      <td>8aa79719-8122-4b50-ae2a-fa484d034c5c</td>\n",
       "      <td>событие</td>\n",
       "      <td>другое</td>\n",
       "      <td>№4549</td>\n",
       "      <td>Каменевский регион</td>\n",
       "      <td>Глиногорск</td>\n",
       "      <td>213.0</td>\n",
       "      <td>3474.0</td>\n",
       "      <td>Креативное пространство \"Вдох\" Лимитед</td>\n",
       "      <td>бул. Пригородный, д. 7/1</td>\n",
       "    </tr>\n",
       "    <tr>\n",
       "      <th>26894</th>\n",
       "      <td>1930705</td>\n",
       "      <td>0dc525d7bacbb0d</td>\n",
       "      <td>2024-07-31</td>\n",
       "      <td>2024-07-31 13:26:11</td>\n",
       "      <td>393430</td>\n",
       "      <td>нет</td>\n",
       "      <td>18</td>\n",
       "      <td>rub</td>\n",
       "      <td>desktop</td>\n",
       "      <td>1556.05</td>\n",
       "      <td>...</td>\n",
       "      <td>b33d7a0b-a715-47e3-803e-02482884a73e</td>\n",
       "      <td>концерт</td>\n",
       "      <td>концерты</td>\n",
       "      <td>№5048</td>\n",
       "      <td>Каменевский регион</td>\n",
       "      <td>Глиногорск</td>\n",
       "      <td>213.0</td>\n",
       "      <td>2704.0</td>\n",
       "      <td>Летний фестиваль \"Симфония\" Лтд</td>\n",
       "      <td>бул. Боровой, д. 8/1 стр. 43</td>\n",
       "    </tr>\n",
       "    <tr>\n",
       "      <th>...</th>\n",
       "      <td>...</td>\n",
       "      <td>...</td>\n",
       "      <td>...</td>\n",
       "      <td>...</td>\n",
       "      <td>...</td>\n",
       "      <td>...</td>\n",
       "      <td>...</td>\n",
       "      <td>...</td>\n",
       "      <td>...</td>\n",
       "      <td>...</td>\n",
       "      <td>...</td>\n",
       "      <td>...</td>\n",
       "      <td>...</td>\n",
       "      <td>...</td>\n",
       "      <td>...</td>\n",
       "      <td>...</td>\n",
       "      <td>...</td>\n",
       "      <td>...</td>\n",
       "      <td>...</td>\n",
       "      <td>...</td>\n",
       "      <td>...</td>\n",
       "    </tr>\n",
       "    <tr>\n",
       "      <th>285615</th>\n",
       "      <td>8548012</td>\n",
       "      <td>fd4d47438ebb946</td>\n",
       "      <td>2024-06-19</td>\n",
       "      <td>2024-06-19 15:40:56</td>\n",
       "      <td>489843</td>\n",
       "      <td>нет</td>\n",
       "      <td>18</td>\n",
       "      <td>rub</td>\n",
       "      <td>desktop</td>\n",
       "      <td>1319.43</td>\n",
       "      <td>...</td>\n",
       "      <td>25a26bf3-cb70-4f37-a7f0-c97cc065d414</td>\n",
       "      <td>спектакль</td>\n",
       "      <td>театр</td>\n",
       "      <td>№1858</td>\n",
       "      <td>Каменевский регион</td>\n",
       "      <td>Глиногорск</td>\n",
       "      <td>213.0</td>\n",
       "      <td>4017.0</td>\n",
       "      <td>Студия анимации \"Точка\" Инкорпорэйтед</td>\n",
       "      <td>алл. Тамбовская, д. 7 к. 827</td>\n",
       "    </tr>\n",
       "    <tr>\n",
       "      <th>285617</th>\n",
       "      <td>8548041</td>\n",
       "      <td>fd4d47438ebb946</td>\n",
       "      <td>2024-06-19</td>\n",
       "      <td>2024-06-19 15:40:50</td>\n",
       "      <td>489843</td>\n",
       "      <td>нет</td>\n",
       "      <td>18</td>\n",
       "      <td>rub</td>\n",
       "      <td>desktop</td>\n",
       "      <td>989.57</td>\n",
       "      <td>...</td>\n",
       "      <td>25a26bf3-cb70-4f37-a7f0-c97cc065d414</td>\n",
       "      <td>спектакль</td>\n",
       "      <td>театр</td>\n",
       "      <td>№1858</td>\n",
       "      <td>Каменевский регион</td>\n",
       "      <td>Глиногорск</td>\n",
       "      <td>213.0</td>\n",
       "      <td>4017.0</td>\n",
       "      <td>Студия анимации \"Точка\" Инкорпорэйтед</td>\n",
       "      <td>алл. Тамбовская, д. 7 к. 827</td>\n",
       "    </tr>\n",
       "    <tr>\n",
       "      <th>285618</th>\n",
       "      <td>8548070</td>\n",
       "      <td>fd4d47438ebb946</td>\n",
       "      <td>2024-06-19</td>\n",
       "      <td>2024-06-19 15:40:50</td>\n",
       "      <td>489843</td>\n",
       "      <td>нет</td>\n",
       "      <td>18</td>\n",
       "      <td>rub</td>\n",
       "      <td>desktop</td>\n",
       "      <td>989.57</td>\n",
       "      <td>...</td>\n",
       "      <td>25a26bf3-cb70-4f37-a7f0-c97cc065d414</td>\n",
       "      <td>спектакль</td>\n",
       "      <td>театр</td>\n",
       "      <td>№1858</td>\n",
       "      <td>Каменевский регион</td>\n",
       "      <td>Глиногорск</td>\n",
       "      <td>213.0</td>\n",
       "      <td>4017.0</td>\n",
       "      <td>Студия анимации \"Точка\" Инкорпорэйтед</td>\n",
       "      <td>алл. Тамбовская, д. 7 к. 827</td>\n",
       "    </tr>\n",
       "    <tr>\n",
       "      <th>285619</th>\n",
       "      <td>8548099</td>\n",
       "      <td>fd4d47438ebb946</td>\n",
       "      <td>2024-06-19</td>\n",
       "      <td>2024-06-19 15:40:56</td>\n",
       "      <td>489843</td>\n",
       "      <td>нет</td>\n",
       "      <td>18</td>\n",
       "      <td>rub</td>\n",
       "      <td>desktop</td>\n",
       "      <td>989.57</td>\n",
       "      <td>...</td>\n",
       "      <td>25a26bf3-cb70-4f37-a7f0-c97cc065d414</td>\n",
       "      <td>спектакль</td>\n",
       "      <td>театр</td>\n",
       "      <td>№1858</td>\n",
       "      <td>Каменевский регион</td>\n",
       "      <td>Глиногорск</td>\n",
       "      <td>213.0</td>\n",
       "      <td>4017.0</td>\n",
       "      <td>Студия анимации \"Точка\" Инкорпорэйтед</td>\n",
       "      <td>алл. Тамбовская, д. 7 к. 827</td>\n",
       "    </tr>\n",
       "    <tr>\n",
       "      <th>285622</th>\n",
       "      <td>8547867</td>\n",
       "      <td>fd4d47438ebb946</td>\n",
       "      <td>2024-06-19</td>\n",
       "      <td>2024-06-19 15:40:56</td>\n",
       "      <td>489843</td>\n",
       "      <td>нет</td>\n",
       "      <td>18</td>\n",
       "      <td>rub</td>\n",
       "      <td>desktop</td>\n",
       "      <td>1319.43</td>\n",
       "      <td>...</td>\n",
       "      <td>25a26bf3-cb70-4f37-a7f0-c97cc065d414</td>\n",
       "      <td>спектакль</td>\n",
       "      <td>театр</td>\n",
       "      <td>№1858</td>\n",
       "      <td>Каменевский регион</td>\n",
       "      <td>Глиногорск</td>\n",
       "      <td>213.0</td>\n",
       "      <td>4017.0</td>\n",
       "      <td>Студия анимации \"Точка\" Инкорпорэйтед</td>\n",
       "      <td>алл. Тамбовская, д. 7 к. 827</td>\n",
       "    </tr>\n",
       "  </tbody>\n",
       "</table>\n",
       "<p>85 rows × 24 columns</p>\n",
       "</div>"
      ],
      "text/plain": [
       "        order_id          user_id created_dt_msk      created_ts_msk  \\\n",
       "11777    1123983  06eb7897f65b433     2024-08-13 2024-08-13 16:31:07   \n",
       "11778    1123867  06eb7897f65b433     2024-08-13 2024-08-13 16:31:07   \n",
       "12696    5593202  08199117318954f     2024-07-31 2024-07-31 11:52:06   \n",
       "12697    5592970  08199117318954f     2024-07-31 2024-07-31 11:52:06   \n",
       "26894    1930705  0dc525d7bacbb0d     2024-07-31 2024-07-31 13:26:11   \n",
       "...          ...              ...            ...                 ...   \n",
       "285615   8548012  fd4d47438ebb946     2024-06-19 2024-06-19 15:40:56   \n",
       "285617   8548041  fd4d47438ebb946     2024-06-19 2024-06-19 15:40:50   \n",
       "285618   8548070  fd4d47438ebb946     2024-06-19 2024-06-19 15:40:50   \n",
       "285619   8548099  fd4d47438ebb946     2024-06-19 2024-06-19 15:40:56   \n",
       "285622   8547867  fd4d47438ebb946     2024-06-19 2024-06-19 15:40:56   \n",
       "\n",
       "        event_id cinema_circuit  age_limit currency_code  \\\n",
       "11777     183706            нет         18           rub   \n",
       "11778     183706            нет         18           rub   \n",
       "12696     553623            нет         18           rub   \n",
       "12697     553623            нет         18           rub   \n",
       "26894     393430            нет         18           rub   \n",
       "...          ...            ...        ...           ...   \n",
       "285615    489843            нет         18           rub   \n",
       "285617    489843            нет         18           rub   \n",
       "285618    489843            нет         18           rub   \n",
       "285619    489843            нет         18           rub   \n",
       "285622    489843            нет         18           rub   \n",
       "\n",
       "       device_type_canonical  revenue  ...  \\\n",
       "11777                 mobile    69.82  ...   \n",
       "11778                 mobile    69.82  ...   \n",
       "12696                 mobile     0.00  ...   \n",
       "12697                desktop     0.00  ...   \n",
       "26894                desktop  1556.05  ...   \n",
       "...                      ...      ...  ...   \n",
       "285615               desktop  1319.43  ...   \n",
       "285617               desktop   989.57  ...   \n",
       "285618               desktop   989.57  ...   \n",
       "285619               desktop   989.57  ...   \n",
       "285622               desktop  1319.43  ...   \n",
       "\n",
       "                                  event_name  event_type_description  \\\n",
       "11777   69796237-909b-42a7-bfb5-c1b8574c4c76               спектакль   \n",
       "11778   69796237-909b-42a7-bfb5-c1b8574c4c76               спектакль   \n",
       "12696   8aa79719-8122-4b50-ae2a-fa484d034c5c                 событие   \n",
       "12697   8aa79719-8122-4b50-ae2a-fa484d034c5c                 событие   \n",
       "26894   b33d7a0b-a715-47e3-803e-02482884a73e                 концерт   \n",
       "...                                      ...                     ...   \n",
       "285615  25a26bf3-cb70-4f37-a7f0-c97cc065d414               спектакль   \n",
       "285617  25a26bf3-cb70-4f37-a7f0-c97cc065d414               спектакль   \n",
       "285618  25a26bf3-cb70-4f37-a7f0-c97cc065d414               спектакль   \n",
       "285619  25a26bf3-cb70-4f37-a7f0-c97cc065d414               спектакль   \n",
       "285622  25a26bf3-cb70-4f37-a7f0-c97cc065d414               спектакль   \n",
       "\n",
       "        event_type_main  organizers           region_name   city_name city_id  \\\n",
       "11777             театр       №1482  Светополянский округ   Глиноград    54.0   \n",
       "11778             театр       №1482  Светополянский округ   Глиноград    54.0   \n",
       "12696            другое       №4549    Каменевский регион  Глиногорск   213.0   \n",
       "12697            другое       №4549    Каменевский регион  Глиногорск   213.0   \n",
       "26894          концерты       №5048    Каменевский регион  Глиногорск   213.0   \n",
       "...                 ...         ...                   ...         ...     ...   \n",
       "285615            театр       №1858    Каменевский регион  Глиногорск   213.0   \n",
       "285617            театр       №1858    Каменевский регион  Глиногорск   213.0   \n",
       "285618            театр       №1858    Каменевский регион  Глиногорск   213.0   \n",
       "285619            театр       №1858    Каменевский регион  Глиногорск   213.0   \n",
       "285622            театр       №1858    Каменевский регион  Глиногорск   213.0   \n",
       "\n",
       "       venue_id                                         venue_name  \\\n",
       "11777    4443.0  Центр культурного наследия \"Объединение\" и пар...   \n",
       "11778    4443.0  Центр культурного наследия \"Объединение\" и пар...   \n",
       "12696    3474.0             Креативное пространство \"Вдох\" Лимитед   \n",
       "12697    3474.0             Креативное пространство \"Вдох\" Лимитед   \n",
       "26894    2704.0                    Летний фестиваль \"Симфония\" Лтд   \n",
       "...         ...                                                ...   \n",
       "285615   4017.0              Студия анимации \"Точка\" Инкорпорэйтед   \n",
       "285617   4017.0              Студия анимации \"Точка\" Инкорпорэйтед   \n",
       "285618   4017.0              Студия анимации \"Точка\" Инкорпорэйтед   \n",
       "285619   4017.0              Студия анимации \"Точка\" Инкорпорэйтед   \n",
       "285622   4017.0              Студия анимации \"Точка\" Инкорпорэйтед   \n",
       "\n",
       "                       venue_address  \n",
       "11777          бул. Карбышева, д. 50  \n",
       "11778          бул. Карбышева, д. 50  \n",
       "12696       бул. Пригородный, д. 7/1  \n",
       "12697       бул. Пригородный, д. 7/1  \n",
       "26894   бул. Боровой, д. 8/1 стр. 43  \n",
       "...                              ...  \n",
       "285615  алл. Тамбовская, д. 7 к. 827  \n",
       "285617  алл. Тамбовская, д. 7 к. 827  \n",
       "285618  алл. Тамбовская, д. 7 к. 827  \n",
       "285619  алл. Тамбовская, д. 7 к. 827  \n",
       "285622  алл. Тамбовская, д. 7 к. 827  \n",
       "\n",
       "[85 rows x 24 columns]"
      ]
     },
     "execution_count": 23,
     "metadata": {},
     "output_type": "execute_result"
    }
   ],
   "source": [
    "dupl = ['user_id', 'created_dt_msk', 'created_ts_msk', 'event_id', 'service_name', 'tickets_count']\n",
    "df[df.duplicated(subset=dupl, keep=False)]"
   ]
  },
  {
   "cell_type": "markdown",
   "id": "51e17ead-66af-49b8-b24c-5972bc5a89d2",
   "metadata": {},
   "source": [
    "В датафрейме присутствуют неявные дубликаты в заказах. Подобные дубликаты могут быть связаны с техническими ошибками в данных или с тем, что пользователь приостановил оформление заказа в системе, а спустя какое-то время к нему вернулся. Так как дубликатов немного, можно их удалить."
   ]
  },
  {
   "cell_type": "markdown",
   "id": "e4624917",
   "metadata": {},
   "source": [
    "<div class=\"alert alert-success\">\n",
    "<h2> Комментарий ревьюера v1 <a class=\"tocSkip\"> </h2>\n",
    "\n",
    "<b>Все супер!👍:</b>Очень качественная работа с \"дублями\", хвалю! Действительно важно смотреть на них перед принятием реени об удалении и причинах таких данных"
   ]
  },
  {
   "cell_type": "code",
   "execution_count": 24,
   "id": "65123647-d498-41e9-9be6-568510ce0b84",
   "metadata": {},
   "outputs": [
    {
     "data": {
      "text/plain": [
       "'Удалено строк - 44 (0.015%)'"
      ]
     },
     "metadata": {},
     "output_type": "display_data"
    }
   ],
   "source": [
    "#удалим неявные дубликаты\n",
    "df = df.drop_duplicates(subset = ['user_id', 'created_dt_msk', 'created_ts_msk', 'event_id', 'service_name', 'tickets_count'])\n",
    "\n",
    "deleted = df_lines - df.shape[0] - deleted_lines\n",
    "\n",
    "deleted_share_new = round(deleted / df_lines * 100, 3)\n",
    "\n",
    "display(f'Удалено строк - {deleted} ({deleted_share_new}%)')"
   ]
  },
  {
   "cell_type": "markdown",
   "id": "63eda319-f393-43c6-b926-eb5deda78ba9",
   "metadata": {},
   "source": [
    "Убедимся, что в датафрейме `currency_df` присутствует только информация о курсе валюты тенге и добавим информацию о нем в основной датафрейм."
   ]
  },
  {
   "cell_type": "code",
   "execution_count": 25,
   "id": "d430239d-e07e-4a9d-9961-d863ed63327b",
   "metadata": {},
   "outputs": [
    {
     "data": {
      "text/plain": [
       "array(['kzt'], dtype=object)"
      ]
     },
     "execution_count": 25,
     "metadata": {},
     "output_type": "execute_result"
    }
   ],
   "source": [
    "currency_df['cdx'].unique()"
   ]
  },
  {
   "cell_type": "code",
   "execution_count": 26,
   "id": "9824b76f-ce6d-4710-9a73-187457372b7e",
   "metadata": {
    "scrolled": true
   },
   "outputs": [
    {
     "data": {
      "text/html": [
       "<div>\n",
       "<style scoped>\n",
       "    .dataframe tbody tr th:only-of-type {\n",
       "        vertical-align: middle;\n",
       "    }\n",
       "\n",
       "    .dataframe tbody tr th {\n",
       "        vertical-align: top;\n",
       "    }\n",
       "\n",
       "    .dataframe thead th {\n",
       "        text-align: right;\n",
       "    }\n",
       "</style>\n",
       "<table border=\"1\" class=\"dataframe\">\n",
       "  <thead>\n",
       "    <tr style=\"text-align: right;\">\n",
       "      <th></th>\n",
       "      <th>order_id</th>\n",
       "      <th>user_id</th>\n",
       "      <th>created_dt_msk</th>\n",
       "      <th>created_ts_msk</th>\n",
       "      <th>event_id</th>\n",
       "      <th>cinema_circuit</th>\n",
       "      <th>age_limit</th>\n",
       "      <th>currency_code</th>\n",
       "      <th>device_type_canonical</th>\n",
       "      <th>revenue</th>\n",
       "      <th>...</th>\n",
       "      <th>event_type_description</th>\n",
       "      <th>event_type_main</th>\n",
       "      <th>organizers</th>\n",
       "      <th>region_name</th>\n",
       "      <th>city_name</th>\n",
       "      <th>city_id</th>\n",
       "      <th>venue_id</th>\n",
       "      <th>venue_name</th>\n",
       "      <th>venue_address</th>\n",
       "      <th>curs</th>\n",
       "    </tr>\n",
       "  </thead>\n",
       "  <tbody>\n",
       "    <tr>\n",
       "      <th>0</th>\n",
       "      <td>4359165</td>\n",
       "      <td>0002849b70a3ce2</td>\n",
       "      <td>2024-08-20</td>\n",
       "      <td>2024-08-20 16:08:03</td>\n",
       "      <td>169230</td>\n",
       "      <td>нет</td>\n",
       "      <td>16</td>\n",
       "      <td>rub</td>\n",
       "      <td>mobile</td>\n",
       "      <td>1521.94</td>\n",
       "      <td>...</td>\n",
       "      <td>спектакль</td>\n",
       "      <td>театр</td>\n",
       "      <td>№3322</td>\n",
       "      <td>Каменевский регион</td>\n",
       "      <td>Глиногорск</td>\n",
       "      <td>213.0</td>\n",
       "      <td>3972.0</td>\n",
       "      <td>Сценический центр \"Деталь\" Групп</td>\n",
       "      <td>алл. Машиностроителей, д. 19 стр. 6</td>\n",
       "      <td>18.6972</td>\n",
       "    </tr>\n",
       "    <tr>\n",
       "      <th>1</th>\n",
       "      <td>7965605</td>\n",
       "      <td>0005ca5e93f2cf4</td>\n",
       "      <td>2024-07-23</td>\n",
       "      <td>2024-07-23 18:36:24</td>\n",
       "      <td>237325</td>\n",
       "      <td>нет</td>\n",
       "      <td>0</td>\n",
       "      <td>rub</td>\n",
       "      <td>mobile</td>\n",
       "      <td>289.45</td>\n",
       "      <td>...</td>\n",
       "      <td>событие</td>\n",
       "      <td>выставки</td>\n",
       "      <td>№4850</td>\n",
       "      <td>Каменевский регион</td>\n",
       "      <td>Глиногорск</td>\n",
       "      <td>213.0</td>\n",
       "      <td>2941.0</td>\n",
       "      <td>Музыкальная школа для детей \"Аккаунт\" Лтд</td>\n",
       "      <td>алл. Шмидта, д. 9 стр. 4</td>\n",
       "      <td>18.3419</td>\n",
       "    </tr>\n",
       "    <tr>\n",
       "      <th>2</th>\n",
       "      <td>7292370</td>\n",
       "      <td>0005ca5e93f2cf4</td>\n",
       "      <td>2024-10-06</td>\n",
       "      <td>2024-10-06 13:56:02</td>\n",
       "      <td>578454</td>\n",
       "      <td>нет</td>\n",
       "      <td>0</td>\n",
       "      <td>rub</td>\n",
       "      <td>mobile</td>\n",
       "      <td>1258.57</td>\n",
       "      <td>...</td>\n",
       "      <td>цирковое шоу</td>\n",
       "      <td>другое</td>\n",
       "      <td>№1540</td>\n",
       "      <td>Каменевский регион</td>\n",
       "      <td>Глиногорск</td>\n",
       "      <td>213.0</td>\n",
       "      <td>4507.0</td>\n",
       "      <td>Училище искусств \"Нирвана\" Инк</td>\n",
       "      <td>алл. Юбилейная, д. 5/6</td>\n",
       "      <td>19.6475</td>\n",
       "    </tr>\n",
       "    <tr>\n",
       "      <th>3</th>\n",
       "      <td>1139875</td>\n",
       "      <td>000898990054619</td>\n",
       "      <td>2024-07-13</td>\n",
       "      <td>2024-07-13 19:40:48</td>\n",
       "      <td>387271</td>\n",
       "      <td>нет</td>\n",
       "      <td>0</td>\n",
       "      <td>rub</td>\n",
       "      <td>mobile</td>\n",
       "      <td>8.49</td>\n",
       "      <td>...</td>\n",
       "      <td>выставка</td>\n",
       "      <td>другое</td>\n",
       "      <td>№5049</td>\n",
       "      <td>Североярская область</td>\n",
       "      <td>Озёрск</td>\n",
       "      <td>2.0</td>\n",
       "      <td>3574.0</td>\n",
       "      <td>Театр альтернативного искусства \"Ода\" Лимитед</td>\n",
       "      <td>алл. Есенина, д. 243 к. 3/8</td>\n",
       "      <td>18.5010</td>\n",
       "    </tr>\n",
       "    <tr>\n",
       "      <th>4</th>\n",
       "      <td>972400</td>\n",
       "      <td>000898990054619</td>\n",
       "      <td>2024-10-04</td>\n",
       "      <td>2024-10-04 22:33:15</td>\n",
       "      <td>509453</td>\n",
       "      <td>нет</td>\n",
       "      <td>18</td>\n",
       "      <td>rub</td>\n",
       "      <td>mobile</td>\n",
       "      <td>1390.41</td>\n",
       "      <td>...</td>\n",
       "      <td>шоу</td>\n",
       "      <td>стендап</td>\n",
       "      <td>№832</td>\n",
       "      <td>Озернинский край</td>\n",
       "      <td>Родниковецк</td>\n",
       "      <td>240.0</td>\n",
       "      <td>1896.0</td>\n",
       "      <td>Театр кукол \"Огни\" Инкорпорэйтед</td>\n",
       "      <td>ш. Набережное, д. 595 стр. 8</td>\n",
       "      <td>19.6648</td>\n",
       "    </tr>\n",
       "  </tbody>\n",
       "</table>\n",
       "<p>5 rows × 25 columns</p>\n",
       "</div>"
      ],
      "text/plain": [
       "   order_id          user_id created_dt_msk      created_ts_msk  event_id  \\\n",
       "0   4359165  0002849b70a3ce2     2024-08-20 2024-08-20 16:08:03    169230   \n",
       "1   7965605  0005ca5e93f2cf4     2024-07-23 2024-07-23 18:36:24    237325   \n",
       "2   7292370  0005ca5e93f2cf4     2024-10-06 2024-10-06 13:56:02    578454   \n",
       "3   1139875  000898990054619     2024-07-13 2024-07-13 19:40:48    387271   \n",
       "4    972400  000898990054619     2024-10-04 2024-10-04 22:33:15    509453   \n",
       "\n",
       "  cinema_circuit  age_limit currency_code device_type_canonical  revenue  ...  \\\n",
       "0            нет         16           rub                mobile  1521.94  ...   \n",
       "1            нет          0           rub                mobile   289.45  ...   \n",
       "2            нет          0           rub                mobile  1258.57  ...   \n",
       "3            нет          0           rub                mobile     8.49  ...   \n",
       "4            нет         18           rub                mobile  1390.41  ...   \n",
       "\n",
       "  event_type_description  event_type_main  organizers           region_name  \\\n",
       "0              спектакль            театр       №3322    Каменевский регион   \n",
       "1                событие         выставки       №4850    Каменевский регион   \n",
       "2           цирковое шоу           другое       №1540    Каменевский регион   \n",
       "3               выставка           другое       №5049  Североярская область   \n",
       "4                    шоу          стендап        №832      Озернинский край   \n",
       "\n",
       "     city_name city_id venue_id  \\\n",
       "0   Глиногорск   213.0   3972.0   \n",
       "1   Глиногорск   213.0   2941.0   \n",
       "2   Глиногорск   213.0   4507.0   \n",
       "3       Озёрск     2.0   3574.0   \n",
       "4  Родниковецк   240.0   1896.0   \n",
       "\n",
       "                                      venue_name  \\\n",
       "0               Сценический центр \"Деталь\" Групп   \n",
       "1      Музыкальная школа для детей \"Аккаунт\" Лтд   \n",
       "2                 Училище искусств \"Нирвана\" Инк   \n",
       "3  Театр альтернативного искусства \"Ода\" Лимитед   \n",
       "4               Театр кукол \"Огни\" Инкорпорэйтед   \n",
       "\n",
       "                         venue_address     curs  \n",
       "0  алл. Машиностроителей, д. 19 стр. 6  18.6972  \n",
       "1             алл. Шмидта, д. 9 стр. 4  18.3419  \n",
       "2               алл. Юбилейная, д. 5/6  19.6475  \n",
       "3          алл. Есенина, д. 243 к. 3/8  18.5010  \n",
       "4         ш. Набережное, д. 595 стр. 8  19.6648  \n",
       "\n",
       "[5 rows x 25 columns]"
      ]
     },
     "execution_count": 26,
     "metadata": {},
     "output_type": "execute_result"
    }
   ],
   "source": [
    "df = df.merge(currency_df[['data','curs']], left_on = 'created_dt_msk', right_on = 'data', how = 'left')\n",
    "df = df.drop(columns='data')\n",
    "df.head()"
   ]
  },
  {
   "cell_type": "markdown",
   "id": "1ceca30a-d168-4aa8-8cee-f225467cf624",
   "metadata": {},
   "source": [
    "Добавим столбец `revenue_rub`, который будет содержать информацию о выручке с каждого заказа в пересчете на рубли."
   ]
  },
  {
   "cell_type": "code",
   "execution_count": 27,
   "id": "3d4a5838-0ed5-4bc2-bf77-a38acb599c8e",
   "metadata": {},
   "outputs": [],
   "source": [
    "df['revenue_rub'] = df.apply(\n",
    "    lambda row: row['revenue'] if 'currency_code' == 'rub' else (row['revenue'] * row['curs'])/100, axis=1)"
   ]
  },
  {
   "cell_type": "markdown",
   "id": "f146175c-33a1-4757-8fc8-9b74fe9f7c31",
   "metadata": {},
   "source": [
    "Добавим столбец с рассчетом выручки в рублях с продажи одного билета на мероприятие."
   ]
  },
  {
   "cell_type": "code",
   "execution_count": 28,
   "id": "e49acfd1-c7d8-48b8-988c-ba4d8671ed95",
   "metadata": {},
   "outputs": [],
   "source": [
    "df['one_ticket_revenue_rub'] = df['revenue_rub'] / df['tickets_count']"
   ]
  },
  {
   "cell_type": "markdown",
   "id": "36c59168-ca34-4502-9cca-2e738e29c88a",
   "metadata": {},
   "source": [
    "Дополнительно добавим столбцы, которые будут содержать информацию о месяце события и сезоне. "
   ]
  },
  {
   "cell_type": "code",
   "execution_count": 29,
   "id": "280b2a6c-93b7-4104-bf50-5416e8993663",
   "metadata": {},
   "outputs": [],
   "source": [
    "df['month'] = df['created_dt_msk'].dt.month"
   ]
  },
  {
   "cell_type": "code",
   "execution_count": 30,
   "id": "6f48aba4-c0eb-4840-80b3-156f316f0963",
   "metadata": {},
   "outputs": [],
   "source": [
    "def season (month):\n",
    "    if month in [3, 4, 5]:\n",
    "        return 'весна'\n",
    "    elif month in [6, 7, 8]:\n",
    "        return 'лето'\n",
    "    elif month in [9, 10, 11]:\n",
    "        return 'осень'\n",
    "    else: \n",
    "        return 'зима'\n",
    "\n",
    "df['season'] = df['month'].apply(season)"
   ]
  },
  {
   "cell_type": "markdown",
   "id": "d779f67a",
   "metadata": {},
   "source": [
    "<div class=\"alert alert-warning\">\n",
    "    <h2> Комментарий ревьюера v1 <a class=\"tocSkip\"> </h2>\n",
    "    \n",
    "<b>Небольшие замечания и рекомендации💡:</b> Новые столбцы созданы, но советую сразу вывести результаты. Это  и дополнительный самоконтроль для тебя и удобство понимания преобразований для пользователей."
   ]
  },
  {
   "cell_type": "markdown",
   "id": "42ad8e26-be1b-4a00-8f57-ea441768883b",
   "metadata": {},
   "source": [
    "Проверим распределение значений и наличие выбросов в столбцах `tickets_count` и `revenue_rub`."
   ]
  },
  {
   "cell_type": "code",
   "execution_count": 31,
   "id": "e0805596-b147-4273-a430-890965128d03",
   "metadata": {},
   "outputs": [
    {
     "data": {
      "text/plain": [
       "count    290567.000000\n",
       "mean          2.754315\n",
       "std           1.170605\n",
       "min           1.000000\n",
       "25%           2.000000\n",
       "50%           3.000000\n",
       "75%           4.000000\n",
       "max          57.000000\n",
       "Name: tickets_count, dtype: float64"
      ]
     },
     "execution_count": 31,
     "metadata": {},
     "output_type": "execute_result"
    }
   ],
   "source": [
    "df['tickets_count'].describe()"
   ]
  },
  {
   "cell_type": "code",
   "execution_count": 32,
   "id": "955f3cbe-dda0-4d84-bca9-a9863f52f003",
   "metadata": {},
   "outputs": [
    {
     "data": {
      "image/png": "[encoded data removed]",
      "text/plain": [
       "<Figure size 504x216 with 1 Axes>"
      ]
     },
     "metadata": {
      "needs_background": "light"
     },
     "output_type": "display_data"
    }
   ],
   "source": [
    "# Создаём контейнер графика matplotlib и задаём его размер\n",
    "plt.figure(figsize=(7, 3))\n",
    "n_bins = df['tickets_count'].max() - df['tickets_count'].min()\n",
    "\n",
    "# Строим гистограмму\n",
    "df['tickets_count'].hist(\n",
    "                bins=n_bins)\n",
    "\n",
    "# Настраиваем оформление графика\n",
    "plt.title('Распределение количества билетов в заказе')\n",
    "plt.xlabel('Количество билетов')\n",
    "plt.ylabel('Частота')\n",
    "\n",
    "# Выводим график\n",
    "plt.show()"
   ]
  },
  {
   "cell_type": "code",
   "execution_count": 33,
   "id": "f752b3d0-4614-44c2-9911-5d12e31039bb",
   "metadata": {},
   "outputs": [
    {
     "data": {
      "image/png": "[encoded data removed]",
      "text/plain": [
       "<Figure size 720x216 with 1 Axes>"
      ]
     },
     "metadata": {
      "needs_background": "light"
     },
     "output_type": "display_data"
    }
   ],
   "source": [
    "# Строим диаграмму размаха для наглядности\n",
    "plt.figure(figsize=(10, 3))\n",
    "\n",
    "boxplot = df.boxplot(column = 'tickets_count', \n",
    "                    vert = False)\n",
    "\n",
    "# Настраиваем внешний вид графика и выводим его на экран\n",
    "plt.title(f'Распределение количества билетов в заказе')\n",
    "plt.xlabel('Количество билетов в заказе')\n",
    "\n",
    "plt.show()"
   ]
  },
  {
   "cell_type": "markdown",
   "id": "8d8d0ca4-97c8-4b51-9f4f-4751e87a2259",
   "metadata": {},
   "source": [
    "Минимальное число билетов в заказе - 1, максимальное 57. 50% заказов содержат покупку от 2 до 4 билетов, медиана - 3. Распределение правостороннее, присутствуют выбросы больших значений."
   ]
  },
  {
   "cell_type": "code",
   "execution_count": 34,
   "id": "e8d8c808-e911-43c7-ae6f-a40aef77a228",
   "metadata": {},
   "outputs": [
    {
     "data": {
      "text/plain": [
       "count    290567.000000\n",
       "mean        120.307972\n",
       "std         238.483013\n",
       "min         -18.190936\n",
       "25%          22.572084\n",
       "50%          68.076833\n",
       "75%         155.520110\n",
       "max       15520.734397\n",
       "Name: revenue_rub, dtype: float64"
      ]
     },
     "execution_count": 34,
     "metadata": {},
     "output_type": "execute_result"
    }
   ],
   "source": [
    "df['revenue_rub'].describe()"
   ]
  },
  {
   "cell_type": "code",
   "execution_count": 35,
   "id": "33f30fa9-23ed-4a2e-a89d-0de479562259",
   "metadata": {},
   "outputs": [
    {
     "data": {
      "image/png": "[encoded data removed]",
      "text/plain": [
       "<Figure size 504x216 with 1 Axes>"
      ]
     },
     "metadata": {
      "needs_background": "light"
     },
     "output_type": "display_data"
    }
   ],
   "source": [
    "# Создаём контейнер графика matplotlib и задаём его размер\n",
    "plt.figure(figsize=(7, 3))\n",
    "\n",
    "# Строим гистограмму\n",
    "df['revenue_rub'].hist(\n",
    "                bins=50)\n",
    "\n",
    "# Настраиваем оформление графика\n",
    "plt.title('Распределение рублевой выручки')\n",
    "plt.xlabel('Выручка с заказа')\n",
    "plt.ylabel('Частота')\n",
    "\n",
    "# Выводим график\n",
    "plt.show()"
   ]
  },
  {
   "cell_type": "code",
   "execution_count": 36,
   "id": "22e39995-7733-40da-9ef8-94852f4ba569",
   "metadata": {},
   "outputs": [
    {
     "data": {
      "image/png": "[encoded data removed]",
      "text/plain": [
       "<Figure size 720x216 with 1 Axes>"
      ]
     },
     "metadata": {
      "needs_background": "light"
     },
     "output_type": "display_data"
    }
   ],
   "source": [
    "# Строим диаграмму размаха для наглядности\n",
    "plt.figure(figsize=(10, 3))\n",
    "\n",
    "boxplot = df.boxplot(column = 'revenue_rub', \n",
    "                    vert = False)\n",
    "\n",
    "# Настраиваем внешний вид графика и выводим его на экран\n",
    "plt.title(f'Распределение рублевой выручки')\n",
    "plt.xlabel('Выручка с заказа')\n",
    "\n",
    "plt.show()"
   ]
  },
  {
   "cell_type": "markdown",
   "id": "1256c6c4-eb7b-4984-ba74-b2be7ff5752e",
   "metadata": {},
   "source": [
    "Минимальное значение выручки отрицательное, -18.19 (ошибки в данных, или, возможно, возврат билетов), максимальное = 15 520.73. Медиана = 68. Распределение также правостороннее, присутствуют выбросы больших значений. Необходимо определить 99й процентиль и отсеять по нему максимально аномальные показатели, а также отсеять значения, которые меньше или равны нулю, т.к. для исследования нас будут интересовать заказы с положительным значением выручки."
   ]
  },
  {
   "cell_type": "code",
   "execution_count": 37,
   "id": "6bcb3660-3efd-4a50-b68c-2f0a19dad8b8",
   "metadata": {},
   "outputs": [],
   "source": [
    "q99 = df['revenue_rub'].quantile(0.99)"
   ]
  },
  {
   "cell_type": "code",
   "execution_count": 38,
   "id": "bcb7d9b8-da34-44aa-9570-8b190f3cc659",
   "metadata": {},
   "outputs": [
    {
     "data": {
      "text/plain": [
       "'Удалено строк - 8811 (3.029%)'"
      ]
     },
     "metadata": {},
     "output_type": "display_data"
    },
    {
     "name": "stdout",
     "output_type": "stream",
     "text": [
      "<class 'pandas.core.frame.DataFrame'>\n",
      "Int64Index: 281756 entries, 0 to 290566\n",
      "Data columns (total 29 columns):\n",
      " #   Column                  Non-Null Count   Dtype         \n",
      "---  ------                  --------------   -----         \n",
      " 0   order_id                281756 non-null  int64         \n",
      " 1   user_id                 281756 non-null  object        \n",
      " 2   created_dt_msk          281756 non-null  datetime64[ns]\n",
      " 3   created_ts_msk          281756 non-null  datetime64[ns]\n",
      " 4   event_id                281756 non-null  int64         \n",
      " 5   cinema_circuit          281756 non-null  object        \n",
      " 6   age_limit               281756 non-null  int8          \n",
      " 7   currency_code           281756 non-null  object        \n",
      " 8   device_type_canonical   281756 non-null  object        \n",
      " 9   revenue                 281756 non-null  float64       \n",
      " 10  service_name            281756 non-null  object        \n",
      " 11  tickets_count           281756 non-null  int8          \n",
      " 12  total                   281756 non-null  float64       \n",
      " 13  days_since_prev         260602 non-null  float32       \n",
      " 14  event_name              281756 non-null  object        \n",
      " 15  event_type_description  281756 non-null  object        \n",
      " 16  event_type_main         281756 non-null  object        \n",
      " 17  organizers              281756 non-null  object        \n",
      " 18  region_name             281756 non-null  object        \n",
      " 19  city_name               281756 non-null  object        \n",
      " 20  city_id                 281756 non-null  float64       \n",
      " 21  venue_id                281756 non-null  float64       \n",
      " 22  venue_name              281756 non-null  object        \n",
      " 23  venue_address           281756 non-null  object        \n",
      " 24  curs                    281756 non-null  float64       \n",
      " 25  revenue_rub             281756 non-null  float64       \n",
      " 26  one_ticket_revenue_rub  281756 non-null  float64       \n",
      " 27  month                   281756 non-null  int64         \n",
      " 28  season                  281756 non-null  object        \n",
      "dtypes: datetime64[ns](2), float32(1), float64(7), int64(3), int8(2), object(14)\n",
      "memory usage: 59.7+ MB\n"
     ]
    }
   ],
   "source": [
    "df_clean = df[(df['revenue_rub'] > 0) & (df['revenue_rub'] <= q99)]\n",
    "cleaned = df_lines - df_clean.shape[0] - deleted_lines - deleted\n",
    "cleaned_share = round(cleaned / df_lines * 100, 3)\n",
    "display(f'Удалено строк - {cleaned} ({cleaned_share}%)')\n",
    "df_clean.info()"
   ]
  },
  {
   "cell_type": "markdown",
   "id": "fb7c1dd7",
   "metadata": {},
   "source": [
    "<div class=\"alert alert-warning\">\n",
    "    <h2> Комментарий ревьюера v1 <a class=\"tocSkip\"> </h2>\n",
    "    \n",
    "<b>Небольшие замечания и рекомендации💡:</b> Проведена качественная работа с выбросами, однако советую кагда у нас изначально несколько признаков (2 валюты как у нас например) смотреть выбросы по каждой из них отдельно, это будет точнее, поскольку не будет учитывать как они соотносятся"
   ]
  },
  {
   "cell_type": "code",
   "execution_count": 39,
   "id": "412dd6d9-c8ae-4dc6-ab15-7adc87ff1ec5",
   "metadata": {},
   "outputs": [
    {
     "data": {
      "text/html": [
       "<div>\n",
       "<style scoped>\n",
       "    .dataframe tbody tr th:only-of-type {\n",
       "        vertical-align: middle;\n",
       "    }\n",
       "\n",
       "    .dataframe tbody tr th {\n",
       "        vertical-align: top;\n",
       "    }\n",
       "\n",
       "    .dataframe thead th {\n",
       "        text-align: right;\n",
       "    }\n",
       "</style>\n",
       "<table border=\"1\" class=\"dataframe\">\n",
       "  <thead>\n",
       "    <tr style=\"text-align: right;\">\n",
       "      <th></th>\n",
       "      <th>order_id</th>\n",
       "      <th>user_id</th>\n",
       "      <th>created_dt_msk</th>\n",
       "      <th>created_ts_msk</th>\n",
       "      <th>event_id</th>\n",
       "      <th>cinema_circuit</th>\n",
       "      <th>age_limit</th>\n",
       "      <th>currency_code</th>\n",
       "      <th>device_type_canonical</th>\n",
       "      <th>revenue</th>\n",
       "      <th>...</th>\n",
       "      <th>city_name</th>\n",
       "      <th>city_id</th>\n",
       "      <th>venue_id</th>\n",
       "      <th>venue_name</th>\n",
       "      <th>venue_address</th>\n",
       "      <th>curs</th>\n",
       "      <th>revenue_rub</th>\n",
       "      <th>one_ticket_revenue_rub</th>\n",
       "      <th>month</th>\n",
       "      <th>season</th>\n",
       "    </tr>\n",
       "  </thead>\n",
       "  <tbody>\n",
       "    <tr>\n",
       "      <th>0</th>\n",
       "      <td>4359165</td>\n",
       "      <td>0002849b70a3ce2</td>\n",
       "      <td>2024-08-20</td>\n",
       "      <td>2024-08-20 16:08:03</td>\n",
       "      <td>169230</td>\n",
       "      <td>нет</td>\n",
       "      <td>16</td>\n",
       "      <td>rub</td>\n",
       "      <td>mobile</td>\n",
       "      <td>1521.94</td>\n",
       "      <td>...</td>\n",
       "      <td>Глиногорск</td>\n",
       "      <td>213.0</td>\n",
       "      <td>3972.0</td>\n",
       "      <td>Сценический центр \"Деталь\" Групп</td>\n",
       "      <td>алл. Машиностроителей, д. 19 стр. 6</td>\n",
       "      <td>18.6972</td>\n",
       "      <td>284.560166</td>\n",
       "      <td>71.140041</td>\n",
       "      <td>8</td>\n",
       "      <td>лето</td>\n",
       "    </tr>\n",
       "    <tr>\n",
       "      <th>1</th>\n",
       "      <td>7965605</td>\n",
       "      <td>0005ca5e93f2cf4</td>\n",
       "      <td>2024-07-23</td>\n",
       "      <td>2024-07-23 18:36:24</td>\n",
       "      <td>237325</td>\n",
       "      <td>нет</td>\n",
       "      <td>0</td>\n",
       "      <td>rub</td>\n",
       "      <td>mobile</td>\n",
       "      <td>289.45</td>\n",
       "      <td>...</td>\n",
       "      <td>Глиногорск</td>\n",
       "      <td>213.0</td>\n",
       "      <td>2941.0</td>\n",
       "      <td>Музыкальная школа для детей \"Аккаунт\" Лтд</td>\n",
       "      <td>алл. Шмидта, д. 9 стр. 4</td>\n",
       "      <td>18.3419</td>\n",
       "      <td>53.090630</td>\n",
       "      <td>26.545315</td>\n",
       "      <td>7</td>\n",
       "      <td>лето</td>\n",
       "    </tr>\n",
       "    <tr>\n",
       "      <th>2</th>\n",
       "      <td>7292370</td>\n",
       "      <td>0005ca5e93f2cf4</td>\n",
       "      <td>2024-10-06</td>\n",
       "      <td>2024-10-06 13:56:02</td>\n",
       "      <td>578454</td>\n",
       "      <td>нет</td>\n",
       "      <td>0</td>\n",
       "      <td>rub</td>\n",
       "      <td>mobile</td>\n",
       "      <td>1258.57</td>\n",
       "      <td>...</td>\n",
       "      <td>Глиногорск</td>\n",
       "      <td>213.0</td>\n",
       "      <td>4507.0</td>\n",
       "      <td>Училище искусств \"Нирвана\" Инк</td>\n",
       "      <td>алл. Юбилейная, д. 5/6</td>\n",
       "      <td>19.6475</td>\n",
       "      <td>247.277541</td>\n",
       "      <td>61.819385</td>\n",
       "      <td>10</td>\n",
       "      <td>осень</td>\n",
       "    </tr>\n",
       "    <tr>\n",
       "      <th>3</th>\n",
       "      <td>1139875</td>\n",
       "      <td>000898990054619</td>\n",
       "      <td>2024-07-13</td>\n",
       "      <td>2024-07-13 19:40:48</td>\n",
       "      <td>387271</td>\n",
       "      <td>нет</td>\n",
       "      <td>0</td>\n",
       "      <td>rub</td>\n",
       "      <td>mobile</td>\n",
       "      <td>8.49</td>\n",
       "      <td>...</td>\n",
       "      <td>Озёрск</td>\n",
       "      <td>2.0</td>\n",
       "      <td>3574.0</td>\n",
       "      <td>Театр альтернативного искусства \"Ода\" Лимитед</td>\n",
       "      <td>алл. Есенина, д. 243 к. 3/8</td>\n",
       "      <td>18.5010</td>\n",
       "      <td>1.570735</td>\n",
       "      <td>0.785367</td>\n",
       "      <td>7</td>\n",
       "      <td>лето</td>\n",
       "    </tr>\n",
       "    <tr>\n",
       "      <th>4</th>\n",
       "      <td>972400</td>\n",
       "      <td>000898990054619</td>\n",
       "      <td>2024-10-04</td>\n",
       "      <td>2024-10-04 22:33:15</td>\n",
       "      <td>509453</td>\n",
       "      <td>нет</td>\n",
       "      <td>18</td>\n",
       "      <td>rub</td>\n",
       "      <td>mobile</td>\n",
       "      <td>1390.41</td>\n",
       "      <td>...</td>\n",
       "      <td>Родниковецк</td>\n",
       "      <td>240.0</td>\n",
       "      <td>1896.0</td>\n",
       "      <td>Театр кукол \"Огни\" Инкорпорэйтед</td>\n",
       "      <td>ш. Набережное, д. 595 стр. 8</td>\n",
       "      <td>19.6648</td>\n",
       "      <td>273.421346</td>\n",
       "      <td>91.140449</td>\n",
       "      <td>10</td>\n",
       "      <td>осень</td>\n",
       "    </tr>\n",
       "  </tbody>\n",
       "</table>\n",
       "<p>5 rows × 29 columns</p>\n",
       "</div>"
      ],
      "text/plain": [
       "   order_id          user_id created_dt_msk      created_ts_msk  event_id  \\\n",
       "0   4359165  0002849b70a3ce2     2024-08-20 2024-08-20 16:08:03    169230   \n",
       "1   7965605  0005ca5e93f2cf4     2024-07-23 2024-07-23 18:36:24    237325   \n",
       "2   7292370  0005ca5e93f2cf4     2024-10-06 2024-10-06 13:56:02    578454   \n",
       "3   1139875  000898990054619     2024-07-13 2024-07-13 19:40:48    387271   \n",
       "4    972400  000898990054619     2024-10-04 2024-10-04 22:33:15    509453   \n",
       "\n",
       "  cinema_circuit  age_limit currency_code device_type_canonical  revenue  ...  \\\n",
       "0            нет         16           rub                mobile  1521.94  ...   \n",
       "1            нет          0           rub                mobile   289.45  ...   \n",
       "2            нет          0           rub                mobile  1258.57  ...   \n",
       "3            нет          0           rub                mobile     8.49  ...   \n",
       "4            нет         18           rub                mobile  1390.41  ...   \n",
       "\n",
       "     city_name  city_id  venue_id  \\\n",
       "0   Глиногорск    213.0    3972.0   \n",
       "1   Глиногорск    213.0    2941.0   \n",
       "2   Глиногорск    213.0    4507.0   \n",
       "3       Озёрск      2.0    3574.0   \n",
       "4  Родниковецк    240.0    1896.0   \n",
       "\n",
       "                                      venue_name  \\\n",
       "0               Сценический центр \"Деталь\" Групп   \n",
       "1      Музыкальная школа для детей \"Аккаунт\" Лтд   \n",
       "2                 Училище искусств \"Нирвана\" Инк   \n",
       "3  Театр альтернативного искусства \"Ода\" Лимитед   \n",
       "4               Театр кукол \"Огни\" Инкорпорэйтед   \n",
       "\n",
       "                         venue_address     curs revenue_rub  \\\n",
       "0  алл. Машиностроителей, д. 19 стр. 6  18.6972  284.560166   \n",
       "1             алл. Шмидта, д. 9 стр. 4  18.3419   53.090630   \n",
       "2               алл. Юбилейная, д. 5/6  19.6475  247.277541   \n",
       "3          алл. Есенина, д. 243 к. 3/8  18.5010    1.570735   \n",
       "4         ш. Набережное, д. 595 стр. 8  19.6648  273.421346   \n",
       "\n",
       "  one_ticket_revenue_rub month season  \n",
       "0              71.140041     8   лето  \n",
       "1              26.545315     7   лето  \n",
       "2              61.819385    10  осень  \n",
       "3               0.785367     7   лето  \n",
       "4              91.140449    10  осень  \n",
       "\n",
       "[5 rows x 29 columns]"
      ]
     },
     "execution_count": 39,
     "metadata": {},
     "output_type": "execute_result"
    }
   ],
   "source": [
    "df_clean.head()"
   ]
  },
  {
   "cell_type": "markdown",
   "id": "6c5887d4-7098-411c-8473-1d6441706458",
   "metadata": {},
   "source": [
    "Датафрейм `df_clean` готов для проведения исследования данных.\n",
    "\n",
    "В ходе предобработки данных было сделано следующее:\n",
    "- Объединены датасеты с заказами и событиями в единый датафрейм;\n",
    "- Снижена размерность столбцов `city_id`, `venue_id`, `age_limit`, `tickets_count`, `days_since_prev`;\n",
    "- Изменен тип данных на datetime64 в столбцах  `created_dt_msk`, `created_ts_msk`;\n",
    "- Датафрейм проверен на пропуски и дубликаты, в результате чего было удалено 238 (0.082%) строк с пропусками и 44 (0.015%) неявных дубликата;\n",
    "- В датафрейм добавлены новые столбцы:\n",
    "  * `revenue_rub` - с выручкой в рублях\n",
    "  * `one_ticket_revenue_rub` - с выручкой с 1 билета\n",
    "  * `month` - информация о месяце совершения заказа\n",
    "  * `season` - с информацией о сезоне.\n",
    "- Проверены категориальные столбцы на содержание некорректных категорий, а также столбцы `revenue_rub` и `tickets_count` на содержание аномальных значений. По столбцу `revenue_rub` рассчитан 99й процентиль, по которому были отфильтрованы значения `df_clean`, нижняя граница фильтра установлена более 0. В результате было удалено 8811 строк, что составляет 3.029%.\n",
    "- Итоговый отфильтрованный датафрейм для проведения исследования содержит 29 столбцов и 281 756 строк.\n",
    "- --------\n"
   ]
  },
  {
   "cell_type": "markdown",
   "id": "8259df10",
   "metadata": {},
   "source": [
    "<div class=\"alert alert-success\">\n",
    "<h2> Комментарий ревьюера v1 <a class=\"tocSkip\"> </h2>\n",
    "\n",
    "<b>Все супер!👍:</b>Хочу отметь, что этап предобработки в целом выполнен последовательно и качественно, все основные шаги преобразований выполнены и даны понятные и лаконичные промежуточные выводы. Молодец, что показала несколько строк полученного датафрейма для понимания с чем ты начинаешь следующую главу"
   ]
  },
  {
   "cell_type": "markdown",
   "id": "eadfb005-020b-44e9-82d7-48e4707f7a1a",
   "metadata": {},
   "source": [
    "## 3. Исследовательский анализ данных\n",
    "\n",
    "### 3.1 Анализ распределения заказов по сегментам и их сезонных изменений"
   ]
  },
  {
   "cell_type": "markdown",
   "id": "2c3dda20-0df8-40ed-9975-75dd3696e8ad",
   "metadata": {},
   "source": [
    "Проверим ежемесячное количество заказов."
   ]
  },
  {
   "cell_type": "code",
   "execution_count": 40,
   "id": "46fa7a32-f354-40bb-983f-d404e3851e62",
   "metadata": {},
   "outputs": [
    {
     "data": {
      "text/plain": [
       "month\n",
       "6     31387\n",
       "7     38220\n",
       "8     43341\n",
       "9     69217\n",
       "10    99591\n",
       "Name: order_id, dtype: int64"
      ]
     },
     "execution_count": 40,
     "metadata": {},
     "output_type": "execute_result"
    }
   ],
   "source": [
    "order_per_month = df_clean.groupby('month')['order_id'].agg('count')\n",
    "order_per_month"
   ]
  },
  {
   "cell_type": "code",
   "execution_count": 41,
   "id": "546566ad-c1b2-4b2c-a3a8-969109be09aa",
   "metadata": {},
   "outputs": [
    {
     "data": {
      "image/png": "[encoded data removed]",
      "text/plain": [
       "<Figure size 720x360 with 1 Axes>"
      ]
     },
     "metadata": {
      "needs_background": "light"
     },
     "output_type": "display_data"
    }
   ],
   "source": [
    "# создаём фигуру и оси\n",
    "plt.figure(figsize=(10, 5)) \n",
    "\n",
    "order_per_month.index = order_per_month.index.astype(str)\n",
    "\n",
    "# строим график\n",
    "line = order_per_month.plot(kind='line',\n",
    "                            x='month',\n",
    "                            y='order_id',\n",
    "                            color='salmon',\n",
    "                            marker='o') \n",
    "plt.xticks(ticks=range(len(order_per_month)), \n",
    "           labels=order_per_month.index)\n",
    "# подписи значений\n",
    "for x, y in enumerate(order_per_month):\n",
    "    plt.text(x, y + 1000, str(y), ha='center', va='bottom', fontsize=9)\n",
    "    \n",
    "# настраиваем оформление графика\n",
    "plt.title('Ежемесячное количество заказов')\n",
    "plt.xlabel('Месяц')\n",
    "plt.ylabel('Количество заказов')\n",
    "# Добавляем сетку графика\n",
    "plt.grid(True, linestyle='--', alpha=0.6)\n",
    "\n",
    "# Выводим график\n",
    "plt.tight_layout()\n",
    "plt.show()"
   ]
  },
  {
   "cell_type": "markdown",
   "id": "d62d9cad-66da-4f19-b5f7-1d94b9892608",
   "metadata": {},
   "source": [
    "От июня к ноябрю 2024 года наблюдается стабильный рост числа заказов. Сравним распределение заказов летом и осенью по следующим категориям:\n",
    "- тип мероприятия,\n",
    "- тип устройства,\n",
    "- возрастные ограничения.\n",
    "\n",
    "Для этого соберем сводные таблицы и построим сравнительные диаграммы."
   ]
  },
  {
   "cell_type": "markdown",
   "id": "b4f403cc",
   "metadata": {},
   "source": [
    "<div class=\"alert alert-success\">\n",
    "<h2> Комментарий ревьюера v1 <a class=\"tocSkip\"> </h2>\n",
    "\n",
    "<b>Все супер!👍:</b>Общий тренд зафиксирован"
   ]
  },
  {
   "cell_type": "code",
   "execution_count": 42,
   "id": "f7f4e558-9366-4af2-8dfd-22a0202f7352",
   "metadata": {},
   "outputs": [
    {
     "data": {
      "text/html": [
       "<div>\n",
       "<style scoped>\n",
       "    .dataframe tbody tr th:only-of-type {\n",
       "        vertical-align: middle;\n",
       "    }\n",
       "\n",
       "    .dataframe tbody tr th {\n",
       "        vertical-align: top;\n",
       "    }\n",
       "\n",
       "    .dataframe thead th {\n",
       "        text-align: right;\n",
       "    }\n",
       "</style>\n",
       "<table border=\"1\" class=\"dataframe\">\n",
       "  <thead>\n",
       "    <tr style=\"text-align: right;\">\n",
       "      <th>season</th>\n",
       "      <th>лето</th>\n",
       "      <th>осень</th>\n",
       "      <th>summer_share</th>\n",
       "      <th>autumn_share</th>\n",
       "    </tr>\n",
       "    <tr>\n",
       "      <th>event_type_main</th>\n",
       "      <th></th>\n",
       "      <th></th>\n",
       "      <th></th>\n",
       "      <th></th>\n",
       "    </tr>\n",
       "  </thead>\n",
       "  <tbody>\n",
       "    <tr>\n",
       "      <th>выставки</th>\n",
       "      <td>2407</td>\n",
       "      <td>2403</td>\n",
       "      <td>2.1</td>\n",
       "      <td>1.4</td>\n",
       "    </tr>\n",
       "    <tr>\n",
       "      <th>другое</th>\n",
       "      <td>28627</td>\n",
       "      <td>32722</td>\n",
       "      <td>25.3</td>\n",
       "      <td>19.4</td>\n",
       "    </tr>\n",
       "    <tr>\n",
       "      <th>концерты</th>\n",
       "      <td>48598</td>\n",
       "      <td>63295</td>\n",
       "      <td>43.0</td>\n",
       "      <td>37.5</td>\n",
       "    </tr>\n",
       "    <tr>\n",
       "      <th>спорт</th>\n",
       "      <td>2766</td>\n",
       "      <td>18777</td>\n",
       "      <td>2.4</td>\n",
       "      <td>11.1</td>\n",
       "    </tr>\n",
       "    <tr>\n",
       "      <th>стендап</th>\n",
       "      <td>6381</td>\n",
       "      <td>6944</td>\n",
       "      <td>5.6</td>\n",
       "      <td>4.1</td>\n",
       "    </tr>\n",
       "    <tr>\n",
       "      <th>театр</th>\n",
       "      <td>23894</td>\n",
       "      <td>42955</td>\n",
       "      <td>21.2</td>\n",
       "      <td>25.4</td>\n",
       "    </tr>\n",
       "    <tr>\n",
       "      <th>ёлки</th>\n",
       "      <td>275</td>\n",
       "      <td>1712</td>\n",
       "      <td>0.2</td>\n",
       "      <td>1.0</td>\n",
       "    </tr>\n",
       "  </tbody>\n",
       "</table>\n",
       "</div>"
      ],
      "text/plain": [
       "season            лето  осень  summer_share  autumn_share\n",
       "event_type_main                                          \n",
       "выставки          2407   2403           2.1           1.4\n",
       "другое           28627  32722          25.3          19.4\n",
       "концерты         48598  63295          43.0          37.5\n",
       "спорт             2766  18777           2.4          11.1\n",
       "стендап           6381   6944           5.6           4.1\n",
       "театр            23894  42955          21.2          25.4\n",
       "ёлки               275   1712           0.2           1.0"
      ]
     },
     "execution_count": 42,
     "metadata": {},
     "output_type": "execute_result"
    }
   ],
   "source": [
    "order_per_type = pd.pivot_table(df_clean, \n",
    "                                index = 'event_type_main',\n",
    "                                columns = 'season',\n",
    "                                values = 'order_id',\n",
    "                                aggfunc = 'count')\n",
    "order_per_type['summer_share'] = order_per_type['лето'] / order_per_type['лето'].sum()*100\n",
    "order_per_type['autumn_share'] = order_per_type['осень'] / order_per_type['осень'].sum()*100\n",
    "order_per_type.round(1)"
   ]
  },
  {
   "cell_type": "code",
   "execution_count": 43,
   "id": "ef1900a2-c8ae-403e-a618-8eb99dfcb125",
   "metadata": {
    "scrolled": true
   },
   "outputs": [
    {
     "data": {
      "image/png": "[encoded data removed]",
      "text/plain": [
       "<Figure size 720x360 with 1 Axes>"
      ]
     },
     "metadata": {
      "needs_background": "light"
     },
     "output_type": "display_data"
    }
   ],
   "source": [
    "labels = order_per_type.index\n",
    "x = np.arange(len(labels))\n",
    "width = 0.35\n",
    "fig, ax = plt.subplots(figsize=(10, 5))\n",
    "\n",
    "bars1 = ax.bar(x - width/2, order_per_type['summer_share'], width, label='Лето', color='lightgreen')\n",
    "bars2 = ax.bar(x + width/2, order_per_type['autumn_share'], width, label='Осень', color='gold')\n",
    "\n",
    "ax.set_title('Распределение долей заказов по типам мероприятий в зависимости от сезона')\n",
    "ax.set_ylabel('Доля заказов (%)')\n",
    "ax.set_xticks(x)\n",
    "ax.set_xticklabels(labels)\n",
    "ax.legend()\n",
    "ax.grid(True, axis='y', linestyle='--', alpha=0.5)\n",
    "\n",
    "# значения на столбиках\n",
    "for bar in bars1 + bars2:\n",
    "    height = bar.get_height()\n",
    "    ax.annotate(f'{height:.1f}%',\n",
    "                xy=(bar.get_x() + bar.get_width() / 2, height),\n",
    "                xytext=(0, 3),\n",
    "                textcoords=\"offset points\",\n",
    "                ha='center', va='bottom', fontsize=8)\n",
    "\n",
    "plt.tight_layout()\n",
    "plt.show()"
   ]
  },
  {
   "cell_type": "markdown",
   "id": "60ecaee9-f27b-42a8-8064-c871e3692fa2",
   "metadata": {},
   "source": [
    "Как видно из графика, наибольшую долю заказов составляют билеты в таких категориях мероприятий как \"Концерты\", \"Театр\" и \"Другое\". Доли в категории \"Выставки\", \"Другое\", \"Концерты\" и \"Стендап\" в осенние месяцы снизились, по сравнению с летом. А заказы в категориях \"Спорт\", \"Театр\" и \"Ёлки\", наоборот, выросли. Наибольший рост (более, чем в 4 раза) показала категория \"Спорт\", летом число заказов на спортивные мероприятия составляло 2.4%, а осенью - 11.1%.\n",
    "\n",
    "Сравним распределение заказов по типам устройства."
   ]
  },
  {
   "cell_type": "markdown",
   "id": "77506312",
   "metadata": {},
   "source": [
    "<div class=\"alert alert-warning\">\n",
    "    <h2> Комментарий ревьюера v1 <a class=\"tocSkip\"> </h2>\n",
    "    \n",
    "<b>Небольшие замечания и рекомендации💡:</b>Будет полузно сразу порассуждать о причинах"
   ]
  },
  {
   "cell_type": "code",
   "execution_count": 44,
   "id": "0c18aed2-0048-4536-a3aa-26457a344660",
   "metadata": {},
   "outputs": [
    {
     "data": {
      "image/png": "[encoded data removed]",
      "text/plain": [
       "<Figure size 720x288 with 2 Axes>"
      ]
     },
     "metadata": {},
     "output_type": "display_data"
    }
   ],
   "source": [
    "order_per_device = pd.pivot_table(df_clean, \n",
    "                                index = 'device_type_canonical',\n",
    "                                columns = 'season',\n",
    "                                values = 'order_id',\n",
    "                                aggfunc = 'count')\n",
    "summer = order_per_device['лето']\n",
    "autumn = order_per_device['осень']\n",
    "\n",
    "fig, axes = plt.subplots(1, 2, figsize = (10, 4))\n",
    "\n",
    "axes[0].pie(summer, labels = summer.index, autopct = '%1.1f%%', startangle = 90)\n",
    "axes[0].set_title('Лето')\n",
    "\n",
    "axes[1].pie(autumn, labels = autumn.index, autopct = '%1.1f%%', startangle = 90)\n",
    "axes[1].set_title('Осень')\n",
    "\n",
    "plt.suptitle('Распределение доли заказов по типу устройства в зависимости от сезона')\n",
    "plt.tight_layout()\n",
    "plt.show()"
   ]
  },
  {
   "cell_type": "markdown",
   "id": "0749dbb2-b28b-4926-a533-aa7f7d88bdff",
   "metadata": {},
   "source": [
    "Изменения в доле заказов, произведенных с различных устройств между сезонами незначительные, но присутствуют. Осенью доля заказов, сделанных со стационарного компьютера, выросла на 1,5% и составила 20.4%. Доля заказов с мобильных устройств, наоборот, снизилась по сравнению с летом и составила 79.6%.\n",
    "\n",
    "Сравним мероприятия по возрастным ограничениям."
   ]
  },
  {
   "cell_type": "markdown",
   "id": "52dd682d",
   "metadata": {},
   "source": [
    "<div class=\"alert alert-warning\">\n",
    "    <h2> Комментарий ревьюера v1 <a class=\"tocSkip\"> </h2>\n",
    "    \n",
    "<b>Небольшие замечания и рекомендации💡:</b>Визуализация здесь и ниже сделана допустимо, однако возможно будет сложна для сравнения и восприятия результатов. Лучше сделать по аналогии с типами мероприятий, это и поддержит стилистику проекта и поможет легко соотносить категории за счет расположения столбцов рядом"
   ]
  },
  {
   "cell_type": "code",
   "execution_count": 45,
   "id": "e0d206d4-c529-4755-8853-b21dcc1e72f0",
   "metadata": {},
   "outputs": [
    {
     "data": {
      "image/png": "[encoded data removed]",
      "text/plain": [
       "<Figure size 720x288 with 2 Axes>"
      ]
     },
     "metadata": {},
     "output_type": "display_data"
    }
   ],
   "source": [
    "order_per_age = pd.pivot_table(df_clean, \n",
    "                                index = 'age_limit',\n",
    "                                columns = 'season',\n",
    "                                values = 'order_id',\n",
    "                                aggfunc = 'count')\n",
    "summer_age = order_per_age['лето']\n",
    "autumn_age = order_per_age['осень']\n",
    "\n",
    "fig, axes = plt.subplots(1, 2, figsize = (10, 4))\n",
    "\n",
    "axes[0].pie(summer_age, labels = summer_age.index, autopct = '%1.1f%%', startangle = 90, colors= ['blue','skyblue','cyan','purple','grey'])\n",
    "axes[0].set_title('Лето')\n",
    "\n",
    "axes[1].pie(autumn_age, labels = autumn_age.index, autopct = '%1.1f%%', startangle = 90, colors= ['blue','skyblue','cyan','purple','grey'])\n",
    "axes[1].set_title('Осень')\n",
    "\n",
    "plt.suptitle('Распределение доли заказов по возрастным ограничениям мероприятий в зависимости от сезона')\n",
    "plt.tight_layout()\n",
    "plt.show()"
   ]
  },
  {
   "cell_type": "markdown",
   "id": "4de24de9-22d4-40a6-a40a-0d8deee30105",
   "metadata": {},
   "source": [
    "К осени выросла доля заказов на мероприятия без возрастных ограничений (с 18.5% до 23.3%), а также доля на мероприятия с ограничением 12 лет (с 20.5% до 22.1%). По остальным возрастным лимитам наблюдается снижение к осени по сравнению с летом.\n",
    "\n",
    "Рассмотрим изменение выручки с продажи одного билета в зависимости от типа мероприятия летом и осенью. "
   ]
  },
  {
   "cell_type": "code",
   "execution_count": 46,
   "id": "afdd0988-cacf-49a3-91e8-4bc00ac3ad94",
   "metadata": {},
   "outputs": [
    {
     "data": {
      "text/html": [
       "<div>\n",
       "<style scoped>\n",
       "    .dataframe tbody tr th:only-of-type {\n",
       "        vertical-align: middle;\n",
       "    }\n",
       "\n",
       "    .dataframe tbody tr th {\n",
       "        vertical-align: top;\n",
       "    }\n",
       "\n",
       "    .dataframe thead th {\n",
       "        text-align: right;\n",
       "    }\n",
       "</style>\n",
       "<table border=\"1\" class=\"dataframe\">\n",
       "  <thead>\n",
       "    <tr style=\"text-align: right;\">\n",
       "      <th>season</th>\n",
       "      <th>лето</th>\n",
       "      <th>осень</th>\n",
       "      <th>share_changes</th>\n",
       "    </tr>\n",
       "    <tr>\n",
       "      <th>event_type_main</th>\n",
       "      <th></th>\n",
       "      <th></th>\n",
       "      <th></th>\n",
       "    </tr>\n",
       "  </thead>\n",
       "  <tbody>\n",
       "    <tr>\n",
       "      <th>выставки</th>\n",
       "      <td>16.22</td>\n",
       "      <td>18.08</td>\n",
       "      <td>10.30</td>\n",
       "    </tr>\n",
       "    <tr>\n",
       "      <th>другое</th>\n",
       "      <td>17.65</td>\n",
       "      <td>16.05</td>\n",
       "      <td>-9.97</td>\n",
       "    </tr>\n",
       "    <tr>\n",
       "      <th>концерты</th>\n",
       "      <td>61.80</td>\n",
       "      <td>53.96</td>\n",
       "      <td>-14.53</td>\n",
       "    </tr>\n",
       "    <tr>\n",
       "      <th>спорт</th>\n",
       "      <td>11.49</td>\n",
       "      <td>10.50</td>\n",
       "      <td>-9.34</td>\n",
       "    </tr>\n",
       "    <tr>\n",
       "      <th>стендап</th>\n",
       "      <td>41.38</td>\n",
       "      <td>45.30</td>\n",
       "      <td>8.64</td>\n",
       "    </tr>\n",
       "    <tr>\n",
       "      <th>театр</th>\n",
       "      <td>41.60</td>\n",
       "      <td>35.05</td>\n",
       "      <td>-18.69</td>\n",
       "    </tr>\n",
       "    <tr>\n",
       "      <th>ёлки</th>\n",
       "      <td>51.24</td>\n",
       "      <td>46.12</td>\n",
       "      <td>-11.10</td>\n",
       "    </tr>\n",
       "  </tbody>\n",
       "</table>\n",
       "</div>"
      ],
      "text/plain": [
       "season            лето  осень  share_changes\n",
       "event_type_main                             \n",
       "выставки         16.22  18.08          10.30\n",
       "другое           17.65  16.05          -9.97\n",
       "концерты         61.80  53.96         -14.53\n",
       "спорт            11.49  10.50          -9.34\n",
       "стендап          41.38  45.30           8.64\n",
       "театр            41.60  35.05         -18.69\n",
       "ёлки             51.24  46.12         -11.10"
      ]
     },
     "execution_count": 46,
     "metadata": {},
     "output_type": "execute_result"
    }
   ],
   "source": [
    "rev_per_ticket = pd.pivot_table(df_clean, \n",
    "                                index = 'event_type_main',\n",
    "                                columns = 'season',\n",
    "                                values = 'one_ticket_revenue_rub',\n",
    "                                aggfunc = 'mean')\n",
    "rev_per_ticket['share_changes'] = (rev_per_ticket['осень'] - rev_per_ticket['лето']) / rev_per_ticket['осень'] * 100\n",
    "rev_per_ticket.round(2)"
   ]
  },
  {
   "cell_type": "code",
   "execution_count": 47,
   "id": "24c567be-f8b5-40e7-a1f4-0c89a3edcbad",
   "metadata": {},
   "outputs": [
    {
     "data": {
      "image/png": "[encoded data removed]",
      "text/plain": [
       "<Figure size 720x360 with 1 Axes>"
      ]
     },
     "metadata": {
      "needs_background": "light"
     },
     "output_type": "display_data"
    }
   ],
   "source": [
    "share_changes = rev_per_ticket.reset_index()\n",
    "\n",
    "fig, ax = plt.subplots(figsize=(10, 5))\n",
    "x = share_changes['event_type_main']\n",
    "y = share_changes['share_changes']\n",
    "colors = ['lightgreen' if value >=0 else 'lightcoral' for value in y]\n",
    "bars = ax.bar(x, y, color = colors)\n",
    "\n",
    "ax.axhline(0, color='gray', linewidth=1)\n",
    "\n",
    "ax.set_title('Изменение средней выручки с одного билета по типам мероприятий (от лета к осени), %')\n",
    "ax.set_xlabel('Тип мероприятия')\n",
    "ax.set_ylabel('% изменения средней выручки с 1 билета')\n",
    "ax.set_xticks(range(len(x)))\n",
    "ax.set_xticklabels(x, rotation=0)   \n",
    "ax.grid(True, axis='y', alpha=0.5)\n",
    "plt.show() "
   ]
  },
  {
   "cell_type": "markdown",
   "id": "b2c344b1-27ba-4fa9-9bdc-8d2dd92f15e7",
   "metadata": {},
   "source": [
    "Средняя выручка с 1 билета от лета к осень выросла лишь по таким типам мероприятий, как выставки (10.3% рост) и стендап (8.64% рост). По остальным типам мероприятий средняя выручка с 1 билета, наоборот, упала. Падение составило от 9.34% (по спортивным мероприятиям) до 18.69% (театр)."
   ]
  },
  {
   "cell_type": "markdown",
   "id": "8e380a0f",
   "metadata": {},
   "source": [
    "<div class=\"alert alert-success\">\n",
    "<h2> Комментарий ревьюера v1 <a class=\"tocSkip\"> </h2>\n",
    "\n",
    "<b>Все супер!👍:</b>Тут все сделано идеально)"
   ]
  },
  {
   "cell_type": "markdown",
   "id": "5c1d3908-eb10-40c2-89ba-8fd0a50fa736",
   "metadata": {},
   "source": [
    "Таким образом, анализ распределения заказов по сегментам и их сезонных изменений показал следующие особенности:\n",
    " - с июня по ноябрь наблюдается значительный рост числа заказов ежемесячно;\n",
    " - категории, лидирующие по доле заказов как летом, так и осенью - концерты, театр и другое. При этом доля заказов на концерты и другие мероприятия снижается от лета к осень, а доля заказов на театральные постановки - растет;\n",
    " - заметен резкий рост покупки билетов на спортивные мероприятия от лета к осени (с 2.4% до 11.1%);\n",
    " - отмечены небольшие сезонные изменения заказов с различных типов устройств, доля заказов со стационарного компьютера выросла на 1.5%, а доля заказов с мобильных устройств, наоборот, снизилась от лета к осени.\n",
    " - также к осени наблюдается рост доли заказов на мероприятия без возрастных ограничений (с 18.5% до 23.3%) и на мероприятия с ограничением 12 лет (с 20.5% до 22.1%).\n",
    " - средняя выручка с 1 билета демонстрирует рост только по таким типам мероприятий как выставки и стендап, по всем остальным мероприятиям заметно снижение средней выручки с 1 билета (падение от 9.34% по спорту до 18.69% по театральным постановкам."
   ]
  },
  {
   "cell_type": "markdown",
   "id": "addc6713",
   "metadata": {},
   "source": [
    "<div class=\"alert alert-success\">\n",
    "<h2> Комментарий ревьюера v1 <a class=\"tocSkip\"> </h2>\n",
    "\n",
    "<b>Все супер!👍:</b>По выводам все вполне логично интерпретировано, мы действительно наблюдаем влияние сезонных(погодных) факторов и увеличение числа семейных мероприятий"
   ]
  },
  {
   "cell_type": "markdown",
   "id": "47497402-0b6e-4ad9-a983-19b5e75d02a3",
   "metadata": {},
   "source": [
    "### 3.2. Осенняя активность пользователей"
   ]
  },
  {
   "cell_type": "markdown",
   "id": "14ca2f69-cc78-44be-af2d-55070cfdf020",
   "metadata": {},
   "source": [
    "Проанализируем активность пользователей осенью 2024 года по дням. Рассчитаем количество заказов, среднюю выручку с 1 билета и количество уникальных пользователей."
   ]
  },
  {
   "cell_type": "code",
   "execution_count": 48,
   "id": "4dd9b703-f7bd-4ff8-b91b-72b7fb995a9c",
   "metadata": {},
   "outputs": [
    {
     "data": {
      "text/html": [
       "<div>\n",
       "<style scoped>\n",
       "    .dataframe tbody tr th:only-of-type {\n",
       "        vertical-align: middle;\n",
       "    }\n",
       "\n",
       "    .dataframe tbody tr th {\n",
       "        vertical-align: top;\n",
       "    }\n",
       "\n",
       "    .dataframe thead th {\n",
       "        text-align: right;\n",
       "    }\n",
       "</style>\n",
       "<table border=\"1\" class=\"dataframe\">\n",
       "  <thead>\n",
       "    <tr style=\"text-align: right;\">\n",
       "      <th></th>\n",
       "      <th>count_orders</th>\n",
       "      <th>dau</th>\n",
       "      <th>one_ticket_revenue</th>\n",
       "      <th>mean_orders_per_user</th>\n",
       "    </tr>\n",
       "    <tr>\n",
       "      <th>created_dt_msk</th>\n",
       "      <th></th>\n",
       "      <th></th>\n",
       "      <th></th>\n",
       "      <th></th>\n",
       "    </tr>\n",
       "  </thead>\n",
       "  <tbody>\n",
       "    <tr>\n",
       "      <th>2024-09-01</th>\n",
       "      <td>1333</td>\n",
       "      <td>560</td>\n",
       "      <td>40.04</td>\n",
       "      <td>2.38</td>\n",
       "    </tr>\n",
       "    <tr>\n",
       "      <th>2024-09-02</th>\n",
       "      <td>1371</td>\n",
       "      <td>571</td>\n",
       "      <td>38.89</td>\n",
       "      <td>2.40</td>\n",
       "    </tr>\n",
       "    <tr>\n",
       "      <th>2024-09-03</th>\n",
       "      <td>5090</td>\n",
       "      <td>776</td>\n",
       "      <td>15.80</td>\n",
       "      <td>6.56</td>\n",
       "    </tr>\n",
       "    <tr>\n",
       "      <th>2024-09-04</th>\n",
       "      <td>1759</td>\n",
       "      <td>685</td>\n",
       "      <td>36.72</td>\n",
       "      <td>2.57</td>\n",
       "    </tr>\n",
       "    <tr>\n",
       "      <th>2024-09-05</th>\n",
       "      <td>1939</td>\n",
       "      <td>739</td>\n",
       "      <td>38.00</td>\n",
       "      <td>2.62</td>\n",
       "    </tr>\n",
       "    <tr>\n",
       "      <th>...</th>\n",
       "      <td>...</td>\n",
       "      <td>...</td>\n",
       "      <td>...</td>\n",
       "      <td>...</td>\n",
       "    </tr>\n",
       "    <tr>\n",
       "      <th>2024-10-27</th>\n",
       "      <td>2853</td>\n",
       "      <td>1033</td>\n",
       "      <td>37.98</td>\n",
       "      <td>2.76</td>\n",
       "    </tr>\n",
       "    <tr>\n",
       "      <th>2024-10-28</th>\n",
       "      <td>2849</td>\n",
       "      <td>987</td>\n",
       "      <td>34.85</td>\n",
       "      <td>2.89</td>\n",
       "    </tr>\n",
       "    <tr>\n",
       "      <th>2024-10-29</th>\n",
       "      <td>2879</td>\n",
       "      <td>1002</td>\n",
       "      <td>38.18</td>\n",
       "      <td>2.87</td>\n",
       "    </tr>\n",
       "    <tr>\n",
       "      <th>2024-10-30</th>\n",
       "      <td>2946</td>\n",
       "      <td>1046</td>\n",
       "      <td>38.21</td>\n",
       "      <td>2.82</td>\n",
       "    </tr>\n",
       "    <tr>\n",
       "      <th>2024-10-31</th>\n",
       "      <td>5969</td>\n",
       "      <td>1275</td>\n",
       "      <td>30.32</td>\n",
       "      <td>4.68</td>\n",
       "    </tr>\n",
       "  </tbody>\n",
       "</table>\n",
       "<p>61 rows × 4 columns</p>\n",
       "</div>"
      ],
      "text/plain": [
       "                count_orders   dau  one_ticket_revenue  mean_orders_per_user\n",
       "created_dt_msk                                                              \n",
       "2024-09-01              1333   560               40.04                  2.38\n",
       "2024-09-02              1371   571               38.89                  2.40\n",
       "2024-09-03              5090   776               15.80                  6.56\n",
       "2024-09-04              1759   685               36.72                  2.57\n",
       "2024-09-05              1939   739               38.00                  2.62\n",
       "...                      ...   ...                 ...                   ...\n",
       "2024-10-27              2853  1033               37.98                  2.76\n",
       "2024-10-28              2849   987               34.85                  2.89\n",
       "2024-10-29              2879  1002               38.18                  2.87\n",
       "2024-10-30              2946  1046               38.21                  2.82\n",
       "2024-10-31              5969  1275               30.32                  4.68\n",
       "\n",
       "[61 rows x 4 columns]"
      ]
     },
     "metadata": {},
     "output_type": "display_data"
    }
   ],
   "source": [
    "df_autumn = df_clean[(df_clean['season'] == 'осень')]\n",
    "autumn_days = df_autumn.groupby('created_dt_msk').agg({'order_id':'count',\n",
    "                                                     'user_id':'nunique',\n",
    "                                                      'one_ticket_revenue_rub':'mean'})\n",
    "autumn_days.columns = ['count_orders', 'dau', 'one_ticket_revenue']\n",
    "autumn_days['mean_orders_per_user'] = autumn_days['count_orders'] / autumn_days['dau']\n",
    "autumn_days = autumn_days.round(2)\n",
    "display(autumn_days)"
   ]
  },
  {
   "cell_type": "code",
   "execution_count": 49,
   "id": "7bf1553a-b944-427a-950c-a14eb9ebecaa",
   "metadata": {},
   "outputs": [
    {
     "name": "stderr",
     "output_type": "stream",
     "text": [
      "/tmp/ipykernel_211/1567327734.py:31: UserWarning: FixedFormatter should only be used together with FixedLocator\n",
      "  ax1.set_xticklabels(ax1.get_xticklabels(), rotation=45, fontsize=7)\n"
     ]
    },
    {
     "data": {
      "image/png": "[encoded data removed]",
      "text/plain": [
       "<Figure size 864x432 with 2 Axes>"
      ]
     },
     "metadata": {
      "needs_background": "light"
     },
     "output_type": "display_data"
    }
   ],
   "source": [
    "# создаём фигуру и оси для сравнения ежедневного количества заказов и числа уникальных пользователей\n",
    "fig, ax1 = plt.subplots(figsize=(12, 6))\n",
    "\n",
    "# первая ось Y - линейный график по заказам\n",
    "line_1 = ax1.plot(autumn_days.index,\n",
    "    autumn_days['count_orders'],\n",
    "    color='steelblue',\n",
    "    marker='o',\n",
    "    linewidth=2,\n",
    "    label='Количество заказов')\n",
    "\n",
    "ax1.set_xlabel('Дата')\n",
    "ax1.set_ylabel('Количество заказов', color='darkblue')\n",
    "ax1.set_title('Ежедневное количество заказов и число уникальных покупателей')\n",
    "ax1.grid(True, linestyle='--', alpha=0.6)\n",
    "    \n",
    "# вторая ось Y — линейный график по dau\n",
    "ax2 = ax1.twinx()\n",
    "line_2 = ax2.plot(autumn_days.index,\n",
    "    autumn_days['dau'],\n",
    "    color='salmon',\n",
    "    marker='^',\n",
    "    linewidth=2,\n",
    "    label='Количество уникальных покупателей')\n",
    "\n",
    "ax2.set_ylabel('Количество уникальных покупателей', color='darkred')\n",
    "\n",
    "# Задаем частоту отображения дат (каждые 2 дня) и их вид\n",
    "plt.gca().xaxis.set_major_locator(mdates.DayLocator(interval=2))\n",
    "ax1.xaxis.set_major_formatter(mdates.DateFormatter('%d-%m'))\n",
    "ax1.set_xticklabels(ax1.get_xticklabels(), rotation=45, fontsize=7)\n",
    "\n",
    "# Общая легенда\n",
    "fig.legend(loc='upper left', bbox_to_anchor=(0.1, 0.95))\n",
    "\n",
    "plt.tight_layout()\n",
    "plt.show()"
   ]
  },
  {
   "cell_type": "markdown",
   "id": "5fa1966a-c827-47cc-bfe5-235e26dc88f0",
   "metadata": {},
   "source": [
    "На графиках виден рост числа заказов от начала сентября до конца октября. Присутствуют всплески числа заказов в начале и в конце месяца, что может быть связано с проводимыми в это время рекламными акциями или открытием продаж на какие-то популярные мероприятия. Количество уникальных покупателей также растет на протяжении двух осенних месяцев, однако по данной метрике нет аналогичных всплесков, как у количества заказов, следовательно число заказов 3.09, 1.10 и 31.10 не связано с активным привлечением новых пользователей."
   ]
  },
  {
   "cell_type": "code",
   "execution_count": 50,
   "id": "d9327015-1dbc-4024-8999-5e50546ddb01",
   "metadata": {},
   "outputs": [
    {
     "name": "stderr",
     "output_type": "stream",
     "text": [
      "/tmp/ipykernel_211/699881688.py:31: UserWarning: FixedFormatter should only be used together with FixedLocator\n",
      "  ax1.set_xticklabels(ax1.get_xticklabels(), rotation=45, fontsize=7)\n"
     ]
    },
    {
     "data": {
      "image/png": "[encoded data removed]",
      "text/plain": [
       "<Figure size 864x432 with 2 Axes>"
      ]
     },
     "metadata": {
      "needs_background": "light"
     },
     "output_type": "display_data"
    }
   ],
   "source": [
    "# создаём фигуру и оси для сравнения средней выручки с одного билета и среднего числа заказов на 1 пользователя\n",
    "fig, ax1 = plt.subplots(figsize=(12, 6))\n",
    "\n",
    "# первая ось Y - линейный график по заказам\n",
    "line_1 = ax1.plot(autumn_days.index,\n",
    "    autumn_days['one_ticket_revenue'],\n",
    "    color='green',\n",
    "    marker='o',\n",
    "    linewidth=2,\n",
    "    label='Средняя выручка c 1 билета')\n",
    "\n",
    "ax1.set_xlabel('Дата')\n",
    "ax1.set_ylabel('Средняя выручка с 1 билета', color='darkgreen')\n",
    "ax1.set_title('Средняя выручка с 1 билета и среднее число заказов на 1 пользователя по дням')\n",
    "ax1.grid(True, linestyle='--', alpha=0.6)\n",
    "    \n",
    "# вторая ось Y — линейный график по dau\n",
    "ax2 = ax1.twinx()\n",
    "line_2 = ax2.plot(autumn_days.index,\n",
    "    autumn_days['mean_orders_per_user'],\n",
    "    color='gold',\n",
    "    marker='^',\n",
    "    linewidth=2,\n",
    "    label='Среднее число заказов на 1 пользователя')\n",
    "\n",
    "ax2.set_ylabel('Среднее число заказов на 1 пользователя', color='black')\n",
    "\n",
    "# Задаем частоту отображения дат (каждые 2 дня) и их вид\n",
    "plt.gca().xaxis.set_major_locator(mdates.DayLocator(interval=2))\n",
    "ax1.xaxis.set_major_formatter(mdates.DateFormatter('%d-%m'))\n",
    "ax1.set_xticklabels(ax1.get_xticklabels(), rotation=45, fontsize=7)\n",
    "\n",
    "# Общая легенда\n",
    "fig.legend(loc='upper left', bbox_to_anchor=(0.15, 0.95))\n",
    "\n",
    "plt.tight_layout()\n",
    "plt.show()"
   ]
  },
  {
   "cell_type": "markdown",
   "id": "a74934d9",
   "metadata": {},
   "source": [
    "<div class=\"alert alert-warning\">\n",
    "    <h2> Комментарий ревьюера v1 <a class=\"tocSkip\"> </h2>\n",
    "    \n",
    "<b>Небольшие замечания и рекомендации💡:</b> Интересное решение применить `subplots` и реализовано круто, я бы попробовал построить все 4 графика графики на одной фигуре один под другим для упрощения выявления их корреляции \n",
    "    "
   ]
  },
  {
   "cell_type": "markdown",
   "id": "3cedeb48-5d14-480f-a00e-8b6a6113a174",
   "metadata": {},
   "source": [
    "Средняя выручка с 1 билета колеблется на протяжении двух осенних месяцев от 32 до 42 рублей, за исключением дат, в которые наблюдались всплески количества заказов (3.09, 1.10 и 31.10), в начале сентября и октября средняя выручка опускалась ниже 20 рублей. В эти же даты наблюдается резкий рост числа заказов на 1 пользователя: если в среднем колебания этой метрики составляли от 2.5 до 3.5, то в пиковые даты число заказов на 1 пользователя возрастало до 6. Это также может свидетельствовать о проведении в эти даты распродаж или промо-акций (скидочные купоны с ограниченным периодом действия или предложение оформить второй заказ со скидкой сразу после оформления покупки).\n",
    "\n",
    "Изучим недельную цикличность по этим метрикам, чтобы определить, как различаются метрики в будни и выходные."
   ]
  },
  {
   "cell_type": "markdown",
   "id": "dbcf3a4d",
   "metadata": {},
   "source": [
    "<div class=\"alert alert-success\">\n",
    "<h2> Комментарий ревьюера v1 <a class=\"tocSkip\"> </h2>\n",
    "\n",
    "<b>Все супер!👍:</b>Все метрики рассчитаны и интерпретированы корректно. А предположение про акции действительно однозначно подтверждается совпедением аномальных всплесков средней цены и количества заказов"
   ]
  },
  {
   "cell_type": "code",
   "execution_count": 51,
   "id": "bbc72994-3478-4cf4-831d-b053272d4525",
   "metadata": {},
   "outputs": [
    {
     "data": {
      "text/html": [
       "<div>\n",
       "<style scoped>\n",
       "    .dataframe tbody tr th:only-of-type {\n",
       "        vertical-align: middle;\n",
       "    }\n",
       "\n",
       "    .dataframe tbody tr th {\n",
       "        vertical-align: top;\n",
       "    }\n",
       "\n",
       "    .dataframe thead th {\n",
       "        text-align: right;\n",
       "    }\n",
       "</style>\n",
       "<table border=\"1\" class=\"dataframe\">\n",
       "  <thead>\n",
       "    <tr style=\"text-align: right;\">\n",
       "      <th></th>\n",
       "      <th>created_dt_msk</th>\n",
       "      <th>count_orders</th>\n",
       "      <th>dau</th>\n",
       "      <th>one_ticket_revenue</th>\n",
       "      <th>mean_orders_per_user</th>\n",
       "      <th>weekday</th>\n",
       "      <th>day_num</th>\n",
       "    </tr>\n",
       "  </thead>\n",
       "  <tbody>\n",
       "    <tr>\n",
       "      <th>0</th>\n",
       "      <td>2024-09-01</td>\n",
       "      <td>1333</td>\n",
       "      <td>560</td>\n",
       "      <td>40.04</td>\n",
       "      <td>2.38</td>\n",
       "      <td>Sunday</td>\n",
       "      <td>7</td>\n",
       "    </tr>\n",
       "    <tr>\n",
       "      <th>1</th>\n",
       "      <td>2024-09-02</td>\n",
       "      <td>1371</td>\n",
       "      <td>571</td>\n",
       "      <td>38.89</td>\n",
       "      <td>2.40</td>\n",
       "      <td>Monday</td>\n",
       "      <td>1</td>\n",
       "    </tr>\n",
       "    <tr>\n",
       "      <th>2</th>\n",
       "      <td>2024-09-03</td>\n",
       "      <td>5090</td>\n",
       "      <td>776</td>\n",
       "      <td>15.80</td>\n",
       "      <td>6.56</td>\n",
       "      <td>Tuesday</td>\n",
       "      <td>2</td>\n",
       "    </tr>\n",
       "    <tr>\n",
       "      <th>3</th>\n",
       "      <td>2024-09-04</td>\n",
       "      <td>1759</td>\n",
       "      <td>685</td>\n",
       "      <td>36.72</td>\n",
       "      <td>2.57</td>\n",
       "      <td>Wednesday</td>\n",
       "      <td>3</td>\n",
       "    </tr>\n",
       "    <tr>\n",
       "      <th>4</th>\n",
       "      <td>2024-09-05</td>\n",
       "      <td>1939</td>\n",
       "      <td>739</td>\n",
       "      <td>38.00</td>\n",
       "      <td>2.62</td>\n",
       "      <td>Thursday</td>\n",
       "      <td>4</td>\n",
       "    </tr>\n",
       "    <tr>\n",
       "      <th>...</th>\n",
       "      <td>...</td>\n",
       "      <td>...</td>\n",
       "      <td>...</td>\n",
       "      <td>...</td>\n",
       "      <td>...</td>\n",
       "      <td>...</td>\n",
       "      <td>...</td>\n",
       "    </tr>\n",
       "    <tr>\n",
       "      <th>56</th>\n",
       "      <td>2024-10-27</td>\n",
       "      <td>2853</td>\n",
       "      <td>1033</td>\n",
       "      <td>37.98</td>\n",
       "      <td>2.76</td>\n",
       "      <td>Sunday</td>\n",
       "      <td>7</td>\n",
       "    </tr>\n",
       "    <tr>\n",
       "      <th>57</th>\n",
       "      <td>2024-10-28</td>\n",
       "      <td>2849</td>\n",
       "      <td>987</td>\n",
       "      <td>34.85</td>\n",
       "      <td>2.89</td>\n",
       "      <td>Monday</td>\n",
       "      <td>1</td>\n",
       "    </tr>\n",
       "    <tr>\n",
       "      <th>58</th>\n",
       "      <td>2024-10-29</td>\n",
       "      <td>2879</td>\n",
       "      <td>1002</td>\n",
       "      <td>38.18</td>\n",
       "      <td>2.87</td>\n",
       "      <td>Tuesday</td>\n",
       "      <td>2</td>\n",
       "    </tr>\n",
       "    <tr>\n",
       "      <th>59</th>\n",
       "      <td>2024-10-30</td>\n",
       "      <td>2946</td>\n",
       "      <td>1046</td>\n",
       "      <td>38.21</td>\n",
       "      <td>2.82</td>\n",
       "      <td>Wednesday</td>\n",
       "      <td>3</td>\n",
       "    </tr>\n",
       "    <tr>\n",
       "      <th>60</th>\n",
       "      <td>2024-10-31</td>\n",
       "      <td>5969</td>\n",
       "      <td>1275</td>\n",
       "      <td>30.32</td>\n",
       "      <td>4.68</td>\n",
       "      <td>Thursday</td>\n",
       "      <td>4</td>\n",
       "    </tr>\n",
       "  </tbody>\n",
       "</table>\n",
       "<p>61 rows × 7 columns</p>\n",
       "</div>"
      ],
      "text/plain": [
       "   created_dt_msk  count_orders   dau  one_ticket_revenue  \\\n",
       "0      2024-09-01          1333   560               40.04   \n",
       "1      2024-09-02          1371   571               38.89   \n",
       "2      2024-09-03          5090   776               15.80   \n",
       "3      2024-09-04          1759   685               36.72   \n",
       "4      2024-09-05          1939   739               38.00   \n",
       "..            ...           ...   ...                 ...   \n",
       "56     2024-10-27          2853  1033               37.98   \n",
       "57     2024-10-28          2849   987               34.85   \n",
       "58     2024-10-29          2879  1002               38.18   \n",
       "59     2024-10-30          2946  1046               38.21   \n",
       "60     2024-10-31          5969  1275               30.32   \n",
       "\n",
       "    mean_orders_per_user    weekday  day_num  \n",
       "0                   2.38     Sunday        7  \n",
       "1                   2.40     Monday        1  \n",
       "2                   6.56    Tuesday        2  \n",
       "3                   2.57  Wednesday        3  \n",
       "4                   2.62   Thursday        4  \n",
       "..                   ...        ...      ...  \n",
       "56                  2.76     Sunday        7  \n",
       "57                  2.89     Monday        1  \n",
       "58                  2.87    Tuesday        2  \n",
       "59                  2.82  Wednesday        3  \n",
       "60                  4.68   Thursday        4  \n",
       "\n",
       "[61 rows x 7 columns]"
      ]
     },
     "metadata": {},
     "output_type": "display_data"
    }
   ],
   "source": [
    "# выделим дни недели\n",
    "autumn_days = autumn_days.reset_index()\n",
    "autumn_days['weekday'] = autumn_days['created_dt_msk'].dt.day_name()\n",
    "autumn_days['day_num'] = autumn_days['created_dt_msk'].dt.weekday+1\n",
    "display(autumn_days)"
   ]
  },
  {
   "cell_type": "code",
   "execution_count": 52,
   "id": "5fab8281-e46a-4cfc-95b6-b132661537d4",
   "metadata": {},
   "outputs": [
    {
     "data": {
      "text/html": [
       "<div>\n",
       "<style scoped>\n",
       "    .dataframe tbody tr th:only-of-type {\n",
       "        vertical-align: middle;\n",
       "    }\n",
       "\n",
       "    .dataframe tbody tr th {\n",
       "        vertical-align: top;\n",
       "    }\n",
       "\n",
       "    .dataframe thead th {\n",
       "        text-align: right;\n",
       "    }\n",
       "</style>\n",
       "<table border=\"1\" class=\"dataframe\">\n",
       "  <thead>\n",
       "    <tr style=\"text-align: right;\">\n",
       "      <th></th>\n",
       "      <th>weekday</th>\n",
       "      <th>count_orders</th>\n",
       "      <th>dau</th>\n",
       "      <th>one_ticket_revenue</th>\n",
       "      <th>mean_orders_per_user</th>\n",
       "    </tr>\n",
       "    <tr>\n",
       "      <th>day_num</th>\n",
       "      <th></th>\n",
       "      <th></th>\n",
       "      <th></th>\n",
       "      <th></th>\n",
       "      <th></th>\n",
       "    </tr>\n",
       "  </thead>\n",
       "  <tbody>\n",
       "    <tr>\n",
       "      <th>1</th>\n",
       "      <td>Monday</td>\n",
       "      <td>2399.00</td>\n",
       "      <td>854.33</td>\n",
       "      <td>37.06</td>\n",
       "      <td>2.79</td>\n",
       "    </tr>\n",
       "    <tr>\n",
       "      <th>2</th>\n",
       "      <td>Tuesday</td>\n",
       "      <td>3507.89</td>\n",
       "      <td>935.22</td>\n",
       "      <td>31.76</td>\n",
       "      <td>3.73</td>\n",
       "    </tr>\n",
       "    <tr>\n",
       "      <th>3</th>\n",
       "      <td>Wednesday</td>\n",
       "      <td>2551.67</td>\n",
       "      <td>927.11</td>\n",
       "      <td>37.60</td>\n",
       "      <td>2.75</td>\n",
       "    </tr>\n",
       "    <tr>\n",
       "      <th>4</th>\n",
       "      <td>Thursday</td>\n",
       "      <td>3020.44</td>\n",
       "      <td>962.00</td>\n",
       "      <td>36.62</td>\n",
       "      <td>3.07</td>\n",
       "    </tr>\n",
       "    <tr>\n",
       "      <th>5</th>\n",
       "      <td>Friday</td>\n",
       "      <td>3105.38</td>\n",
       "      <td>1019.75</td>\n",
       "      <td>37.78</td>\n",
       "      <td>3.01</td>\n",
       "    </tr>\n",
       "    <tr>\n",
       "      <th>6</th>\n",
       "      <td>Saturday</td>\n",
       "      <td>2664.25</td>\n",
       "      <td>954.88</td>\n",
       "      <td>38.89</td>\n",
       "      <td>2.78</td>\n",
       "    </tr>\n",
       "    <tr>\n",
       "      <th>7</th>\n",
       "      <td>Sunday</td>\n",
       "      <td>2148.89</td>\n",
       "      <td>815.56</td>\n",
       "      <td>39.71</td>\n",
       "      <td>2.61</td>\n",
       "    </tr>\n",
       "  </tbody>\n",
       "</table>\n",
       "</div>"
      ],
      "text/plain": [
       "           weekday  count_orders      dau  one_ticket_revenue  \\\n",
       "day_num                                                         \n",
       "1           Monday       2399.00   854.33               37.06   \n",
       "2          Tuesday       3507.89   935.22               31.76   \n",
       "3        Wednesday       2551.67   927.11               37.60   \n",
       "4         Thursday       3020.44   962.00               36.62   \n",
       "5           Friday       3105.38  1019.75               37.78   \n",
       "6         Saturday       2664.25   954.88               38.89   \n",
       "7           Sunday       2148.89   815.56               39.71   \n",
       "\n",
       "         mean_orders_per_user  \n",
       "day_num                        \n",
       "1                        2.79  \n",
       "2                        3.73  \n",
       "3                        2.75  \n",
       "4                        3.07  \n",
       "5                        3.01  \n",
       "6                        2.78  \n",
       "7                        2.61  "
      ]
     },
     "metadata": {},
     "output_type": "display_data"
    }
   ],
   "source": [
    "# соберем сводную таблицу по дням недели\n",
    "autumn_weekdays = autumn_days.groupby(['day_num', 'weekday']).agg({'count_orders': 'mean',\n",
    "                                                                'dau': 'mean',\n",
    "                                                                  'one_ticket_revenue': 'mean',\n",
    "                                                                  'mean_orders_per_user': 'mean'})\n",
    "autumn_weekdays = autumn_weekdays.round(2).reset_index()\n",
    "autumn_weekdays = autumn_weekdays.set_index('day_num')\n",
    "display(autumn_weekdays)"
   ]
  },
  {
   "cell_type": "code",
   "execution_count": 53,
   "id": "9f83332c-3331-46bd-8c07-4cd416091684",
   "metadata": {},
   "outputs": [
    {
     "data": {
      "image/png": "[encoded data removed]",
      "text/plain": [
       "<Figure size 576x288 with 1 Axes>"
      ]
     },
     "metadata": {
      "needs_background": "light"
     },
     "output_type": "display_data"
    }
   ],
   "source": [
    "# Построим визуализацию на полученных данных\n",
    "plt.figure(figsize=(8, 4))\n",
    "\n",
    "autumn_weekdays = autumn_weekdays.sort_index(ascending=False)\n",
    "\n",
    "# Строим гистограмму\n",
    "plt.barh(autumn_weekdays['weekday'], autumn_weekdays['count_orders'], color='salmon', height=0.6)\n",
    "\n",
    "# Настраиваем оформление графика\n",
    "plt.title('Распределение среднедневного числа заказов по дням недели')\n",
    "plt.xlabel('Среднее число заказов в день')\n",
    "plt.ylabel('День недели')\n",
    "# Добавляем сетку графика\n",
    "plt.grid(True, linestyle='--', alpha=0.6)\n",
    "\n",
    "# Выводим график\n",
    "plt.show()"
   ]
  },
  {
   "cell_type": "code",
   "execution_count": 54,
   "id": "19269f27-cd93-4a54-af5b-2f5bf70aa5de",
   "metadata": {},
   "outputs": [
    {
     "data": {
      "image/png": "[encoded data removed]",
      "text/plain": [
       "<Figure size 576x288 with 1 Axes>"
      ]
     },
     "metadata": {
      "needs_background": "light"
     },
     "output_type": "display_data"
    }
   ],
   "source": [
    "# добавим визуализацию по числу уникальных пользователей по дням\n",
    "plt.figure(figsize=(8, 4))\n",
    "\n",
    "# Строим гистограмму\n",
    "plt.barh(autumn_weekdays['weekday'], autumn_weekdays['dau'], color='lightgreen', height=0.6)\n",
    "\n",
    "# Настраиваем оформление графика\n",
    "plt.title('Распределение среднедневного числа уникальных пользователей по дням недели')\n",
    "plt.xlabel('Среднее число уникальных пользователей в день')\n",
    "plt.ylabel('День недели')\n",
    "# Добавляем сетку графика\n",
    "plt.grid(True, linestyle='--', alpha=0.6)\n",
    "\n",
    "# Выводим график\n",
    "plt.show()"
   ]
  },
  {
   "cell_type": "markdown",
   "id": "8914e2db-e65f-4d33-b4b8-56f37b43c0ee",
   "metadata": {},
   "source": [
    "Анализ недельной цикличности выявил следующее:\n",
    "- Наибольшее среднедневное число заказов приходится на вторник - в среднем в этот день недели совершалось 3507 заказов. Это может объясняться как маркетинговой активностью сервиса (возможно, в этот день предусмотрены рассылки или пуш-уведомления с анонсом мероприятий), так и активностью пользователей, которые среди недели строят планы на выходные. На втором и третьем месте по активности пятница и четверг, в среднем в эти дни 3105 и 3020 заказов.\n",
    "- Максимальное число заказов на 1 пользователя также приходится на вторник, пятницу и четверг.\n",
    "- Наибольшее число уникальных пользователей - в пятницу (1020), это коррелирует с большим количеством заказов по пятницам, когда многие пользователи покупают билеты на мероприятия в выходные.\n",
    "- Наибольшая выручка с 1 билета - в воскресенье, день, когда заказов меньше всего.\n",
    "- Наименьшее число заказов на 1 пользователя также приходится на воскресенье."
   ]
  },
  {
   "cell_type": "markdown",
   "id": "1bba09ca",
   "metadata": {},
   "source": [
    "<div class=\"alert alert-success\">\n",
    "<h2> Комментарий ревьюера v1 <a class=\"tocSkip\"> </h2>\n",
    "\n",
    "<b>Все супер!👍:</b> Получается в будни все закупаются к выходным и \"ловят\" скидки, стоит обязательно учесть это в итоговых выводах и рекомендациях"
   ]
  },
  {
   "cell_type": "markdown",
   "id": "707418c7-d04a-4015-839e-ed377e291b4f",
   "metadata": {},
   "source": [
    "### 3.3. Популярные события и партнёры\n",
    "\n",
    "Проверим распределение мероприятий по регионам. Соберем сводную таблицу с информацией о количестве и доле мероприятий, проводимых в регионе, а также с числом и долей заказов по регионам, и выделим топ-10 ключевых регионов."
   ]
  },
  {
   "cell_type": "code",
   "execution_count": 55,
   "id": "889832ee-c813-45fe-9898-90037cf2e564",
   "metadata": {},
   "outputs": [
    {
     "data": {
      "text/html": [
       "<div>\n",
       "<style scoped>\n",
       "    .dataframe tbody tr th:only-of-type {\n",
       "        vertical-align: middle;\n",
       "    }\n",
       "\n",
       "    .dataframe tbody tr th {\n",
       "        vertical-align: top;\n",
       "    }\n",
       "\n",
       "    .dataframe thead th {\n",
       "        text-align: right;\n",
       "    }\n",
       "</style>\n",
       "<table border=\"1\" class=\"dataframe\">\n",
       "  <thead>\n",
       "    <tr style=\"text-align: right;\">\n",
       "      <th></th>\n",
       "      <th>count_events</th>\n",
       "      <th>count_orders</th>\n",
       "      <th>share_events</th>\n",
       "      <th>share_orders</th>\n",
       "    </tr>\n",
       "    <tr>\n",
       "      <th>region_name</th>\n",
       "      <th></th>\n",
       "      <th></th>\n",
       "      <th></th>\n",
       "      <th></th>\n",
       "    </tr>\n",
       "  </thead>\n",
       "  <tbody>\n",
       "    <tr>\n",
       "      <th>Каменевский регион</th>\n",
       "      <td>3913</td>\n",
       "      <td>47149</td>\n",
       "      <td>24.76</td>\n",
       "      <td>27.93</td>\n",
       "    </tr>\n",
       "    <tr>\n",
       "      <th>Североярская область</th>\n",
       "      <td>2604</td>\n",
       "      <td>20760</td>\n",
       "      <td>16.48</td>\n",
       "      <td>12.30</td>\n",
       "    </tr>\n",
       "    <tr>\n",
       "      <th>Широковская область</th>\n",
       "      <td>794</td>\n",
       "      <td>8669</td>\n",
       "      <td>5.02</td>\n",
       "      <td>5.14</td>\n",
       "    </tr>\n",
       "    <tr>\n",
       "      <th>Светополянский округ</th>\n",
       "      <td>755</td>\n",
       "      <td>4792</td>\n",
       "      <td>4.78</td>\n",
       "      <td>2.84</td>\n",
       "    </tr>\n",
       "    <tr>\n",
       "      <th>Речиновская область</th>\n",
       "      <td>529</td>\n",
       "      <td>3575</td>\n",
       "      <td>3.35</td>\n",
       "      <td>2.12</td>\n",
       "    </tr>\n",
       "    <tr>\n",
       "      <th>Серебринская область</th>\n",
       "      <td>456</td>\n",
       "      <td>4477</td>\n",
       "      <td>2.89</td>\n",
       "      <td>2.65</td>\n",
       "    </tr>\n",
       "    <tr>\n",
       "      <th>Яблоневская область</th>\n",
       "      <td>431</td>\n",
       "      <td>4219</td>\n",
       "      <td>2.73</td>\n",
       "      <td>2.50</td>\n",
       "    </tr>\n",
       "    <tr>\n",
       "      <th>Тепляковская область</th>\n",
       "      <td>420</td>\n",
       "      <td>2486</td>\n",
       "      <td>2.66</td>\n",
       "      <td>1.47</td>\n",
       "    </tr>\n",
       "    <tr>\n",
       "      <th>Горицветская область</th>\n",
       "      <td>406</td>\n",
       "      <td>3234</td>\n",
       "      <td>2.57</td>\n",
       "      <td>1.92</td>\n",
       "    </tr>\n",
       "    <tr>\n",
       "      <th>Солнечноземская область</th>\n",
       "      <td>401</td>\n",
       "      <td>4197</td>\n",
       "      <td>2.54</td>\n",
       "      <td>2.49</td>\n",
       "    </tr>\n",
       "  </tbody>\n",
       "</table>\n",
       "</div>"
      ],
      "text/plain": [
       "                         count_events  count_orders  share_events  \\\n",
       "region_name                                                         \n",
       "Каменевский регион               3913         47149         24.76   \n",
       "Североярская область             2604         20760         16.48   \n",
       "Широковская область               794          8669          5.02   \n",
       "Светополянский округ              755          4792          4.78   \n",
       "Речиновская область               529          3575          3.35   \n",
       "Серебринская область              456          4477          2.89   \n",
       "Яблоневская область               431          4219          2.73   \n",
       "Тепляковская область              420          2486          2.66   \n",
       "Горицветская область              406          3234          2.57   \n",
       "Солнечноземская область           401          4197          2.54   \n",
       "\n",
       "                         share_orders  \n",
       "region_name                            \n",
       "Каменевский регион              27.93  \n",
       "Североярская область            12.30  \n",
       "Широковская область              5.14  \n",
       "Светополянский округ             2.84  \n",
       "Речиновская область              2.12  \n",
       "Серебринская область             2.65  \n",
       "Яблоневская область              2.50  \n",
       "Тепляковская область             1.47  \n",
       "Горицветская область             1.92  \n",
       "Солнечноземская область          2.49  "
      ]
     },
     "execution_count": 55,
     "metadata": {},
     "output_type": "execute_result"
    }
   ],
   "source": [
    "regions = df_autumn.groupby('region_name').agg({'event_id': 'nunique',\n",
    "                                               'order_id': 'count'})\n",
    "regions.columns = ['count_events', 'count_orders']\n",
    "regions = regions.sort_values(by = 'count_events', ascending = False)\n",
    "regions['share_events'] = regions['count_events'] / regions['count_events'].sum() * 100\n",
    "regions['share_orders'] = regions['count_orders'] / regions['count_orders'].sum() * 100\n",
    "regions = regions.round(2)\n",
    "regions.head(10)"
   ]
  },
  {
   "cell_type": "markdown",
   "id": "cfdc2c57-15dc-421b-a083-63284b2adee2",
   "metadata": {},
   "source": [
    "Аналогичным образом выделим топ-10 билетных партнеров, добавив к расчетам суммарную выручку по ним за осенний период, а также среднюю выручку с 1 билета."
   ]
  },
  {
   "cell_type": "code",
   "execution_count": 56,
   "id": "e18716e9-4db5-4de9-8dda-5eefa505dcb6",
   "metadata": {},
   "outputs": [
    {
     "data": {
      "text/html": [
       "<div>\n",
       "<style scoped>\n",
       "    .dataframe tbody tr th:only-of-type {\n",
       "        vertical-align: middle;\n",
       "    }\n",
       "\n",
       "    .dataframe tbody tr th {\n",
       "        vertical-align: top;\n",
       "    }\n",
       "\n",
       "    .dataframe thead th {\n",
       "        text-align: right;\n",
       "    }\n",
       "</style>\n",
       "<table border=\"1\" class=\"dataframe\">\n",
       "  <thead>\n",
       "    <tr style=\"text-align: right;\">\n",
       "      <th></th>\n",
       "      <th>count_events</th>\n",
       "      <th>count_orders</th>\n",
       "      <th>total_revenue</th>\n",
       "      <th>one_ticket_revenue</th>\n",
       "      <th>share_events</th>\n",
       "      <th>share_orders</th>\n",
       "      <th>share_revenue</th>\n",
       "    </tr>\n",
       "    <tr>\n",
       "      <th>service_name</th>\n",
       "      <th></th>\n",
       "      <th></th>\n",
       "      <th></th>\n",
       "      <th></th>\n",
       "      <th></th>\n",
       "      <th></th>\n",
       "      <th></th>\n",
       "    </tr>\n",
       "  </thead>\n",
       "  <tbody>\n",
       "    <tr>\n",
       "      <th>Лови билет!</th>\n",
       "      <td>3589</td>\n",
       "      <td>25774</td>\n",
       "      <td>10572555.52</td>\n",
       "      <td>28.50</td>\n",
       "      <td>20.83</td>\n",
       "      <td>15.27</td>\n",
       "      <td>12.31</td>\n",
       "    </tr>\n",
       "    <tr>\n",
       "      <th>Билеты без проблем</th>\n",
       "      <td>2827</td>\n",
       "      <td>32152</td>\n",
       "      <td>13320386.10</td>\n",
       "      <td>29.26</td>\n",
       "      <td>16.41</td>\n",
       "      <td>19.05</td>\n",
       "      <td>15.51</td>\n",
       "    </tr>\n",
       "    <tr>\n",
       "      <th>Билеты в руки</th>\n",
       "      <td>2447</td>\n",
       "      <td>25558</td>\n",
       "      <td>7684214.72</td>\n",
       "      <td>20.78</td>\n",
       "      <td>14.20</td>\n",
       "      <td>15.14</td>\n",
       "      <td>8.95</td>\n",
       "    </tr>\n",
       "    <tr>\n",
       "      <th>Облачко</th>\n",
       "      <td>1412</td>\n",
       "      <td>15572</td>\n",
       "      <td>10887838.30</td>\n",
       "      <td>52.57</td>\n",
       "      <td>8.20</td>\n",
       "      <td>9.22</td>\n",
       "      <td>12.68</td>\n",
       "    </tr>\n",
       "    <tr>\n",
       "      <th>Лучшие билеты</th>\n",
       "      <td>1377</td>\n",
       "      <td>12369</td>\n",
       "      <td>1738414.85</td>\n",
       "      <td>10.35</td>\n",
       "      <td>7.99</td>\n",
       "      <td>7.33</td>\n",
       "      <td>2.02</td>\n",
       "    </tr>\n",
       "    <tr>\n",
       "      <th>Мой билет</th>\n",
       "      <td>1010</td>\n",
       "      <td>19550</td>\n",
       "      <td>11639744.44</td>\n",
       "      <td>43.38</td>\n",
       "      <td>5.86</td>\n",
       "      <td>11.58</td>\n",
       "      <td>13.56</td>\n",
       "    </tr>\n",
       "    <tr>\n",
       "      <th>Тебе билет!</th>\n",
       "      <td>858</td>\n",
       "      <td>3778</td>\n",
       "      <td>2223915.02</td>\n",
       "      <td>39.78</td>\n",
       "      <td>4.98</td>\n",
       "      <td>2.24</td>\n",
       "      <td>2.59</td>\n",
       "    </tr>\n",
       "    <tr>\n",
       "      <th>Прачечная</th>\n",
       "      <td>728</td>\n",
       "      <td>5831</td>\n",
       "      <td>2647691.55</td>\n",
       "      <td>31.80</td>\n",
       "      <td>4.23</td>\n",
       "      <td>3.45</td>\n",
       "      <td>3.08</td>\n",
       "    </tr>\n",
       "    <tr>\n",
       "      <th>Весь в билетах</th>\n",
       "      <td>607</td>\n",
       "      <td>9571</td>\n",
       "      <td>9808471.23</td>\n",
       "      <td>70.53</td>\n",
       "      <td>3.52</td>\n",
       "      <td>5.67</td>\n",
       "      <td>11.42</td>\n",
       "    </tr>\n",
       "    <tr>\n",
       "      <th>Яблоко</th>\n",
       "      <td>537</td>\n",
       "      <td>3495</td>\n",
       "      <td>2827527.72</td>\n",
       "      <td>55.66</td>\n",
       "      <td>3.12</td>\n",
       "      <td>2.07</td>\n",
       "      <td>3.29</td>\n",
       "    </tr>\n",
       "  </tbody>\n",
       "</table>\n",
       "</div>"
      ],
      "text/plain": [
       "                    count_events  count_orders  total_revenue  \\\n",
       "service_name                                                    \n",
       "Лови билет!                 3589         25774    10572555.52   \n",
       "Билеты без проблем          2827         32152    13320386.10   \n",
       "Билеты в руки               2447         25558     7684214.72   \n",
       "Облачко                     1412         15572    10887838.30   \n",
       "Лучшие билеты               1377         12369     1738414.85   \n",
       "Мой билет                   1010         19550    11639744.44   \n",
       "Тебе билет!                  858          3778     2223915.02   \n",
       "Прачечная                    728          5831     2647691.55   \n",
       "Весь в билетах               607          9571     9808471.23   \n",
       "Яблоко                       537          3495     2827527.72   \n",
       "\n",
       "                    one_ticket_revenue  share_events  share_orders  \\\n",
       "service_name                                                         \n",
       "Лови билет!                      28.50         20.83         15.27   \n",
       "Билеты без проблем               29.26         16.41         19.05   \n",
       "Билеты в руки                    20.78         14.20         15.14   \n",
       "Облачко                          52.57          8.20          9.22   \n",
       "Лучшие билеты                    10.35          7.99          7.33   \n",
       "Мой билет                        43.38          5.86         11.58   \n",
       "Тебе билет!                      39.78          4.98          2.24   \n",
       "Прачечная                        31.80          4.23          3.45   \n",
       "Весь в билетах                   70.53          3.52          5.67   \n",
       "Яблоко                           55.66          3.12          2.07   \n",
       "\n",
       "                    share_revenue  \n",
       "service_name                       \n",
       "Лови билет!                 12.31  \n",
       "Билеты без проблем          15.51  \n",
       "Билеты в руки                8.95  \n",
       "Облачко                     12.68  \n",
       "Лучшие билеты                2.02  \n",
       "Мой билет                   13.56  \n",
       "Тебе билет!                  2.59  \n",
       "Прачечная                    3.08  \n",
       "Весь в билетах              11.42  \n",
       "Яблоко                       3.29  "
      ]
     },
     "execution_count": 56,
     "metadata": {},
     "output_type": "execute_result"
    }
   ],
   "source": [
    "service = df_autumn.groupby('service_name').agg({'event_id': 'nunique',\n",
    "                                               'order_id': 'count',\n",
    "                                                'revenue': 'sum',\n",
    "                                                'one_ticket_revenue_rub': 'mean'})\n",
    "\n",
    "service.columns = ['count_events', 'count_orders', 'total_revenue', 'one_ticket_revenue']\n",
    "service = service.sort_values(by = 'count_events', ascending = False)\n",
    "service['share_events'] = service['count_events'] / service['count_events'].sum() * 100\n",
    "service['share_orders'] = service['count_orders'] / service['count_orders'].sum() * 100\n",
    "service['share_revenue'] = service['total_revenue'] / service['total_revenue'].sum() * 100\n",
    "service = service.round(2)\n",
    "service.head(10)"
   ]
  },
  {
   "cell_type": "markdown",
   "id": "2a936e29",
   "metadata": {},
   "source": [
    "<div class=\"alert alert-warning\">\n",
    "    <h2> Комментарий ревьюера v1 <a class=\"tocSkip\"> </h2>\n",
    "    \n",
    "<b>Небольшие замечания и рекомендации💡:</b>Также можно добавить визуализации, графическая информация обычно проще воспринимается пользователями"
   ]
  },
  {
   "cell_type": "markdown",
   "id": "877cf8a1-d2ff-4e37-84ff-990374ea3da3",
   "metadata": {},
   "source": [
    "Из анализа данных по количеству проводимых мероприятий и количеству заказов по регионам явными лидерами являются 2 региона - Каменевский регион и Североярская область. В этих двух регионах за 2 осенних месяца было проведено более 40% от всех мероприятий, доля заказов в Каменевском регионе составила 27.93% от общего числа, а в Североярской области - 12.3%.\n",
    "\n",
    "Среди билетных операторов явных лидеров нет. Лидер по проведенным мероприятиях не является лидером по принесенной выручке и имеет не самую высокую выручку с одного билета. Оператор \"Лови билет!\" имеет самую высокую долю проведенных мероприятий - 20.83%, но лидером по количеству заказов и выручке является оператор \"Билеты без проблем\". Доля его заказов от общего числа составляет 19.05%, а доля выручки от его заказов составляет 15.51%. Наибольшая выручка с одного билета из попавших в топ-10 билетных операторов - у оператора \"Яблоко\", она составляет 70.53 рубля.\n",
    "\n",
    "-------"
   ]
  },
  {
   "cell_type": "markdown",
   "id": "fb305dc2",
   "metadata": {},
   "source": [
    "<div class=\"alert alert-warning\">\n",
    "    <h2> Комментарий ревьюера v1 <a class=\"tocSkip\"> </h2>\n",
    "    \n",
    "<b>Небольшие замечания и рекомендации💡:</b>Тут мы наблюдаем лидеров ты права, кстати если рассмотреть сортировку по total_revenue, то и в операторах в целом они будут, да не такой большой разрыв, но всеже"
   ]
  },
  {
   "cell_type": "markdown",
   "id": "babf325e-da62-4906-8e4d-f65d8a90b486",
   "metadata": {},
   "source": [
    "## 4. Статистический анализ данных"
   ]
  },
  {
   "cell_type": "markdown",
   "id": "99663e46-4307-45fd-bb48-88cb930de522",
   "metadata": {},
   "source": [
    "По данным за осенний период проверим две гипотезы, которые предполагают большую активность пользователей мобильных устройств:\n",
    "* Среднее количество заказов на одного пользователя мобильного приложения выше по сравнению с пользователями стационарных устройств.\n",
    "* Среднее время между заказами пользователей мобильных приложений выше по сравнению с пользователями стационарных устройств.\n",
    "\n",
    "Подготовим 2 выборки (пользователи мобильного приложения и пользователи стационарных устройств), которые понадобятся для проверки обеих гипотез."
   ]
  },
  {
   "cell_type": "code",
   "execution_count": 57,
   "id": "5a1fa911-0186-4bdd-a2e7-9d03e8203ced",
   "metadata": {},
   "outputs": [],
   "source": [
    "df_mobile = df_autumn[(df_autumn['device_type_canonical'] == 'mobile')].copy()\n",
    "df_desktop = df_autumn[(df_autumn['device_type_canonical'] == 'desktop')].copy()"
   ]
  },
  {
   "cell_type": "markdown",
   "id": "b08c971e-b69f-4f7d-ac79-870cb2aaeba8",
   "metadata": {},
   "source": [
    "Убедимся, что группы независимые."
   ]
  },
  {
   "cell_type": "code",
   "execution_count": 58,
   "id": "d44ddc0a-b599-4a03-ab8b-31f2566042d6",
   "metadata": {},
   "outputs": [
    {
     "data": {
      "text/plain": [
       "'Совпадающих значений между группами пользователей мобильных и стационарных устройств: 3245'"
      ]
     },
     "metadata": {},
     "output_type": "display_data"
    }
   ],
   "source": [
    "users_m = set(df_mobile['user_id'])\n",
    "users_d = set(df_desktop['user_id'])\n",
    "\n",
    "intersection_group = users_m.intersection(users_d)\n",
    "display (f'Совпадающих значений между группами пользователей мобильных и стационарных устройств: {len(intersection_group)}')"
   ]
  },
  {
   "cell_type": "markdown",
   "id": "45cb033f-9f1a-42f8-9133-1cd84d5342ea",
   "metadata": {},
   "source": [
    "В группах встречаются пользователи, которые совершали заказы и с мобильных устройств, и со стационарных компьютеров. Для чистоты проверки исключим этих пользователей из исследования и подготовим очищенные датафреймы с данными."
   ]
  },
  {
   "cell_type": "code",
   "execution_count": 59,
   "id": "c945c4c8-39e4-4630-9159-d06682e8605a",
   "metadata": {},
   "outputs": [],
   "source": [
    "df_mob_clean = df_mobile[~df_mobile['user_id'].isin(intersection_group)]\n",
    "df_desk_clean = df_desktop[~df_desktop['user_id'].isin(intersection_group)]"
   ]
  },
  {
   "cell_type": "markdown",
   "id": "4e98a487",
   "metadata": {},
   "source": [
    "<div class=\"alert alert-success\">\n",
    "<h2> Комментарий ревьюера v1 <a class=\"tocSkip\"> </h2>\n",
    "\n",
    "<b>Все супер!👍:</b>Полезная проверка на пересечения"
   ]
  },
  {
   "cell_type": "markdown",
   "id": "c695d6df-dfce-4fb6-9eb7-c951774427d9",
   "metadata": {},
   "source": [
    "Сформулируем нулевую и альтернативную гипотезы для проверки среднего количества заказов:\n",
    "* Нулевая гипотеза H₀: Среднее количество заказов на одного пользователя мобильного приложения и стационарных устройств не различается.\n",
    "* Альтернативная гипотеза H₁: Среднее количество заказов на одного пользователя мобильного приложения выше по сравнению с пользователями стационарных устройств, и это различие статистически значимо.\n",
    "\n",
    "Посчитаем количество заказов на каждого пользователя."
   ]
  },
  {
   "cell_type": "code",
   "execution_count": 60,
   "id": "92de5e99-0692-4bcc-a335-6ee15b2b3e60",
   "metadata": {},
   "outputs": [
    {
     "data": {
      "text/plain": [
       "'Количество пользователей мобильных устройств - 10863, количество пользователей стационарных устройств - 1632.'"
      ]
     },
     "metadata": {},
     "output_type": "display_data"
    }
   ],
   "source": [
    "user_mob = df_mob_clean.groupby('user_id')['order_id'].count().reset_index()\n",
    "user_mob.columns = ['user_id', 'count_orders']\n",
    "user_desk = df_desk_clean.groupby('user_id')['order_id'].count().reset_index()\n",
    "user_desk.columns = ['user_id', 'count_orders']\n",
    "display(f'Количество пользователей мобильных устройств - {len(user_mob)}, количество пользователей стационарных устройств - {len(user_desk)}.')"
   ]
  },
  {
   "cell_type": "markdown",
   "id": "c3f592ae-853c-4c37-a1fb-0f6a6b841ab4",
   "metadata": {},
   "source": [
    "Группы значительно отличаются по количеству. Сравним статистики обеих групп и проверим распределение значений в них."
   ]
  },
  {
   "cell_type": "code",
   "execution_count": 61,
   "id": "883a1080-df52-4eeb-ae77-c401ce5ff6c6",
   "metadata": {},
   "outputs": [
    {
     "data": {
      "text/plain": [
       "count    10863.000000\n",
       "mean         2.876093\n",
       "std          4.161701\n",
       "min          1.000000\n",
       "25%          1.000000\n",
       "50%          2.000000\n",
       "75%          3.000000\n",
       "max        123.000000\n",
       "Name: count_orders, dtype: float64"
      ]
     },
     "execution_count": 61,
     "metadata": {},
     "output_type": "execute_result"
    }
   ],
   "source": [
    "user_mob['count_orders'].describe()"
   ]
  },
  {
   "cell_type": "code",
   "execution_count": 62,
   "id": "f512aa94-006d-4a67-854f-de3ff6dcabba",
   "metadata": {},
   "outputs": [
    {
     "data": {
      "text/plain": [
       "count    1632.000000\n",
       "mean        1.970588\n",
       "std         3.048413\n",
       "min         1.000000\n",
       "25%         1.000000\n",
       "50%         1.000000\n",
       "75%         2.000000\n",
       "max        56.000000\n",
       "Name: count_orders, dtype: float64"
      ]
     },
     "execution_count": 62,
     "metadata": {},
     "output_type": "execute_result"
    }
   ],
   "source": [
    "user_desk['count_orders'].describe()"
   ]
  },
  {
   "cell_type": "markdown",
   "id": "a53e3e9b-79dd-4ecc-abec-5a895fdffa7c",
   "metadata": {},
   "source": [
    "С учетом значений медианы, минимального и максимального количества заказов, можно предположить ассиметричное распределение значений с правосторонним хвостом в обеих группах. Проверим на графиках."
   ]
  },
  {
   "cell_type": "code",
   "execution_count": 63,
   "id": "2913fe4b-de5b-499b-9575-443d8520f521",
   "metadata": {},
   "outputs": [
    {
     "data": {
      "image/png": "[encoded data removed]",
      "text/plain": [
       "<Figure size 720x288 with 1 Axes>"
      ]
     },
     "metadata": {
      "needs_background": "light"
     },
     "output_type": "display_data"
    }
   ],
   "source": [
    "plt.figure(figsize=(10, 4))\n",
    "sns.histplot(user_mob['count_orders'], color='blue', label='Мобильные устройства', kde=True, stat='density', bins=50, alpha=0.5)\n",
    "sns.histplot(user_desk['count_orders'], color='green', label='Стационарные устройства', kde=True, stat='density', bins=50, alpha=0.5)\n",
    "\n",
    "plt.legend()\n",
    "plt.xlabel('Количество заказов')\n",
    "plt.ylabel('Плотность распределения')\n",
    "plt.title('Сравнение распределений заказов пользователей мобильных и стационарных устройств')\n",
    "plt.show()"
   ]
  },
  {
   "cell_type": "code",
   "execution_count": 64,
   "id": "96c20c1c-9b81-4307-8051-381dcdb499a6",
   "metadata": {},
   "outputs": [
    {
     "data": {
      "image/png": "[encoded data removed]",
      "text/plain": [
       "<Figure size 720x288 with 1 Axes>"
      ]
     },
     "metadata": {
      "needs_background": "light"
     },
     "output_type": "display_data"
    }
   ],
   "source": [
    "user_mob['device'] = 'mobile'\n",
    "user_desk['device'] = 'desktop'\n",
    "df_box = pd.concat([user_mob, user_desk])\n",
    "\n",
    "plt.figure(figsize=(10, 4))\n",
    "sns.boxplot(data=df_box, x='device', y='count_orders')\n",
    "plt.title('Сравнение статистик числа заказов по типам устройств')\n",
    "plt.show()"
   ]
  },
  {
   "cell_type": "markdown",
   "id": "3f8d7bc2-7204-4a2d-8998-26577434c3e0",
   "metadata": {},
   "source": [
    "Мы имеем разные по размеру группы, в которых наблюдаются выбросы и асимметрия, и отсутствует нормальное распределение в исследуемой метрике, поэтому используем тест Манна-Уитни, чтобы проверить, различаются ли выборочные распределения в двух группах. Этот тест более устойчив к выбросам, чем t-тест, и в данном контексте будет являться более надежным инструментом для проверки. Уровень статистической значимости установим 5%."
   ]
  },
  {
   "cell_type": "markdown",
   "id": "612bf96f",
   "metadata": {},
   "source": [
    "<div class=\"alert alert-warning\">\n",
    "    <h2> Комментарий ревьюера v1 <a class=\"tocSkip\"> </h2>\n",
    "    \n",
    "<b>Небольшие замечания и рекомендации💡:</b> На самом деле ненормальность распределения не мешает проводить `ttest` в силу ЦПТ. Он будет иметь большую мощность, чем U-тест, но и твое решение допустимо"
   ]
  },
  {
   "cell_type": "code",
   "execution_count": 65,
   "id": "1cd7828c-4061-4a4e-a723-ed0ef6225e3f",
   "metadata": {},
   "outputs": [],
   "source": [
    "alpha = 0.05\n",
    "mw_test = mannwhitneyu(\n",
    "    user_mob['count_orders'],\n",
    "    user_desk['count_orders'],  \n",
    "    alternative='greater') #Среднее количество заказов на одного пользователя мобильного приложения выше по сравнению с пользователями стационарных устройств"
   ]
  },
  {
   "cell_type": "code",
   "execution_count": 66,
   "id": "a8ce0f31-2b24-48ce-93ea-0bc33af32aa8",
   "metadata": {},
   "outputs": [
    {
     "name": "stdout",
     "output_type": "stream",
     "text": [
      "pvalue=3.873953364311975e-40 < 0.05\n",
      "Нулевая гипотеза не находит подтверждения.\n",
      "Среднее количество заказов на одного пользователя мобильного приложения выше, и это различие статистически значимо.\n"
     ]
    }
   ],
   "source": [
    "if mw_test.pvalue > alpha:\n",
    "    print(f'pvalue={mw_test.pvalue} > {alpha}')\n",
    "    print('Нулевая гипотеза находит подтверждение.')\n",
    "    print('Среднее количество заказов на одного пользователя мобильного приложения и стационарных устройств не различается.')\n",
    "else:\n",
    "    print(f'pvalue={mw_test.pvalue} < {alpha}')\n",
    "    print('Нулевая гипотеза не находит подтверждения.')\n",
    "    print('Среднее количество заказов на одного пользователя мобильного приложения выше, и это различие статистически значимо.')"
   ]
  },
  {
   "cell_type": "markdown",
   "id": "2ff0de42",
   "metadata": {},
   "source": [
    "<div class=\"alert alert-success\">\n",
    "<h2> Комментарий ревьюера v1 <a class=\"tocSkip\"> </h2>\n",
    "\n",
    "<b>Все супер!👍:</b>Сам тест проведен корректно и дана понятная интерпретация для бизнеса, ты молодец!"
   ]
  },
  {
   "cell_type": "markdown",
   "id": "7f0b30ae-3caa-46b7-9202-7b6aa28318ea",
   "metadata": {},
   "source": [
    "Первая гипотеза подтвердилась - среднее количество заказов на одного пользователя мобильного приложения действительно выше по сравнению с пользователями стационарных устройств. \n",
    "\n",
    "Перейдем к проверке второй гипотезы, касающейся среднего времени между заказами пользователей. Сформулируем нулевую и альтернативную гипотезы:\n",
    "\n",
    "* Среднее время между заказами пользователей мобильных приложений и среднее время между заказами пользователей стационарных устройств не различается.\n",
    "* Среднее время между заказами пользователей мобильных приложений выше по сравнению с пользователями стационарных устройств и это различие статистически значимо.\n",
    "\n",
    "Для проверки гипотезы будем использовать очищенные от пересекающихся пользователей датафреймы `df_mob_clean` и `df_desk_clean`. Очистим их от пропусков в столбце `days_since_prev`, так как пропуски будут означать, что заказ первый и до него заказов у пользователя не было, а нас интересует именно время между заказами."
   ]
  },
  {
   "cell_type": "code",
   "execution_count": 67,
   "id": "0932d16c-bb60-4796-b70c-ab9a18daffeb",
   "metadata": {},
   "outputs": [],
   "source": [
    "df_mob_clean_days = df_mob_clean.dropna(subset=['days_since_prev']).copy()\n",
    "df_desk_clean_days = df_desk_clean.dropna(subset=['days_since_prev']).copy()"
   ]
  },
  {
   "cell_type": "markdown",
   "id": "3e3096ed-78bd-4f58-b493-e9e84e13f235",
   "metadata": {},
   "source": [
    "Сравним статистики обеих групп и проверим распределение значений в них."
   ]
  },
  {
   "cell_type": "code",
   "execution_count": 68,
   "id": "c58abb47-98b8-41d0-8c00-3b843d903238",
   "metadata": {},
   "outputs": [
    {
     "data": {
      "text/plain": [
       "count    24610.000000\n",
       "mean        13.737140\n",
       "std         25.656595\n",
       "min          0.000000\n",
       "25%          0.000000\n",
       "50%          1.000000\n",
       "75%         15.000000\n",
       "max        148.000000\n",
       "Name: days_since_prev, dtype: float64"
      ]
     },
     "execution_count": 68,
     "metadata": {},
     "output_type": "execute_result"
    }
   ],
   "source": [
    "df_mob_clean_days['days_since_prev'].describe()"
   ]
  },
  {
   "cell_type": "code",
   "execution_count": 69,
   "id": "d69f2abb-72ea-46ab-b364-c53d318d659b",
   "metadata": {},
   "outputs": [
    {
     "data": {
      "text/plain": [
       "count    2091.000000\n",
       "mean       18.076996\n",
       "std        32.588329\n",
       "min         0.000000\n",
       "25%         0.000000\n",
       "50%         0.000000\n",
       "75%        23.000000\n",
       "max       146.000000\n",
       "Name: days_since_prev, dtype: float64"
      ]
     },
     "execution_count": 69,
     "metadata": {},
     "output_type": "execute_result"
    }
   ],
   "source": [
    "df_desk_clean_days['days_since_prev'].describe()"
   ]
  },
  {
   "cell_type": "markdown",
   "id": "8d9bb98e-f2a8-48f6-a921-1cb42a131ef7",
   "metadata": {},
   "source": [
    "Количество значений в группах также существенно различается. Можно предположить наличие выбросов в выборках и ассиметричное распределение."
   ]
  },
  {
   "cell_type": "code",
   "execution_count": 70,
   "id": "16530543-a1d8-452a-a00f-032fe1e53f97",
   "metadata": {},
   "outputs": [
    {
     "data": {
      "image/png": "[encoded data removed]",
      "text/plain": [
       "<Figure size 720x288 with 1 Axes>"
      ]
     },
     "metadata": {
      "needs_background": "light"
     },
     "output_type": "display_data"
    }
   ],
   "source": [
    "plt.figure(figsize=(10, 4))\n",
    "sns.histplot(df_mob_clean_days['days_since_prev'], color='blue', label='Мобильные устройства', kde=True, stat='density', bins=50, alpha=0.5)\n",
    "sns.histplot(df_desk_clean_days['days_since_prev'], color='green', label='Стационарные устройства', kde=True, stat='density', bins=50, alpha=0.5)\n",
    "\n",
    "plt.legend()\n",
    "plt.xlabel('Количество дней между заказами')\n",
    "plt.ylabel('Плотность распределения')\n",
    "plt.title('Сравнение распределений количества дней между заказами по типам устройств')\n",
    "plt.show()"
   ]
  },
  {
   "cell_type": "code",
   "execution_count": 71,
   "id": "0a6bd4fe-6254-49dd-aa21-8e4f2da73c91",
   "metadata": {},
   "outputs": [
    {
     "data": {
      "image/png": "[encoded data removed]",
      "text/plain": [
       "<Figure size 720x288 with 1 Axes>"
      ]
     },
     "metadata": {
      "needs_background": "light"
     },
     "output_type": "display_data"
    }
   ],
   "source": [
    "df_mob_clean_days['device'] = 'mobile'\n",
    "df_desk_clean_days['device'] = 'desktop'\n",
    "df_box_2 = pd.concat([df_mob_clean_days, df_desk_clean_days])\n",
    "\n",
    "plt.figure(figsize=(10, 4))\n",
    "sns.boxplot(data=df_box_2, x='device', y='days_since_prev')\n",
    "plt.title('Сравнение статистик по количеству дней между заказами по типам устройств')\n",
    "plt.show()"
   ]
  },
  {
   "cell_type": "markdown",
   "id": "831f027b-0c47-4022-8ed1-531d90ddc07b",
   "metadata": {},
   "source": [
    "Данные не имеют нормального распределения, группы независимые, но неравномерные по количеству данных, присутствует большое количество выбросов. Все это говорит о возможности использовать тест Манна-Уитни для проверки и второй гипотезы."
   ]
  },
  {
   "cell_type": "code",
   "execution_count": 72,
   "id": "9558ac9c-9b83-49b8-a9c8-f4145e590461",
   "metadata": {},
   "outputs": [
    {
     "name": "stdout",
     "output_type": "stream",
     "text": [
      "pvalue=1.1042944198665263e-07 < 0.05\n",
      "Нулевая гипотеза не находит подтверждения.\n",
      "Среднее время между заказами пользователей мобильных приложений выше по сравнению с пользователями стационарных устройств и это различие статистически значимо.\n"
     ]
    }
   ],
   "source": [
    "alpha = 0.05\n",
    "mw_test = mannwhitneyu(\n",
    "    df_mob_clean_days['days_since_prev'],\n",
    "    df_desk_clean_days['days_since_prev'],  \n",
    "    alternative='greater')\n",
    "\n",
    "if mw_test.pvalue > alpha:\n",
    "    print(f'pvalue={mw_test.pvalue} > {alpha}')\n",
    "    print('Нулевая гипотеза находит подтверждение.')\n",
    "    print('Среднее время между заказами пользователей мобильных приложений и среднее время между заказами пользователей стационарных устройств не различается.')\n",
    "else:\n",
    "    print(f'pvalue={mw_test.pvalue} < {alpha}')\n",
    "    print('Нулевая гипотеза не находит подтверждения.')\n",
    "    print('Среднее время между заказами пользователей мобильных приложений выше по сравнению с пользователями стационарных устройств и это различие статистически значимо.')"
   ]
  },
  {
   "cell_type": "markdown",
   "id": "abcbbf24-b846-4945-bc2c-0ee64de480df",
   "metadata": {},
   "source": [
    "В обоих случаях подтвердились альтернативные гипотезы: пользователи мобильных устройств в среднем совершают больше заказов, но и среднее время между заказами у них выше по сравнению с пользователями стационарных устройств. "
   ]
  },
  {
   "cell_type": "markdown",
   "id": "1b580821",
   "metadata": {},
   "source": [
    "<div class=\"alert alert-success\">\n",
    "<h2> Комментарий ревьюера v1 <a class=\"tocSkip\"> </h2>\n",
    "\n",
    "<b>Все супер!👍:</b> Второй тест также проведен качественно, есть и обоснование выбора теста на основе необходимых проверок и формулировка взаимоисключающих гипотез и удобно настроенный вывод результатов и понятная заказчикам интерпретация. Очень качественная работа"
   ]
  },
  {
   "cell_type": "markdown",
   "id": "2b3c5319-b53d-469f-8f51-ae36f46a81ce",
   "metadata": {},
   "source": [
    "## 5. Общий вывод и рекомендации"
   ]
  },
  {
   "cell_type": "markdown",
   "id": "0b87233f-b5d5-4215-88d2-e25929c8698b",
   "metadata": {},
   "source": [
    "В ходе исследования были использованы данные трех датасетов: `final_tickets_orders_df.csv`, `final_tickets_events_df.csv` и `final_tickets_tenge_df.csv`. Данные были объединены в единый датафрейм и подготовлены для анализа.\n",
    "\n",
    "#### Общие выводы по итогам исследования:\n",
    "* От июня к ноябрю 2024 года наблюдается стабильный рост числа заказов. Наибольшую долю заказов составляют билеты в таких категориях мероприятий как \"Концерты\", \"Театр\" и \"Другое\". Наибольший рост (более, чем в 4 раза) показала категория \"Спорт\", осенью количество заказов в этой категории составило 11.1%.\n",
    "* К осени выросла доля заказов на мероприятия без возрастных ограничений (с 18.5% до 23.3%), а также доля на мероприятия с ограничением 12 лет (с 20.5% до 22.1%). \n",
    "* Средняя выручка с 1 билета от лета к осени выросла лишь по таким типам мероприятий, как выставки (10.3% рост) и стендап (8.64% рост). По остальным типам мероприятий средняя выручка с 1 билета, наоборот, упала. Наибольшее падение - в категории \"театр\" (-18.69%).\n",
    "* Анализ числа заказов в осенний период показал наличие всплесков 3.09, 1.10 и 31.10, которые, вероятно, связаны с маркетинговыми мероприятиями среди действующих пользователей, так как эти всплески не сопровождаются ростом числа уникальных пользователей, а средняя выручка в эти дни минимальна.\n",
    "* Анализ недельной цикличности заказов осенью выявил что наибольшее количество заказов совершается во вторник, четверг и пятницу. Больше всего уникальных пользователей - по пятницам. Наибольшая выручка с 1 билета и наименьшее число заказов - в воскресенье.\n",
    "* Каменевский регион и Североярская область являются лидерами как по числу проведенных мероприятий, так и по числу заказов.\n",
    "* Анализ билетных операторов показал, что среди них явных лидеров нет. Оператор \"Лови билет!\" имеет самую высокую долю проведенных мероприятий - 20.83%, но лидером по количеству заказов и выручке является оператор \"Билеты без проблем\"(доля заказов 19.05%, доля выручки 15.51%). Наибольшая выручка с одного билета - у оператора \"Яблоко\" (70.53 рубля).\n",
    "* Доля заказов с мобильных устройств и летом, и осенью преобладает над долей заказов со стационарных компьютеров, но осенью она снизилась на 1.5%.\n",
    "* Пользователи мобильных устройств в среднем совершают больше заказов, но и среднее время между заказами у них выше по сравнению с пользователями стационарных устройств. Это может объясняться тем, что заказы в мобильных приложениях более спонтанны. Пользователь может оформить заказ, увидев где-то рекламу о мероприятии или получив пуш-уведомление с анонсом, в любом месте и в любое время. Пользователи стационарных компьютеров чаще всего целенаправленно заходят на сайт покупки билетов на мероприятия и и могут оформить сразу несколько заказов, таким образом время между заказами у них будет меньше. \n",
    "\n",
    "#### Рекомендации:\n",
    "* рассмотреть возможность увеличения количества мероприятий, к которым растет интерес (например, спортивные события);\n",
    "* дополнительно проанализировать активность пользователей, рассмотреть возможность рассылки индивидуальных предложений на основе истории покупок - с учетом интересов пользователей;\n",
    "* отслеживать эффект от запускаемых маркетинговых мероприятий, которые приводят к пиковым всплескам числа заказов, оставлять и масштабировать наиболее эффективные и прибыльные."
   ]
  },
  {
   "cell_type": "markdown",
   "id": "18df74b8",
   "metadata": {},
   "source": [
    "<div class=\"alert alert-success\">\n",
    "<h2> Комментарий ревьюера v1 <a class=\"tocSkip\"> </h2>\n",
    "\n",
    "<b>Все супер!👍:</b> Виктория, итоговый вывод, как и весь проект в целом, выполнен классно! Он структурирован и содержит  наиболее значимые результаты по каждому пункту работы.\n",
    "        \n",
    "Ответы на все главные вопросы команды даны!        \n",
    "        \n",
    "Очень интересный и разумный подход сделать упор при написании рекомендаций на указание широкого пула возможных стратегий повышения выручки. По моему опыту, для многих руководителей важно умение аналитика давать всеохватывающие и в то же время конкретные предложения как ты. \n",
    "        \n",
    "Итоговые выводы - важная часть работы и в твоих будующих реальных проектах советую уделять ей не меньшее внимание. Бывают ситуации, когда у руководства нет времени вникать в весь проект и оценка твоих действий будет проводиться именно по ним.    \n",
    "        "
   ]
  },
  {
   "cell_type": "markdown",
   "id": "a7967beb",
   "metadata": {},
   "source": [
    "<div style=\"border:solid Chocolate 2px; padding: 40px\">\n",
    "        \n",
    "**Общий вывод по проекту ревьювера**:\n",
    "         Спасибо за проект! Ты приложила много усилий, чтобы довести его до конца, проделана огромная работа, и это видно невооруженным глазом, ты молодец! \n",
    "         \n",
    "У тебя отлично развиты аналитические способности, владение инструментарием и умение формулировать выводы. Видно, что ты очень хорошо освоила материалы курса)\n",
    "    \n",
    "Работа выполнена полностью по ТЗ и без ошибок, я возвращаю ее тебе, чтобы убедиться в отсутствии вопросов ко мне и если все хорошо, я сразу приму ее)    \n",
    "        \n",
    "**Отмечу положительные моменты**:\n",
    "        \n",
    "        1. Все разложено по полочкам, всегда понятен ход твоих мыслей, приятно смотреть.\n",
    "        \n",
    "        2. Понятные и логичные выводы на всех этапах работы.\n",
    "        \n",
    "        3. Лаконичное оформление визуализаций и проекта в целом.      \n",
    "        \n",
    "        4. Внимание к деталям в анализе параметров \n",
    "\n",
    "        5. Оптимальное написание элементов кода\n",
    "        \n",
    "     \n",
    "        \n",
    "        \n",
    "        \n",
    "        \n",
    "**Поздравляю тебя, еще одна аналитическая работа попадает в твое портфолио!**\n",
    "        \n",
    "        "
   ]
  },
  {
   "cell_type": "code",
   "execution_count": null,
   "id": "e0e157ce",
   "metadata": {},
   "outputs": [],
   "source": []
  }
 ],
 "metadata": {
  "ExecuteTimeLog": [
   {
    "duration": 1493,
    "start_time": "2025-06-18T14:11:32.881Z"
   },
   {
    "duration": 0,
    "start_time": "2025-06-18T14:11:34.378Z"
   },
   {
    "duration": 0,
    "start_time": "2025-06-18T14:11:34.379Z"
   },
   {
    "duration": 0,
    "start_time": "2025-06-18T14:11:34.381Z"
   },
   {
    "duration": 0,
    "start_time": "2025-06-18T14:11:34.382Z"
   },
   {
    "duration": 0,
    "start_time": "2025-06-18T14:11:34.383Z"
   },
   {
    "duration": 0,
    "start_time": "2025-06-18T14:11:34.385Z"
   },
   {
    "duration": 0,
    "start_time": "2025-06-18T14:11:34.386Z"
   },
   {
    "duration": 0,
    "start_time": "2025-06-18T14:11:34.387Z"
   },
   {
    "duration": 0,
    "start_time": "2025-06-18T14:11:34.388Z"
   },
   {
    "duration": 0,
    "start_time": "2025-06-18T14:11:34.389Z"
   },
   {
    "duration": 0,
    "start_time": "2025-06-18T14:11:34.391Z"
   },
   {
    "duration": 0,
    "start_time": "2025-06-18T14:11:34.392Z"
   },
   {
    "duration": 0,
    "start_time": "2025-06-18T14:11:34.393Z"
   },
   {
    "duration": 0,
    "start_time": "2025-06-18T14:11:34.394Z"
   },
   {
    "duration": 0,
    "start_time": "2025-06-18T14:11:34.396Z"
   },
   {
    "duration": 0,
    "start_time": "2025-06-18T14:11:34.397Z"
   },
   {
    "duration": 0,
    "start_time": "2025-06-18T14:11:34.398Z"
   },
   {
    "duration": 0,
    "start_time": "2025-06-18T14:11:34.399Z"
   },
   {
    "duration": 0,
    "start_time": "2025-06-18T14:11:34.400Z"
   },
   {
    "duration": 0,
    "start_time": "2025-06-18T14:11:34.401Z"
   },
   {
    "duration": 0,
    "start_time": "2025-06-18T14:11:34.402Z"
   },
   {
    "duration": 0,
    "start_time": "2025-06-18T14:11:34.403Z"
   },
   {
    "duration": 0,
    "start_time": "2025-06-18T14:11:34.404Z"
   },
   {
    "duration": 0,
    "start_time": "2025-06-18T14:11:34.406Z"
   },
   {
    "duration": 0,
    "start_time": "2025-06-18T14:11:34.407Z"
   },
   {
    "duration": 0,
    "start_time": "2025-06-18T14:11:34.408Z"
   },
   {
    "duration": 0,
    "start_time": "2025-06-18T14:11:34.458Z"
   },
   {
    "duration": 0,
    "start_time": "2025-06-18T14:11:34.460Z"
   },
   {
    "duration": 0,
    "start_time": "2025-06-18T14:11:34.461Z"
   },
   {
    "duration": 0,
    "start_time": "2025-06-18T14:11:34.462Z"
   },
   {
    "duration": 0,
    "start_time": "2025-06-18T14:11:34.463Z"
   },
   {
    "duration": 0,
    "start_time": "2025-06-18T14:11:34.464Z"
   },
   {
    "duration": 0,
    "start_time": "2025-06-18T14:11:34.465Z"
   },
   {
    "duration": 0,
    "start_time": "2025-06-18T14:11:34.467Z"
   },
   {
    "duration": 0,
    "start_time": "2025-06-18T14:11:34.467Z"
   },
   {
    "duration": 0,
    "start_time": "2025-06-18T14:11:34.469Z"
   },
   {
    "duration": 0,
    "start_time": "2025-06-18T14:11:34.470Z"
   },
   {
    "duration": 0,
    "start_time": "2025-06-18T14:11:34.471Z"
   },
   {
    "duration": 0,
    "start_time": "2025-06-18T14:11:34.472Z"
   },
   {
    "duration": 0,
    "start_time": "2025-06-18T14:11:34.473Z"
   },
   {
    "duration": 0,
    "start_time": "2025-06-18T14:11:34.474Z"
   },
   {
    "duration": 0,
    "start_time": "2025-06-18T14:11:34.475Z"
   },
   {
    "duration": 0,
    "start_time": "2025-06-18T14:11:34.476Z"
   },
   {
    "duration": 0,
    "start_time": "2025-06-18T14:11:34.477Z"
   },
   {
    "duration": 0,
    "start_time": "2025-06-18T14:11:34.478Z"
   },
   {
    "duration": 0,
    "start_time": "2025-06-18T14:11:34.479Z"
   },
   {
    "duration": 0,
    "start_time": "2025-06-18T14:11:34.480Z"
   },
   {
    "duration": 0,
    "start_time": "2025-06-18T14:11:34.482Z"
   },
   {
    "duration": 0,
    "start_time": "2025-06-18T14:11:34.483Z"
   },
   {
    "duration": 0,
    "start_time": "2025-06-18T14:11:34.484Z"
   },
   {
    "duration": 0,
    "start_time": "2025-06-18T14:11:34.485Z"
   },
   {
    "duration": 0,
    "start_time": "2025-06-18T14:11:34.486Z"
   },
   {
    "duration": 0,
    "start_time": "2025-06-18T14:11:34.487Z"
   },
   {
    "duration": 0,
    "start_time": "2025-06-18T14:11:34.488Z"
   },
   {
    "duration": 0,
    "start_time": "2025-06-18T14:11:34.489Z"
   },
   {
    "duration": 0,
    "start_time": "2025-06-18T14:11:34.491Z"
   },
   {
    "duration": 0,
    "start_time": "2025-06-18T14:11:34.492Z"
   },
   {
    "duration": 0,
    "start_time": "2025-06-18T14:11:34.493Z"
   },
   {
    "duration": 0,
    "start_time": "2025-06-18T14:11:34.494Z"
   },
   {
    "duration": 0,
    "start_time": "2025-06-18T14:11:34.495Z"
   },
   {
    "duration": 0,
    "start_time": "2025-06-18T14:11:34.558Z"
   },
   {
    "duration": 0,
    "start_time": "2025-06-18T14:11:34.559Z"
   },
   {
    "duration": 0,
    "start_time": "2025-06-18T14:11:34.560Z"
   },
   {
    "duration": 0,
    "start_time": "2025-06-18T14:11:34.561Z"
   },
   {
    "duration": 0,
    "start_time": "2025-06-18T14:11:34.563Z"
   },
   {
    "duration": 0,
    "start_time": "2025-06-18T14:11:34.564Z"
   },
   {
    "duration": 0,
    "start_time": "2025-06-18T14:11:34.565Z"
   },
   {
    "duration": 0,
    "start_time": "2025-06-18T14:11:34.566Z"
   },
   {
    "duration": 0,
    "start_time": "2025-06-18T14:11:34.567Z"
   },
   {
    "duration": 0,
    "start_time": "2025-06-18T14:11:34.568Z"
   },
   {
    "duration": 0,
    "start_time": "2025-06-18T14:11:34.569Z"
   },
   {
    "duration": 3121,
    "start_time": "2025-06-18T14:13:41.122Z"
   },
   {
    "duration": 3669,
    "start_time": "2025-06-18T14:13:52.299Z"
   },
   {
    "duration": 2525,
    "start_time": "2025-06-18T14:13:55.970Z"
   },
   {
    "duration": 101,
    "start_time": "2025-06-18T14:13:58.497Z"
   },
   {
    "duration": 18,
    "start_time": "2025-06-18T14:13:58.600Z"
   },
   {
    "duration": 43,
    "start_time": "2025-06-18T14:13:58.619Z"
   },
   {
    "duration": 11,
    "start_time": "2025-06-18T14:13:58.663Z"
   },
   {
    "duration": 32,
    "start_time": "2025-06-18T14:13:58.676Z"
   },
   {
    "duration": 8,
    "start_time": "2025-06-18T14:13:58.711Z"
   },
   {
    "duration": 257,
    "start_time": "2025-06-18T14:13:58.721Z"
   },
   {
    "duration": 131,
    "start_time": "2025-06-18T14:13:58.981Z"
   },
   {
    "duration": 5,
    "start_time": "2025-06-18T14:13:59.113Z"
   },
   {
    "duration": 499,
    "start_time": "2025-06-18T14:13:59.120Z"
   },
   {
    "duration": 1393,
    "start_time": "2025-06-18T14:13:59.621Z"
   },
   {
    "duration": 99,
    "start_time": "2025-06-18T14:14:01.016Z"
   },
   {
    "duration": 544,
    "start_time": "2025-06-18T14:14:01.117Z"
   },
   {
    "duration": 17,
    "start_time": "2025-06-18T14:14:01.664Z"
   },
   {
    "duration": 33,
    "start_time": "2025-06-18T14:14:01.683Z"
   },
   {
    "duration": 35,
    "start_time": "2025-06-18T14:14:01.718Z"
   },
   {
    "duration": 22,
    "start_time": "2025-06-18T14:14:01.757Z"
   },
   {
    "duration": 20,
    "start_time": "2025-06-18T14:14:01.781Z"
   },
   {
    "duration": 95,
    "start_time": "2025-06-18T14:14:01.803Z"
   },
   {
    "duration": 20,
    "start_time": "2025-06-18T14:14:01.900Z"
   },
   {
    "duration": 136,
    "start_time": "2025-06-18T14:14:01.922Z"
   },
   {
    "duration": 139,
    "start_time": "2025-06-18T14:14:02.060Z"
   },
   {
    "duration": 5,
    "start_time": "2025-06-18T14:14:02.200Z"
   },
   {
    "duration": 453,
    "start_time": "2025-06-18T14:14:02.206Z"
   },
   {
    "duration": 4449,
    "start_time": "2025-06-18T14:14:02.661Z"
   },
   {
    "duration": 4,
    "start_time": "2025-06-18T14:14:07.114Z"
   },
   {
    "duration": 164,
    "start_time": "2025-06-18T14:14:07.119Z"
   },
   {
    "duration": 74,
    "start_time": "2025-06-18T14:14:07.284Z"
   },
   {
    "duration": 12,
    "start_time": "2025-06-18T14:14:07.359Z"
   },
   {
    "duration": 290,
    "start_time": "2025-06-18T14:14:07.373Z"
   },
   {
    "duration": 335,
    "start_time": "2025-06-18T14:14:07.664Z"
   },
   {
    "duration": 18,
    "start_time": "2025-06-18T14:14:08.001Z"
   },
   {
    "duration": 217,
    "start_time": "2025-06-18T14:14:08.020Z"
   },
   {
    "duration": 396,
    "start_time": "2025-06-18T14:14:08.238Z"
   },
   {
    "duration": 6,
    "start_time": "2025-06-18T14:14:08.636Z"
   },
   {
    "duration": 373,
    "start_time": "2025-06-18T14:14:08.643Z"
   },
   {
    "duration": 46,
    "start_time": "2025-06-18T14:14:09.018Z"
   },
   {
    "duration": 15,
    "start_time": "2025-06-18T14:14:09.066Z"
   },
   {
    "duration": 332,
    "start_time": "2025-06-18T14:14:09.083Z"
   },
   {
    "duration": 79,
    "start_time": "2025-06-18T14:14:09.417Z"
   },
   {
    "duration": 362,
    "start_time": "2025-06-18T14:14:09.497Z"
   },
   {
    "duration": 375,
    "start_time": "2025-06-18T14:14:09.861Z"
   },
   {
    "duration": 389,
    "start_time": "2025-06-18T14:14:10.238Z"
   },
   {
    "duration": 72,
    "start_time": "2025-06-18T14:14:10.628Z"
   },
   {
    "duration": 256,
    "start_time": "2025-06-18T14:14:10.702Z"
   },
   {
    "duration": 0,
    "start_time": "2025-06-18T14:14:10.961Z"
   },
   {
    "duration": 0,
    "start_time": "2025-06-18T14:14:10.963Z"
   },
   {
    "duration": 0,
    "start_time": "2025-06-18T14:14:10.964Z"
   },
   {
    "duration": 0,
    "start_time": "2025-06-18T14:14:10.965Z"
   },
   {
    "duration": 0,
    "start_time": "2025-06-18T14:14:10.966Z"
   },
   {
    "duration": 0,
    "start_time": "2025-06-18T14:14:10.968Z"
   },
   {
    "duration": 0,
    "start_time": "2025-06-18T14:14:10.969Z"
   },
   {
    "duration": 0,
    "start_time": "2025-06-18T14:14:10.970Z"
   },
   {
    "duration": 0,
    "start_time": "2025-06-18T14:14:10.972Z"
   },
   {
    "duration": 0,
    "start_time": "2025-06-18T14:14:10.973Z"
   },
   {
    "duration": 0,
    "start_time": "2025-06-18T14:14:10.974Z"
   },
   {
    "duration": 0,
    "start_time": "2025-06-18T14:14:10.975Z"
   },
   {
    "duration": 0,
    "start_time": "2025-06-18T14:14:10.977Z"
   },
   {
    "duration": 0,
    "start_time": "2025-06-18T14:14:10.978Z"
   },
   {
    "duration": 0,
    "start_time": "2025-06-18T14:14:10.979Z"
   },
   {
    "duration": 0,
    "start_time": "2025-06-18T14:14:10.981Z"
   },
   {
    "duration": 0,
    "start_time": "2025-06-18T14:14:10.982Z"
   },
   {
    "duration": 0,
    "start_time": "2025-06-18T14:14:10.983Z"
   },
   {
    "duration": 0,
    "start_time": "2025-06-18T14:14:10.984Z"
   },
   {
    "duration": 0,
    "start_time": "2025-06-18T14:14:10.985Z"
   },
   {
    "duration": 0,
    "start_time": "2025-06-18T14:14:10.987Z"
   },
   {
    "duration": 0,
    "start_time": "2025-06-18T14:14:10.988Z"
   },
   {
    "duration": 0,
    "start_time": "2025-06-18T14:14:10.989Z"
   },
   {
    "duration": 0,
    "start_time": "2025-06-18T14:14:10.990Z"
   },
   {
    "duration": 0,
    "start_time": "2025-06-18T14:14:10.991Z"
   },
   {
    "duration": 265,
    "start_time": "2025-06-18T14:16:13.271Z"
   },
   {
    "duration": 3596,
    "start_time": "2025-06-18T14:16:58.489Z"
   },
   {
    "duration": 1819,
    "start_time": "2025-06-18T14:17:02.088Z"
   },
   {
    "duration": 101,
    "start_time": "2025-06-18T14:17:03.908Z"
   },
   {
    "duration": 17,
    "start_time": "2025-06-18T14:17:04.011Z"
   },
   {
    "duration": 29,
    "start_time": "2025-06-18T14:17:04.029Z"
   },
   {
    "duration": 12,
    "start_time": "2025-06-18T14:17:04.060Z"
   },
   {
    "duration": 11,
    "start_time": "2025-06-18T14:17:04.074Z"
   },
   {
    "duration": 8,
    "start_time": "2025-06-18T14:17:04.086Z"
   },
   {
    "duration": 266,
    "start_time": "2025-06-18T14:17:04.095Z"
   },
   {
    "duration": 122,
    "start_time": "2025-06-18T14:17:04.363Z"
   },
   {
    "duration": 5,
    "start_time": "2025-06-18T14:17:04.487Z"
   },
   {
    "duration": 390,
    "start_time": "2025-06-18T14:17:04.494Z"
   },
   {
    "duration": 1412,
    "start_time": "2025-06-18T14:17:04.886Z"
   },
   {
    "duration": 72,
    "start_time": "2025-06-18T14:17:06.299Z"
   },
   {
    "duration": 456,
    "start_time": "2025-06-18T14:17:06.373Z"
   },
   {
    "duration": 28,
    "start_time": "2025-06-18T14:17:06.831Z"
   },
   {
    "duration": 17,
    "start_time": "2025-06-18T14:17:06.861Z"
   },
   {
    "duration": 23,
    "start_time": "2025-06-18T14:17:06.880Z"
   },
   {
    "duration": 21,
    "start_time": "2025-06-18T14:17:06.904Z"
   },
   {
    "duration": 124,
    "start_time": "2025-06-18T14:17:06.926Z"
   },
   {
    "duration": 30,
    "start_time": "2025-06-18T14:17:07.052Z"
   },
   {
    "duration": 13,
    "start_time": "2025-06-18T14:17:07.084Z"
   },
   {
    "duration": 124,
    "start_time": "2025-06-18T14:17:07.098Z"
   },
   {
    "duration": 136,
    "start_time": "2025-06-18T14:17:07.224Z"
   },
   {
    "duration": 4,
    "start_time": "2025-06-18T14:17:07.361Z"
   },
   {
    "duration": 521,
    "start_time": "2025-06-18T14:17:07.367Z"
   },
   {
    "duration": 4429,
    "start_time": "2025-06-18T14:17:07.890Z"
   },
   {
    "duration": 5,
    "start_time": "2025-06-18T14:17:12.322Z"
   },
   {
    "duration": 40,
    "start_time": "2025-06-18T14:17:12.328Z"
   },
   {
    "duration": 62,
    "start_time": "2025-06-18T14:17:12.370Z"
   },
   {
    "duration": 25,
    "start_time": "2025-06-18T14:17:12.434Z"
   },
   {
    "duration": 203,
    "start_time": "2025-06-18T14:17:12.461Z"
   },
   {
    "duration": 335,
    "start_time": "2025-06-18T14:17:12.666Z"
   },
   {
    "duration": 19,
    "start_time": "2025-06-18T14:17:13.003Z"
   },
   {
    "duration": 220,
    "start_time": "2025-06-18T14:17:13.024Z"
   },
   {
    "duration": 376,
    "start_time": "2025-06-18T14:17:13.246Z"
   },
   {
    "duration": 6,
    "start_time": "2025-06-18T14:17:13.624Z"
   },
   {
    "duration": 363,
    "start_time": "2025-06-18T14:17:13.631Z"
   },
   {
    "duration": 24,
    "start_time": "2025-06-18T14:17:13.996Z"
   },
   {
    "duration": 10,
    "start_time": "2025-06-18T14:17:14.022Z"
   },
   {
    "duration": 309,
    "start_time": "2025-06-18T14:17:14.034Z"
   },
   {
    "duration": 75,
    "start_time": "2025-06-18T14:17:14.345Z"
   },
   {
    "duration": 344,
    "start_time": "2025-06-18T14:17:14.422Z"
   },
   {
    "duration": 365,
    "start_time": "2025-06-18T14:17:14.768Z"
   },
   {
    "duration": 399,
    "start_time": "2025-06-18T14:17:15.159Z"
   },
   {
    "duration": 63,
    "start_time": "2025-06-18T14:17:15.561Z"
   },
   {
    "duration": 401,
    "start_time": "2025-06-18T14:17:15.625Z"
   },
   {
    "duration": 110,
    "start_time": "2025-06-18T14:17:16.028Z"
   },
   {
    "duration": 578,
    "start_time": "2025-06-18T14:17:16.140Z"
   },
   {
    "duration": 491,
    "start_time": "2025-06-18T14:17:16.719Z"
   },
   {
    "duration": 20,
    "start_time": "2025-06-18T14:17:17.212Z"
   },
   {
    "duration": 41,
    "start_time": "2025-06-18T14:17:17.235Z"
   },
   {
    "duration": 173,
    "start_time": "2025-06-18T14:17:17.277Z"
   },
   {
    "duration": 154,
    "start_time": "2025-06-18T14:17:17.451Z"
   },
   {
    "duration": 61,
    "start_time": "2025-06-18T14:17:17.607Z"
   },
   {
    "duration": 56,
    "start_time": "2025-06-18T14:17:17.670Z"
   },
   {
    "duration": 113,
    "start_time": "2025-06-18T14:17:17.728Z"
   },
   {
    "duration": 22,
    "start_time": "2025-06-18T14:17:17.843Z"
   },
   {
    "duration": 53,
    "start_time": "2025-06-18T14:17:17.867Z"
   },
   {
    "duration": 18,
    "start_time": "2025-06-18T14:17:17.921Z"
   },
   {
    "duration": 8,
    "start_time": "2025-06-18T14:17:17.940Z"
   },
   {
    "duration": 7,
    "start_time": "2025-06-18T14:17:17.950Z"
   },
   {
    "duration": 648,
    "start_time": "2025-06-18T14:17:17.959Z"
   },
   {
    "duration": 149,
    "start_time": "2025-06-18T14:17:18.609Z"
   },
   {
    "duration": 13,
    "start_time": "2025-06-18T14:17:18.759Z"
   },
   {
    "duration": 5,
    "start_time": "2025-06-18T14:17:18.774Z"
   },
   {
    "duration": 124,
    "start_time": "2025-06-18T14:17:18.781Z"
   },
   {
    "duration": 0,
    "start_time": "2025-06-18T14:17:18.907Z"
   },
   {
    "duration": 0,
    "start_time": "2025-06-18T14:17:18.908Z"
   },
   {
    "duration": 0,
    "start_time": "2025-06-18T14:17:18.909Z"
   },
   {
    "duration": 0,
    "start_time": "2025-06-18T14:17:18.910Z"
   },
   {
    "duration": 0,
    "start_time": "2025-06-18T14:17:18.911Z"
   },
   {
    "duration": 21,
    "start_time": "2025-06-18T14:19:55.794Z"
   },
   {
    "duration": 3653,
    "start_time": "2025-06-18T14:20:04.928Z"
   },
   {
    "duration": 1936,
    "start_time": "2025-06-18T14:20:08.583Z"
   },
   {
    "duration": 112,
    "start_time": "2025-06-18T14:20:10.521Z"
   },
   {
    "duration": 19,
    "start_time": "2025-06-18T14:20:10.635Z"
   },
   {
    "duration": 19,
    "start_time": "2025-06-18T14:20:10.655Z"
   },
   {
    "duration": 11,
    "start_time": "2025-06-18T14:20:10.676Z"
   },
   {
    "duration": 10,
    "start_time": "2025-06-18T14:20:10.689Z"
   },
   {
    "duration": 8,
    "start_time": "2025-06-18T14:20:10.701Z"
   },
   {
    "duration": 308,
    "start_time": "2025-06-18T14:20:10.710Z"
   },
   {
    "duration": 139,
    "start_time": "2025-06-18T14:20:11.021Z"
   },
   {
    "duration": 6,
    "start_time": "2025-06-18T14:20:11.161Z"
   },
   {
    "duration": 491,
    "start_time": "2025-06-18T14:20:11.168Z"
   },
   {
    "duration": 1451,
    "start_time": "2025-06-18T14:20:11.661Z"
   },
   {
    "duration": 77,
    "start_time": "2025-06-18T14:20:13.114Z"
   },
   {
    "duration": 452,
    "start_time": "2025-06-18T14:20:13.193Z"
   },
   {
    "duration": 27,
    "start_time": "2025-06-18T14:20:13.647Z"
   },
   {
    "duration": 33,
    "start_time": "2025-06-18T14:20:13.676Z"
   },
   {
    "duration": 48,
    "start_time": "2025-06-18T14:20:13.711Z"
   },
   {
    "duration": 21,
    "start_time": "2025-06-18T14:20:13.760Z"
   },
   {
    "duration": 20,
    "start_time": "2025-06-18T14:20:13.783Z"
   },
   {
    "duration": 26,
    "start_time": "2025-06-18T14:20:13.804Z"
   },
   {
    "duration": 68,
    "start_time": "2025-06-18T14:20:13.832Z"
   },
   {
    "duration": 152,
    "start_time": "2025-06-18T14:20:13.902Z"
   },
   {
    "duration": 158,
    "start_time": "2025-06-18T14:20:14.056Z"
   },
   {
    "duration": 4,
    "start_time": "2025-06-18T14:20:14.215Z"
   },
   {
    "duration": 471,
    "start_time": "2025-06-18T14:20:14.221Z"
   },
   {
    "duration": 4576,
    "start_time": "2025-06-18T14:20:14.694Z"
   },
   {
    "duration": 5,
    "start_time": "2025-06-18T14:20:19.274Z"
   },
   {
    "duration": 33,
    "start_time": "2025-06-18T14:20:19.280Z"
   },
   {
    "duration": 74,
    "start_time": "2025-06-18T14:20:19.315Z"
   },
   {
    "duration": 12,
    "start_time": "2025-06-18T14:20:19.391Z"
   },
   {
    "duration": 265,
    "start_time": "2025-06-18T14:20:19.405Z"
   },
   {
    "duration": 343,
    "start_time": "2025-06-18T14:20:19.671Z"
   },
   {
    "duration": 20,
    "start_time": "2025-06-18T14:20:20.016Z"
   },
   {
    "duration": 235,
    "start_time": "2025-06-18T14:20:20.037Z"
   },
   {
    "duration": 398,
    "start_time": "2025-06-18T14:20:20.274Z"
   },
   {
    "duration": 6,
    "start_time": "2025-06-18T14:20:20.673Z"
   },
   {
    "duration": 376,
    "start_time": "2025-06-18T14:20:20.680Z"
   },
   {
    "duration": 26,
    "start_time": "2025-06-18T14:20:21.058Z"
   },
   {
    "duration": 23,
    "start_time": "2025-06-18T14:20:21.085Z"
   },
   {
    "duration": 321,
    "start_time": "2025-06-18T14:20:21.111Z"
   },
   {
    "duration": 85,
    "start_time": "2025-06-18T14:20:21.434Z"
   },
   {
    "duration": 393,
    "start_time": "2025-06-18T14:20:21.521Z"
   },
   {
    "duration": 416,
    "start_time": "2025-06-18T14:20:21.917Z"
   },
   {
    "duration": 384,
    "start_time": "2025-06-18T14:20:22.335Z"
   },
   {
    "duration": 74,
    "start_time": "2025-06-18T14:20:22.720Z"
   },
   {
    "duration": 264,
    "start_time": "2025-06-18T14:20:22.796Z"
   },
   {
    "duration": 87,
    "start_time": "2025-06-18T14:20:23.062Z"
   },
   {
    "duration": 608,
    "start_time": "2025-06-18T14:20:23.150Z"
   },
   {
    "duration": 508,
    "start_time": "2025-06-18T14:20:23.759Z"
   },
   {
    "duration": 21,
    "start_time": "2025-06-18T14:20:24.268Z"
   },
   {
    "duration": 21,
    "start_time": "2025-06-18T14:20:24.290Z"
   },
   {
    "duration": 189,
    "start_time": "2025-06-18T14:20:24.312Z"
   },
   {
    "duration": 174,
    "start_time": "2025-06-18T14:20:24.502Z"
   },
   {
    "duration": 56,
    "start_time": "2025-06-18T14:20:24.677Z"
   },
   {
    "duration": 69,
    "start_time": "2025-06-18T14:20:24.734Z"
   },
   {
    "duration": 108,
    "start_time": "2025-06-18T14:20:24.804Z"
   },
   {
    "duration": 17,
    "start_time": "2025-06-18T14:20:24.914Z"
   },
   {
    "duration": 104,
    "start_time": "2025-06-18T14:20:24.933Z"
   },
   {
    "duration": 18,
    "start_time": "2025-06-18T14:20:25.039Z"
   },
   {
    "duration": 8,
    "start_time": "2025-06-18T14:20:25.059Z"
   },
   {
    "duration": 9,
    "start_time": "2025-06-18T14:20:25.069Z"
   },
   {
    "duration": 750,
    "start_time": "2025-06-18T14:20:25.080Z"
   },
   {
    "duration": 157,
    "start_time": "2025-06-18T14:20:25.831Z"
   },
   {
    "duration": 11,
    "start_time": "2025-06-18T14:20:25.989Z"
   },
   {
    "duration": 4,
    "start_time": "2025-06-18T14:20:26.002Z"
   },
   {
    "duration": 28,
    "start_time": "2025-06-18T14:20:26.008Z"
   },
   {
    "duration": 27,
    "start_time": "2025-06-18T14:20:26.038Z"
   },
   {
    "duration": 8,
    "start_time": "2025-06-18T14:20:26.067Z"
   },
   {
    "duration": 707,
    "start_time": "2025-06-18T14:20:26.076Z"
   },
   {
    "duration": 204,
    "start_time": "2025-06-18T14:20:26.784Z"
   },
   {
    "duration": 23,
    "start_time": "2025-06-18T14:20:26.990Z"
   }
  ],
  "kernelspec": {
   "display_name": "Python 3 (ipykernel)",
   "language": "python",
   "name": "python3"
  },
  "language_info": {
   "codemirror_mode": {
    "name": "ipython",
    "version": 3
   },
   "file_extension": ".py",
   "mimetype": "text/x-python",
   "name": "python",
   "nbconvert_exporter": "python",
   "pygments_lexer": "ipython3",
   "version": "3.9.5"
  },
  "toc": {
   "base_numbering": 1,
   "nav_menu": {},
   "number_sections": true,
   "sideBar": true,
   "skip_h1_title": true,
   "title_cell": "Table of Contents",
   "title_sidebar": "Contents",
   "toc_cell": false,
   "toc_position": {},
   "toc_section_display": true,
   "toc_window_display": false
  }
 },
 "nbformat": 4,
 "nbformat_minor": 5
}
