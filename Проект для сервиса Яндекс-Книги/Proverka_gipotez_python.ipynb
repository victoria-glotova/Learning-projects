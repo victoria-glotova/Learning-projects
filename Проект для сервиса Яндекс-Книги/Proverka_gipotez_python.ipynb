{
 "cells": [
  {
   "cell_type": "markdown",
   "id": "e06910dd",
   "metadata": {
    "id": "e06910dd"
   },
   "source": [
    "## Анализ данных о чтении и прослушивании контента сервиса Яндекс Книги пользователей из Москвы и Санкт-Петербурга\n",
    "\n",
    "- Автор: Глотова Виктория\n",
    "- Дата: 27.05.2025"
   ]
  },
  {
   "cell_type": "markdown",
   "id": "4149134c",
   "metadata": {
    "id": "4149134c"
   },
   "source": [
    "## Цели и задачи проекта\n",
    "\n",
    "**Основная цель проекта** - сравнить данные о чтении и прослушивании контента сервиса Яндекс Книги пользователей из Москвы и Санкт-Петербурга и определить, в каком из городов сервис используется активнее.\n",
    "\n",
    "**Задачи проекта:**\n",
    "* Загрузить данные и познакомиться с их содержимым;\n",
    "* Провести предобработку данных, проверив на наличие дубликатов и пропусков;\n",
    "* Сравнить размеры групп пользователей Москвы и Санкт-Петербурга, их статистики и распределение;\n",
    "* Проверить гипотезу о том, что пользователи из Санкт-Петербурга проводят в среднем больше времени за чтением и прослушиванием книг в приложении, чем пользователи из Москвы."
   ]
  },
  {
   "cell_type": "markdown",
   "id": "728986ea",
   "metadata": {
    "id": "728986ea"
   },
   "source": [
    "## Описание данных\n",
    "\n",
    "Данные предоставлены в двух датасетах. Информация с описанием структуры данных скрыта в соответствии с положением о неразглашении."
   ]
  },
  {
   "cell_type": "markdown",
   "id": "4fecaf95",
   "metadata": {
    "id": "4fecaf95"
   },
   "source": [
    "## Содержимое проекта\n",
    "\n",
    "1. Загрузка данных и знакомство с ними.\n",
    "2. Проверка гипотезы в Python.\n",
    "3. Аналитическая записка.\n",
    "\n",
    "---"
   ]
  },
  {
   "cell_type": "markdown",
   "id": "6f7d21d6",
   "metadata": {
    "id": "6f7d21d6"
   },
   "source": [
    "## 1. Загрузка данных и знакомство с ними\n",
    "\n",
    "Загрузим библиотеку pandas, а также другие необходимые библиотеки и данные из файла `/datasets/yandex_knigi_data.csv`."
   ]
  },
  {
   "cell_type": "code",
   "execution_count": 6,
   "id": "05faf34b",
   "metadata": {
    "id": "05faf34b"
   },
   "outputs": [],
   "source": [
    "# Импортируем библиотекy pandas\n",
    "import pandas as pd\n",
    "\n",
    "# Импортируем другие библиотеки\n",
    "import seaborn as sns\n",
    "import matplotlib.pyplot as plt\n",
    "from statsmodels.stats.power import NormalIndPower\n",
    "import numpy as np\n",
    "from statsmodels.stats.proportion import proportions_ztest"
   ]
  },
  {
   "cell_type": "markdown",
   "id": "9f47e4d0-b801-458a-9e72-c91bdb899e4c",
   "metadata": {
    "id": "ce87c1db"
   },
   "source": [
    "Загрузка данных - информация скрыта в соответствии с положением о неразглашении."
   ]
  },
  {
   "cell_type": "code",
   "execution_count": 8,
   "id": "f68a7419",
   "metadata": {
    "id": "f68a7419",
    "scrolled": true
   },
   "outputs": [
    {
     "data": {
      "text/html": [
       "<div>\n",
       "<style scoped>\n",
       "    .dataframe tbody tr th:only-of-type {\n",
       "        vertical-align: middle;\n",
       "    }\n",
       "\n",
       "    .dataframe tbody tr th {\n",
       "        vertical-align: top;\n",
       "    }\n",
       "\n",
       "    .dataframe thead th {\n",
       "        text-align: right;\n",
       "    }\n",
       "</style>\n",
       "<table border=\"1\" class=\"dataframe\">\n",
       "  <thead>\n",
       "    <tr style=\"text-align: right;\">\n",
       "      <th></th>\n",
       "      <th>Unnamed: 0</th>\n",
       "      <th>city</th>\n",
       "      <th>puid</th>\n",
       "      <th>hours</th>\n",
       "    </tr>\n",
       "  </thead>\n",
       "  <tbody>\n",
       "    <tr>\n",
       "      <th>0</th>\n",
       "      <td>0</td>\n",
       "      <td>Москва</td>\n",
       "      <td>9668</td>\n",
       "      <td>26.167776</td>\n",
       "    </tr>\n",
       "    <tr>\n",
       "      <th>1</th>\n",
       "      <td>1</td>\n",
       "      <td>Москва</td>\n",
       "      <td>16598</td>\n",
       "      <td>82.111217</td>\n",
       "    </tr>\n",
       "    <tr>\n",
       "      <th>2</th>\n",
       "      <td>2</td>\n",
       "      <td>Москва</td>\n",
       "      <td>80401</td>\n",
       "      <td>4.656906</td>\n",
       "    </tr>\n",
       "    <tr>\n",
       "      <th>3</th>\n",
       "      <td>3</td>\n",
       "      <td>Москва</td>\n",
       "      <td>140205</td>\n",
       "      <td>1.840556</td>\n",
       "    </tr>\n",
       "    <tr>\n",
       "      <th>4</th>\n",
       "      <td>4</td>\n",
       "      <td>Москва</td>\n",
       "      <td>248755</td>\n",
       "      <td>151.326434</td>\n",
       "    </tr>\n",
       "  </tbody>\n",
       "</table>\n",
       "</div>"
      ],
      "text/plain": [
       "   Unnamed: 0    city    puid       hours\n",
       "0           0  Москва    9668   26.167776\n",
       "1           1  Москва   16598   82.111217\n",
       "2           2  Москва   80401    4.656906\n",
       "3           3  Москва  140205    1.840556\n",
       "4           4  Москва  248755  151.326434"
      ]
     },
     "execution_count": 8,
     "metadata": {},
     "output_type": "execute_result"
    }
   ],
   "source": [
    "# Выгрузим первые строки полученного датафрейма\n",
    "knigi.head()"
   ]
  },
  {
   "cell_type": "code",
   "execution_count": 9,
   "id": "3a48757e",
   "metadata": {},
   "outputs": [
    {
     "data": {
      "text/html": [
       "<div>\n",
       "<style scoped>\n",
       "    .dataframe tbody tr th:only-of-type {\n",
       "        vertical-align: middle;\n",
       "    }\n",
       "\n",
       "    .dataframe tbody tr th {\n",
       "        vertical-align: top;\n",
       "    }\n",
       "\n",
       "    .dataframe thead th {\n",
       "        text-align: right;\n",
       "    }\n",
       "</style>\n",
       "<table border=\"1\" class=\"dataframe\">\n",
       "  <thead>\n",
       "    <tr style=\"text-align: right;\">\n",
       "      <th></th>\n",
       "      <th>city</th>\n",
       "      <th>puid</th>\n",
       "      <th>hours</th>\n",
       "    </tr>\n",
       "    <tr>\n",
       "      <th>Unnamed: 0</th>\n",
       "      <th></th>\n",
       "      <th></th>\n",
       "      <th></th>\n",
       "    </tr>\n",
       "  </thead>\n",
       "  <tbody>\n",
       "    <tr>\n",
       "      <th>0</th>\n",
       "      <td>Москва</td>\n",
       "      <td>9668</td>\n",
       "      <td>26.167776</td>\n",
       "    </tr>\n",
       "    <tr>\n",
       "      <th>1</th>\n",
       "      <td>Москва</td>\n",
       "      <td>16598</td>\n",
       "      <td>82.111217</td>\n",
       "    </tr>\n",
       "    <tr>\n",
       "      <th>2</th>\n",
       "      <td>Москва</td>\n",
       "      <td>80401</td>\n",
       "      <td>4.656906</td>\n",
       "    </tr>\n",
       "    <tr>\n",
       "      <th>3</th>\n",
       "      <td>Москва</td>\n",
       "      <td>140205</td>\n",
       "      <td>1.840556</td>\n",
       "    </tr>\n",
       "    <tr>\n",
       "      <th>4</th>\n",
       "      <td>Москва</td>\n",
       "      <td>248755</td>\n",
       "      <td>151.326434</td>\n",
       "    </tr>\n",
       "  </tbody>\n",
       "</table>\n",
       "</div>"
      ],
      "text/plain": [
       "              city    puid       hours\n",
       "Unnamed: 0                            \n",
       "0           Москва    9668   26.167776\n",
       "1           Москва   16598   82.111217\n",
       "2           Москва   80401    4.656906\n",
       "3           Москва  140205    1.840556\n",
       "4           Москва  248755  151.326434"
      ]
     },
     "execution_count": 9,
     "metadata": {},
     "output_type": "execute_result"
    }
   ],
   "source": [
    "# Сделаем столбец Unnamed: 0 индексом\n",
    "knigi = knigi.set_index('Unnamed: 0')\n",
    "knigi.head()"
   ]
  },
  {
   "cell_type": "code",
   "execution_count": 10,
   "id": "2267ada8",
   "metadata": {},
   "outputs": [
    {
     "name": "stdout",
     "output_type": "stream",
     "text": [
      "<class 'pandas.core.frame.DataFrame'>\n",
      "Index: 8784 entries, 0 to 8783\n",
      "Data columns (total 3 columns):\n",
      " #   Column  Non-Null Count  Dtype  \n",
      "---  ------  --------------  -----  \n",
      " 0   city    8784 non-null   object \n",
      " 1   puid    8784 non-null   int64  \n",
      " 2   hours   8784 non-null   float64\n",
      "dtypes: float64(1), int64(1), object(1)\n",
      "memory usage: 274.5+ KB\n"
     ]
    }
   ],
   "source": [
    "# Получим информацию о типе данных и их количестве\n",
    "knigi.info()"
   ]
  },
  {
   "cell_type": "markdown",
   "id": "1ce8ed49",
   "metadata": {},
   "source": [
    "Содержимое датафрейма, включая тип данных, соответствует описанию. Пропусков нет. Проверим наличие дубликатов в данных столбца `puid`."
   ]
  },
  {
   "cell_type": "code",
   "execution_count": 12,
   "id": "a740e92f",
   "metadata": {},
   "outputs": [
    {
     "data": {
      "text/plain": [
       "244"
      ]
     },
     "execution_count": 12,
     "metadata": {},
     "output_type": "execute_result"
    }
   ],
   "source": [
    "duplicates = knigi['puid'].duplicated().sum()\n",
    "duplicates"
   ]
  },
  {
   "cell_type": "code",
   "execution_count": 13,
   "id": "16a538ff",
   "metadata": {},
   "outputs": [],
   "source": [
    "# удалим дубликаты\n",
    "knigi_cleaned = knigi.drop_duplicates(subset = 'puid')"
   ]
  },
  {
   "cell_type": "code",
   "execution_count": 14,
   "id": "2b4bba55",
   "metadata": {
    "scrolled": true
   },
   "outputs": [
    {
     "data": {
      "text/plain": [
       "'Удалено дубликатов: 244, это 2.78% от всех записей'"
      ]
     },
     "metadata": {},
     "output_type": "display_data"
    }
   ],
   "source": [
    "display(f\"Удалено дубликатов: {duplicates}, это {round(duplicates/len(knigi)*100, 2)}% от всех записей\")"
   ]
  },
  {
   "cell_type": "markdown",
   "id": "6935cbd6",
   "metadata": {},
   "source": [
    "Убедимся, что в оставшихся данных представлена информация только о пользователях Москвы и Санкт-Петербурга и определим размеры групп."
   ]
  },
  {
   "cell_type": "code",
   "execution_count": 16,
   "id": "76b295ff",
   "metadata": {},
   "outputs": [
    {
     "data": {
      "text/plain": [
       "city\n",
       "Москва             6234\n",
       "Санкт-Петербург    2306\n",
       "Name: count, dtype: int64"
      ]
     },
     "execution_count": 16,
     "metadata": {},
     "output_type": "execute_result"
    }
   ],
   "source": [
    "knigi_cleaned['city'].value_counts()"
   ]
  },
  {
   "cell_type": "markdown",
   "id": "c19ae604",
   "metadata": {},
   "source": [
    "Группа пользователей из Москвы значительно больше группы из Санкт-Петербурга. Проверим, являются ли группы независимыми:"
   ]
  },
  {
   "cell_type": "code",
   "execution_count": 18,
   "id": "7b5d03e7",
   "metadata": {},
   "outputs": [],
   "source": [
    "moscow_df = knigi_cleaned[knigi_cleaned['city'] == 'Москва'].copy()\n",
    "spb_df = knigi_cleaned[knigi_cleaned['city'] == 'Санкт-Петербург'].copy()"
   ]
  },
  {
   "cell_type": "code",
   "execution_count": 19,
   "id": "1b4f1932",
   "metadata": {},
   "outputs": [
    {
     "data": {
      "text/plain": [
       "'Совпадающих значений между группами Москвы и Санкт-Петербурга: 0'"
      ]
     },
     "metadata": {},
     "output_type": "display_data"
    }
   ],
   "source": [
    "users_a = set(moscow_df['puid'])\n",
    "users_b = set(spb_df['puid'])\n",
    "\n",
    "intersection_group = users_a.intersection(users_b)\n",
    "display (f'Совпадающих значений между группами Москвы и Санкт-Петербурга: {len(intersection_group)}')"
   ]
  },
  {
   "cell_type": "markdown",
   "id": "174ffc15",
   "metadata": {},
   "source": [
    "Совпадающих значений не обнаружено, группы независимые. Сравним статистики обех групп:"
   ]
  },
  {
   "cell_type": "code",
   "execution_count": 21,
   "id": "e9ea3357",
   "metadata": {},
   "outputs": [
    {
     "data": {
      "text/plain": [
       "count    6234.000000\n",
       "mean       10.881092\n",
       "std        36.851683\n",
       "min         0.000018\n",
       "25%         0.059903\n",
       "50%         0.924498\n",
       "75%         5.939972\n",
       "max       857.209373\n",
       "Name: hours, dtype: float64"
      ]
     },
     "execution_count": 21,
     "metadata": {},
     "output_type": "execute_result"
    }
   ],
   "source": [
    "#группа пользователей из Москвы\n",
    "knigi_cleaned['hours'][knigi_cleaned['city'] == 'Москва'].describe()"
   ]
  },
  {
   "cell_type": "code",
   "execution_count": 22,
   "id": "c7d91a1c",
   "metadata": {},
   "outputs": [
    {
     "data": {
      "text/plain": [
       "count    2306.000000\n",
       "mean       11.264433\n",
       "std        39.831755\n",
       "min         0.000025\n",
       "25%         0.060173\n",
       "50%         0.875355\n",
       "75%         6.138424\n",
       "max       978.764775\n",
       "Name: hours, dtype: float64"
      ]
     },
     "execution_count": 22,
     "metadata": {},
     "output_type": "execute_result"
    }
   ],
   "source": [
    "#группа пользователей из Санкт-Петербурга\n",
    "knigi_cleaned['hours'][knigi_cleaned['city'] == 'Санкт-Петербург'].describe()"
   ]
  },
  {
   "cell_type": "markdown",
   "id": "a0a6b54e",
   "metadata": {},
   "source": [
    "Судя по максимальным значения (857 и 978 часов), значению медианы (0.92 и 0.87 часа) и высокому стандартному отклонению (36.85 и 39.83) данные сильно ассиметричны, имеют большие выбросы и не имеют нормального распределения. Построим графики, чтобы в этом убедиться."
   ]
  },
  {
   "cell_type": "code",
   "execution_count": 24,
   "id": "b5f929f5",
   "metadata": {},
   "outputs": [
    {
     "data": {
      "image/png": "[encoded data removed]",
      "text/plain": [
       "<Figure size 1500x700 with 1 Axes>"
      ]
     },
     "metadata": {},
     "output_type": "display_data"
    }
   ],
   "source": [
    "plt.figure(figsize=(15, 7))\n",
    "sns.histplot(moscow_df['hours'], color='blue', label='Москва', kde=True, stat='density', bins=50, alpha=0.5)\n",
    "sns.histplot(spb_df['hours'], color='green', label='Санкт-Петербург', kde=True, stat='density', bins=50, alpha=0.5)\n",
    "\n",
    "plt.legend()\n",
    "plt.xlabel('Количество часов')\n",
    "plt.ylabel('Плотность распределения')\n",
    "plt.title('Сравнение распределений времени использования сервиса пользователями Москвы и Санкт-Петербурга')\n",
    "plt.show()"
   ]
  },
  {
   "cell_type": "code",
   "execution_count": 25,
   "id": "efb6e695",
   "metadata": {},
   "outputs": [
    {
     "data": {
      "image/png": "[encoded data removed]",
      "text/plain": [
       "<Figure size 640x480 with 1 Axes>"
      ]
     },
     "metadata": {},
     "output_type": "display_data"
    }
   ],
   "source": [
    "sns.boxplot(data=[moscow_df['hours'], spb_df['hours']])\n",
    "plt.xticks([0, 1], ['Москва', 'Санкт-Петербург'])\n",
    "plt.title('Сравнение статистик по городам')\n",
    "plt.show()"
   ]
  },
  {
   "cell_type": "markdown",
   "id": "a195f3bb",
   "metadata": {},
   "source": [
    "Таким образом, в ходе знакомства с данными выявлено следующее:\n",
    "- из исходного датафрейма удалено 244 дубликата по идентификационному номеру пользователя, это 2.78% от всех записей;\n",
    "- оставшиеся данные поделены на 2 группы по городам пользователей, проверены на независимость, пересечений между пользователями нет;\n",
    "- группы неравномерны по количеству пользователей, их распределения по столбцу `hours` ассиметричны и имеют большие выбросы, следовательно, это необходимо учесть при проверке гипотезы."
   ]
  },
  {
   "cell_type": "markdown",
   "id": "956e82e2",
   "metadata": {
    "id": "956e82e2"
   },
   "source": [
    "## 2. Проверка гипотезы в Python"
   ]
  },
  {
   "cell_type": "markdown",
   "id": "b8026597",
   "metadata": {},
   "source": [
    "Гипотеза: пользователи из Санкт-Петербурга проводят в среднем больше времени за чтением и прослушиванием книг в приложении, чем пользователи из Москвы. Проверим ее, используя одностороннюю проверку гипотезы с двумя выборками:\n",
    "\n",
    "Нулевая гипотеза H₀: Средняя активность пользователей в часах в Санкт-Петербурге не больше, чем в Москве.\n",
    "\n",
    "Альтернативная гипотеза H₁: Средняя активность пользователей в Санкт-Петербурге больше, и это различие статистически значимо."
   ]
  },
  {
   "cell_type": "markdown",
   "id": "0fc29a8f",
   "metadata": {
    "id": "67956690"
   },
   "source": [
    "С учетом того, что мы имеем разные по размеру группы, в которых наблюдаются выборосы и асимметрия и отсутсвует нормальное распределение в исследуемой метрике, используем тест Манна-Уитни, чтобы проверить различаются ли выборочные распределения. Он более устойчив к выбросам, чем t-тест и в данном контексте будет являться более надежным инструментом для проверки."
   ]
  },
  {
   "cell_type": "code",
   "execution_count": 30,
   "id": "86d93c94",
   "metadata": {},
   "outputs": [],
   "source": [
    "from scipy.stats import mannwhitneyu\n",
    "\n",
    "alpha = 0.05\n",
    "mw_test = mannwhitneyu(\n",
    "    spb_df['hours'],\n",
    "    moscow_df['hours'],  \n",
    "    alternative='greater') #пользователи из Санкт-Петербурга проводят в среднем больше времени в приложении, чем пользователи из Москвы"
   ]
  },
  {
   "cell_type": "code",
   "execution_count": 31,
   "id": "8e4c3595",
   "metadata": {},
   "outputs": [
    {
     "name": "stdout",
     "output_type": "stream",
     "text": [
      "pvalue=0.6189600878052618 > 0.05\n",
      "Нулевая гипотеза находит подтверждение.\n",
      "Средняя активность пользователей в часах в двух группах (Москва и Санкт-Петербург) не различается.\n"
     ]
    }
   ],
   "source": [
    "if mw_test.pvalue > alpha:\n",
    "    print(f'pvalue={mw_test.pvalue} > {alpha}')\n",
    "    print('Нулевая гипотеза находит подтверждение.')\n",
    "    print('Средняя активность пользователей в часах в двух группах (Москва и Санкт-Петербург) не различается.')\n",
    "else:\n",
    "    print(f'pvalue={mw_test.pvalue} < {alpha}')\n",
    "    print('Нулевая гипотеза не находит подтверждения.')\n",
    "    print('Средняя активность пользователей в Санкт-Петербурге больше, и это различие статистически значимо')"
   ]
  },
  {
   "cell_type": "markdown",
   "id": "6953e84c",
   "metadata": {
    "id": "6953e84c"
   },
   "source": [
    "## 3. Аналитическая записка"
   ]
  },
  {
   "cell_type": "markdown",
   "id": "16fef794",
   "metadata": {},
   "source": [
    "**Общие выводы по итогам проведенного исследования:**\n",
    "\n",
    "* Для проверки гипотезы использовался тест Манна-Уитни, так как количество пользователей в группах сильно различается, и нормальное распределение в исследуемой метрике отсутствует. Уровень статистической значимости установлен = 0.05.\n",
    "* В результате теста установлено, что p-value = 0.6189600878052618, это больше, чем уровень статистической значимости 0.05. Следовательно, гипотеза о том, что средняя активность пользователей в Санкт-Петербурге больше, чем в Москве, не подтвердилась. Результаты показали, что средняя активность пользователей в часах, проведенных в приложении за чтением или прослушиванием контента, в двух группах не различается.\n",
    "* Полученные результаты могут объясняться тем, что Санкт-Петербург и Москва - два больших города, со схожим ритмом жизни пользователей. Поэтому и количество часов, которые они в среднем тратят на чтение, примерно одинаково или имеет незначительные различия, которые не являются статистически значимыми. Кроме того, у нас нет информации о каких-либо маркетинговых акциях, проводимых в одном из городов, которые могли бы увеличить время, проведенное в приложении. Следовательно, пользователи находились в равных условиях доступа к контенту, что и подтвердилось исследованием.\n"
   ]
  },
  {
   "cell_type": "markdown",
   "id": "hc1d6jVISegz",
   "metadata": {
    "id": "hc1d6jVISegz"
   },
   "source": [
    "----"
   ]
  },
  {
   "cell_type": "markdown",
   "id": "NqOUIYhbrIfC",
   "metadata": {
    "id": "NqOUIYhbrIfC"
   },
   "source": [
    "# Часть 2. Анализ результатов A/B-тестирования"
   ]
  },
  {
   "cell_type": "markdown",
   "id": "UNXAAyF5r9Rk",
   "metadata": {
    "id": "UNXAAyF5r9Rk"
   },
   "source": [
    "## 2.1. Цели и задачи проведенного исследования."
   ]
  },
  {
   "cell_type": "markdown",
   "id": "kHx-51yES8bd",
   "metadata": {
    "id": "kHx-51yES8bd"
   },
   "source": [
    "**Основная цель исследования** - провести оценку результатов A/B-теста `interface_eu_test` и подтвердить или опровергнуть гипотезу.\n",
    "\n",
    "**Гипотеза:** пользователи сайта с обновленным интерфейсом чаще совершают покупки в первые 7 дней после регистрации, чем пользователи сайта без обновлений.\n",
    "\n",
    "* Нулевая гипотеза H₀: Количество пользователей сайта со старым интерфейсом  и количество пользователей новой версии сайта, совершивших покупку в первые 7 дней после регистрации, не различается.\n",
    "\n",
    "* Альтернативная гипотеза H₁: Количество пользователей новой версии сайта, совершивших покупку в первые 7 дней после регистрации, больше, чем количество купивших пользователей на сайте со старым интерфейсом, конверсия зарегистрированных пользователей в покупателей увеличится как минимум на 3%.\n",
    "\n",
    "**Задачи:**\n",
    "- Загрузить данные, познакомиться с ними;\n",
    "- Оценить корректность проведения эксперимента (достаточность групп, непересечение участников);\n",
    "- Провести оценку результатов тестирования.\n",
    "\n",
    "**Описание данных.**\n",
    "\n",
    "Информация скрыта в соответствии с положением о неразглашении.\n"
   ]
  },
  {
   "cell_type": "markdown",
   "id": "_CZryx2OsH-s",
   "metadata": {
    "id": "_CZryx2OsH-s"
   },
   "source": [
    "## 2.2 Загрузка данных и оценка их целостности."
   ]
  },
  {
   "cell_type": "markdown",
   "id": "906f7f41-3fdf-4b46-9d01-1e5500bf1023",
   "metadata": {
    "id": "DjFcJbeGsTIg"
   },
   "source": [
    "Загрузка данных в два датафрейма - информация скрыта в соответствии с положением о неразглашении."
   ]
  },
  {
   "cell_type": "code",
   "execution_count": 40,
   "id": "ded637ef",
   "metadata": {},
   "outputs": [
    {
     "data": {
      "text/html": [
       "<div>\n",
       "<style scoped>\n",
       "    .dataframe tbody tr th:only-of-type {\n",
       "        vertical-align: middle;\n",
       "    }\n",
       "\n",
       "    .dataframe tbody tr th {\n",
       "        vertical-align: top;\n",
       "    }\n",
       "\n",
       "    .dataframe thead th {\n",
       "        text-align: right;\n",
       "    }\n",
       "</style>\n",
       "<table border=\"1\" class=\"dataframe\">\n",
       "  <thead>\n",
       "    <tr style=\"text-align: right;\">\n",
       "      <th></th>\n",
       "      <th>user_id</th>\n",
       "      <th>group</th>\n",
       "      <th>ab_test</th>\n",
       "      <th>device</th>\n",
       "    </tr>\n",
       "  </thead>\n",
       "  <tbody>\n",
       "    <tr>\n",
       "      <th>0</th>\n",
       "      <td>0002CE61FF2C4011</td>\n",
       "      <td>B</td>\n",
       "      <td>interface_eu_test</td>\n",
       "      <td>Mac</td>\n",
       "    </tr>\n",
       "    <tr>\n",
       "      <th>1</th>\n",
       "      <td>001064FEAAB631A1</td>\n",
       "      <td>B</td>\n",
       "      <td>recommender_system_test</td>\n",
       "      <td>Android</td>\n",
       "    </tr>\n",
       "    <tr>\n",
       "      <th>2</th>\n",
       "      <td>001064FEAAB631A1</td>\n",
       "      <td>A</td>\n",
       "      <td>interface_eu_test</td>\n",
       "      <td>Android</td>\n",
       "    </tr>\n",
       "    <tr>\n",
       "      <th>3</th>\n",
       "      <td>0010A1C096941592</td>\n",
       "      <td>A</td>\n",
       "      <td>recommender_system_test</td>\n",
       "      <td>Android</td>\n",
       "    </tr>\n",
       "    <tr>\n",
       "      <th>4</th>\n",
       "      <td>001E72F50D1C48FA</td>\n",
       "      <td>A</td>\n",
       "      <td>interface_eu_test</td>\n",
       "      <td>Mac</td>\n",
       "    </tr>\n",
       "  </tbody>\n",
       "</table>\n",
       "</div>"
      ],
      "text/plain": [
       "            user_id group                  ab_test   device\n",
       "0  0002CE61FF2C4011     B        interface_eu_test      Mac\n",
       "1  001064FEAAB631A1     B  recommender_system_test  Android\n",
       "2  001064FEAAB631A1     A        interface_eu_test  Android\n",
       "3  0010A1C096941592     A  recommender_system_test  Android\n",
       "4  001E72F50D1C48FA     A        interface_eu_test      Mac"
      ]
     },
     "execution_count": 40,
     "metadata": {},
     "output_type": "execute_result"
    }
   ],
   "source": [
    "participants.head()"
   ]
  },
  {
   "cell_type": "code",
   "execution_count": 41,
   "id": "c95d1fda",
   "metadata": {
    "scrolled": true
   },
   "outputs": [
    {
     "name": "stdout",
     "output_type": "stream",
     "text": [
      "<class 'pandas.core.frame.DataFrame'>\n",
      "RangeIndex: 14525 entries, 0 to 14524\n",
      "Data columns (total 4 columns):\n",
      " #   Column   Non-Null Count  Dtype \n",
      "---  ------   --------------  ----- \n",
      " 0   user_id  14525 non-null  object\n",
      " 1   group    14525 non-null  object\n",
      " 2   ab_test  14525 non-null  object\n",
      " 3   device   14525 non-null  object\n",
      "dtypes: object(4)\n",
      "memory usage: 454.0+ KB\n"
     ]
    }
   ],
   "source": [
    "participants.info()"
   ]
  },
  {
   "cell_type": "markdown",
   "id": "b7262ae4",
   "metadata": {},
   "source": [
    "Данные о пользователях содержат 1425 строк и 4 столбца. Пропусков в столбцах нет. Проверим датасет на дубликаты:"
   ]
  },
  {
   "cell_type": "code",
   "execution_count": 43,
   "id": "f1c6f12a",
   "metadata": {},
   "outputs": [
    {
     "data": {
      "text/plain": [
       "0"
      ]
     },
     "execution_count": 43,
     "metadata": {},
     "output_type": "execute_result"
    }
   ],
   "source": [
    "participants.duplicated().sum()"
   ]
  },
  {
   "cell_type": "markdown",
   "id": "4ad07f38",
   "metadata": {},
   "source": [
    "Полных дубликатов нет, убедимся в уникальности Id пользователей."
   ]
  },
  {
   "cell_type": "code",
   "execution_count": 45,
   "id": "e5a2fb5d",
   "metadata": {},
   "outputs": [
    {
     "data": {
      "text/plain": [
       "887"
      ]
     },
     "execution_count": 45,
     "metadata": {},
     "output_type": "execute_result"
    }
   ],
   "source": [
    "participants['user_id'].duplicated().sum()"
   ]
  },
  {
   "cell_type": "markdown",
   "id": "b476b9d8",
   "metadata": {},
   "source": [
    "Дубликаты присутствуют, однако это может быть связано с тем, что один и тот же пользователь мог участвовать в разных тестах. Поэтому пока оставим их без обработки."
   ]
  },
  {
   "cell_type": "code",
   "execution_count": 47,
   "id": "80579cf2",
   "metadata": {},
   "outputs": [
    {
     "data": {
      "text/html": [
       "<div>\n",
       "<style scoped>\n",
       "    .dataframe tbody tr th:only-of-type {\n",
       "        vertical-align: middle;\n",
       "    }\n",
       "\n",
       "    .dataframe tbody tr th {\n",
       "        vertical-align: top;\n",
       "    }\n",
       "\n",
       "    .dataframe thead th {\n",
       "        text-align: right;\n",
       "    }\n",
       "</style>\n",
       "<table border=\"1\" class=\"dataframe\">\n",
       "  <thead>\n",
       "    <tr style=\"text-align: right;\">\n",
       "      <th></th>\n",
       "      <th>user_id</th>\n",
       "      <th>event_dt</th>\n",
       "      <th>event_name</th>\n",
       "      <th>details</th>\n",
       "    </tr>\n",
       "  </thead>\n",
       "  <tbody>\n",
       "    <tr>\n",
       "      <th>0</th>\n",
       "      <td>GLOBAL</td>\n",
       "      <td>2020-12-01 00:00:00</td>\n",
       "      <td>End of Black Friday Ads Campaign</td>\n",
       "      <td>ZONE_CODE15</td>\n",
       "    </tr>\n",
       "    <tr>\n",
       "      <th>1</th>\n",
       "      <td>CCBE9E7E99F94A08</td>\n",
       "      <td>2020-12-01 00:00:11</td>\n",
       "      <td>registration</td>\n",
       "      <td>0.0</td>\n",
       "    </tr>\n",
       "    <tr>\n",
       "      <th>2</th>\n",
       "      <td>GLOBAL</td>\n",
       "      <td>2020-12-01 00:00:25</td>\n",
       "      <td>product_page</td>\n",
       "      <td>NaN</td>\n",
       "    </tr>\n",
       "    <tr>\n",
       "      <th>3</th>\n",
       "      <td>CCBE9E7E99F94A08</td>\n",
       "      <td>2020-12-01 00:00:33</td>\n",
       "      <td>login</td>\n",
       "      <td>NaN</td>\n",
       "    </tr>\n",
       "    <tr>\n",
       "      <th>4</th>\n",
       "      <td>CCBE9E7E99F94A08</td>\n",
       "      <td>2020-12-01 00:00:52</td>\n",
       "      <td>product_page</td>\n",
       "      <td>NaN</td>\n",
       "    </tr>\n",
       "  </tbody>\n",
       "</table>\n",
       "</div>"
      ],
      "text/plain": [
       "            user_id            event_dt                        event_name  \\\n",
       "0            GLOBAL 2020-12-01 00:00:00  End of Black Friday Ads Campaign   \n",
       "1  CCBE9E7E99F94A08 2020-12-01 00:00:11                      registration   \n",
       "2            GLOBAL 2020-12-01 00:00:25                      product_page   \n",
       "3  CCBE9E7E99F94A08 2020-12-01 00:00:33                             login   \n",
       "4  CCBE9E7E99F94A08 2020-12-01 00:00:52                      product_page   \n",
       "\n",
       "       details  \n",
       "0  ZONE_CODE15  \n",
       "1          0.0  \n",
       "2          NaN  \n",
       "3          NaN  \n",
       "4          NaN  "
      ]
     },
     "execution_count": 47,
     "metadata": {},
     "output_type": "execute_result"
    }
   ],
   "source": [
    "events.head()"
   ]
  },
  {
   "cell_type": "code",
   "execution_count": 48,
   "id": "a315d909",
   "metadata": {},
   "outputs": [
    {
     "name": "stdout",
     "output_type": "stream",
     "text": [
      "<class 'pandas.core.frame.DataFrame'>\n",
      "RangeIndex: 787286 entries, 0 to 787285\n",
      "Data columns (total 4 columns):\n",
      " #   Column      Non-Null Count   Dtype         \n",
      "---  ------      --------------   -----         \n",
      " 0   user_id     787286 non-null  object        \n",
      " 1   event_dt    787286 non-null  datetime64[ns]\n",
      " 2   event_name  787286 non-null  object        \n",
      " 3   details     249022 non-null  object        \n",
      "dtypes: datetime64[ns](1), object(3)\n",
      "memory usage: 24.0+ MB\n"
     ]
    }
   ],
   "source": [
    "events.info()"
   ]
  },
  {
   "cell_type": "code",
   "execution_count": 49,
   "id": "209bceef",
   "metadata": {},
   "outputs": [],
   "source": [
    " dupl = events.duplicated().sum()"
   ]
  },
  {
   "cell_type": "code",
   "execution_count": 50,
   "id": "76ea084a",
   "metadata": {},
   "outputs": [
    {
     "data": {
      "text/plain": [
       "'Доля дубликатов в датафрейме evens 4.61%'"
      ]
     },
     "metadata": {},
     "output_type": "display_data"
    }
   ],
   "source": [
    "share_dupl = dupl / len(events) * 100\n",
    "display(f\"Доля дубликатов в датафрейме evens {round(share_dupl, 2)}%\")"
   ]
  },
  {
   "cell_type": "markdown",
   "id": "15802289",
   "metadata": {},
   "source": [
    "Очистим датафрейм от дубликатов"
   ]
  },
  {
   "cell_type": "code",
   "execution_count": 52,
   "id": "19ca2125",
   "metadata": {},
   "outputs": [
    {
     "data": {
      "text/plain": [
       "'Удалено дубликатов: 36318, это 4.61% от всех записей'"
      ]
     },
     "metadata": {},
     "output_type": "display_data"
    }
   ],
   "source": [
    "events = events.drop_duplicates()\n",
    "display(f\"Удалено дубликатов: {dupl}, это {round(share_dupl, 2)}% от всех записей\")"
   ]
  },
  {
   "cell_type": "markdown",
   "id": "62c6e2ed",
   "metadata": {},
   "source": [
    "Данные о событиях содержат 787286 строк и 4 столбца. Присутствуют пропуски в столбце `details`, однако это не должно помешать исследованию, обработка пропусков не требуется. Датафрейм проверен на полные дубликаты, удалено 36318 строк (4.61%). \n",
    "\n",
    "Объединим 2 таблицы в одну для удобства дальнейшей работы с результатами теста."
   ]
  },
  {
   "cell_type": "code",
   "execution_count": 54,
   "id": "78621564",
   "metadata": {},
   "outputs": [
    {
     "data": {
      "text/html": [
       "<div>\n",
       "<style scoped>\n",
       "    .dataframe tbody tr th:only-of-type {\n",
       "        vertical-align: middle;\n",
       "    }\n",
       "\n",
       "    .dataframe tbody tr th {\n",
       "        vertical-align: top;\n",
       "    }\n",
       "\n",
       "    .dataframe thead th {\n",
       "        text-align: right;\n",
       "    }\n",
       "</style>\n",
       "<table border=\"1\" class=\"dataframe\">\n",
       "  <thead>\n",
       "    <tr style=\"text-align: right;\">\n",
       "      <th></th>\n",
       "      <th>user_id</th>\n",
       "      <th>event_dt</th>\n",
       "      <th>event_name</th>\n",
       "      <th>details</th>\n",
       "      <th>group</th>\n",
       "      <th>ab_test</th>\n",
       "      <th>device</th>\n",
       "    </tr>\n",
       "  </thead>\n",
       "  <tbody>\n",
       "    <tr>\n",
       "      <th>0</th>\n",
       "      <td>GLOBAL</td>\n",
       "      <td>2020-12-01 00:00:00</td>\n",
       "      <td>End of Black Friday Ads Campaign</td>\n",
       "      <td>ZONE_CODE15</td>\n",
       "      <td>NaN</td>\n",
       "      <td>NaN</td>\n",
       "      <td>NaN</td>\n",
       "    </tr>\n",
       "    <tr>\n",
       "      <th>1</th>\n",
       "      <td>CCBE9E7E99F94A08</td>\n",
       "      <td>2020-12-01 00:00:11</td>\n",
       "      <td>registration</td>\n",
       "      <td>0.0</td>\n",
       "      <td>NaN</td>\n",
       "      <td>NaN</td>\n",
       "      <td>NaN</td>\n",
       "    </tr>\n",
       "    <tr>\n",
       "      <th>2</th>\n",
       "      <td>GLOBAL</td>\n",
       "      <td>2020-12-01 00:00:25</td>\n",
       "      <td>product_page</td>\n",
       "      <td>NaN</td>\n",
       "      <td>NaN</td>\n",
       "      <td>NaN</td>\n",
       "      <td>NaN</td>\n",
       "    </tr>\n",
       "    <tr>\n",
       "      <th>3</th>\n",
       "      <td>CCBE9E7E99F94A08</td>\n",
       "      <td>2020-12-01 00:00:33</td>\n",
       "      <td>login</td>\n",
       "      <td>NaN</td>\n",
       "      <td>NaN</td>\n",
       "      <td>NaN</td>\n",
       "      <td>NaN</td>\n",
       "    </tr>\n",
       "    <tr>\n",
       "      <th>4</th>\n",
       "      <td>CCBE9E7E99F94A08</td>\n",
       "      <td>2020-12-01 00:00:52</td>\n",
       "      <td>product_page</td>\n",
       "      <td>NaN</td>\n",
       "      <td>NaN</td>\n",
       "      <td>NaN</td>\n",
       "      <td>NaN</td>\n",
       "    </tr>\n",
       "  </tbody>\n",
       "</table>\n",
       "</div>"
      ],
      "text/plain": [
       "            user_id            event_dt                        event_name  \\\n",
       "0            GLOBAL 2020-12-01 00:00:00  End of Black Friday Ads Campaign   \n",
       "1  CCBE9E7E99F94A08 2020-12-01 00:00:11                      registration   \n",
       "2            GLOBAL 2020-12-01 00:00:25                      product_page   \n",
       "3  CCBE9E7E99F94A08 2020-12-01 00:00:33                             login   \n",
       "4  CCBE9E7E99F94A08 2020-12-01 00:00:52                      product_page   \n",
       "\n",
       "       details group ab_test device  \n",
       "0  ZONE_CODE15   NaN     NaN    NaN  \n",
       "1          0.0   NaN     NaN    NaN  \n",
       "2          NaN   NaN     NaN    NaN  \n",
       "3          NaN   NaN     NaN    NaN  \n",
       "4          NaN   NaN     NaN    NaN  "
      ]
     },
     "execution_count": 54,
     "metadata": {},
     "output_type": "execute_result"
    }
   ],
   "source": [
    "df = events.merge(participants, on = 'user_id',how = 'left')\n",
    "df.head()"
   ]
  },
  {
   "cell_type": "markdown",
   "id": "d169bc85",
   "metadata": {},
   "source": [
    "Таблицы объединены, можно перейти к анализу результатов проведенного тестироования."
   ]
  },
  {
   "cell_type": "markdown",
   "id": "CnzA-efasUrk",
   "metadata": {
    "id": "CnzA-efasUrk"
   },
   "source": [
    "## 2.3 Оценка корректности проведения теста (по таблице `ab_test_participants`):"
   ]
  },
  {
   "cell_type": "markdown",
   "id": "91f4eb80",
   "metadata": {},
   "source": [
    "Создадим новый датафрейм, который будет содержать только информацию о тесте `interface_eu_test`."
   ]
  },
  {
   "cell_type": "code",
   "execution_count": 58,
   "id": "aNa3zHrKslEN",
   "metadata": {
    "id": "aNa3zHrKslEN"
   },
   "outputs": [
    {
     "data": {
      "text/plain": [
       "73545"
      ]
     },
     "execution_count": 58,
     "metadata": {},
     "output_type": "execute_result"
    }
   ],
   "source": [
    "df_test = df[(df['ab_test'] == 'interface_eu_test')].copy()\n",
    "\n",
    "len(df_test)"
   ]
  },
  {
   "cell_type": "markdown",
   "id": "1e6acaac",
   "metadata": {},
   "source": [
    "Выделим 2 группы и проверим количество уникальных пользователей в них."
   ]
  },
  {
   "cell_type": "code",
   "execution_count": 60,
   "id": "f5c7901d",
   "metadata": {},
   "outputs": [
    {
     "data": {
      "text/plain": [
       "'Количество уникальных пользователей в группе А = 5383, в группе В = 5467. Разница = 84.'"
      ]
     },
     "metadata": {},
     "output_type": "display_data"
    },
    {
     "data": {
      "text/plain": [
       "'Рассчитанная процентная разница в количестве пользователей в группах A и B равна 1.56%'"
      ]
     },
     "metadata": {},
     "output_type": "display_data"
    }
   ],
   "source": [
    "df_test_a = df_test[(df_test['group'] == 'A')]\n",
    "df_test_b = df_test[(df_test['group'] == 'B')]\n",
    "\n",
    "a_unique = df_test_a['user_id'].nunique()\n",
    "b_unique = df_test_b['user_id'].nunique()\n",
    "\n",
    "P = 100 * abs(a_unique - b_unique)/a_unique\n",
    "\n",
    "display(f'Количество уникальных пользователей в группе А = {a_unique}, в группе В = {b_unique}. Разница = {abs(a_unique - b_unique)}.')\n",
    "display(f\"Рассчитанная процентная разница в количестве пользователей в группах A и B равна {round(P, 3)}%\")"
   ]
  },
  {
   "cell_type": "markdown",
   "id": "c5aa5595",
   "metadata": {},
   "source": [
    "Количество уникальных пользователей в группах различается на 1.56%, что не критично для теста. Проверим независимость групп."
   ]
  },
  {
   "cell_type": "code",
   "execution_count": 62,
   "id": "c8cdff6a",
   "metadata": {},
   "outputs": [
    {
     "data": {
      "text/plain": [
       "'Совпадающих значений между группами A и В: 0'"
      ]
     },
     "metadata": {},
     "output_type": "display_data"
    }
   ],
   "source": [
    "a_users = set(df_test_a['user_id'])\n",
    "b_users = set(df_test_b['user_id'])\n",
    "\n",
    "intersect_group = a_users.intersection(b_users)\n",
    "display (f'Совпадающих значений между группами A и В: {len(intersect_group)}')"
   ]
  },
  {
   "cell_type": "markdown",
   "id": "d621b9d3",
   "metadata": {},
   "source": [
    "Группы независимы, пересечений между пользователями нет. "
   ]
  },
  {
   "cell_type": "markdown",
   "id": "2275a8ce",
   "metadata": {},
   "source": [
    "Вернемся к датафрейму `df` и проверим, нет ли пересечений пользователей в группе В с конкурирующим тестом."
   ]
  },
  {
   "cell_type": "code",
   "execution_count": 65,
   "id": "9e5bc007",
   "metadata": {},
   "outputs": [],
   "source": [
    "# выделим в отдельный датафрейм информацию о других тестах и отфильтруем пользователей группы В\n",
    "df_others = df[(df['ab_test'] != 'interface_eu_test')].copy()\n",
    "other_users_b = df_others[(df_others['group'] == 'B')]"
   ]
  },
  {
   "cell_type": "code",
   "execution_count": 66,
   "id": "8b88094b",
   "metadata": {},
   "outputs": [
    {
     "data": {
      "text/plain": [
       "'Совпадающих значений между тестовыми группами двух тестов: 116'"
      ]
     },
     "metadata": {},
     "output_type": "display_data"
    }
   ],
   "source": [
    "# проверим, есть ли пересечения между пользователями разных тестов в группе В\n",
    "b_users_other = set(other_users_b['user_id'])\n",
    "\n",
    "intersect_group_2 = b_users_other.intersection(b_users)\n",
    "display (f'Совпадающих значений между тестовыми группами двух тестов: {len(intersect_group_2)}')"
   ]
  },
  {
   "cell_type": "code",
   "execution_count": 67,
   "id": "7a5a1fa9",
   "metadata": {},
   "outputs": [
    {
     "data": {
      "text/plain": [
       "'Совпадающих значений с группой А: 106'"
      ]
     },
     "metadata": {},
     "output_type": "display_data"
    }
   ],
   "source": [
    "# убедимся, что пересечений этих пользователей с группой А нет\n",
    "intersect_group_3 = b_users_other.intersection(a_users)\n",
    "display (f'Совпадающих значений с группой А: {len(intersect_group_3)}')"
   ]
  },
  {
   "cell_type": "markdown",
   "id": "16a21142",
   "metadata": {},
   "source": [
    "В ходе проверки пересечений с конкурирующим тестом обнаружено 116 пользователей, которые одновременно принимали участие в тестовых группах двух тестов и 106 пользователей из тестовой группы конкурирующего теста, которые принимали участие в контрольной группе. Необходимо очистить датафрейм от данных пользователей, которые пересекаются в тестовых группах."
   ]
  },
  {
   "cell_type": "code",
   "execution_count": 69,
   "id": "99f37fcc",
   "metadata": {
    "scrolled": true
   },
   "outputs": [
    {
     "data": {
      "text/plain": [
       "'Удалено строк из-за пересечений тестовых групп: 610'"
      ]
     },
     "metadata": {},
     "output_type": "display_data"
    }
   ],
   "source": [
    "# удалим пользователей, которые участовали в других тестах в тестовых группах\n",
    "df_test_cleaned = df_test[~((df_test['user_id'].isin(intersect_group_2)) & (df_test['group'] == 'B'))].copy()\n",
    "display(f\"Удалено строк из-за пересечений тестовых групп: {len(df_test) - len(df_test_cleaned)}\")"
   ]
  },
  {
   "cell_type": "code",
   "execution_count": 70,
   "id": "3844e71b",
   "metadata": {},
   "outputs": [
    {
     "data": {
      "text/plain": [
       "'Количество уникальных пользователей в группе В = 5351. Разница c группой А = 32.'"
      ]
     },
     "metadata": {},
     "output_type": "display_data"
    },
    {
     "data": {
      "text/plain": [
       "'Рассчитанная процентная разница в количестве пользователей в группах A и B равна 0.594%'"
      ]
     },
     "metadata": {},
     "output_type": "display_data"
    }
   ],
   "source": [
    "df_test_b2 = df_test_cleaned[(df_test_cleaned['group'] == 'B')]\n",
    "b_unique_2 = df_test_b2['user_id'].nunique()\n",
    "\n",
    "perc = 100 * abs(a_unique - b_unique_2)/a_unique\n",
    "\n",
    "display(f'Количество уникальных пользователей в группе В = {b_unique_2}. Разница c группой А = {abs(a_unique - b_unique_2)}.')\n",
    "display(f\"Рассчитанная процентная разница в количестве пользователей в группах A и B равна {round(perc, 3)}%\")"
   ]
  },
  {
   "cell_type": "markdown",
   "id": "9bb235f4",
   "metadata": {},
   "source": [
    "Данные пользователей, которые попали в тестовые группы двух тестов удалены. Теперь тестовая группа составляет 5351 человек и различается с контрольной на 32 человека (0.59%)."
   ]
  },
  {
   "cell_type": "markdown",
   "id": "523c907f",
   "metadata": {},
   "source": [
    "Проверим равномерность распределения пользователей по устройствам."
   ]
  },
  {
   "cell_type": "code",
   "execution_count": 73,
   "id": "a60263ea",
   "metadata": {},
   "outputs": [
    {
     "data": {
      "text/plain": [
       "array(['iPhone', 'Android', 'PC', 'Mac'], dtype=object)"
      ]
     },
     "execution_count": 73,
     "metadata": {},
     "output_type": "execute_result"
    }
   ],
   "source": [
    "df_test_cleaned['device'].unique()"
   ]
  },
  {
   "cell_type": "code",
   "execution_count": 74,
   "id": "2af3829c",
   "metadata": {},
   "outputs": [
    {
     "data": {
      "text/plain": [
       "device\n",
       "Android    2445\n",
       "Mac         566\n",
       "PC         1346\n",
       "iPhone     1026\n",
       "Name: user_id, dtype: int64"
      ]
     },
     "metadata": {},
     "output_type": "display_data"
    },
    {
     "data": {
      "image/png": "[encoded data removed]",
      "text/plain": [
       "<Figure size 640x480 with 1 Axes>"
      ]
     },
     "metadata": {},
     "output_type": "display_data"
    }
   ],
   "source": [
    "#рассчитаем количество разных типов устройств в группе А по уникальным пользователям\n",
    "unique_users_a = df_test_a[['user_id', 'device']].drop_duplicates()\n",
    "device_group_a = unique_users_a.groupby('device')['user_id'].count()\n",
    "display(device_group_a)\n",
    "\n",
    "#построим круговую даиграмму для группы А\n",
    "device_group_a.plot(\n",
    "    kind= 'pie',\n",
    "    title='Соотношение типов устройств в группе А',\n",
    "    autopct='%.0f%%',\n",
    "    ylabel= '',\n",
    "    colors= ['blue','skyblue','cyan','purple'])\n",
    "\n",
    "plt.show()"
   ]
  },
  {
   "cell_type": "markdown",
   "id": "7e127d86",
   "metadata": {},
   "source": [
    "Сделаем аналогичные расчеты по группе В."
   ]
  },
  {
   "cell_type": "code",
   "execution_count": 76,
   "id": "0fa372a7",
   "metadata": {
    "scrolled": true
   },
   "outputs": [
    {
     "data": {
      "text/plain": [
       "device\n",
       "Android    2363\n",
       "Mac         545\n",
       "PC         1391\n",
       "iPhone     1052\n",
       "Name: user_id, dtype: int64"
      ]
     },
     "metadata": {},
     "output_type": "display_data"
    },
    {
     "data": {
      "image/png": "[encoded data removed]",
      "text/plain": [
       "<Figure size 640x480 with 1 Axes>"
      ]
     },
     "metadata": {},
     "output_type": "display_data"
    }
   ],
   "source": [
    "df_test_b2 = df_test_cleaned[(df_test_cleaned['group'] == 'B')]\n",
    "\n",
    "#рассчитаем количество разных типов устройств в группе В по уникальным пользователям\n",
    "unique_users_b = df_test_b2[['user_id', 'device']].drop_duplicates()\n",
    "device_group_b = unique_users_b.groupby('device')['user_id'].count()\n",
    "display(device_group_b)\n",
    "\n",
    "#построим круговую даиграмму для группы В\n",
    "device_group_b.plot(\n",
    "    kind= 'pie',\n",
    "    title='Соотношение типов устройств в группе В',\n",
    "    autopct='%.0f%%',\n",
    "    ylabel= '',\n",
    "    colors= ['blue','skyblue','cyan','purple'])\n",
    "\n",
    "plt.show()"
   ]
  },
  {
   "cell_type": "markdown",
   "id": "e48f3e5f",
   "metadata": {},
   "source": [
    "Соотношение типов устройств в группах примерно одинаковое, различия в пределах 1%.\n",
    "\n",
    "Судя по имеющимся данным, группы равномерно распределены и являются независимыми, что говорит о корректности проведенного теста.."
   ]
  },
  {
   "cell_type": "markdown",
   "id": "ef625654",
   "metadata": {},
   "source": [
    "Проверим, какие события содержит датафрейм с данными о тестировании."
   ]
  },
  {
   "cell_type": "code",
   "execution_count": 79,
   "id": "1f01abb7",
   "metadata": {},
   "outputs": [
    {
     "data": {
      "text/plain": [
       "array(['registration', 'login', 'product_page', 'purchase',\n",
       "       'product_cart'], dtype=object)"
      ]
     },
     "execution_count": 79,
     "metadata": {},
     "output_type": "execute_result"
    }
   ],
   "source": [
    "df_test_cleaned['event_name'].unique()"
   ]
  },
  {
   "cell_type": "markdown",
   "id": "de18d4d0",
   "metadata": {},
   "source": [
    "Добавим в датафрейм столбцы с датой события датой регистрации и расчетом количества дней с момента регистрации до момента события."
   ]
  },
  {
   "cell_type": "code",
   "execution_count": 81,
   "id": "f6b147ee",
   "metadata": {},
   "outputs": [],
   "source": [
    "# добавим столбец с датой события\n",
    "df_test_cleaned['date'] = pd.to_datetime(df_test_cleaned['event_dt']).dt.date\n",
    "\n",
    "# выделим датафрейм с датами регистрации (первая регистрация)\n",
    "reg_df = df_test_cleaned[df_test_cleaned['event_name'] == 'registration'].copy()\n",
    "reg_df = reg_df.groupby('user_id', as_index=False)['date'].min().rename(columns = {'date': 'reg_date'})"
   ]
  },
  {
   "cell_type": "code",
   "execution_count": 82,
   "id": "e7be1eba-38c1-4e2e-a9f5-c47bd13bcf11",
   "metadata": {},
   "outputs": [
    {
     "data": {
      "text/html": [
       "<div>\n",
       "<style scoped>\n",
       "    .dataframe tbody tr th:only-of-type {\n",
       "        vertical-align: middle;\n",
       "    }\n",
       "\n",
       "    .dataframe tbody tr th {\n",
       "        vertical-align: top;\n",
       "    }\n",
       "\n",
       "    .dataframe thead th {\n",
       "        text-align: right;\n",
       "    }\n",
       "</style>\n",
       "<table border=\"1\" class=\"dataframe\">\n",
       "  <thead>\n",
       "    <tr style=\"text-align: right;\">\n",
       "      <th></th>\n",
       "      <th>user_id</th>\n",
       "      <th>reg_date</th>\n",
       "    </tr>\n",
       "  </thead>\n",
       "  <tbody>\n",
       "    <tr>\n",
       "      <th>0</th>\n",
       "      <td>0002CE61FF2C4011</td>\n",
       "      <td>2020-12-07</td>\n",
       "    </tr>\n",
       "    <tr>\n",
       "      <th>1</th>\n",
       "      <td>001064FEAAB631A1</td>\n",
       "      <td>2020-12-20</td>\n",
       "    </tr>\n",
       "    <tr>\n",
       "      <th>2</th>\n",
       "      <td>001E72F50D1C48FA</td>\n",
       "      <td>2020-12-17</td>\n",
       "    </tr>\n",
       "    <tr>\n",
       "      <th>3</th>\n",
       "      <td>002412F1EB3F6E38</td>\n",
       "      <td>2020-12-09</td>\n",
       "    </tr>\n",
       "    <tr>\n",
       "      <th>4</th>\n",
       "      <td>002540BE89C930FB</td>\n",
       "      <td>2020-12-08</td>\n",
       "    </tr>\n",
       "  </tbody>\n",
       "</table>\n",
       "</div>"
      ],
      "text/plain": [
       "            user_id    reg_date\n",
       "0  0002CE61FF2C4011  2020-12-07\n",
       "1  001064FEAAB631A1  2020-12-20\n",
       "2  001E72F50D1C48FA  2020-12-17\n",
       "3  002412F1EB3F6E38  2020-12-09\n",
       "4  002540BE89C930FB  2020-12-08"
      ]
     },
     "execution_count": 82,
     "metadata": {},
     "output_type": "execute_result"
    }
   ],
   "source": [
    "reg_df.head()"
   ]
  },
  {
   "cell_type": "code",
   "execution_count": 83,
   "id": "7a83d9aa-69e7-40c8-930d-a47b67ebdd5c",
   "metadata": {},
   "outputs": [
    {
     "data": {
      "text/html": [
       "<div>\n",
       "<style scoped>\n",
       "    .dataframe tbody tr th:only-of-type {\n",
       "        vertical-align: middle;\n",
       "    }\n",
       "\n",
       "    .dataframe tbody tr th {\n",
       "        vertical-align: top;\n",
       "    }\n",
       "\n",
       "    .dataframe thead th {\n",
       "        text-align: right;\n",
       "    }\n",
       "</style>\n",
       "<table border=\"1\" class=\"dataframe\">\n",
       "  <thead>\n",
       "    <tr style=\"text-align: right;\">\n",
       "      <th></th>\n",
       "      <th>user_id</th>\n",
       "      <th>event_dt</th>\n",
       "      <th>event_name</th>\n",
       "      <th>details</th>\n",
       "      <th>group</th>\n",
       "      <th>ab_test</th>\n",
       "      <th>device</th>\n",
       "      <th>date</th>\n",
       "    </tr>\n",
       "  </thead>\n",
       "  <tbody>\n",
       "    <tr>\n",
       "      <th>64143</th>\n",
       "      <td>5F506CEBEDC05D30</td>\n",
       "      <td>2020-12-06 14:10:01</td>\n",
       "      <td>registration</td>\n",
       "      <td>0.0</td>\n",
       "      <td>A</td>\n",
       "      <td>interface_eu_test</td>\n",
       "      <td>iPhone</td>\n",
       "      <td>2020-12-06</td>\n",
       "    </tr>\n",
       "    <tr>\n",
       "      <th>64414</th>\n",
       "      <td>51278A006E918D97</td>\n",
       "      <td>2020-12-06 14:37:25</td>\n",
       "      <td>registration</td>\n",
       "      <td>-3.8</td>\n",
       "      <td>A</td>\n",
       "      <td>interface_eu_test</td>\n",
       "      <td>Android</td>\n",
       "      <td>2020-12-06</td>\n",
       "    </tr>\n",
       "    <tr>\n",
       "      <th>66047</th>\n",
       "      <td>A0C1E8EFAD874D8B</td>\n",
       "      <td>2020-12-06 17:20:22</td>\n",
       "      <td>registration</td>\n",
       "      <td>-3.32</td>\n",
       "      <td>B</td>\n",
       "      <td>interface_eu_test</td>\n",
       "      <td>iPhone</td>\n",
       "      <td>2020-12-06</td>\n",
       "    </tr>\n",
       "    <tr>\n",
       "      <th>67326</th>\n",
       "      <td>275A8D6254ACF530</td>\n",
       "      <td>2020-12-06 19:36:54</td>\n",
       "      <td>registration</td>\n",
       "      <td>-0.48</td>\n",
       "      <td>A</td>\n",
       "      <td>interface_eu_test</td>\n",
       "      <td>iPhone</td>\n",
       "      <td>2020-12-06</td>\n",
       "    </tr>\n",
       "    <tr>\n",
       "      <th>67382</th>\n",
       "      <td>0B704EB2DC7FCA4B</td>\n",
       "      <td>2020-12-06 19:42:20</td>\n",
       "      <td>registration</td>\n",
       "      <td>0.0</td>\n",
       "      <td>B</td>\n",
       "      <td>interface_eu_test</td>\n",
       "      <td>PC</td>\n",
       "      <td>2020-12-06</td>\n",
       "    </tr>\n",
       "  </tbody>\n",
       "</table>\n",
       "</div>"
      ],
      "text/plain": [
       "                user_id            event_dt    event_name details group  \\\n",
       "64143  5F506CEBEDC05D30 2020-12-06 14:10:01  registration     0.0     A   \n",
       "64414  51278A006E918D97 2020-12-06 14:37:25  registration    -3.8     A   \n",
       "66047  A0C1E8EFAD874D8B 2020-12-06 17:20:22  registration   -3.32     B   \n",
       "67326  275A8D6254ACF530 2020-12-06 19:36:54  registration   -0.48     A   \n",
       "67382  0B704EB2DC7FCA4B 2020-12-06 19:42:20  registration     0.0     B   \n",
       "\n",
       "                 ab_test   device        date  \n",
       "64143  interface_eu_test   iPhone  2020-12-06  \n",
       "64414  interface_eu_test  Android  2020-12-06  \n",
       "66047  interface_eu_test   iPhone  2020-12-06  \n",
       "67326  interface_eu_test   iPhone  2020-12-06  \n",
       "67382  interface_eu_test       PC  2020-12-06  "
      ]
     },
     "execution_count": 83,
     "metadata": {},
     "output_type": "execute_result"
    }
   ],
   "source": [
    "df_test_cleaned.head()"
   ]
  },
  {
   "cell_type": "code",
   "execution_count": 84,
   "id": "e3de0b6c",
   "metadata": {},
   "outputs": [
    {
     "data": {
      "text/html": [
       "<div>\n",
       "<style scoped>\n",
       "    .dataframe tbody tr th:only-of-type {\n",
       "        vertical-align: middle;\n",
       "    }\n",
       "\n",
       "    .dataframe tbody tr th {\n",
       "        vertical-align: top;\n",
       "    }\n",
       "\n",
       "    .dataframe thead th {\n",
       "        text-align: right;\n",
       "    }\n",
       "</style>\n",
       "<table border=\"1\" class=\"dataframe\">\n",
       "  <thead>\n",
       "    <tr style=\"text-align: right;\">\n",
       "      <th></th>\n",
       "      <th>user_id</th>\n",
       "      <th>event_dt</th>\n",
       "      <th>event_name</th>\n",
       "      <th>details</th>\n",
       "      <th>group</th>\n",
       "      <th>ab_test</th>\n",
       "      <th>device</th>\n",
       "      <th>date</th>\n",
       "      <th>reg_date</th>\n",
       "      <th>days_since_reg</th>\n",
       "    </tr>\n",
       "  </thead>\n",
       "  <tbody>\n",
       "    <tr>\n",
       "      <th>0</th>\n",
       "      <td>5F506CEBEDC05D30</td>\n",
       "      <td>2020-12-06 14:10:01</td>\n",
       "      <td>registration</td>\n",
       "      <td>0.0</td>\n",
       "      <td>A</td>\n",
       "      <td>interface_eu_test</td>\n",
       "      <td>iPhone</td>\n",
       "      <td>2020-12-06</td>\n",
       "      <td>2020-12-06</td>\n",
       "      <td>0</td>\n",
       "    </tr>\n",
       "    <tr>\n",
       "      <th>1</th>\n",
       "      <td>51278A006E918D97</td>\n",
       "      <td>2020-12-06 14:37:25</td>\n",
       "      <td>registration</td>\n",
       "      <td>-3.8</td>\n",
       "      <td>A</td>\n",
       "      <td>interface_eu_test</td>\n",
       "      <td>Android</td>\n",
       "      <td>2020-12-06</td>\n",
       "      <td>2020-12-06</td>\n",
       "      <td>0</td>\n",
       "    </tr>\n",
       "    <tr>\n",
       "      <th>2</th>\n",
       "      <td>A0C1E8EFAD874D8B</td>\n",
       "      <td>2020-12-06 17:20:22</td>\n",
       "      <td>registration</td>\n",
       "      <td>-3.32</td>\n",
       "      <td>B</td>\n",
       "      <td>interface_eu_test</td>\n",
       "      <td>iPhone</td>\n",
       "      <td>2020-12-06</td>\n",
       "      <td>2020-12-06</td>\n",
       "      <td>0</td>\n",
       "    </tr>\n",
       "    <tr>\n",
       "      <th>3</th>\n",
       "      <td>275A8D6254ACF530</td>\n",
       "      <td>2020-12-06 19:36:54</td>\n",
       "      <td>registration</td>\n",
       "      <td>-0.48</td>\n",
       "      <td>A</td>\n",
       "      <td>interface_eu_test</td>\n",
       "      <td>iPhone</td>\n",
       "      <td>2020-12-06</td>\n",
       "      <td>2020-12-06</td>\n",
       "      <td>0</td>\n",
       "    </tr>\n",
       "    <tr>\n",
       "      <th>4</th>\n",
       "      <td>0B704EB2DC7FCA4B</td>\n",
       "      <td>2020-12-06 19:42:20</td>\n",
       "      <td>registration</td>\n",
       "      <td>0.0</td>\n",
       "      <td>B</td>\n",
       "      <td>interface_eu_test</td>\n",
       "      <td>PC</td>\n",
       "      <td>2020-12-06</td>\n",
       "      <td>2020-12-06</td>\n",
       "      <td>0</td>\n",
       "    </tr>\n",
       "  </tbody>\n",
       "</table>\n",
       "</div>"
      ],
      "text/plain": [
       "            user_id            event_dt    event_name details group  \\\n",
       "0  5F506CEBEDC05D30 2020-12-06 14:10:01  registration     0.0     A   \n",
       "1  51278A006E918D97 2020-12-06 14:37:25  registration    -3.8     A   \n",
       "2  A0C1E8EFAD874D8B 2020-12-06 17:20:22  registration   -3.32     B   \n",
       "3  275A8D6254ACF530 2020-12-06 19:36:54  registration   -0.48     A   \n",
       "4  0B704EB2DC7FCA4B 2020-12-06 19:42:20  registration     0.0     B   \n",
       "\n",
       "             ab_test   device       date   reg_date  days_since_reg  \n",
       "0  interface_eu_test   iPhone 2020-12-06 2020-12-06               0  \n",
       "1  interface_eu_test  Android 2020-12-06 2020-12-06               0  \n",
       "2  interface_eu_test   iPhone 2020-12-06 2020-12-06               0  \n",
       "3  interface_eu_test   iPhone 2020-12-06 2020-12-06               0  \n",
       "4  interface_eu_test       PC 2020-12-06 2020-12-06               0  "
      ]
     },
     "execution_count": 84,
     "metadata": {},
     "output_type": "execute_result"
    }
   ],
   "source": [
    "# присоединим дату регистрации к основному датафрейму и найдем количество дней со дня регистрации до события\n",
    "df_test_cleaned['date'] = pd.to_datetime(df_test_cleaned['date'], errors='coerce')\n",
    "df_test_cleaned = df_test_cleaned.merge(reg_df, on = 'user_id',how = 'left')\n",
    "df_test_cleaned['reg_date'] = pd.to_datetime(df_test_cleaned['reg_date'], errors='coerce')\n",
    "df_test_cleaned['days_since_reg'] = (df_test_cleaned['date'] - df_test_cleaned['reg_date']).dt.days\n",
    "# проверяем\n",
    "df_test_cleaned.head()"
   ]
  },
  {
   "cell_type": "markdown",
   "id": "7dc59d28",
   "metadata": {},
   "source": [
    "Оставим в таблице только события, совершенные в первые 7 дней после регистрации."
   ]
  },
  {
   "cell_type": "code",
   "execution_count": 86,
   "id": "072a22a9",
   "metadata": {},
   "outputs": [],
   "source": [
    "df_test_cleaned = df_test_cleaned[df_test_cleaned['days_since_reg'] < 7].copy()"
   ]
  },
  {
   "cell_type": "markdown",
   "id": "fBZ4DC2xswZJ",
   "metadata": {
    "id": "fBZ4DC2xswZJ"
   },
   "source": [
    "Оставим в таблице данные только по 2 событиям - регистрация и покупка. Посчитаем количество зарегистрированных пользователей в каждой группе и количество пользователей, совершивших покупку в первые 7 дней после регистрации."
   ]
  },
  {
   "cell_type": "code",
   "execution_count": 88,
   "id": "92112209",
   "metadata": {
    "id": "sES4-dKts0Yb"
   },
   "outputs": [],
   "source": [
    "df_reg_pur = df_test_cleaned[df_test_cleaned['event_name'].isin(['registration', 'purchase'])].copy()\n",
    "purchase_df = df_reg_pur[df_reg_pur['event_name'] == 'purchase']\n",
    "registr_df = df_reg_pur[df_reg_pur['event_name'] == 'registration']"
   ]
  },
  {
   "cell_type": "code",
   "execution_count": 89,
   "id": "sES4-dKts0Yb",
   "metadata": {
    "id": "sES4-dKts0Yb"
   },
   "outputs": [
    {
     "data": {
      "text/html": [
       "<div>\n",
       "<style scoped>\n",
       "    .dataframe tbody tr th:only-of-type {\n",
       "        vertical-align: middle;\n",
       "    }\n",
       "\n",
       "    .dataframe tbody tr th {\n",
       "        vertical-align: top;\n",
       "    }\n",
       "\n",
       "    .dataframe thead th {\n",
       "        text-align: right;\n",
       "    }\n",
       "</style>\n",
       "<table border=\"1\" class=\"dataframe\">\n",
       "  <thead>\n",
       "    <tr style=\"text-align: right;\">\n",
       "      <th></th>\n",
       "      <th>group</th>\n",
       "      <th>reg_users</th>\n",
       "      <th>count_buyers</th>\n",
       "      <th>share</th>\n",
       "    </tr>\n",
       "  </thead>\n",
       "  <tbody>\n",
       "    <tr>\n",
       "      <th>0</th>\n",
       "      <td>A</td>\n",
       "      <td>5383</td>\n",
       "      <td>1448</td>\n",
       "      <td>0.269</td>\n",
       "    </tr>\n",
       "    <tr>\n",
       "      <th>1</th>\n",
       "      <td>B</td>\n",
       "      <td>5351</td>\n",
       "      <td>1533</td>\n",
       "      <td>0.286</td>\n",
       "    </tr>\n",
       "  </tbody>\n",
       "</table>\n",
       "</div>"
      ],
      "text/plain": [
       "  group  reg_users  count_buyers  share\n",
       "0     A       5383          1448  0.269\n",
       "1     B       5351          1533  0.286"
      ]
     },
     "metadata": {},
     "output_type": "display_data"
    }
   ],
   "source": [
    "# посчитаем общее количество регистраций по группам и уникальное количество пользователей, купивших в первые 7 дней\n",
    "buyers = purchase_df.groupby('group')['user_id'].nunique().reset_index()\n",
    "buyers = buyers.rename(columns = {'user_id': 'count_buyers'})\n",
    "reg_users = registr_df.groupby('group')['user_id'].nunique().reset_index()\n",
    "reg_users = reg_users.rename(columns = {'user_id': 'reg_users'})\n",
    "\n",
    "# объединим данные в единую таблицу и рассчитаем долю купивших от зарегистрированных\n",
    "df_test_groups = reg_users.merge(buyers, on = 'group')\n",
    "df_test_groups['share'] = round(df_test_groups['count_buyers'] / df_test_groups['reg_users'], 3)\n",
    "display(df_test_groups)"
   ]
  },
  {
   "cell_type": "markdown",
   "id": "6728dc24",
   "metadata": {},
   "source": [
    "Рассчитаем необходимый размеры выборки для каждой группы и сравним с тем, что получилось у нас. Базовый показатель конверсии - 30%, по нашей гипотезе нас будет интересовать увеличение конверсии минимум на 3 процентных пункта, т.е. mde = 0.03. Мощность теста - 80%, соответственно ошибка 2 рода = 1-0.8. Достоверность теста - 95%, соответственно alpha = 0.05."
   ]
  },
  {
   "cell_type": "code",
   "execution_count": 91,
   "id": "7d97b466",
   "metadata": {},
   "outputs": [
    {
     "name": "stdout",
     "output_type": "stream",
     "text": [
      "Необходимый размер выборки для каждой группы: 2963\n"
     ]
    }
   ],
   "source": [
    "# Задаём параметры\n",
    "alpha = 0.05  # Уровень значимости\n",
    "beta = 0.2  # Ошибка второго рода\n",
    "p = 0.3 # Базовый показатель конверсии\n",
    "power = 0.8  # Мощность теста\n",
    "mde = 0.03  # Минимальный детектируемый эффект\n",
    "\n",
    "# Инициализируем класс NormalIndPower\n",
    "power_analysis = NormalIndPower()\n",
    "\n",
    "# Рассчитываем размер выборки\n",
    "sample_size = power_analysis.solve_power(\n",
    "    effect_size = abs(2 *  (np.arcsin(np.sqrt(p)) - np.arcsin(np.sqrt(p + mde)))),\n",
    "    power = power,\n",
    "    alpha = alpha,\n",
    "    ratio = 1, # Равномерное распределение выборок\n",
    "    alternative='larger'\n",
    ")\n",
    "\n",
    "print(f\"Необходимый размер выборки для каждой группы: {int(sample_size)}\")"
   ]
  },
  {
   "cell_type": "markdown",
   "id": "c017bf6b",
   "metadata": {},
   "source": [
    "Расчетный размер выборки для каждой группы меньше, чем количество пользователей в обеих группах. Следовательно, имеющихся в результате исследований данных достаточно для выявления статистически значимого эффекта."
   ]
  },
  {
   "cell_type": "markdown",
   "id": "SadyUDgZs0t3",
   "metadata": {
    "id": "SadyUDgZs0t3"
   },
   "source": [
    "Вернемся к нашей таблице `df_test_groups` и зафиксируем видимые изменения в конверсии обеих групп. Для этого сохраним значения конверсии в переменных:"
   ]
  },
  {
   "cell_type": "code",
   "execution_count": 94,
   "id": "7ph853Xks4sy",
   "metadata": {
    "id": "7ph853Xks4sy"
   },
   "outputs": [],
   "source": [
    "conv_a = df_test_groups[df_test_groups['group'] == 'A']['share'].values[0]\n",
    "conv_b = df_test_groups[df_test_groups['group'] == 'B']['share'].values[0]"
   ]
  },
  {
   "cell_type": "code",
   "execution_count": 95,
   "id": "hHTHPkJYs8mE",
   "metadata": {
    "id": "hHTHPkJYs8mE"
   },
   "outputs": [
    {
     "name": "stdout",
     "output_type": "stream",
     "text": [
      "Конверсии зарегистрированных пользователей в покупателей в двух группах различаются на 1.7 п.п.. Рассчитанная процентная разница равна 6.32%\n"
     ]
    }
   ],
   "source": [
    "# Рассчитаем разницу между конверсией групп А и В\n",
    "abs_diff = 100 * abs(conv_a - conv_b)\n",
    "percent_diff = 100 * abs(conv_a - conv_b)/conv_a\n",
    "\n",
    "print(f\"Конверсии зарегистрированных пользователей в покупателей в двух группах различаются на {round(abs_diff, 3)} п.п.. Рассчитанная процентная разница равна {round(percent_diff, 3)}%\")"
   ]
  },
  {
   "cell_type": "markdown",
   "id": "a99a05b6",
   "metadata": {},
   "source": [
    "Предварительно видно, что конверсия в группе с обновленным интерфейсом сайта выше, чем в группе, которая пользовалась старой версией сайта, однако эта разница ниже ожидаемой (3 п.п.). Проведем необходимые статистические расчеты, чтобы в этом убедиться."
   ]
  },
  {
   "cell_type": "markdown",
   "id": "IKZ1Oo3Ws919",
   "metadata": {
    "id": "IKZ1Oo3Ws919"
   },
   "source": [
    "## 4. Оценка результатов A/B-тестирования:"
   ]
  },
  {
   "cell_type": "markdown",
   "id": "99fcdb26",
   "metadata": {},
   "source": [
    "Используем Z-тест пропорций для проверки гипотезы.\n",
    "\n",
    "**Гипотеза:** пользователи сайта с обновленным интерфейсом чаще совершают покупки в первые 7 дней после регистрации, чем пользователи сайта без обновлений.\n",
    "\n",
    "* Нулевая гипотеза H₀: Конверсия зарегистрированных пользователей в покупателей в течение первых 7 дней в тестовой группе (В) не выше 3 п.п., чем в группе А.\n",
    "\n",
    "* Альтернативная гипотеза H₁: Конверсия зарегистрированных пользователей в покупателей в течение первых 7 дней в тестовой группе (В) выше, чем в группе А, разница составляет как минимум 3 процентных пункта.\n"
   ]
  },
  {
   "cell_type": "code",
   "execution_count": 99,
   "id": "4dcbbc38",
   "metadata": {},
   "outputs": [],
   "source": [
    "# зафиксируем в переменных число зарегистрированных пользователей\n",
    "reg_a = reg_users[reg_users['group'] == 'A']['reg_users'].values[0]\n",
    "reg_b = reg_users[reg_users['group'] == 'B']['reg_users'].values[0]"
   ]
  },
  {
   "cell_type": "code",
   "execution_count": 100,
   "id": "ffe4686d",
   "metadata": {},
   "outputs": [],
   "source": [
    "# зафиксируем в переменных число пользователей, совершивших покупку в первые 7 дней\n",
    "buyers_a = buyers[buyers['group'] == 'A']['count_buyers'].values[0]\n",
    "buyers_b = buyers[buyers['group'] == 'B']['count_buyers'].values[0]"
   ]
  },
  {
   "cell_type": "code",
   "execution_count": 101,
   "id": "a5843440",
   "metadata": {
    "id": "l_KOziBQtL3t"
   },
   "outputs": [],
   "source": [
    "n_b, n_a = reg_b, reg_a # берём значения по размерам выборок A и B \n",
    "m_b, m_a = buyers_b, buyers_a # берём значения по количеству успехов в выборках A и B \n",
    "\n",
    "alpha = 0.05 #устанавливаем достоверность теста\n",
    "\n",
    "stat_ztest, p_value_ztest = proportions_ztest(\n",
    "    [m_b, m_a],\n",
    "    [n_b, n_a],\n",
    "    value = 0.03,\n",
    "    alternative = 'larger' # так как H_1: (p_b - p_a)>0.03\n",
    ")"
   ]
  },
  {
   "cell_type": "code",
   "execution_count": 102,
   "id": "l_KOziBQtL3t",
   "metadata": {
    "id": "l_KOziBQtL3t"
   },
   "outputs": [
    {
     "name": "stdout",
     "output_type": "stream",
     "text": [
      "pvalue=0.9259866960180975 > 0.05\n",
      "Нулевая гипотеза находит подтверждение. Конверсия зарегистрированных пользователей в покупателей в группе В не больше, чем в группе А.\n"
     ]
    }
   ],
   "source": [
    "p_value_ztest\n",
    "\n",
    "if p_value_ztest > alpha:\n",
    "    print(f'pvalue={p_value_ztest} > {alpha}')\n",
    "    print('Нулевая гипотеза находит подтверждение. Конверсия зарегистрированных пользователей в покупателей в группе В не больше, чем в группе А.')\n",
    "else:\n",
    "    print(f'pvalue={p_value_ztest} < {alpha}')\n",
    "    print('Нулевая гипотеза не находит подтверждения! Конверсия зарегистрированных пользователей в покупателей в экспериментальной группе выше, чем в контрольной.')"
   ]
  },
  {
   "cell_type": "markdown",
   "id": "npoPPSKytKvR",
   "metadata": {
    "id": "npoPPSKytKvR"
   },
   "source": [
    "**Общие выводы по итогам эксперимента:**\n",
    "\n",
    "* Цель эксперимента - выяснить, будет ли новый интерфейс сайта положительно влиять на пользователей и увеличит конверсию зарегистрированных пользователей в покупателей в первые 7 дней после регистрации как минимум на 3 процентных пункта.\n",
    "* Ключевая метрика - доля пользователей, совершивших покупку в первые 7 дней после регистрации.\n",
    "* Количество уникальных пользователей, принявших участие в эксперименте - 5351 в тестовой группе (В) и 5383 в контрольной (А). Минимально допустимое количество пользователей в каждой группе - 2963.\n",
    "* Доля пользователей, совершивших покупку в первые 7 дней после регистрации в экспериментальной группе равна 0.284, в контрольной - 0.269, что на 5.576% меньше, чем в экспериментальной. Однако, прирост конверсии составил всего 1.7 процентных пункта и не достиг ожидаемых 3 пунктов.\n",
    "* Для проверки результатов А/В тестирования был использован Z-тест пропорций. Значение p-value = 0.9259866960180975, что больше уровня значимости 0.05. Это говорит о том, что подтвердилась нулевая гипотеза: конверсия зарегистрированных пользователей в покупателей в течение первых 7 дней в тестовой группе (В) не выше 3 п.п., чем в группе А. Следовательно, новый интерфейс сайта не повлиял ожидаемым образом на конверсию пользователей, ее прирост ниже того, на который рассчитывали, и нет необходимости на данном этапе внедрять новый интерфейс на всех пользователей. Следует продумать иные шаги для увеличения конверсии, и, возможно, сделать дополнительные доработки сайта.\n"
   ]
  }
 ],
 "metadata": {
  "ExecuteTimeLog": [
   {
    "duration": 53,
    "start_time": "2025-05-27T09:47:38.336Z"
   },
   {
    "duration": 451,
    "start_time": "2025-05-27T09:48:05.758Z"
   },
   {
    "duration": 781,
    "start_time": "2025-05-27T09:48:09.474Z"
   },
   {
    "duration": 93,
    "start_time": "2025-05-27T09:48:33.859Z"
   },
   {
    "duration": 17,
    "start_time": "2025-05-27T09:48:48.744Z"
   },
   {
    "duration": 13,
    "start_time": "2025-05-27T09:49:28.288Z"
   },
   {
    "duration": 6,
    "start_time": "2025-05-27T10:29:53.250Z"
   },
   {
    "duration": 4,
    "start_time": "2025-05-27T10:31:41.507Z"
   },
   {
    "duration": 5,
    "start_time": "2025-05-27T10:38:28.463Z"
   },
   {
    "duration": 7,
    "start_time": "2025-05-27T10:38:59.746Z"
   },
   {
    "duration": 4,
    "start_time": "2025-05-27T10:45:12.144Z"
   },
   {
    "duration": 7,
    "start_time": "2025-05-27T10:46:31.453Z"
   },
   {
    "duration": 4,
    "start_time": "2025-05-27T10:47:17.145Z"
   },
   {
    "duration": 403,
    "start_time": "2025-05-27T10:47:28.536Z"
   },
   {
    "duration": 82,
    "start_time": "2025-05-27T10:47:28.941Z"
   },
   {
    "duration": 15,
    "start_time": "2025-05-27T10:47:29.025Z"
   },
   {
    "duration": 86,
    "start_time": "2025-05-27T10:47:29.043Z"
   },
   {
    "duration": 6,
    "start_time": "2025-05-27T10:47:29.131Z"
   },
   {
    "duration": 6,
    "start_time": "2025-05-27T10:47:29.139Z"
   },
   {
    "duration": 11,
    "start_time": "2025-05-27T10:47:29.146Z"
   },
   {
    "duration": 0,
    "start_time": "2025-05-27T10:47:29.159Z"
   },
   {
    "duration": 0,
    "start_time": "2025-05-27T10:47:29.160Z"
   },
   {
    "duration": 5,
    "start_time": "2025-05-27T10:48:05.203Z"
   },
   {
    "duration": 4,
    "start_time": "2025-05-27T10:51:05.684Z"
   },
   {
    "duration": 439,
    "start_time": "2025-05-27T10:52:14.360Z"
   },
   {
    "duration": 4,
    "start_time": "2025-05-27T10:52:35.598Z"
   },
   {
    "duration": 10,
    "start_time": "2025-05-27T10:56:26.065Z"
   },
   {
    "duration": 408,
    "start_time": "2025-05-28T08:11:29.593Z"
   },
   {
    "duration": 131,
    "start_time": "2025-05-28T08:11:30.003Z"
   },
   {
    "duration": 17,
    "start_time": "2025-05-28T08:11:30.136Z"
   },
   {
    "duration": 44,
    "start_time": "2025-05-28T08:11:30.155Z"
   },
   {
    "duration": 12,
    "start_time": "2025-05-28T08:11:30.201Z"
   },
   {
    "duration": 8,
    "start_time": "2025-05-28T08:11:30.215Z"
   },
   {
    "duration": 40,
    "start_time": "2025-05-28T08:11:30.225Z"
   },
   {
    "duration": 34,
    "start_time": "2025-05-28T08:11:30.266Z"
   },
   {
    "duration": 1823,
    "start_time": "2025-05-28T08:11:30.302Z"
   },
   {
    "duration": 1363,
    "start_time": "2025-05-28T08:15:00.733Z"
   },
   {
    "duration": 19,
    "start_time": "2025-05-28T08:16:28.017Z"
   },
   {
    "duration": 14,
    "start_time": "2025-05-28T08:17:04.650Z"
   },
   {
    "duration": 10,
    "start_time": "2025-05-28T08:18:21.852Z"
   },
   {
    "duration": 1160,
    "start_time": "2025-05-28T08:55:38.342Z"
   },
   {
    "duration": 119,
    "start_time": "2025-05-28T08:55:48.836Z"
   },
   {
    "duration": 129,
    "start_time": "2025-05-28T08:56:23.152Z"
   },
   {
    "duration": 403,
    "start_time": "2025-05-28T09:16:11.330Z"
   },
   {
    "duration": 424,
    "start_time": "2025-05-28T09:16:52.052Z"
   },
   {
    "duration": 506,
    "start_time": "2025-05-28T09:17:41.800Z"
   },
   {
    "duration": 12,
    "start_time": "2025-05-28T11:44:12.298Z"
   },
   {
    "duration": 1097,
    "start_time": "2025-05-28T12:03:01.655Z"
   },
   {
    "duration": 10,
    "start_time": "2025-05-28T12:03:19.678Z"
   },
   {
    "duration": 397,
    "start_time": "2025-05-28T12:03:55.003Z"
   },
   {
    "duration": 69,
    "start_time": "2025-05-28T12:03:55.402Z"
   },
   {
    "duration": 15,
    "start_time": "2025-05-28T12:03:55.473Z"
   },
   {
    "duration": 24,
    "start_time": "2025-05-28T12:03:55.490Z"
   },
   {
    "duration": 8,
    "start_time": "2025-05-28T12:03:55.515Z"
   },
   {
    "duration": 7,
    "start_time": "2025-05-28T12:03:55.525Z"
   },
   {
    "duration": 17,
    "start_time": "2025-05-28T12:03:55.533Z"
   },
   {
    "duration": 10,
    "start_time": "2025-05-28T12:03:55.552Z"
   },
   {
    "duration": 18,
    "start_time": "2025-05-28T12:03:55.563Z"
   },
   {
    "duration": 26,
    "start_time": "2025-05-28T12:03:55.583Z"
   },
   {
    "duration": 46,
    "start_time": "2025-05-28T12:03:55.610Z"
   },
   {
    "duration": 1330,
    "start_time": "2025-05-28T12:03:55.658Z"
   },
   {
    "duration": 12,
    "start_time": "2025-05-28T12:03:56.990Z"
   },
   {
    "duration": 1717,
    "start_time": "2025-05-28T12:03:57.004Z"
   },
   {
    "duration": 392,
    "start_time": "2025-05-28T12:04:13.916Z"
   },
   {
    "duration": 48,
    "start_time": "2025-05-28T12:04:14.310Z"
   },
   {
    "duration": 15,
    "start_time": "2025-05-28T12:04:14.360Z"
   },
   {
    "duration": 16,
    "start_time": "2025-05-28T12:04:14.378Z"
   },
   {
    "duration": 7,
    "start_time": "2025-05-28T12:04:14.396Z"
   },
   {
    "duration": 8,
    "start_time": "2025-05-28T12:04:14.404Z"
   },
   {
    "duration": 19,
    "start_time": "2025-05-28T12:04:14.414Z"
   },
   {
    "duration": 7,
    "start_time": "2025-05-28T12:04:14.434Z"
   },
   {
    "duration": 17,
    "start_time": "2025-05-28T12:04:14.443Z"
   },
   {
    "duration": 20,
    "start_time": "2025-05-28T12:04:14.463Z"
   },
   {
    "duration": 14,
    "start_time": "2025-05-28T12:04:14.485Z"
   },
   {
    "duration": 1207,
    "start_time": "2025-05-28T12:04:14.501Z"
   },
   {
    "duration": 17,
    "start_time": "2025-05-28T12:04:15.710Z"
   },
   {
    "duration": 1880,
    "start_time": "2025-05-28T12:04:15.729Z"
   },
   {
    "duration": 117,
    "start_time": "2025-05-28T12:31:10.583Z"
   },
   {
    "duration": 13,
    "start_time": "2025-05-28T12:58:10.114Z"
   },
   {
    "duration": 13,
    "start_time": "2025-05-28T12:58:19.945Z"
   },
   {
    "duration": 12,
    "start_time": "2025-05-28T12:59:17.921Z"
   },
   {
    "duration": 12,
    "start_time": "2025-05-28T12:59:27.770Z"
   },
   {
    "duration": 385,
    "start_time": "2025-05-28T12:59:39.627Z"
   },
   {
    "duration": 85,
    "start_time": "2025-05-28T12:59:40.014Z"
   },
   {
    "duration": 16,
    "start_time": "2025-05-28T12:59:40.101Z"
   },
   {
    "duration": 26,
    "start_time": "2025-05-28T12:59:40.119Z"
   },
   {
    "duration": 8,
    "start_time": "2025-05-28T12:59:40.146Z"
   },
   {
    "duration": 6,
    "start_time": "2025-05-28T12:59:40.155Z"
   },
   {
    "duration": 5,
    "start_time": "2025-05-28T12:59:40.162Z"
   },
   {
    "duration": 13,
    "start_time": "2025-05-28T12:59:40.168Z"
   },
   {
    "duration": 12,
    "start_time": "2025-05-28T12:59:40.183Z"
   },
   {
    "duration": 9,
    "start_time": "2025-05-28T12:59:40.197Z"
   },
   {
    "duration": 11,
    "start_time": "2025-05-28T12:59:40.208Z"
   },
   {
    "duration": 1276,
    "start_time": "2025-05-28T12:59:40.220Z"
   },
   {
    "duration": 124,
    "start_time": "2025-05-28T12:59:41.498Z"
   },
   {
    "duration": 12,
    "start_time": "2025-05-28T12:59:41.624Z"
   },
   {
    "duration": 2532,
    "start_time": "2025-05-28T12:59:41.637Z"
   },
   {
    "duration": 12,
    "start_time": "2025-05-28T13:00:50.530Z"
   },
   {
    "duration": 13,
    "start_time": "2025-05-28T13:00:58.680Z"
   },
   {
    "duration": 10,
    "start_time": "2025-05-28T13:03:13.073Z"
   },
   {
    "duration": 13,
    "start_time": "2025-05-28T13:03:22.927Z"
   },
   {
    "duration": 10,
    "start_time": "2025-05-28T13:04:23.817Z"
   },
   {
    "duration": 120,
    "start_time": "2025-05-28T13:04:35.140Z"
   },
   {
    "duration": 414,
    "start_time": "2025-05-28T16:41:46.631Z"
   },
   {
    "duration": 101,
    "start_time": "2025-05-28T16:41:47.047Z"
   },
   {
    "duration": 13,
    "start_time": "2025-05-28T16:41:47.150Z"
   },
   {
    "duration": 11,
    "start_time": "2025-05-28T16:41:47.165Z"
   },
   {
    "duration": 10,
    "start_time": "2025-05-28T16:41:47.178Z"
   },
   {
    "duration": 21,
    "start_time": "2025-05-28T16:41:47.190Z"
   },
   {
    "duration": 23,
    "start_time": "2025-05-28T16:41:47.212Z"
   },
   {
    "duration": 30,
    "start_time": "2025-05-28T16:41:47.236Z"
   },
   {
    "duration": 21,
    "start_time": "2025-05-28T16:41:47.268Z"
   },
   {
    "duration": 28,
    "start_time": "2025-05-28T16:41:47.290Z"
   },
   {
    "duration": 35,
    "start_time": "2025-05-28T16:41:47.320Z"
   },
   {
    "duration": 1258,
    "start_time": "2025-05-28T16:41:47.357Z"
   },
   {
    "duration": 114,
    "start_time": "2025-05-28T16:41:48.617Z"
   },
   {
    "duration": 13,
    "start_time": "2025-05-28T16:41:48.734Z"
   },
   {
    "duration": 1545,
    "start_time": "2025-05-28T16:41:48.748Z"
   },
   {
    "duration": 9,
    "start_time": "2025-05-28T16:41:50.294Z"
   },
   {
    "duration": 34,
    "start_time": "2025-05-28T16:41:50.305Z"
   },
   {
    "duration": 23,
    "start_time": "2025-05-28T16:41:50.341Z"
   },
   {
    "duration": 149,
    "start_time": "2025-05-28T16:41:50.365Z"
   },
   {
    "duration": 420,
    "start_time": "2025-05-30T10:02:36.281Z"
   },
   {
    "duration": 80,
    "start_time": "2025-05-30T10:02:36.703Z"
   },
   {
    "duration": 16,
    "start_time": "2025-05-30T10:02:36.785Z"
   },
   {
    "duration": 87,
    "start_time": "2025-05-30T10:02:36.802Z"
   },
   {
    "duration": 5,
    "start_time": "2025-05-30T10:02:36.891Z"
   },
   {
    "duration": 7,
    "start_time": "2025-05-30T10:02:36.897Z"
   },
   {
    "duration": 4,
    "start_time": "2025-05-30T10:02:36.906Z"
   },
   {
    "duration": 8,
    "start_time": "2025-05-30T10:02:36.911Z"
   },
   {
    "duration": 10,
    "start_time": "2025-05-30T10:02:36.920Z"
   },
   {
    "duration": 14,
    "start_time": "2025-05-30T10:02:36.932Z"
   },
   {
    "duration": 122,
    "start_time": "2025-05-30T10:02:36.948Z"
   },
   {
    "duration": 1496,
    "start_time": "2025-05-30T10:02:37.072Z"
   },
   {
    "duration": 132,
    "start_time": "2025-05-30T10:02:38.570Z"
   },
   {
    "duration": 13,
    "start_time": "2025-05-30T10:02:38.705Z"
   },
   {
    "duration": 1722,
    "start_time": "2025-05-30T10:02:38.720Z"
   },
   {
    "duration": 10,
    "start_time": "2025-05-30T10:02:40.444Z"
   },
   {
    "duration": 16,
    "start_time": "2025-05-30T10:02:40.456Z"
   },
   {
    "duration": 10,
    "start_time": "2025-05-30T10:02:40.474Z"
   },
   {
    "duration": 145,
    "start_time": "2025-05-30T10:02:40.486Z"
   },
   {
    "duration": 11,
    "start_time": "2025-05-30T10:31:46.876Z"
   },
   {
    "duration": 8,
    "start_time": "2025-05-30T10:33:20.868Z"
   },
   {
    "duration": 323,
    "start_time": "2025-05-30T10:56:05.972Z"
   },
   {
    "duration": 434,
    "start_time": "2025-05-30T16:47:34.476Z"
   },
   {
    "duration": 70,
    "start_time": "2025-05-30T16:47:34.912Z"
   },
   {
    "duration": 16,
    "start_time": "2025-05-30T16:47:34.984Z"
   },
   {
    "duration": 12,
    "start_time": "2025-05-30T16:47:35.002Z"
   },
   {
    "duration": 5,
    "start_time": "2025-05-30T16:47:35.017Z"
   },
   {
    "duration": 19,
    "start_time": "2025-05-30T16:47:35.024Z"
   },
   {
    "duration": 24,
    "start_time": "2025-05-30T16:47:35.046Z"
   },
   {
    "duration": 19,
    "start_time": "2025-05-30T16:47:35.072Z"
   },
   {
    "duration": 19,
    "start_time": "2025-05-30T16:47:35.093Z"
   },
   {
    "duration": 15,
    "start_time": "2025-05-30T16:47:35.116Z"
   },
   {
    "duration": 24,
    "start_time": "2025-05-30T16:47:35.133Z"
   },
   {
    "duration": 1420,
    "start_time": "2025-05-30T16:47:35.159Z"
   },
   {
    "duration": 143,
    "start_time": "2025-05-30T16:47:36.581Z"
   },
   {
    "duration": 13,
    "start_time": "2025-05-30T16:47:36.726Z"
   },
   {
    "duration": 1569,
    "start_time": "2025-05-30T16:47:36.741Z"
   },
   {
    "duration": 10,
    "start_time": "2025-05-30T16:47:38.312Z"
   },
   {
    "duration": 53,
    "start_time": "2025-05-30T16:47:38.323Z"
   },
   {
    "duration": 15,
    "start_time": "2025-05-30T16:47:38.378Z"
   },
   {
    "duration": 7,
    "start_time": "2025-05-30T16:47:38.395Z"
   },
   {
    "duration": 10,
    "start_time": "2025-05-30T16:47:38.404Z"
   },
   {
    "duration": 137,
    "start_time": "2025-05-30T16:47:38.416Z"
   },
   {
    "duration": 305,
    "start_time": "2025-05-30T16:47:38.555Z"
   },
   {
    "duration": 314,
    "start_time": "2025-05-30T17:04:23.505Z"
   },
   {
    "duration": 280,
    "start_time": "2025-05-30T17:05:43.807Z"
   },
   {
    "duration": 40,
    "start_time": "2025-05-30T17:06:33.782Z"
   },
   {
    "duration": 42,
    "start_time": "2025-05-30T17:06:48.847Z"
   },
   {
    "duration": 40,
    "start_time": "2025-05-30T17:07:21.300Z"
   },
   {
    "duration": 427,
    "start_time": "2025-05-31T10:22:52.650Z"
   },
   {
    "duration": 166,
    "start_time": "2025-05-31T10:22:53.079Z"
   },
   {
    "duration": 13,
    "start_time": "2025-05-31T10:22:53.247Z"
   },
   {
    "duration": 12,
    "start_time": "2025-05-31T10:22:53.262Z"
   },
   {
    "duration": 21,
    "start_time": "2025-05-31T10:22:53.276Z"
   },
   {
    "duration": 16,
    "start_time": "2025-05-31T10:22:53.298Z"
   },
   {
    "duration": 5,
    "start_time": "2025-05-31T10:22:53.316Z"
   },
   {
    "duration": 10,
    "start_time": "2025-05-31T10:22:53.323Z"
   },
   {
    "duration": 10,
    "start_time": "2025-05-31T10:22:53.335Z"
   },
   {
    "duration": 21,
    "start_time": "2025-05-31T10:22:53.347Z"
   },
   {
    "duration": 8,
    "start_time": "2025-05-31T10:22:53.370Z"
   },
   {
    "duration": 1409,
    "start_time": "2025-05-31T10:22:53.380Z"
   },
   {
    "duration": 131,
    "start_time": "2025-05-31T10:22:54.791Z"
   },
   {
    "duration": 13,
    "start_time": "2025-05-31T10:22:54.925Z"
   },
   {
    "duration": 1569,
    "start_time": "2025-05-31T10:22:54.939Z"
   },
   {
    "duration": 8,
    "start_time": "2025-05-31T10:22:56.510Z"
   },
   {
    "duration": 110,
    "start_time": "2025-05-31T10:22:56.519Z"
   },
   {
    "duration": 11,
    "start_time": "2025-05-31T10:22:56.631Z"
   },
   {
    "duration": 5,
    "start_time": "2025-05-31T10:22:56.644Z"
   },
   {
    "duration": 15,
    "start_time": "2025-05-31T10:22:56.650Z"
   },
   {
    "duration": 113,
    "start_time": "2025-05-31T10:22:56.666Z"
   },
   {
    "duration": 298,
    "start_time": "2025-05-31T10:22:56.781Z"
   },
   {
    "duration": 98,
    "start_time": "2025-05-31T10:43:07.065Z"
   },
   {
    "duration": 181,
    "start_time": "2025-05-31T10:43:35.907Z"
   },
   {
    "duration": 19,
    "start_time": "2025-05-31T10:45:43.007Z"
   },
   {
    "duration": 39,
    "start_time": "2025-05-31T10:49:46.343Z"
   },
   {
    "duration": 41,
    "start_time": "2025-05-31T10:50:44.041Z"
   },
   {
    "duration": 137,
    "start_time": "2025-05-31T10:52:02.374Z"
   },
   {
    "duration": 34,
    "start_time": "2025-05-31T10:52:11.127Z"
   },
   {
    "duration": 49,
    "start_time": "2025-05-31T10:52:34.944Z"
   },
   {
    "duration": 13,
    "start_time": "2025-05-31T10:55:41.703Z"
   },
   {
    "duration": 62,
    "start_time": "2025-05-31T11:50:23.958Z"
   },
   {
    "duration": 14,
    "start_time": "2025-05-31T11:51:35.581Z"
   },
   {
    "duration": 15,
    "start_time": "2025-05-31T11:52:38.418Z"
   },
   {
    "duration": 9,
    "start_time": "2025-05-31T11:55:38.663Z"
   },
   {
    "duration": 141,
    "start_time": "2025-05-31T11:57:28.498Z"
   },
   {
    "duration": 113,
    "start_time": "2025-05-31T11:59:02.515Z"
   },
   {
    "duration": 125,
    "start_time": "2025-05-31T12:07:17.690Z"
   },
   {
    "duration": 104,
    "start_time": "2025-05-31T12:07:43.480Z"
   },
   {
    "duration": 199,
    "start_time": "2025-05-31T12:08:35.100Z"
   },
   {
    "duration": 102,
    "start_time": "2025-05-31T12:08:57.436Z"
   },
   {
    "duration": 9,
    "start_time": "2025-05-31T12:27:53.625Z"
   },
   {
    "duration": 56,
    "start_time": "2025-05-31T12:48:12.670Z"
   },
   {
    "duration": 65,
    "start_time": "2025-05-31T12:51:20.572Z"
   },
   {
    "duration": 385,
    "start_time": "2025-05-31T12:51:29.322Z"
   },
   {
    "duration": 78,
    "start_time": "2025-05-31T12:51:29.709Z"
   },
   {
    "duration": 16,
    "start_time": "2025-05-31T12:51:29.789Z"
   },
   {
    "duration": 12,
    "start_time": "2025-05-31T12:51:29.808Z"
   },
   {
    "duration": 14,
    "start_time": "2025-05-31T12:51:29.822Z"
   },
   {
    "duration": 14,
    "start_time": "2025-05-31T12:51:29.838Z"
   },
   {
    "duration": 15,
    "start_time": "2025-05-31T12:51:29.855Z"
   },
   {
    "duration": 12,
    "start_time": "2025-05-31T12:51:29.872Z"
   },
   {
    "duration": 20,
    "start_time": "2025-05-31T12:51:29.886Z"
   },
   {
    "duration": 19,
    "start_time": "2025-05-31T12:51:29.912Z"
   },
   {
    "duration": 11,
    "start_time": "2025-05-31T12:51:29.933Z"
   },
   {
    "duration": 1328,
    "start_time": "2025-05-31T12:51:29.946Z"
   },
   {
    "duration": 123,
    "start_time": "2025-05-31T12:51:31.276Z"
   },
   {
    "duration": 12,
    "start_time": "2025-05-31T12:51:31.401Z"
   },
   {
    "duration": 1650,
    "start_time": "2025-05-31T12:51:31.415Z"
   },
   {
    "duration": 10,
    "start_time": "2025-05-31T12:51:33.072Z"
   },
   {
    "duration": 13,
    "start_time": "2025-05-31T12:51:33.084Z"
   },
   {
    "duration": 17,
    "start_time": "2025-05-31T12:51:33.099Z"
   },
   {
    "duration": 6,
    "start_time": "2025-05-31T12:51:33.118Z"
   },
   {
    "duration": 12,
    "start_time": "2025-05-31T12:51:33.126Z"
   },
   {
    "duration": 141,
    "start_time": "2025-05-31T12:51:33.140Z"
   },
   {
    "duration": 299,
    "start_time": "2025-05-31T12:51:33.283Z"
   },
   {
    "duration": 195,
    "start_time": "2025-05-31T12:51:33.584Z"
   },
   {
    "duration": 35,
    "start_time": "2025-05-31T12:51:33.780Z"
   },
   {
    "duration": 12,
    "start_time": "2025-05-31T12:51:33.816Z"
   },
   {
    "duration": 40,
    "start_time": "2025-05-31T12:51:33.829Z"
   },
   {
    "duration": 17,
    "start_time": "2025-05-31T12:51:33.871Z"
   },
   {
    "duration": 130,
    "start_time": "2025-05-31T12:51:33.891Z"
   },
   {
    "duration": 114,
    "start_time": "2025-05-31T12:51:34.023Z"
   },
   {
    "duration": 7,
    "start_time": "2025-05-31T12:51:34.139Z"
   },
   {
    "duration": 75,
    "start_time": "2025-05-31T12:51:34.148Z"
   },
   {
    "duration": 23,
    "start_time": "2025-05-31T12:51:54.817Z"
   },
   {
    "duration": 256,
    "start_time": "2025-05-31T12:53:05.378Z"
   },
   {
    "duration": 1787,
    "start_time": "2025-05-31T13:00:04.422Z"
   },
   {
    "duration": 1668,
    "start_time": "2025-05-31T13:01:33.209Z"
   },
   {
    "duration": 266,
    "start_time": "2025-05-31T13:02:33.602Z"
   },
   {
    "duration": 330,
    "start_time": "2025-05-31T13:04:55.334Z"
   },
   {
    "duration": 1742,
    "start_time": "2025-05-31T13:07:20.835Z"
   },
   {
    "duration": 463,
    "start_time": "2025-05-31T13:08:09.293Z"
   },
   {
    "duration": 39,
    "start_time": "2025-05-31T13:48:23.378Z"
   },
   {
    "duration": 21,
    "start_time": "2025-05-31T13:52:17.193Z"
   },
   {
    "duration": 32,
    "start_time": "2025-05-31T13:53:45.441Z"
   },
   {
    "duration": 30,
    "start_time": "2025-05-31T13:55:53.866Z"
   },
   {
    "duration": 30,
    "start_time": "2025-05-31T13:56:23.953Z"
   },
   {
    "duration": 31,
    "start_time": "2025-05-31T13:57:37.816Z"
   },
   {
    "duration": 36,
    "start_time": "2025-05-31T14:14:36.230Z"
   },
   {
    "duration": 33,
    "start_time": "2025-05-31T14:17:06.125Z"
   },
   {
    "duration": 38,
    "start_time": "2025-05-31T14:18:53.544Z"
   },
   {
    "duration": 40,
    "start_time": "2025-05-31T14:21:03.996Z"
   },
   {
    "duration": 945,
    "start_time": "2025-06-03T07:52:29.127Z"
   },
   {
    "duration": 17,
    "start_time": "2025-06-03T07:53:09.486Z"
   },
   {
    "duration": 15,
    "start_time": "2025-06-03T07:55:04.711Z"
   },
   {
    "duration": 14,
    "start_time": "2025-06-03T07:55:10.340Z"
   },
   {
    "duration": 14,
    "start_time": "2025-06-03T07:55:14.621Z"
   },
   {
    "duration": 23,
    "start_time": "2025-06-03T07:55:20.638Z"
   },
   {
    "duration": 90,
    "start_time": "2025-06-03T07:57:22.840Z"
   },
   {
    "duration": 14,
    "start_time": "2025-06-03T07:58:22.743Z"
   },
   {
    "duration": 9,
    "start_time": "2025-06-03T08:11:38.971Z"
   },
   {
    "duration": 395,
    "start_time": "2025-06-03T08:12:04.716Z"
   },
   {
    "duration": 358,
    "start_time": "2025-06-03T08:12:05.114Z"
   },
   {
    "duration": 17,
    "start_time": "2025-06-03T08:12:05.474Z"
   },
   {
    "duration": 102,
    "start_time": "2025-06-03T08:12:05.494Z"
   },
   {
    "duration": 79,
    "start_time": "2025-06-03T08:12:05.598Z"
   },
   {
    "duration": 26,
    "start_time": "2025-06-03T08:12:05.679Z"
   },
   {
    "duration": 93,
    "start_time": "2025-06-03T08:12:05.707Z"
   },
   {
    "duration": 48,
    "start_time": "2025-06-03T08:12:05.801Z"
   },
   {
    "duration": 99,
    "start_time": "2025-06-03T08:12:05.851Z"
   },
   {
    "duration": 148,
    "start_time": "2025-06-03T08:12:05.956Z"
   },
   {
    "duration": 22,
    "start_time": "2025-06-03T08:12:06.106Z"
   },
   {
    "duration": 1567,
    "start_time": "2025-06-03T08:12:06.129Z"
   },
   {
    "duration": 145,
    "start_time": "2025-06-03T08:12:07.698Z"
   },
   {
    "duration": 22,
    "start_time": "2025-06-03T08:12:07.845Z"
   },
   {
    "duration": 2254,
    "start_time": "2025-06-03T08:12:07.869Z"
   },
   {
    "duration": 10,
    "start_time": "2025-06-03T08:12:10.124Z"
   },
   {
    "duration": 109,
    "start_time": "2025-06-03T08:12:10.136Z"
   },
   {
    "duration": 109,
    "start_time": "2025-06-03T08:12:10.247Z"
   },
   {
    "duration": 60,
    "start_time": "2025-06-03T08:12:10.358Z"
   },
   {
    "duration": 117,
    "start_time": "2025-06-03T08:12:10.420Z"
   },
   {
    "duration": 409,
    "start_time": "2025-06-03T08:12:10.539Z"
   },
   {
    "duration": 321,
    "start_time": "2025-06-03T08:12:10.950Z"
   },
   {
    "duration": 190,
    "start_time": "2025-06-03T08:12:11.273Z"
   },
   {
    "duration": 36,
    "start_time": "2025-06-03T08:12:11.464Z"
   },
   {
    "duration": 118,
    "start_time": "2025-06-03T08:12:11.501Z"
   },
   {
    "duration": 65,
    "start_time": "2025-06-03T08:12:11.621Z"
   },
   {
    "duration": 113,
    "start_time": "2025-06-03T08:12:11.688Z"
   },
   {
    "duration": 230,
    "start_time": "2025-06-03T08:12:11.805Z"
   },
   {
    "duration": 120,
    "start_time": "2025-06-03T08:12:12.037Z"
   },
   {
    "duration": 53,
    "start_time": "2025-06-03T08:12:12.164Z"
   },
   {
    "duration": 599,
    "start_time": "2025-06-03T08:12:12.219Z"
   },
   {
    "duration": 57,
    "start_time": "2025-06-03T08:12:12.820Z"
   },
   {
    "duration": 116,
    "start_time": "2025-06-03T08:12:12.879Z"
   },
   {
    "duration": 32,
    "start_time": "2025-06-03T08:12:12.997Z"
   },
   {
    "duration": 276,
    "start_time": "2025-06-03T08:12:13.031Z"
   },
   {
    "duration": 4,
    "start_time": "2025-06-03T08:15:23.159Z"
   },
   {
    "duration": 4,
    "start_time": "2025-06-03T08:15:51.431Z"
   },
   {
    "duration": 8,
    "start_time": "2025-06-03T08:40:10.290Z"
   },
   {
    "duration": 6,
    "start_time": "2025-06-03T08:41:28.573Z"
   },
   {
    "duration": 5,
    "start_time": "2025-06-03T08:44:22.438Z"
   },
   {
    "duration": 5,
    "start_time": "2025-06-03T08:44:29.073Z"
   },
   {
    "duration": 11,
    "start_time": "2025-06-03T08:47:47.696Z"
   },
   {
    "duration": 423,
    "start_time": "2025-06-03T09:00:51.193Z"
   },
   {
    "duration": 61,
    "start_time": "2025-06-03T09:00:51.618Z"
   },
   {
    "duration": 16,
    "start_time": "2025-06-03T09:00:51.680Z"
   },
   {
    "duration": 12,
    "start_time": "2025-06-03T09:00:51.698Z"
   },
   {
    "duration": 21,
    "start_time": "2025-06-03T09:00:51.712Z"
   },
   {
    "duration": 87,
    "start_time": "2025-06-03T09:00:51.735Z"
   },
   {
    "duration": 29,
    "start_time": "2025-06-03T09:00:51.824Z"
   },
   {
    "duration": 11,
    "start_time": "2025-06-03T09:00:51.855Z"
   },
   {
    "duration": 18,
    "start_time": "2025-06-03T09:00:51.868Z"
   },
   {
    "duration": 22,
    "start_time": "2025-06-03T09:00:51.889Z"
   },
   {
    "duration": 26,
    "start_time": "2025-06-03T09:00:51.913Z"
   },
   {
    "duration": 1214,
    "start_time": "2025-06-03T09:00:51.941Z"
   },
   {
    "duration": 131,
    "start_time": "2025-06-03T09:00:53.162Z"
   },
   {
    "duration": 12,
    "start_time": "2025-06-03T09:00:53.296Z"
   },
   {
    "duration": 2131,
    "start_time": "2025-06-03T09:00:53.310Z"
   },
   {
    "duration": 20,
    "start_time": "2025-06-03T09:00:55.442Z"
   },
   {
    "duration": 35,
    "start_time": "2025-06-03T09:00:55.466Z"
   },
   {
    "duration": 14,
    "start_time": "2025-06-03T09:00:55.503Z"
   },
   {
    "duration": 7,
    "start_time": "2025-06-03T09:00:55.519Z"
   },
   {
    "duration": 10,
    "start_time": "2025-06-03T09:00:55.527Z"
   },
   {
    "duration": 143,
    "start_time": "2025-06-03T09:00:55.539Z"
   },
   {
    "duration": 353,
    "start_time": "2025-06-03T09:00:55.685Z"
   },
   {
    "duration": 198,
    "start_time": "2025-06-03T09:00:56.039Z"
   },
   {
    "duration": 60,
    "start_time": "2025-06-03T09:00:56.240Z"
   },
   {
    "duration": 13,
    "start_time": "2025-06-03T09:00:56.301Z"
   },
   {
    "duration": 15,
    "start_time": "2025-06-03T09:00:56.315Z"
   },
   {
    "duration": 10,
    "start_time": "2025-06-03T09:00:56.332Z"
   },
   {
    "duration": 137,
    "start_time": "2025-06-03T09:00:56.365Z"
   },
   {
    "duration": 119,
    "start_time": "2025-06-03T09:00:56.504Z"
   },
   {
    "duration": 8,
    "start_time": "2025-06-03T09:00:56.625Z"
   },
   {
    "duration": 568,
    "start_time": "2025-06-03T09:00:56.635Z"
   },
   {
    "duration": 59,
    "start_time": "2025-06-03T09:00:57.205Z"
   },
   {
    "duration": 26,
    "start_time": "2025-06-03T09:00:57.266Z"
   },
   {
    "duration": 8,
    "start_time": "2025-06-03T09:00:57.294Z"
   },
   {
    "duration": 25,
    "start_time": "2025-06-03T09:00:57.303Z"
   },
   {
    "duration": 13,
    "start_time": "2025-06-03T09:00:57.330Z"
   },
   {
    "duration": 17,
    "start_time": "2025-06-03T09:00:57.344Z"
   },
   {
    "duration": 18,
    "start_time": "2025-06-03T09:00:57.363Z"
   },
   {
    "duration": 493,
    "start_time": "2025-06-03T09:05:44.173Z"
   },
   {
    "duration": 125,
    "start_time": "2025-06-03T09:05:44.668Z"
   },
   {
    "duration": 17,
    "start_time": "2025-06-03T09:05:44.795Z"
   },
   {
    "duration": 12,
    "start_time": "2025-06-03T09:05:44.814Z"
   },
   {
    "duration": 5,
    "start_time": "2025-06-03T09:05:44.828Z"
   },
   {
    "duration": 4,
    "start_time": "2025-06-03T09:05:44.835Z"
   },
   {
    "duration": 4,
    "start_time": "2025-06-03T09:05:44.841Z"
   },
   {
    "duration": 9,
    "start_time": "2025-06-03T09:05:44.861Z"
   },
   {
    "duration": 125,
    "start_time": "2025-06-03T09:05:44.872Z"
   },
   {
    "duration": 60,
    "start_time": "2025-06-03T09:05:44.999Z"
   },
   {
    "duration": 44,
    "start_time": "2025-06-03T09:05:45.061Z"
   },
   {
    "duration": 1300,
    "start_time": "2025-06-03T09:05:45.107Z"
   },
   {
    "duration": 143,
    "start_time": "2025-06-03T09:05:46.409Z"
   },
   {
    "duration": 24,
    "start_time": "2025-06-03T09:05:46.561Z"
   },
   {
    "duration": 1700,
    "start_time": "2025-06-03T09:05:46.587Z"
   },
   {
    "duration": 9,
    "start_time": "2025-06-03T09:05:48.289Z"
   },
   {
    "duration": 15,
    "start_time": "2025-06-03T09:05:48.300Z"
   },
   {
    "duration": 11,
    "start_time": "2025-06-03T09:05:48.317Z"
   },
   {
    "duration": 7,
    "start_time": "2025-06-03T09:05:48.329Z"
   },
   {
    "duration": 11,
    "start_time": "2025-06-03T09:05:48.364Z"
   },
   {
    "duration": 217,
    "start_time": "2025-06-03T09:05:48.377Z"
   },
   {
    "duration": 337,
    "start_time": "2025-06-03T09:05:48.596Z"
   },
   {
    "duration": 201,
    "start_time": "2025-06-03T09:05:48.935Z"
   },
   {
    "duration": 52,
    "start_time": "2025-06-03T09:05:49.138Z"
   },
   {
    "duration": 13,
    "start_time": "2025-06-03T09:05:49.192Z"
   },
   {
    "duration": 12,
    "start_time": "2025-06-03T09:05:49.206Z"
   },
   {
    "duration": 10,
    "start_time": "2025-06-03T09:05:49.219Z"
   },
   {
    "duration": 170,
    "start_time": "2025-06-03T09:05:49.230Z"
   },
   {
    "duration": 129,
    "start_time": "2025-06-03T09:05:49.402Z"
   },
   {
    "duration": 8,
    "start_time": "2025-06-03T09:05:49.533Z"
   },
   {
    "duration": 593,
    "start_time": "2025-06-03T09:05:49.543Z"
   },
   {
    "duration": 71,
    "start_time": "2025-06-03T09:05:50.138Z"
   },
   {
    "duration": 18,
    "start_time": "2025-06-03T09:05:50.211Z"
   },
   {
    "duration": 8,
    "start_time": "2025-06-03T09:05:50.231Z"
   },
   {
    "duration": 34,
    "start_time": "2025-06-03T09:05:50.240Z"
   },
   {
    "duration": 17,
    "start_time": "2025-06-03T09:05:50.276Z"
   },
   {
    "duration": 17,
    "start_time": "2025-06-03T09:05:50.295Z"
   },
   {
    "duration": 31,
    "start_time": "2025-06-03T09:05:50.314Z"
   },
   {
    "duration": 418,
    "start_time": "2025-06-03T21:58:14.722Z"
   },
   {
    "duration": 69,
    "start_time": "2025-06-03T21:58:15.142Z"
   },
   {
    "duration": 114,
    "start_time": "2025-06-03T21:58:15.213Z"
   },
   {
    "duration": 90,
    "start_time": "2025-06-03T21:58:15.328Z"
   },
   {
    "duration": 26,
    "start_time": "2025-06-03T21:58:15.419Z"
   },
   {
    "duration": 126,
    "start_time": "2025-06-03T21:58:15.446Z"
   },
   {
    "duration": 120,
    "start_time": "2025-06-03T21:58:15.574Z"
   },
   {
    "duration": 45,
    "start_time": "2025-06-03T21:58:15.696Z"
   },
   {
    "duration": 29,
    "start_time": "2025-06-03T21:58:15.742Z"
   },
   {
    "duration": 25,
    "start_time": "2025-06-03T21:58:15.772Z"
   },
   {
    "duration": 27,
    "start_time": "2025-06-03T21:58:15.798Z"
   },
   {
    "duration": 9,
    "start_time": "2025-06-03T21:58:15.827Z"
   },
   {
    "duration": 835,
    "start_time": "2025-06-03T21:58:15.837Z"
   },
   {
    "duration": 500,
    "start_time": "2025-06-03T21:58:16.675Z"
   },
   {
    "duration": 125,
    "start_time": "2025-06-03T21:58:17.177Z"
   },
   {
    "duration": 11,
    "start_time": "2025-06-03T21:58:17.303Z"
   },
   {
    "duration": 5,
    "start_time": "2025-06-03T21:58:17.315Z"
   },
   {
    "duration": 1662,
    "start_time": "2025-06-03T21:58:17.321Z"
   },
   {
    "duration": 8,
    "start_time": "2025-06-03T21:58:18.985Z"
   },
   {
    "duration": 13,
    "start_time": "2025-06-03T21:58:18.995Z"
   },
   {
    "duration": 22,
    "start_time": "2025-06-03T21:58:19.009Z"
   },
   {
    "duration": 21,
    "start_time": "2025-06-03T21:58:19.033Z"
   },
   {
    "duration": 21,
    "start_time": "2025-06-03T21:58:19.055Z"
   },
   {
    "duration": 124,
    "start_time": "2025-06-03T21:58:19.078Z"
   },
   {
    "duration": 398,
    "start_time": "2025-06-03T21:58:19.204Z"
   },
   {
    "duration": 292,
    "start_time": "2025-06-03T21:58:19.603Z"
   },
   {
    "duration": 38,
    "start_time": "2025-06-03T21:58:19.896Z"
   },
   {
    "duration": 35,
    "start_time": "2025-06-03T21:58:19.935Z"
   },
   {
    "duration": 166,
    "start_time": "2025-06-03T21:58:19.972Z"
   },
   {
    "duration": 45,
    "start_time": "2025-06-03T21:58:20.139Z"
   },
   {
    "duration": 111,
    "start_time": "2025-06-03T21:58:20.186Z"
   },
   {
    "duration": 113,
    "start_time": "2025-06-03T21:58:20.299Z"
   },
   {
    "duration": 8,
    "start_time": "2025-06-03T21:58:20.414Z"
   },
   {
    "duration": 342,
    "start_time": "2025-06-03T21:58:20.423Z"
   },
   {
    "duration": 187,
    "start_time": "2025-06-03T21:58:20.767Z"
   },
   {
    "duration": 36,
    "start_time": "2025-06-03T21:58:20.960Z"
   },
   {
    "duration": 50,
    "start_time": "2025-06-03T21:58:20.997Z"
   },
   {
    "duration": 45,
    "start_time": "2025-06-03T21:58:21.050Z"
   },
   {
    "duration": 6,
    "start_time": "2025-06-03T21:58:21.097Z"
   },
   {
    "duration": 25,
    "start_time": "2025-06-03T21:58:21.104Z"
   },
   {
    "duration": 104,
    "start_time": "2025-06-03T21:58:21.132Z"
   },
   {
    "duration": 22,
    "start_time": "2025-06-03T21:58:21.238Z"
   },
   {
    "duration": 4,
    "start_time": "2025-06-03T21:58:24.199Z"
   },
   {
    "duration": 3,
    "start_time": "2025-06-03T21:58:26.218Z"
   },
   {
    "duration": 51,
    "start_time": "2025-06-04T07:27:23.131Z"
   },
   {
    "duration": 406,
    "start_time": "2025-06-04T07:27:40.412Z"
   },
   {
    "duration": 445,
    "start_time": "2025-06-04T07:27:46.973Z"
   },
   {
    "duration": 49,
    "start_time": "2025-06-04T07:27:47.420Z"
   },
   {
    "duration": 15,
    "start_time": "2025-06-04T07:27:47.470Z"
   },
   {
    "duration": 9,
    "start_time": "2025-06-04T07:27:47.487Z"
   },
   {
    "duration": 24,
    "start_time": "2025-06-04T07:27:47.498Z"
   },
   {
    "duration": 12,
    "start_time": "2025-06-04T07:27:47.523Z"
   },
   {
    "duration": 4,
    "start_time": "2025-06-04T07:27:47.537Z"
   },
   {
    "duration": 8,
    "start_time": "2025-06-04T07:27:47.543Z"
   },
   {
    "duration": 7,
    "start_time": "2025-06-04T07:27:47.552Z"
   },
   {
    "duration": 8,
    "start_time": "2025-06-04T07:27:47.575Z"
   },
   {
    "duration": 17,
    "start_time": "2025-06-04T07:27:47.585Z"
   },
   {
    "duration": 45,
    "start_time": "2025-06-04T07:27:47.603Z"
   },
   {
    "duration": 30,
    "start_time": "2025-06-04T07:27:47.650Z"
   },
   {
    "duration": 985,
    "start_time": "2025-06-04T07:27:47.681Z"
   },
   {
    "duration": 441,
    "start_time": "2025-06-04T07:27:48.668Z"
   },
   {
    "duration": 128,
    "start_time": "2025-06-04T07:27:49.111Z"
   },
   {
    "duration": 10,
    "start_time": "2025-06-04T07:27:49.241Z"
   },
   {
    "duration": 62,
    "start_time": "2025-06-04T07:27:49.253Z"
   },
   {
    "duration": 1810,
    "start_time": "2025-06-04T07:27:49.317Z"
   },
   {
    "duration": 9,
    "start_time": "2025-06-04T07:27:51.128Z"
   },
   {
    "duration": 38,
    "start_time": "2025-06-04T07:27:51.139Z"
   },
   {
    "duration": 11,
    "start_time": "2025-06-04T07:27:51.179Z"
   },
   {
    "duration": 7,
    "start_time": "2025-06-04T07:27:51.191Z"
   },
   {
    "duration": 114,
    "start_time": "2025-06-04T07:27:51.199Z"
   },
   {
    "duration": 123,
    "start_time": "2025-06-04T07:27:51.315Z"
   },
   {
    "duration": 382,
    "start_time": "2025-06-04T07:27:51.439Z"
   },
   {
    "duration": 257,
    "start_time": "2025-06-04T07:27:51.823Z"
   },
   {
    "duration": 36,
    "start_time": "2025-06-04T07:27:52.083Z"
   },
   {
    "duration": 90,
    "start_time": "2025-06-04T07:27:52.121Z"
   },
   {
    "duration": 26,
    "start_time": "2025-06-04T07:27:52.213Z"
   },
   {
    "duration": 26,
    "start_time": "2025-06-04T07:27:52.241Z"
   },
   {
    "duration": 143,
    "start_time": "2025-06-04T07:27:52.268Z"
   },
   {
    "duration": 116,
    "start_time": "2025-06-04T07:27:52.413Z"
   },
   {
    "duration": 9,
    "start_time": "2025-06-04T07:27:52.531Z"
   },
   {
    "duration": 330,
    "start_time": "2025-06-04T07:27:52.541Z"
   },
   {
    "duration": 190,
    "start_time": "2025-06-04T07:27:52.872Z"
   },
   {
    "duration": 34,
    "start_time": "2025-06-04T07:27:53.063Z"
   },
   {
    "duration": 22,
    "start_time": "2025-06-04T07:27:53.099Z"
   },
   {
    "duration": 42,
    "start_time": "2025-06-04T07:27:53.122Z"
   },
   {
    "duration": 4,
    "start_time": "2025-06-04T07:27:53.166Z"
   },
   {
    "duration": 33,
    "start_time": "2025-06-04T07:27:53.172Z"
   },
   {
    "duration": 103,
    "start_time": "2025-06-04T07:27:53.206Z"
   },
   {
    "duration": 18,
    "start_time": "2025-06-04T07:27:53.311Z"
   },
   {
    "duration": 22,
    "start_time": "2025-06-04T07:27:53.330Z"
   },
   {
    "duration": 4,
    "start_time": "2025-06-04T07:27:53.354Z"
   },
   {
    "duration": 8,
    "start_time": "2025-06-04T07:30:30.654Z"
   },
   {
    "duration": 7,
    "start_time": "2025-06-04T07:30:44.835Z"
   },
   {
    "duration": 3,
    "start_time": "2025-06-04T07:32:50.538Z"
   },
   {
    "duration": 13,
    "start_time": "2025-06-04T07:46:23.872Z"
   },
   {
    "duration": 4,
    "start_time": "2025-06-04T07:46:28.656Z"
   },
   {
    "duration": 365,
    "start_time": "2025-06-04T07:47:43.446Z"
   },
   {
    "duration": 85,
    "start_time": "2025-06-04T07:52:46.033Z"
   },
   {
    "duration": 96,
    "start_time": "2025-06-04T07:53:01.385Z"
   },
   {
    "duration": 118,
    "start_time": "2025-06-04T07:53:48.618Z"
   },
   {
    "duration": 1276,
    "start_time": "2025-06-04T07:54:02.858Z"
   },
   {
    "duration": 80,
    "start_time": "2025-06-04T07:54:04.135Z"
   },
   {
    "duration": 12,
    "start_time": "2025-06-04T07:54:04.216Z"
   },
   {
    "duration": 62,
    "start_time": "2025-06-04T07:54:04.230Z"
   },
   {
    "duration": 31,
    "start_time": "2025-06-04T07:54:04.294Z"
   },
   {
    "duration": 35,
    "start_time": "2025-06-04T07:54:04.327Z"
   },
   {
    "duration": 18,
    "start_time": "2025-06-04T07:54:04.364Z"
   },
   {
    "duration": 5,
    "start_time": "2025-06-04T07:54:04.384Z"
   },
   {
    "duration": 12,
    "start_time": "2025-06-04T07:54:04.391Z"
   },
   {
    "duration": 8,
    "start_time": "2025-06-04T07:54:04.406Z"
   },
   {
    "duration": 37,
    "start_time": "2025-06-04T07:54:04.416Z"
   },
   {
    "duration": 12,
    "start_time": "2025-06-04T07:54:04.455Z"
   },
   {
    "duration": 8,
    "start_time": "2025-06-04T07:54:04.468Z"
   },
   {
    "duration": 431,
    "start_time": "2025-06-04T07:54:04.478Z"
   },
   {
    "duration": 123,
    "start_time": "2025-06-04T07:54:04.910Z"
   },
   {
    "duration": 11,
    "start_time": "2025-06-04T07:54:05.035Z"
   },
   {
    "duration": 6,
    "start_time": "2025-06-04T07:54:05.047Z"
   },
   {
    "duration": 1671,
    "start_time": "2025-06-04T07:54:05.055Z"
   },
   {
    "duration": 8,
    "start_time": "2025-06-04T07:54:06.728Z"
   },
   {
    "duration": 34,
    "start_time": "2025-06-04T07:54:06.738Z"
   },
   {
    "duration": 41,
    "start_time": "2025-06-04T07:54:06.774Z"
   },
   {
    "duration": 8,
    "start_time": "2025-06-04T07:54:06.817Z"
   },
   {
    "duration": 10,
    "start_time": "2025-06-04T07:54:06.826Z"
   },
   {
    "duration": 142,
    "start_time": "2025-06-04T07:54:06.837Z"
   },
   {
    "duration": 319,
    "start_time": "2025-06-04T07:54:06.982Z"
   },
   {
    "duration": 5,
    "start_time": "2025-06-04T07:54:07.303Z"
   },
   {
    "duration": 78,
    "start_time": "2025-06-04T07:54:07.310Z"
   },
   {
    "duration": 310,
    "start_time": "2025-06-04T07:54:07.392Z"
   },
   {
    "duration": 194,
    "start_time": "2025-06-04T07:54:07.703Z"
   },
   {
    "duration": 36,
    "start_time": "2025-06-04T07:54:07.899Z"
   },
   {
    "duration": 136,
    "start_time": "2025-06-04T07:54:07.937Z"
   },
   {
    "duration": 24,
    "start_time": "2025-06-04T07:54:08.075Z"
   },
   {
    "duration": 18,
    "start_time": "2025-06-04T07:54:08.102Z"
   },
   {
    "duration": 114,
    "start_time": "2025-06-04T07:54:08.122Z"
   },
   {
    "duration": 112,
    "start_time": "2025-06-04T07:54:08.238Z"
   },
   {
    "duration": 10,
    "start_time": "2025-06-04T07:54:08.352Z"
   },
   {
    "duration": 374,
    "start_time": "2025-06-04T07:54:08.378Z"
   },
   {
    "duration": 205,
    "start_time": "2025-06-04T07:54:08.754Z"
   },
   {
    "duration": 42,
    "start_time": "2025-06-04T07:54:08.961Z"
   },
   {
    "duration": 49,
    "start_time": "2025-06-04T07:54:09.004Z"
   },
   {
    "duration": 19,
    "start_time": "2025-06-04T07:54:09.055Z"
   },
   {
    "duration": 5,
    "start_time": "2025-06-04T07:54:09.077Z"
   },
   {
    "duration": 8,
    "start_time": "2025-06-04T07:54:09.085Z"
   },
   {
    "duration": 13,
    "start_time": "2025-06-04T07:54:09.095Z"
   },
   {
    "duration": 34,
    "start_time": "2025-06-04T07:54:09.109Z"
   },
   {
    "duration": 11,
    "start_time": "2025-06-04T07:54:09.145Z"
   },
   {
    "duration": 5,
    "start_time": "2025-06-04T07:54:09.158Z"
   },
   {
    "duration": 342,
    "start_time": "2025-06-04T07:57:02.284Z"
   },
   {
    "duration": 342,
    "start_time": "2025-06-04T07:57:22.742Z"
   },
   {
    "duration": 268,
    "start_time": "2025-06-04T07:58:17.306Z"
   },
   {
    "duration": 188,
    "start_time": "2025-06-04T07:58:29.646Z"
   },
   {
    "duration": 132,
    "start_time": "2025-06-04T08:06:56.442Z"
   },
   {
    "duration": 171,
    "start_time": "2025-06-04T08:23:32.158Z"
   },
   {
    "duration": 158,
    "start_time": "2025-06-04T08:29:02.664Z"
   },
   {
    "duration": 104,
    "start_time": "2025-06-04T08:31:58.860Z"
   },
   {
    "duration": 16,
    "start_time": "2025-06-04T08:32:19.274Z"
   },
   {
    "duration": 1235,
    "start_time": "2025-06-04T08:34:53.152Z"
   },
   {
    "duration": 83,
    "start_time": "2025-06-04T08:34:54.389Z"
   },
   {
    "duration": 13,
    "start_time": "2025-06-04T08:34:54.473Z"
   },
   {
    "duration": 22,
    "start_time": "2025-06-04T08:34:54.489Z"
   },
   {
    "duration": 46,
    "start_time": "2025-06-04T08:34:54.512Z"
   },
   {
    "duration": 43,
    "start_time": "2025-06-04T08:34:54.560Z"
   },
   {
    "duration": 44,
    "start_time": "2025-06-04T08:34:54.605Z"
   },
   {
    "duration": 18,
    "start_time": "2025-06-04T08:34:54.651Z"
   },
   {
    "duration": 12,
    "start_time": "2025-06-04T08:34:54.670Z"
   },
   {
    "duration": 6,
    "start_time": "2025-06-04T08:34:54.686Z"
   },
   {
    "duration": 6,
    "start_time": "2025-06-04T08:34:54.694Z"
   },
   {
    "duration": 15,
    "start_time": "2025-06-04T08:34:54.702Z"
   },
   {
    "duration": 9,
    "start_time": "2025-06-04T08:34:54.719Z"
   },
   {
    "duration": 461,
    "start_time": "2025-06-04T08:34:54.730Z"
   },
   {
    "duration": 134,
    "start_time": "2025-06-04T08:34:55.192Z"
   },
   {
    "duration": 11,
    "start_time": "2025-06-04T08:34:55.327Z"
   },
   {
    "duration": 6,
    "start_time": "2025-06-04T08:34:55.339Z"
   },
   {
    "duration": 1694,
    "start_time": "2025-06-04T08:34:55.347Z"
   },
   {
    "duration": 9,
    "start_time": "2025-06-04T08:34:57.043Z"
   },
   {
    "duration": 34,
    "start_time": "2025-06-04T08:34:57.054Z"
   },
   {
    "duration": 11,
    "start_time": "2025-06-04T08:34:57.090Z"
   },
   {
    "duration": 8,
    "start_time": "2025-06-04T08:34:57.103Z"
   },
   {
    "duration": 31,
    "start_time": "2025-06-04T08:34:57.113Z"
   },
   {
    "duration": 134,
    "start_time": "2025-06-04T08:34:57.146Z"
   },
   {
    "duration": 343,
    "start_time": "2025-06-04T08:34:57.282Z"
   },
   {
    "duration": 5,
    "start_time": "2025-06-04T08:34:57.627Z"
   },
   {
    "duration": 381,
    "start_time": "2025-06-04T08:34:57.633Z"
   },
   {
    "duration": 302,
    "start_time": "2025-06-04T08:34:58.017Z"
   },
   {
    "duration": 214,
    "start_time": "2025-06-04T08:34:58.321Z"
   },
   {
    "duration": 42,
    "start_time": "2025-06-04T08:34:58.537Z"
   },
   {
    "duration": 12,
    "start_time": "2025-06-04T08:34:58.580Z"
   },
   {
    "duration": 164,
    "start_time": "2025-06-04T08:34:58.594Z"
   },
   {
    "duration": 26,
    "start_time": "2025-06-04T08:34:58.760Z"
   },
   {
    "duration": 11,
    "start_time": "2025-06-04T08:34:58.788Z"
   },
   {
    "duration": 8,
    "start_time": "2025-06-04T08:34:58.800Z"
   },
   {
    "duration": 129,
    "start_time": "2025-06-04T08:34:58.809Z"
   },
   {
    "duration": 111,
    "start_time": "2025-06-04T08:34:58.939Z"
   },
   {
    "duration": 8,
    "start_time": "2025-06-04T08:34:59.051Z"
   },
   {
    "duration": 309,
    "start_time": "2025-06-04T08:34:59.060Z"
   },
   {
    "duration": 176,
    "start_time": "2025-06-04T08:34:59.370Z"
   },
   {
    "duration": 41,
    "start_time": "2025-06-04T08:34:59.547Z"
   },
   {
    "duration": 21,
    "start_time": "2025-06-04T08:34:59.590Z"
   },
   {
    "duration": 17,
    "start_time": "2025-06-04T08:34:59.613Z"
   },
   {
    "duration": 17,
    "start_time": "2025-06-04T08:34:59.631Z"
   },
   {
    "duration": 8,
    "start_time": "2025-06-04T08:34:59.650Z"
   },
   {
    "duration": 21,
    "start_time": "2025-06-04T08:34:59.660Z"
   },
   {
    "duration": 6,
    "start_time": "2025-06-04T08:34:59.683Z"
   },
   {
    "duration": 46,
    "start_time": "2025-06-04T08:34:59.690Z"
   },
   {
    "duration": 10,
    "start_time": "2025-06-04T08:34:59.738Z"
   },
   {
    "duration": 358,
    "start_time": "2025-06-04T08:39:22.477Z"
   },
   {
    "duration": 1237,
    "start_time": "2025-06-04T08:40:04.343Z"
   },
   {
    "duration": 48,
    "start_time": "2025-06-04T08:40:05.582Z"
   },
   {
    "duration": 11,
    "start_time": "2025-06-04T08:40:05.632Z"
   },
   {
    "duration": 31,
    "start_time": "2025-06-04T08:40:05.645Z"
   },
   {
    "duration": 29,
    "start_time": "2025-06-04T08:40:05.678Z"
   },
   {
    "duration": 13,
    "start_time": "2025-06-04T08:40:05.708Z"
   },
   {
    "duration": 37,
    "start_time": "2025-06-04T08:40:05.723Z"
   },
   {
    "duration": 29,
    "start_time": "2025-06-04T08:40:05.762Z"
   },
   {
    "duration": 13,
    "start_time": "2025-06-04T08:40:05.793Z"
   },
   {
    "duration": 7,
    "start_time": "2025-06-04T08:40:05.809Z"
   },
   {
    "duration": 64,
    "start_time": "2025-06-04T08:40:05.818Z"
   },
   {
    "duration": 22,
    "start_time": "2025-06-04T08:40:05.885Z"
   },
   {
    "duration": 10,
    "start_time": "2025-06-04T08:40:05.909Z"
   },
   {
    "duration": 458,
    "start_time": "2025-06-04T08:40:05.921Z"
   },
   {
    "duration": 139,
    "start_time": "2025-06-04T08:40:06.380Z"
   },
   {
    "duration": 11,
    "start_time": "2025-06-04T08:40:06.521Z"
   },
   {
    "duration": 34,
    "start_time": "2025-06-04T08:40:06.534Z"
   },
   {
    "duration": 1697,
    "start_time": "2025-06-04T08:40:06.570Z"
   },
   {
    "duration": 12,
    "start_time": "2025-06-04T08:40:08.269Z"
   },
   {
    "duration": 68,
    "start_time": "2025-06-04T08:40:08.283Z"
   },
   {
    "duration": 31,
    "start_time": "2025-06-04T08:40:08.352Z"
   },
   {
    "duration": 6,
    "start_time": "2025-06-04T08:40:08.384Z"
   },
   {
    "duration": 42,
    "start_time": "2025-06-04T08:40:08.392Z"
   },
   {
    "duration": 142,
    "start_time": "2025-06-04T08:40:08.436Z"
   },
   {
    "duration": 332,
    "start_time": "2025-06-04T08:40:08.579Z"
   },
   {
    "duration": 4,
    "start_time": "2025-06-04T08:40:08.913Z"
   },
   {
    "duration": 376,
    "start_time": "2025-06-04T08:40:08.919Z"
   },
   {
    "duration": 291,
    "start_time": "2025-06-04T08:40:09.298Z"
   },
   {
    "duration": 185,
    "start_time": "2025-06-04T08:40:09.591Z"
   },
   {
    "duration": 36,
    "start_time": "2025-06-04T08:40:09.778Z"
   },
   {
    "duration": 14,
    "start_time": "2025-06-04T08:40:09.816Z"
   },
   {
    "duration": 188,
    "start_time": "2025-06-04T08:40:09.832Z"
   },
   {
    "duration": 17,
    "start_time": "2025-06-04T08:40:10.021Z"
   },
   {
    "duration": 28,
    "start_time": "2025-06-04T08:40:10.040Z"
   },
   {
    "duration": 38,
    "start_time": "2025-06-04T08:40:10.070Z"
   },
   {
    "duration": 148,
    "start_time": "2025-06-04T08:40:10.110Z"
   },
   {
    "duration": 121,
    "start_time": "2025-06-04T08:40:10.260Z"
   },
   {
    "duration": 103,
    "start_time": "2025-06-04T08:40:10.383Z"
   },
   {
    "duration": 418,
    "start_time": "2025-06-04T08:40:10.488Z"
   },
   {
    "duration": 0,
    "start_time": "2025-06-04T08:40:10.907Z"
   },
   {
    "duration": 0,
    "start_time": "2025-06-04T08:40:10.909Z"
   },
   {
    "duration": 0,
    "start_time": "2025-06-04T08:40:10.910Z"
   },
   {
    "duration": 0,
    "start_time": "2025-06-04T08:40:10.911Z"
   },
   {
    "duration": 0,
    "start_time": "2025-06-04T08:40:10.913Z"
   },
   {
    "duration": 0,
    "start_time": "2025-06-04T08:40:10.913Z"
   },
   {
    "duration": 0,
    "start_time": "2025-06-04T08:40:10.915Z"
   },
   {
    "duration": 0,
    "start_time": "2025-06-04T08:40:10.916Z"
   },
   {
    "duration": 0,
    "start_time": "2025-06-04T08:40:10.917Z"
   },
   {
    "duration": 0,
    "start_time": "2025-06-04T08:40:10.918Z"
   },
   {
    "duration": 1034,
    "start_time": "2025-06-04T08:40:58.458Z"
   },
   {
    "duration": 1007,
    "start_time": "2025-06-04T08:41:11.652Z"
   },
   {
    "duration": 178,
    "start_time": "2025-06-04T08:43:34.509Z"
   },
   {
    "duration": 30,
    "start_time": "2025-06-04T08:46:33.320Z"
   },
   {
    "duration": 90,
    "start_time": "2025-06-04T08:47:52.649Z"
   },
   {
    "duration": 23,
    "start_time": "2025-06-04T08:48:00.201Z"
   },
   {
    "duration": 10,
    "start_time": "2025-06-04T08:53:52.305Z"
   },
   {
    "duration": 15,
    "start_time": "2025-06-04T08:54:35.619Z"
   },
   {
    "duration": 11,
    "start_time": "2025-06-04T08:57:36.075Z"
   },
   {
    "duration": 10,
    "start_time": "2025-06-04T08:59:39.433Z"
   },
   {
    "duration": 5,
    "start_time": "2025-06-04T09:00:04.276Z"
   },
   {
    "duration": 4,
    "start_time": "2025-06-04T09:01:11.046Z"
   },
   {
    "duration": 5,
    "start_time": "2025-06-04T09:01:38.952Z"
   },
   {
    "duration": 5,
    "start_time": "2025-06-04T09:07:01.720Z"
   },
   {
    "duration": 5,
    "start_time": "2025-06-04T09:12:56.029Z"
   },
   {
    "duration": 8,
    "start_time": "2025-06-04T09:13:25.778Z"
   },
   {
    "duration": 6,
    "start_time": "2025-06-04T09:13:43.519Z"
   },
   {
    "duration": 4,
    "start_time": "2025-06-04T09:16:29.798Z"
   },
   {
    "duration": 5,
    "start_time": "2025-06-04T09:16:37.150Z"
   },
   {
    "duration": 4,
    "start_time": "2025-06-04T09:18:52.090Z"
   },
   {
    "duration": 4,
    "start_time": "2025-06-04T09:19:02.103Z"
   },
   {
    "duration": 3,
    "start_time": "2025-06-04T09:23:37.652Z"
   },
   {
    "duration": 4,
    "start_time": "2025-06-04T09:23:40.787Z"
   },
   {
    "duration": 1312,
    "start_time": "2025-06-04T09:39:14.065Z"
   },
   {
    "duration": 175,
    "start_time": "2025-06-04T09:39:15.379Z"
   },
   {
    "duration": 14,
    "start_time": "2025-06-04T09:39:15.555Z"
   },
   {
    "duration": 44,
    "start_time": "2025-06-04T09:39:15.571Z"
   },
   {
    "duration": 56,
    "start_time": "2025-06-04T09:39:15.617Z"
   },
   {
    "duration": 51,
    "start_time": "2025-06-04T09:39:15.674Z"
   },
   {
    "duration": 36,
    "start_time": "2025-06-04T09:39:15.727Z"
   },
   {
    "duration": 26,
    "start_time": "2025-06-04T09:39:15.764Z"
   },
   {
    "duration": 7,
    "start_time": "2025-06-04T09:39:15.792Z"
   },
   {
    "duration": 7,
    "start_time": "2025-06-04T09:39:15.801Z"
   },
   {
    "duration": 9,
    "start_time": "2025-06-04T09:39:15.810Z"
   },
   {
    "duration": 13,
    "start_time": "2025-06-04T09:39:15.822Z"
   },
   {
    "duration": 9,
    "start_time": "2025-06-04T09:39:15.837Z"
   },
   {
    "duration": 487,
    "start_time": "2025-06-04T09:39:15.847Z"
   },
   {
    "duration": 130,
    "start_time": "2025-06-04T09:39:16.336Z"
   },
   {
    "duration": 11,
    "start_time": "2025-06-04T09:39:16.476Z"
   },
   {
    "duration": 5,
    "start_time": "2025-06-04T09:39:16.489Z"
   },
   {
    "duration": 1925,
    "start_time": "2025-06-04T09:39:16.496Z"
   },
   {
    "duration": 12,
    "start_time": "2025-06-04T09:39:18.423Z"
   },
   {
    "duration": 18,
    "start_time": "2025-06-04T09:39:18.437Z"
   },
   {
    "duration": 48,
    "start_time": "2025-06-04T09:39:18.456Z"
   },
   {
    "duration": 8,
    "start_time": "2025-06-04T09:39:18.506Z"
   },
   {
    "duration": 75,
    "start_time": "2025-06-04T09:39:18.516Z"
   },
   {
    "duration": 252,
    "start_time": "2025-06-04T09:39:18.592Z"
   },
   {
    "duration": 302,
    "start_time": "2025-06-04T09:39:18.846Z"
   },
   {
    "duration": 5,
    "start_time": "2025-06-04T09:39:19.150Z"
   },
   {
    "duration": 372,
    "start_time": "2025-06-04T09:39:19.158Z"
   },
   {
    "duration": 326,
    "start_time": "2025-06-04T09:39:19.534Z"
   },
   {
    "duration": 203,
    "start_time": "2025-06-04T09:39:19.863Z"
   },
   {
    "duration": 42,
    "start_time": "2025-06-04T09:39:20.067Z"
   },
   {
    "duration": 20,
    "start_time": "2025-06-04T09:39:20.111Z"
   },
   {
    "duration": 185,
    "start_time": "2025-06-04T09:39:20.133Z"
   },
   {
    "duration": 16,
    "start_time": "2025-06-04T09:39:20.320Z"
   },
   {
    "duration": 25,
    "start_time": "2025-06-04T09:39:20.338Z"
   },
   {
    "duration": 18,
    "start_time": "2025-06-04T09:39:20.365Z"
   },
   {
    "duration": 142,
    "start_time": "2025-06-04T09:39:20.385Z"
   },
   {
    "duration": 155,
    "start_time": "2025-06-04T09:39:20.529Z"
   },
   {
    "duration": 29,
    "start_time": "2025-06-04T09:39:20.686Z"
   },
   {
    "duration": 1226,
    "start_time": "2025-06-04T09:39:20.717Z"
   },
   {
    "duration": 233,
    "start_time": "2025-06-04T09:39:21.944Z"
   },
   {
    "duration": 39,
    "start_time": "2025-06-04T09:39:22.178Z"
   },
   {
    "duration": 55,
    "start_time": "2025-06-04T09:39:22.219Z"
   },
   {
    "duration": 31,
    "start_time": "2025-06-04T09:39:22.277Z"
   },
   {
    "duration": 9,
    "start_time": "2025-06-04T09:39:22.309Z"
   },
   {
    "duration": 31,
    "start_time": "2025-06-04T09:39:22.320Z"
   },
   {
    "duration": 23,
    "start_time": "2025-06-04T09:39:22.352Z"
   },
   {
    "duration": 29,
    "start_time": "2025-06-04T09:39:22.377Z"
   },
   {
    "duration": 16,
    "start_time": "2025-06-04T09:39:22.408Z"
   },
   {
    "duration": 8,
    "start_time": "2025-06-04T09:39:22.425Z"
   },
   {
    "duration": 7,
    "start_time": "2025-06-04T23:36:43.034Z"
   },
   {
    "duration": 52,
    "start_time": "2025-06-04T23:36:43.044Z"
   },
   {
    "duration": 8,
    "start_time": "2025-06-04T23:36:43.098Z"
   },
   {
    "duration": 10,
    "start_time": "2025-06-04T23:36:43.107Z"
   },
   {
    "duration": 11,
    "start_time": "2025-06-04T23:36:43.118Z"
   },
   {
    "duration": 5,
    "start_time": "2025-06-04T23:36:43.130Z"
   },
   {
    "duration": 25,
    "start_time": "2025-06-04T23:36:43.136Z"
   },
   {
    "duration": 4,
    "start_time": "2025-06-04T23:36:43.162Z"
   },
   {
    "duration": 6,
    "start_time": "2025-06-04T23:36:43.168Z"
   },
   {
    "duration": 12,
    "start_time": "2025-06-04T23:36:43.177Z"
   },
   {
    "duration": 50,
    "start_time": "2025-06-04T23:36:43.191Z"
   },
   {
    "duration": 24,
    "start_time": "2025-06-04T23:36:43.242Z"
   },
   {
    "duration": 11,
    "start_time": "2025-06-04T23:36:43.268Z"
   },
   {
    "duration": 421,
    "start_time": "2025-06-04T23:36:43.281Z"
   },
   {
    "duration": 218,
    "start_time": "2025-06-04T23:36:43.704Z"
   },
   {
    "duration": 11,
    "start_time": "2025-06-04T23:36:43.923Z"
   },
   {
    "duration": 4,
    "start_time": "2025-06-04T23:36:43.935Z"
   },
   {
    "duration": 1862,
    "start_time": "2025-06-04T23:36:43.941Z"
   },
   {
    "duration": 9,
    "start_time": "2025-06-04T23:36:45.805Z"
   },
   {
    "duration": 15,
    "start_time": "2025-06-04T23:36:45.815Z"
   },
   {
    "duration": 13,
    "start_time": "2025-06-04T23:36:45.831Z"
   },
   {
    "duration": 6,
    "start_time": "2025-06-04T23:36:45.861Z"
   },
   {
    "duration": 9,
    "start_time": "2025-06-04T23:36:45.869Z"
   },
   {
    "duration": 131,
    "start_time": "2025-06-04T23:36:45.879Z"
   },
   {
    "duration": 302,
    "start_time": "2025-06-04T23:36:46.012Z"
   },
   {
    "duration": 4,
    "start_time": "2025-06-04T23:36:46.316Z"
   },
   {
    "duration": 326,
    "start_time": "2025-06-04T23:36:46.322Z"
   },
   {
    "duration": 332,
    "start_time": "2025-06-04T23:36:46.651Z"
   },
   {
    "duration": 249,
    "start_time": "2025-06-04T23:36:46.985Z"
   },
   {
    "duration": 48,
    "start_time": "2025-06-04T23:36:47.235Z"
   },
   {
    "duration": 12,
    "start_time": "2025-06-04T23:36:47.284Z"
   },
   {
    "duration": 194,
    "start_time": "2025-06-04T23:36:47.298Z"
   },
   {
    "duration": 14,
    "start_time": "2025-06-04T23:36:51.609Z"
   },
   {
    "duration": 5,
    "start_time": "2025-06-04T23:36:56.951Z"
   },
   {
    "duration": 8,
    "start_time": "2025-06-04T23:36:59.492Z"
   },
   {
    "duration": 13,
    "start_time": "2025-06-04T23:37:06.863Z"
   },
   {
    "duration": 24,
    "start_time": "2025-06-04T23:37:36.868Z"
   },
   {
    "duration": 16,
    "start_time": "2025-06-04T23:37:45.097Z"
   },
   {
    "duration": 1640,
    "start_time": "2025-06-05T07:39:36.198Z"
   },
   {
    "duration": 213,
    "start_time": "2025-06-05T07:39:37.841Z"
   },
   {
    "duration": 14,
    "start_time": "2025-06-05T07:39:38.056Z"
   },
   {
    "duration": 20,
    "start_time": "2025-06-05T07:39:38.073Z"
   },
   {
    "duration": 25,
    "start_time": "2025-06-05T07:39:38.095Z"
   },
   {
    "duration": 6,
    "start_time": "2025-06-05T07:39:38.122Z"
   },
   {
    "duration": 10,
    "start_time": "2025-06-05T07:39:38.130Z"
   },
   {
    "duration": 16,
    "start_time": "2025-06-05T07:39:38.142Z"
   },
   {
    "duration": 15,
    "start_time": "2025-06-05T07:39:38.160Z"
   },
   {
    "duration": 12,
    "start_time": "2025-06-05T07:39:38.178Z"
   },
   {
    "duration": 8,
    "start_time": "2025-06-05T07:39:38.192Z"
   },
   {
    "duration": 20,
    "start_time": "2025-06-05T07:39:38.202Z"
   },
   {
    "duration": 21,
    "start_time": "2025-06-05T07:39:38.224Z"
   },
   {
    "duration": 487,
    "start_time": "2025-06-05T07:39:38.247Z"
   },
   {
    "duration": 142,
    "start_time": "2025-06-05T07:39:38.735Z"
   },
   {
    "duration": 10,
    "start_time": "2025-06-05T07:39:38.879Z"
   },
   {
    "duration": 5,
    "start_time": "2025-06-05T07:39:38.891Z"
   },
   {
    "duration": 1947,
    "start_time": "2025-06-05T07:39:38.897Z"
   },
   {
    "duration": 9,
    "start_time": "2025-06-05T07:39:40.846Z"
   },
   {
    "duration": 26,
    "start_time": "2025-06-05T07:39:40.857Z"
   },
   {
    "duration": 14,
    "start_time": "2025-06-05T07:39:40.888Z"
   },
   {
    "duration": 6,
    "start_time": "2025-06-05T07:39:40.904Z"
   },
   {
    "duration": 56,
    "start_time": "2025-06-05T07:39:40.913Z"
   },
   {
    "duration": 148,
    "start_time": "2025-06-05T07:39:40.971Z"
   },
   {
    "duration": 375,
    "start_time": "2025-06-05T07:39:41.121Z"
   },
   {
    "duration": 4,
    "start_time": "2025-06-05T07:39:41.498Z"
   },
   {
    "duration": 433,
    "start_time": "2025-06-05T07:39:41.504Z"
   },
   {
    "duration": 344,
    "start_time": "2025-06-05T07:39:41.941Z"
   },
   {
    "duration": 196,
    "start_time": "2025-06-05T07:39:42.286Z"
   },
   {
    "duration": 36,
    "start_time": "2025-06-05T07:39:42.484Z"
   },
   {
    "duration": 14,
    "start_time": "2025-06-05T07:39:42.522Z"
   },
   {
    "duration": 183,
    "start_time": "2025-06-05T07:39:42.538Z"
   },
   {
    "duration": 3,
    "start_time": "2025-06-05T07:39:42.723Z"
   },
   {
    "duration": 36,
    "start_time": "2025-06-05T07:39:42.728Z"
   },
   {
    "duration": 11,
    "start_time": "2025-06-05T07:39:42.766Z"
   },
   {
    "duration": 16,
    "start_time": "2025-06-05T07:39:42.779Z"
   },
   {
    "duration": 139,
    "start_time": "2025-06-05T07:39:42.797Z"
   },
   {
    "duration": 121,
    "start_time": "2025-06-05T07:39:42.939Z"
   },
   {
    "duration": 8,
    "start_time": "2025-06-05T07:39:43.071Z"
   },
   {
    "duration": 1130,
    "start_time": "2025-06-05T07:39:43.081Z"
   },
   {
    "duration": 180,
    "start_time": "2025-06-05T07:39:44.213Z"
   },
   {
    "duration": 35,
    "start_time": "2025-06-05T07:39:44.395Z"
   },
   {
    "duration": 40,
    "start_time": "2025-06-05T07:39:44.432Z"
   },
   {
    "duration": 11,
    "start_time": "2025-06-05T07:39:44.474Z"
   },
   {
    "duration": 6,
    "start_time": "2025-06-05T07:39:44.487Z"
   },
   {
    "duration": 9,
    "start_time": "2025-06-05T07:39:44.495Z"
   },
   {
    "duration": 23,
    "start_time": "2025-06-05T07:39:44.506Z"
   },
   {
    "duration": 7,
    "start_time": "2025-06-05T07:39:44.531Z"
   },
   {
    "duration": 14,
    "start_time": "2025-06-05T07:39:44.540Z"
   },
   {
    "duration": 17,
    "start_time": "2025-06-05T07:39:44.556Z"
   },
   {
    "duration": 1333,
    "start_time": "2025-06-05T07:40:24.959Z"
   },
   {
    "duration": 133,
    "start_time": "2025-06-05T07:40:26.294Z"
   },
   {
    "duration": 14,
    "start_time": "2025-06-05T07:40:26.428Z"
   },
   {
    "duration": 10,
    "start_time": "2025-06-05T07:40:26.444Z"
   },
   {
    "duration": 20,
    "start_time": "2025-06-05T07:40:26.456Z"
   },
   {
    "duration": 7,
    "start_time": "2025-06-05T07:40:26.478Z"
   },
   {
    "duration": 6,
    "start_time": "2025-06-05T07:40:26.487Z"
   },
   {
    "duration": 4,
    "start_time": "2025-06-05T07:40:26.495Z"
   },
   {
    "duration": 19,
    "start_time": "2025-06-05T07:40:26.501Z"
   },
   {
    "duration": 8,
    "start_time": "2025-06-05T07:40:26.524Z"
   },
   {
    "duration": 7,
    "start_time": "2025-06-05T07:40:26.535Z"
   },
   {
    "duration": 35,
    "start_time": "2025-06-05T07:40:26.544Z"
   },
   {
    "duration": 11,
    "start_time": "2025-06-05T07:40:26.581Z"
   },
   {
    "duration": 460,
    "start_time": "2025-06-05T07:40:26.594Z"
   },
   {
    "duration": 129,
    "start_time": "2025-06-05T07:40:27.056Z"
   },
   {
    "duration": 13,
    "start_time": "2025-06-05T07:40:27.189Z"
   },
   {
    "duration": 5,
    "start_time": "2025-06-05T07:40:27.205Z"
   },
   {
    "duration": 3216,
    "start_time": "2025-06-05T07:40:27.212Z"
   },
   {
    "duration": 8,
    "start_time": "2025-06-05T07:40:30.430Z"
   },
   {
    "duration": 30,
    "start_time": "2025-06-05T07:40:30.440Z"
   },
   {
    "duration": 20,
    "start_time": "2025-06-05T07:40:30.471Z"
   },
   {
    "duration": 6,
    "start_time": "2025-06-05T07:40:30.493Z"
   },
   {
    "duration": 18,
    "start_time": "2025-06-05T07:40:30.501Z"
   },
   {
    "duration": 157,
    "start_time": "2025-06-05T07:40:30.522Z"
   },
   {
    "duration": 386,
    "start_time": "2025-06-05T07:40:30.681Z"
   },
   {
    "duration": 5,
    "start_time": "2025-06-05T07:40:31.071Z"
   },
   {
    "duration": 403,
    "start_time": "2025-06-05T07:40:31.078Z"
   },
   {
    "duration": 332,
    "start_time": "2025-06-05T07:40:31.486Z"
   },
   {
    "duration": 204,
    "start_time": "2025-06-05T07:40:31.820Z"
   },
   {
    "duration": 48,
    "start_time": "2025-06-05T07:40:32.026Z"
   },
   {
    "duration": 14,
    "start_time": "2025-06-05T07:40:32.076Z"
   },
   {
    "duration": 200,
    "start_time": "2025-06-05T07:40:32.093Z"
   },
   {
    "duration": 7,
    "start_time": "2025-06-05T07:40:32.295Z"
   },
   {
    "duration": 25,
    "start_time": "2025-06-05T07:40:32.304Z"
   },
   {
    "duration": 14,
    "start_time": "2025-06-05T07:40:32.331Z"
   },
   {
    "duration": 9,
    "start_time": "2025-06-05T07:40:32.370Z"
   },
   {
    "duration": 138,
    "start_time": "2025-06-05T07:40:32.381Z"
   },
   {
    "duration": 121,
    "start_time": "2025-06-05T07:40:32.521Z"
   },
   {
    "duration": 10,
    "start_time": "2025-06-05T07:40:32.644Z"
   },
   {
    "duration": 1117,
    "start_time": "2025-06-05T07:40:32.672Z"
   },
   {
    "duration": 199,
    "start_time": "2025-06-05T07:40:33.791Z"
   },
   {
    "duration": 38,
    "start_time": "2025-06-05T07:40:33.991Z"
   },
   {
    "duration": 41,
    "start_time": "2025-06-05T07:40:34.031Z"
   },
   {
    "duration": 11,
    "start_time": "2025-06-05T07:40:34.075Z"
   },
   {
    "duration": 14,
    "start_time": "2025-06-05T07:40:34.088Z"
   },
   {
    "duration": 28,
    "start_time": "2025-06-05T07:40:34.104Z"
   },
   {
    "duration": 52,
    "start_time": "2025-06-05T07:40:34.134Z"
   },
   {
    "duration": 7,
    "start_time": "2025-06-05T07:40:34.188Z"
   },
   {
    "duration": 6,
    "start_time": "2025-06-05T07:40:34.197Z"
   },
   {
    "duration": 15,
    "start_time": "2025-06-05T07:40:34.205Z"
   },
   {
    "duration": 8,
    "start_time": "2025-06-05T07:45:31.026Z"
   },
   {
    "duration": 36,
    "start_time": "2025-06-05T07:48:23.650Z"
   },
   {
    "duration": 35,
    "start_time": "2025-06-05T07:48:35.374Z"
   },
   {
    "duration": 19,
    "start_time": "2025-06-05T07:49:56.898Z"
   },
   {
    "duration": 5,
    "start_time": "2025-06-05T07:51:38.961Z"
   },
   {
    "duration": 4,
    "start_time": "2025-06-05T07:53:31.877Z"
   },
   {
    "duration": 13,
    "start_time": "2025-06-05T07:56:24.149Z"
   },
   {
    "duration": 1331,
    "start_time": "2025-06-05T07:56:29.749Z"
   },
   {
    "duration": 110,
    "start_time": "2025-06-05T07:56:31.082Z"
   },
   {
    "duration": 13,
    "start_time": "2025-06-05T07:56:31.194Z"
   },
   {
    "duration": 28,
    "start_time": "2025-06-05T07:56:31.209Z"
   },
   {
    "duration": 26,
    "start_time": "2025-06-05T07:56:31.239Z"
   },
   {
    "duration": 8,
    "start_time": "2025-06-05T07:56:31.267Z"
   },
   {
    "duration": 9,
    "start_time": "2025-06-05T07:56:31.276Z"
   },
   {
    "duration": 4,
    "start_time": "2025-06-05T07:56:31.287Z"
   },
   {
    "duration": 12,
    "start_time": "2025-06-05T07:56:31.292Z"
   },
   {
    "duration": 24,
    "start_time": "2025-06-05T07:56:31.306Z"
   },
   {
    "duration": 15,
    "start_time": "2025-06-05T07:56:31.332Z"
   },
   {
    "duration": 35,
    "start_time": "2025-06-05T07:56:31.349Z"
   },
   {
    "duration": 9,
    "start_time": "2025-06-05T07:56:31.387Z"
   },
   {
    "duration": 450,
    "start_time": "2025-06-05T07:56:31.398Z"
   },
   {
    "duration": 130,
    "start_time": "2025-06-05T07:56:31.850Z"
   },
   {
    "duration": 11,
    "start_time": "2025-06-05T07:56:31.982Z"
   },
   {
    "duration": 33,
    "start_time": "2025-06-05T07:56:31.995Z"
   },
   {
    "duration": 2002,
    "start_time": "2025-06-05T07:56:32.030Z"
   },
   {
    "duration": 8,
    "start_time": "2025-06-05T07:56:34.034Z"
   },
   {
    "duration": 28,
    "start_time": "2025-06-05T07:56:34.044Z"
   },
   {
    "duration": 17,
    "start_time": "2025-06-05T07:56:34.074Z"
   },
   {
    "duration": 12,
    "start_time": "2025-06-05T07:56:34.092Z"
   },
   {
    "duration": 28,
    "start_time": "2025-06-05T07:56:34.106Z"
   },
   {
    "duration": 140,
    "start_time": "2025-06-05T07:56:34.136Z"
   },
   {
    "duration": 390,
    "start_time": "2025-06-05T07:56:34.277Z"
   },
   {
    "duration": 4,
    "start_time": "2025-06-05T07:56:34.669Z"
   },
   {
    "duration": 410,
    "start_time": "2025-06-05T07:56:34.675Z"
   },
   {
    "duration": 324,
    "start_time": "2025-06-05T07:56:35.088Z"
   },
   {
    "duration": 205,
    "start_time": "2025-06-05T07:56:35.413Z"
   },
   {
    "duration": 54,
    "start_time": "2025-06-05T07:56:35.620Z"
   },
   {
    "duration": 19,
    "start_time": "2025-06-05T07:56:35.676Z"
   },
   {
    "duration": 184,
    "start_time": "2025-06-05T07:56:35.697Z"
   },
   {
    "duration": 6,
    "start_time": "2025-06-05T07:56:35.883Z"
   },
   {
    "duration": 91,
    "start_time": "2025-06-05T07:56:35.890Z"
   },
   {
    "duration": 242,
    "start_time": "2025-06-05T07:56:35.983Z"
   },
   {
    "duration": 0,
    "start_time": "2025-06-05T07:56:36.227Z"
   },
   {
    "duration": 0,
    "start_time": "2025-06-05T07:56:36.228Z"
   },
   {
    "duration": 0,
    "start_time": "2025-06-05T07:56:36.229Z"
   },
   {
    "duration": 0,
    "start_time": "2025-06-05T07:56:36.230Z"
   },
   {
    "duration": 0,
    "start_time": "2025-06-05T07:56:36.231Z"
   },
   {
    "duration": 0,
    "start_time": "2025-06-05T07:56:36.233Z"
   },
   {
    "duration": 0,
    "start_time": "2025-06-05T07:56:36.234Z"
   },
   {
    "duration": 0,
    "start_time": "2025-06-05T07:56:36.235Z"
   },
   {
    "duration": 0,
    "start_time": "2025-06-05T07:56:36.236Z"
   },
   {
    "duration": 0,
    "start_time": "2025-06-05T07:56:36.237Z"
   },
   {
    "duration": 0,
    "start_time": "2025-06-05T07:56:36.238Z"
   },
   {
    "duration": 0,
    "start_time": "2025-06-05T07:56:36.239Z"
   },
   {
    "duration": 0,
    "start_time": "2025-06-05T07:56:36.241Z"
   },
   {
    "duration": 0,
    "start_time": "2025-06-05T07:56:36.242Z"
   },
   {
    "duration": 0,
    "start_time": "2025-06-05T07:56:36.243Z"
   },
   {
    "duration": 0,
    "start_time": "2025-06-05T07:56:36.244Z"
   },
   {
    "duration": 11,
    "start_time": "2025-06-05T07:57:10.678Z"
   },
   {
    "duration": 12,
    "start_time": "2025-06-05T07:58:10.461Z"
   },
   {
    "duration": 5,
    "start_time": "2025-06-05T08:07:17.227Z"
   },
   {
    "duration": 20,
    "start_time": "2025-06-05T08:07:57.799Z"
   },
   {
    "duration": 22,
    "start_time": "2025-06-05T08:08:06.026Z"
   },
   {
    "duration": 22,
    "start_time": "2025-06-05T08:12:06.813Z"
   },
   {
    "duration": 23,
    "start_time": "2025-06-05T08:13:07.267Z"
   },
   {
    "duration": 8,
    "start_time": "2025-06-05T08:20:37.318Z"
   },
   {
    "duration": 119,
    "start_time": "2025-06-05T08:21:01.079Z"
   },
   {
    "duration": 123,
    "start_time": "2025-06-05T08:22:19.553Z"
   },
   {
    "duration": 8,
    "start_time": "2025-06-05T08:22:41.217Z"
   },
   {
    "duration": 1116,
    "start_time": "2025-06-05T08:23:49.857Z"
   },
   {
    "duration": 1228,
    "start_time": "2025-06-05T08:24:01.972Z"
   },
   {
    "duration": 951,
    "start_time": "2025-06-05T08:25:34.580Z"
   },
   {
    "duration": 39,
    "start_time": "2025-06-05T08:26:12.329Z"
   },
   {
    "duration": 23,
    "start_time": "2025-06-05T08:26:15.479Z"
   },
   {
    "duration": 9,
    "start_time": "2025-06-05T08:26:23.296Z"
   },
   {
    "duration": 108,
    "start_time": "2025-06-05T08:26:26.256Z"
   },
   {
    "duration": 200,
    "start_time": "2025-06-05T08:26:29.916Z"
   },
   {
    "duration": 8,
    "start_time": "2025-06-05T08:26:36.046Z"
   },
   {
    "duration": 864,
    "start_time": "2025-06-05T08:26:47.192Z"
   },
   {
    "duration": 184,
    "start_time": "2025-06-05T08:28:21.766Z"
   },
   {
    "duration": 33,
    "start_time": "2025-06-05T08:31:12.658Z"
   },
   {
    "duration": 17,
    "start_time": "2025-06-05T08:32:54.501Z"
   },
   {
    "duration": 26,
    "start_time": "2025-06-05T08:33:36.440Z"
   },
   {
    "duration": 12,
    "start_time": "2025-06-05T08:34:03.371Z"
   },
   {
    "duration": 6,
    "start_time": "2025-06-05T08:34:12.356Z"
   },
   {
    "duration": 4,
    "start_time": "2025-06-05T08:34:18.185Z"
   },
   {
    "duration": 5,
    "start_time": "2025-06-05T08:34:42.331Z"
   },
   {
    "duration": 5,
    "start_time": "2025-06-05T08:34:47.420Z"
   },
   {
    "duration": 4,
    "start_time": "2025-06-05T08:34:50.706Z"
   },
   {
    "duration": 4,
    "start_time": "2025-06-05T08:34:58.481Z"
   },
   {
    "duration": 1300,
    "start_time": "2025-06-05T08:37:27.892Z"
   },
   {
    "duration": 156,
    "start_time": "2025-06-05T08:37:29.193Z"
   },
   {
    "duration": 13,
    "start_time": "2025-06-05T08:37:29.351Z"
   },
   {
    "duration": 10,
    "start_time": "2025-06-05T08:37:29.366Z"
   },
   {
    "duration": 34,
    "start_time": "2025-06-05T08:37:29.378Z"
   },
   {
    "duration": 5,
    "start_time": "2025-06-05T08:37:29.413Z"
   },
   {
    "duration": 10,
    "start_time": "2025-06-05T08:37:29.420Z"
   },
   {
    "duration": 9,
    "start_time": "2025-06-05T08:37:29.432Z"
   },
   {
    "duration": 18,
    "start_time": "2025-06-05T08:37:29.443Z"
   },
   {
    "duration": 25,
    "start_time": "2025-06-05T08:37:29.463Z"
   },
   {
    "duration": 7,
    "start_time": "2025-06-05T08:37:29.490Z"
   },
   {
    "duration": 13,
    "start_time": "2025-06-05T08:37:29.498Z"
   },
   {
    "duration": 9,
    "start_time": "2025-06-05T08:37:29.513Z"
   },
   {
    "duration": 463,
    "start_time": "2025-06-05T08:37:29.524Z"
   },
   {
    "duration": 129,
    "start_time": "2025-06-05T08:37:29.988Z"
   },
   {
    "duration": 11,
    "start_time": "2025-06-05T08:37:30.119Z"
   },
   {
    "duration": 56,
    "start_time": "2025-06-05T08:37:30.132Z"
   },
   {
    "duration": 2721,
    "start_time": "2025-06-05T08:37:30.189Z"
   },
   {
    "duration": 8,
    "start_time": "2025-06-05T08:37:32.912Z"
   },
   {
    "duration": 36,
    "start_time": "2025-06-05T08:37:32.922Z"
   },
   {
    "duration": 20,
    "start_time": "2025-06-05T08:37:32.959Z"
   },
   {
    "duration": 6,
    "start_time": "2025-06-05T08:37:32.980Z"
   },
   {
    "duration": 10,
    "start_time": "2025-06-05T08:37:32.988Z"
   },
   {
    "duration": 137,
    "start_time": "2025-06-05T08:37:33.000Z"
   },
   {
    "duration": 387,
    "start_time": "2025-06-05T08:37:33.139Z"
   },
   {
    "duration": 5,
    "start_time": "2025-06-05T08:37:33.528Z"
   },
   {
    "duration": 431,
    "start_time": "2025-06-05T08:37:33.535Z"
   },
   {
    "duration": 337,
    "start_time": "2025-06-05T08:37:33.974Z"
   },
   {
    "duration": 204,
    "start_time": "2025-06-05T08:37:34.313Z"
   },
   {
    "duration": 38,
    "start_time": "2025-06-05T08:37:34.519Z"
   },
   {
    "duration": 14,
    "start_time": "2025-06-05T08:37:34.571Z"
   },
   {
    "duration": 184,
    "start_time": "2025-06-05T08:37:34.587Z"
   },
   {
    "duration": 5,
    "start_time": "2025-06-05T08:37:34.773Z"
   },
   {
    "duration": 22,
    "start_time": "2025-06-05T08:37:34.780Z"
   },
   {
    "duration": 34,
    "start_time": "2025-06-05T08:37:34.803Z"
   },
   {
    "duration": 71,
    "start_time": "2025-06-05T08:37:34.839Z"
   },
   {
    "duration": 11,
    "start_time": "2025-06-05T08:37:34.912Z"
   },
   {
    "duration": 135,
    "start_time": "2025-06-05T08:37:34.925Z"
   },
   {
    "duration": 133,
    "start_time": "2025-06-05T08:37:35.062Z"
   },
   {
    "duration": 8,
    "start_time": "2025-06-05T08:37:35.197Z"
   },
   {
    "duration": 946,
    "start_time": "2025-06-05T08:37:35.207Z"
   },
   {
    "duration": 179,
    "start_time": "2025-06-05T08:37:36.155Z"
   },
   {
    "duration": 43,
    "start_time": "2025-06-05T08:37:36.336Z"
   },
   {
    "duration": 17,
    "start_time": "2025-06-05T08:37:36.381Z"
   },
   {
    "duration": 24,
    "start_time": "2025-06-05T08:37:36.399Z"
   },
   {
    "duration": 40,
    "start_time": "2025-06-05T08:37:36.425Z"
   },
   {
    "duration": 10,
    "start_time": "2025-06-05T08:37:36.467Z"
   },
   {
    "duration": 12,
    "start_time": "2025-06-05T08:37:36.479Z"
   },
   {
    "duration": 16,
    "start_time": "2025-06-05T08:37:36.493Z"
   },
   {
    "duration": 6,
    "start_time": "2025-06-05T08:37:36.511Z"
   },
   {
    "duration": 23,
    "start_time": "2025-06-05T08:37:36.518Z"
   },
   {
    "duration": 13,
    "start_time": "2025-06-05T08:37:36.543Z"
   },
   {
    "duration": 1445,
    "start_time": "2025-06-05T08:38:39.769Z"
   },
   {
    "duration": 102,
    "start_time": "2025-06-05T08:38:41.216Z"
   },
   {
    "duration": 14,
    "start_time": "2025-06-05T08:38:41.320Z"
   },
   {
    "duration": 13,
    "start_time": "2025-06-05T08:38:41.336Z"
   },
   {
    "duration": 19,
    "start_time": "2025-06-05T08:38:41.351Z"
   },
   {
    "duration": 7,
    "start_time": "2025-06-05T08:38:41.372Z"
   },
   {
    "duration": 6,
    "start_time": "2025-06-05T08:38:41.381Z"
   },
   {
    "duration": 5,
    "start_time": "2025-06-05T08:38:41.388Z"
   },
   {
    "duration": 8,
    "start_time": "2025-06-05T08:38:41.395Z"
   },
   {
    "duration": 7,
    "start_time": "2025-06-05T08:38:41.406Z"
   },
   {
    "duration": 10,
    "start_time": "2025-06-05T08:38:41.414Z"
   },
   {
    "duration": 51,
    "start_time": "2025-06-05T08:38:41.425Z"
   },
   {
    "duration": 10,
    "start_time": "2025-06-05T08:38:41.478Z"
   },
   {
    "duration": 457,
    "start_time": "2025-06-05T08:38:41.490Z"
   },
   {
    "duration": 136,
    "start_time": "2025-06-05T08:38:41.949Z"
   },
   {
    "duration": 12,
    "start_time": "2025-06-05T08:38:42.087Z"
   },
   {
    "duration": 24,
    "start_time": "2025-06-05T08:38:42.101Z"
   },
   {
    "duration": 1856,
    "start_time": "2025-06-05T08:38:42.127Z"
   },
   {
    "duration": 9,
    "start_time": "2025-06-05T08:38:43.985Z"
   },
   {
    "duration": 56,
    "start_time": "2025-06-05T08:38:43.996Z"
   },
   {
    "duration": 70,
    "start_time": "2025-06-05T08:38:44.054Z"
   },
   {
    "duration": 10,
    "start_time": "2025-06-05T08:38:44.126Z"
   },
   {
    "duration": 77,
    "start_time": "2025-06-05T08:38:44.138Z"
   },
   {
    "duration": 130,
    "start_time": "2025-06-05T08:38:44.218Z"
   },
   {
    "duration": 386,
    "start_time": "2025-06-05T08:38:44.350Z"
   },
   {
    "duration": 5,
    "start_time": "2025-06-05T08:38:44.738Z"
   },
   {
    "duration": 427,
    "start_time": "2025-06-05T08:38:44.745Z"
   },
   {
    "duration": 322,
    "start_time": "2025-06-05T08:38:45.176Z"
   },
   {
    "duration": 204,
    "start_time": "2025-06-05T08:38:45.500Z"
   },
   {
    "duration": 35,
    "start_time": "2025-06-05T08:38:45.706Z"
   },
   {
    "duration": 30,
    "start_time": "2025-06-05T08:38:45.742Z"
   },
   {
    "duration": 184,
    "start_time": "2025-06-05T08:38:45.774Z"
   },
   {
    "duration": 12,
    "start_time": "2025-06-05T08:38:45.959Z"
   },
   {
    "duration": 71,
    "start_time": "2025-06-05T08:38:45.973Z"
   },
   {
    "duration": 92,
    "start_time": "2025-06-05T08:38:46.046Z"
   },
   {
    "duration": 79,
    "start_time": "2025-06-05T08:38:46.140Z"
   },
   {
    "duration": 9,
    "start_time": "2025-06-05T08:38:46.221Z"
   },
   {
    "duration": 122,
    "start_time": "2025-06-05T08:38:46.231Z"
   },
   {
    "duration": 131,
    "start_time": "2025-06-05T08:38:46.354Z"
   },
   {
    "duration": 9,
    "start_time": "2025-06-05T08:38:46.487Z"
   },
   {
    "duration": 898,
    "start_time": "2025-06-05T08:38:46.497Z"
   },
   {
    "duration": 196,
    "start_time": "2025-06-05T08:38:47.397Z"
   },
   {
    "duration": 41,
    "start_time": "2025-06-05T08:38:47.595Z"
   },
   {
    "duration": 41,
    "start_time": "2025-06-05T08:38:47.638Z"
   },
   {
    "duration": 25,
    "start_time": "2025-06-05T08:38:47.681Z"
   },
   {
    "duration": 13,
    "start_time": "2025-06-05T08:38:47.708Z"
   },
   {
    "duration": 24,
    "start_time": "2025-06-05T08:38:47.723Z"
   },
   {
    "duration": 7,
    "start_time": "2025-06-05T08:38:47.748Z"
   },
   {
    "duration": 26,
    "start_time": "2025-06-05T08:38:47.771Z"
   },
   {
    "duration": 5,
    "start_time": "2025-06-05T08:38:47.799Z"
   },
   {
    "duration": 14,
    "start_time": "2025-06-05T08:38:47.806Z"
   },
   {
    "duration": 7,
    "start_time": "2025-06-05T08:38:47.822Z"
   }
  ],
  "colab": {
   "provenance": [],
   "toc_visible": true
  },
  "kernelspec": {
   "display_name": "Python [conda env:base] *",
   "language": "python",
   "name": "conda-base-py"
  },
  "language_info": {
   "codemirror_mode": {
    "name": "ipython",
    "version": 3
   },
   "file_extension": ".py",
   "mimetype": "text/x-python",
   "name": "python",
   "nbconvert_exporter": "python",
   "pygments_lexer": "ipython3",
   "version": "3.12.7"
  },
  "toc": {
   "base_numbering": 1,
   "nav_menu": {},
   "number_sections": true,
   "sideBar": true,
   "skip_h1_title": true,
   "title_cell": "Table of Contents",
   "title_sidebar": "Contents",
   "toc_cell": false,
   "toc_position": {},
   "toc_section_display": true,
   "toc_window_display": false
  }
 },
 "nbformat": 4,
 "nbformat_minor": 5
}
